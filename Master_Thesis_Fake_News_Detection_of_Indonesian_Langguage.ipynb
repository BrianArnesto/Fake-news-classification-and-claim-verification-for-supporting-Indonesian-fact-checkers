{
  "cells": [
    {
      "cell_type": "markdown",
      "metadata": {
        "id": "view-in-github",
        "colab_type": "text"
      },
      "source": [
        "<a href=\"https://colab.research.google.com/github/BrianArnesto/masterThesis/blob/main/Master_Thesis_Fake_News_Detection_of_Indonesian_Langguage.ipynb\" target=\"_parent\"><img src=\"https://colab.research.google.com/assets/colab-badge.svg\" alt=\"Open In Colab\"/></a>"
      ]
    },
    {
      "cell_type": "markdown",
      "metadata": {
        "id": "OQ3eFwV6T91x"
      },
      "source": [
        "Reference:\n",
        "\n",
        "https://scikit-learn.org/stable/modules/generated/sklearn.linear_model.Perceptron.html\n",
        "https://scikit-learn.org/stable/modules/sgd.html\n",
        "https://scikit-learn.org/stable/modules/generated/sklearn.ensemble.RandomForestClassifier.html\n",
        "https://scikit-learn.org/stable/modules/generated/sklearn.linear_model.LinearRegression.html\n",
        "https://github.com/leelaylay/TweetSemEval\n",
        "https://towardsdatascience.com/yet-another-twitter-sentiment-analysis-part-1-tackling-class-imbalance-4d7a7f717d44\n",
        "https://github.com/cbaziotis/datastories-semeval2017-task4\n"
      ]
    },
    {
      "cell_type": "markdown",
      "source": [
        "# Load the *library*"
      ],
      "metadata": {
        "id": "iXNJBNPWiccK"
      }
    },
    {
      "cell_type": "code",
      "execution_count": 76,
      "metadata": {
        "id": "I0qtG36UUIhn",
        "colab": {
          "base_uri": "https://localhost:8080/"
        },
        "outputId": "21eaa7b5-db5f-4bff-eca1-36cd11c1b1ee"
      },
      "outputs": [
        {
          "output_type": "stream",
          "name": "stdout",
          "text": [
            "Drive already mounted at /content/drive; to attempt to forcibly remount, call drive.mount(\"/content/drive\", force_remount=True).\n",
            "time: 1.72 s (started: 2023-01-10 10:22:16 +00:00)\n"
          ]
        }
      ],
      "source": [
        "import requests\n",
        "import numpy as np\n",
        "import pandas as pd # data processing, CSV file I/O (e.g. pd.read_csv)\n",
        "from google.colab import drive\n",
        "from collections import Counter\n",
        "import pycaret\n",
        "from transformers import BertTokenizer, AutoModel, BertTokenizerFast\n",
        "import matplotlib.pyplot as plt\n",
        "plt.style.use('fivethirtyeight')\n",
        "from sklearn.metrics import plot_confusion_matrix\n",
        "from sklearn.model_selection import train_test_split\n",
        "from sklearn.metrics import classification_report\n",
        "from sklearn import preprocessing\n",
        "from sklearn.feature_extraction.text import TfidfVectorizer, CountVectorizer\n",
        "from sklearn.linear_model import LogisticRegression\n",
        "from sklearn.ensemble import RandomForestClassifier\n",
        "from sklearn.neighbors import KNeighborsClassifier\n",
        "from sklearn.naive_bayes import GaussianNB\n",
        "from sklearn.feature_extraction.text import TfidfVectorizer\n",
        "from sklearn.linear_model import Perceptron\n",
        "from sklearn.linear_model import SGDClassifier\n",
        "import torch\n",
        "import warnings\n",
        "warnings.filterwarnings(\"ignore\", category=FutureWarning)\n",
        "import torch.nn as nn\n",
        "\n",
        "%matplotlib inline\n",
        "%config InlineBackend.figure_format = 'retina'\n",
        "\n",
        "\n",
        "drive.mount('/content/drive')\n",
        "# specify GPU\n",
        "device = torch.device(\"cuda\")"
      ]
    },
    {
      "cell_type": "markdown",
      "source": [
        "#Install the required library"
      ],
      "metadata": {
        "id": "2Do-sKQeYeYu"
      }
    },
    {
      "cell_type": "code",
      "source": [
        "!pip install -r /content/drive/MyDrive/thesis/requirements.txt"
      ],
      "metadata": {
        "id": "aWQtulJgYg56"
      },
      "execution_count": null,
      "outputs": []
    },
    {
      "cell_type": "markdown",
      "metadata": {
        "id": "khF3AVPmUI51"
      },
      "source": [
        "#Data Fetch "
      ]
    },
    {
      "cell_type": "code",
      "execution_count": null,
      "metadata": {
        "id": "b_iEAcSgUDW_"
      },
      "outputs": [],
      "source": [
        "url = 'http://maps.googleapis.com/maps/api/directions/json'\n",
        "\n",
        "params = dict(\n",
        "    origin='Chicago,IL',\n",
        "    destination='Los+Angeles,CA',\n",
        "    waypoints='Joplin,MO|Oklahoma+City,OK',\n",
        "    sensor='false'\n",
        ")\n",
        "\n",
        "resp = requests.get(url=url, params=params)\n",
        "data = resp.json() # Check the JSON Response Content documentation below\n",
        "\n",
        "print(data)"
      ]
    },
    {
      "cell_type": "code",
      "execution_count": null,
      "metadata": {
        "id": "t2c6k0vzwEYH"
      },
      "outputs": [],
      "source": [
        "url = 'https://yudistira.turnbackhoax.id/api/antihoax/'\n",
        "\n",
        "headers = {\n",
        "    'Content-Type': 'application/x-www-form-urlencoded',\n",
        "    'Accept': 'application/json'\n",
        "}\n",
        "\n",
        "body = {\n",
        "    'key': '231b200cxb534x5c797a432dd30b0vc2',\n",
        "    'limit': 1000\n",
        "}\n",
        "\n",
        "resp = requests.post(url=url, headers=headers, data=body)\n",
        "data = resp.json()\n",
        "\n",
        "print(data)"
      ]
    },
    {
      "cell_type": "code",
      "execution_count": null,
      "metadata": {
        "id": "b3t_t2J0w4_Y"
      },
      "outputs": [],
      "source": [
        "len(data)"
      ]
    },
    {
      "cell_type": "code",
      "execution_count": null,
      "metadata": {
        "id": "sdRjKEqVyHxR"
      },
      "outputs": [],
      "source": [
        "#Get total number of dataset in mafindo server\n",
        "url = 'https://yudistira.turnbackhoax.id/api/antihoax/get_total'\n",
        "headers = {\n",
        "    'Content-Type': 'application/x-www-form-urlencoded',\n",
        "    'Accept': 'application/json'\n",
        "}\n",
        "\n",
        "body = {\n",
        "    'key': '231b200cxb534x5c797a432dd30b0vc2'\n",
        "}\n",
        "\n",
        "resp = requests.post(url=url, headers=headers, data=body)\n",
        "total = resp.json() # Check the JSON Response Content documentation below\n",
        "\n",
        "print(total)"
      ]
    },
    {
      "cell_type": "code",
      "execution_count": null,
      "metadata": {
        "id": "M32PDQk6ydRT"
      },
      "outputs": [],
      "source": [
        "def fetch_data(offset):\n",
        "  url = 'https://yudistira.turnbackhoax.id/api/antihoax/'\n",
        "\n",
        "  headers = {\n",
        "      'Content-Type': 'application/x-www-form-urlencoded',\n",
        "      'Accept': 'application/json'\n",
        "  }\n",
        "\n",
        "  body = {\n",
        "      'key': '231b200cxb534x5c797a432dd30b0vc2',\n",
        "      'limit': 1000,\n",
        "      'offset': offset\n",
        "  }\n",
        "\n",
        "  resp = requests.post(url=url, headers=headers, data=body)\n",
        "  data = resp.json()\n",
        "  return data\n",
        "\n",
        "data_list = []\n",
        "offset = 0\n",
        "for i in range(10):\n",
        "  d = fetch_data(offset)\n",
        "  offset += len(d)\n",
        "  data_list += d\n",
        "  # sleep(2)\n",
        "\n",
        "print(len(data_list))"
      ]
    },
    {
      "cell_type": "code",
      "execution_count": null,
      "metadata": {
        "id": "YdKFnY6wztjQ"
      },
      "outputs": [],
      "source": [
        "data_list"
      ]
    },
    {
      "cell_type": "code",
      "execution_count": null,
      "metadata": {
        "id": "NbEccFBH0HRt"
      },
      "outputs": [],
      "source": [
        "d = fetch_data(10000)\n",
        "data_list += d"
      ]
    },
    {
      "cell_type": "code",
      "execution_count": null,
      "metadata": {
        "id": "AjwjD8JO0XsE"
      },
      "outputs": [],
      "source": [
        "data_list"
      ]
    },
    {
      "cell_type": "code",
      "execution_count": null,
      "metadata": {
        "id": "Mv6bszssmm4t"
      },
      "outputs": [],
      "source": [
        "#Convert json dataset into pandas dataframe\n",
        "df = pd.DataFrame.from_records(data_list)"
      ]
    },
    {
      "cell_type": "code",
      "execution_count": null,
      "metadata": {
        "id": "TDuOEormmpKr"
      },
      "outputs": [],
      "source": [
        "#export the dataset into csv in the google drive\n",
        "df.to_csv('/content/drive/MyDrive/thesis/news.csv', sep='\\t')"
      ]
    },
    {
      "cell_type": "markdown",
      "metadata": {
        "id": "Yynz9K8FfKZo"
      },
      "source": [
        "#Data Preprocessing"
      ]
    },
    {
      "cell_type": "markdown",
      "source": [
        "###Load the dataset"
      ],
      "metadata": {
        "id": "Hh6HWY1iltNW"
      }
    },
    {
      "cell_type": "code",
      "execution_count": 9,
      "metadata": {
        "id": "LcxTUs900aAF",
        "colab": {
          "base_uri": "https://localhost:8080/"
        },
        "outputId": "56bf1a4c-57f8-4be0-c598-8f15500a14b9"
      },
      "outputs": [
        {
          "output_type": "stream",
          "name": "stdout",
          "text": [
            "time: 2.34 s (started: 2023-01-10 10:03:49 +00:00)\n"
          ]
        }
      ],
      "source": [
        "df = pd.read_csv('/content/drive/MyDrive/thesis/news.csv', sep='\\t')"
      ]
    },
    {
      "cell_type": "markdown",
      "source": [
        "###Load the Indonesian Langguage stopword"
      ],
      "metadata": {
        "id": "V_c9Ob4ql1O5"
      }
    },
    {
      "cell_type": "code",
      "source": [
        "id_stopword_dict = pd.read_csv('/content/drive/MyDrive/thesis/stopwordbahasa.csv', header=None)\n",
        "id_stopword_dict = id_stopword_dict.rename(columns={0: 'stopword'})"
      ],
      "metadata": {
        "id": "i_C0LcK8UXBs",
        "colab": {
          "base_uri": "https://localhost:8080/"
        },
        "outputId": "0efe305e-8d5e-47e4-cafa-371bc5453edb"
      },
      "execution_count": 10,
      "outputs": [
        {
          "output_type": "stream",
          "name": "stdout",
          "text": [
            "time: 223 ms (started: 2023-01-10 10:03:51 +00:00)\n"
          ]
        }
      ]
    },
    {
      "cell_type": "code",
      "source": [
        "id_stopword_dict.head()"
      ],
      "metadata": {
        "colab": {
          "base_uri": "https://localhost:8080/",
          "height": 0
        },
        "id": "fyk9qcO2lTis",
        "outputId": "f1a776cd-5c06-46a9-9003-6a0bc6c5d314"
      },
      "execution_count": 11,
      "outputs": [
        {
          "output_type": "execute_result",
          "data": {
            "text/plain": [
              "  stopword\n",
              "0      ada\n",
              "1   adalah\n",
              "2   adanya\n",
              "3   adapun\n",
              "4     agak"
            ],
            "text/html": [
              "\n",
              "  <div id=\"df-2b5ce759-4c12-498c-a5d1-7f7cb55abcbc\">\n",
              "    <div class=\"colab-df-container\">\n",
              "      <div>\n",
              "<style scoped>\n",
              "    .dataframe tbody tr th:only-of-type {\n",
              "        vertical-align: middle;\n",
              "    }\n",
              "\n",
              "    .dataframe tbody tr th {\n",
              "        vertical-align: top;\n",
              "    }\n",
              "\n",
              "    .dataframe thead th {\n",
              "        text-align: right;\n",
              "    }\n",
              "</style>\n",
              "<table border=\"1\" class=\"dataframe\">\n",
              "  <thead>\n",
              "    <tr style=\"text-align: right;\">\n",
              "      <th></th>\n",
              "      <th>stopword</th>\n",
              "    </tr>\n",
              "  </thead>\n",
              "  <tbody>\n",
              "    <tr>\n",
              "      <th>0</th>\n",
              "      <td>ada</td>\n",
              "    </tr>\n",
              "    <tr>\n",
              "      <th>1</th>\n",
              "      <td>adalah</td>\n",
              "    </tr>\n",
              "    <tr>\n",
              "      <th>2</th>\n",
              "      <td>adanya</td>\n",
              "    </tr>\n",
              "    <tr>\n",
              "      <th>3</th>\n",
              "      <td>adapun</td>\n",
              "    </tr>\n",
              "    <tr>\n",
              "      <th>4</th>\n",
              "      <td>agak</td>\n",
              "    </tr>\n",
              "  </tbody>\n",
              "</table>\n",
              "</div>\n",
              "      <button class=\"colab-df-convert\" onclick=\"convertToInteractive('df-2b5ce759-4c12-498c-a5d1-7f7cb55abcbc')\"\n",
              "              title=\"Convert this dataframe to an interactive table.\"\n",
              "              style=\"display:none;\">\n",
              "        \n",
              "  <svg xmlns=\"http://www.w3.org/2000/svg\" height=\"24px\"viewBox=\"0 0 24 24\"\n",
              "       width=\"24px\">\n",
              "    <path d=\"M0 0h24v24H0V0z\" fill=\"none\"/>\n",
              "    <path d=\"M18.56 5.44l.94 2.06.94-2.06 2.06-.94-2.06-.94-.94-2.06-.94 2.06-2.06.94zm-11 1L8.5 8.5l.94-2.06 2.06-.94-2.06-.94L8.5 2.5l-.94 2.06-2.06.94zm10 10l.94 2.06.94-2.06 2.06-.94-2.06-.94-.94-2.06-.94 2.06-2.06.94z\"/><path d=\"M17.41 7.96l-1.37-1.37c-.4-.4-.92-.59-1.43-.59-.52 0-1.04.2-1.43.59L10.3 9.45l-7.72 7.72c-.78.78-.78 2.05 0 2.83L4 21.41c.39.39.9.59 1.41.59.51 0 1.02-.2 1.41-.59l7.78-7.78 2.81-2.81c.8-.78.8-2.07 0-2.86zM5.41 20L4 18.59l7.72-7.72 1.47 1.35L5.41 20z\"/>\n",
              "  </svg>\n",
              "      </button>\n",
              "      \n",
              "  <style>\n",
              "    .colab-df-container {\n",
              "      display:flex;\n",
              "      flex-wrap:wrap;\n",
              "      gap: 12px;\n",
              "    }\n",
              "\n",
              "    .colab-df-convert {\n",
              "      background-color: #E8F0FE;\n",
              "      border: none;\n",
              "      border-radius: 50%;\n",
              "      cursor: pointer;\n",
              "      display: none;\n",
              "      fill: #1967D2;\n",
              "      height: 32px;\n",
              "      padding: 0 0 0 0;\n",
              "      width: 32px;\n",
              "    }\n",
              "\n",
              "    .colab-df-convert:hover {\n",
              "      background-color: #E2EBFA;\n",
              "      box-shadow: 0px 1px 2px rgba(60, 64, 67, 0.3), 0px 1px 3px 1px rgba(60, 64, 67, 0.15);\n",
              "      fill: #174EA6;\n",
              "    }\n",
              "\n",
              "    [theme=dark] .colab-df-convert {\n",
              "      background-color: #3B4455;\n",
              "      fill: #D2E3FC;\n",
              "    }\n",
              "\n",
              "    [theme=dark] .colab-df-convert:hover {\n",
              "      background-color: #434B5C;\n",
              "      box-shadow: 0px 1px 3px 1px rgba(0, 0, 0, 0.15);\n",
              "      filter: drop-shadow(0px 1px 2px rgba(0, 0, 0, 0.3));\n",
              "      fill: #FFFFFF;\n",
              "    }\n",
              "  </style>\n",
              "\n",
              "      <script>\n",
              "        const buttonEl =\n",
              "          document.querySelector('#df-2b5ce759-4c12-498c-a5d1-7f7cb55abcbc button.colab-df-convert');\n",
              "        buttonEl.style.display =\n",
              "          google.colab.kernel.accessAllowed ? 'block' : 'none';\n",
              "\n",
              "        async function convertToInteractive(key) {\n",
              "          const element = document.querySelector('#df-2b5ce759-4c12-498c-a5d1-7f7cb55abcbc');\n",
              "          const dataTable =\n",
              "            await google.colab.kernel.invokeFunction('convertToInteractive',\n",
              "                                                     [key], {});\n",
              "          if (!dataTable) return;\n",
              "\n",
              "          const docLinkHtml = 'Like what you see? Visit the ' +\n",
              "            '<a target=\"_blank\" href=https://colab.research.google.com/notebooks/data_table.ipynb>data table notebook</a>'\n",
              "            + ' to learn more about interactive tables.';\n",
              "          element.innerHTML = '';\n",
              "          dataTable['output_type'] = 'display_data';\n",
              "          await google.colab.output.renderOutput(dataTable, element);\n",
              "          const docLink = document.createElement('div');\n",
              "          docLink.innerHTML = docLinkHtml;\n",
              "          element.appendChild(docLink);\n",
              "        }\n",
              "      </script>\n",
              "    </div>\n",
              "  </div>\n",
              "  "
            ]
          },
          "metadata": {},
          "execution_count": 11
        },
        {
          "output_type": "stream",
          "name": "stdout",
          "text": [
            "time: 15.4 ms (started: 2023-01-10 10:03:51 +00:00)\n"
          ]
        }
      ]
    },
    {
      "cell_type": "markdown",
      "source": [
        "###Load the Indonesian Slang Dataset"
      ],
      "metadata": {
        "id": "e0vzDSUVmuKa"
      }
    },
    {
      "cell_type": "code",
      "source": [
        "alay_dict = pd.read_csv('/content/drive/MyDrive/thesis/new_kamusalay.csv', encoding='latin-1', header=None)\n",
        "alay_dict = alay_dict.rename(columns={0: 'original', \n",
        "                                      1: 'replacement'})"
      ],
      "metadata": {
        "colab": {
          "base_uri": "https://localhost:8080/"
        },
        "id": "3mDkwuSDmySt",
        "outputId": "dc1c8ef8-6c2a-4eff-a7b0-e03fee8fd22a"
      },
      "execution_count": 12,
      "outputs": [
        {
          "output_type": "stream",
          "name": "stdout",
          "text": [
            "time: 271 ms (started: 2023-01-10 10:03:51 +00:00)\n"
          ]
        }
      ]
    },
    {
      "cell_type": "markdown",
      "source": [
        "###Overview of the dataset"
      ],
      "metadata": {
        "id": "U3QOsn6Wl87G"
      }
    },
    {
      "cell_type": "code",
      "source": [
        "print(\"Shape: \", df.shape)\n",
        "df.head(15)"
      ],
      "metadata": {
        "colab": {
          "base_uri": "https://localhost:8080/",
          "height": 0
        },
        "id": "XlT1EKWsla__",
        "outputId": "72d68e9a-6fb7-445f-b1b1-07c2bc5f2f22"
      },
      "execution_count": 13,
      "outputs": [
        {
          "output_type": "stream",
          "name": "stdout",
          "text": [
            "Shape:  (10756, 16)\n"
          ]
        },
        {
          "output_type": "execute_result",
          "data": {
            "text/plain": [
              "    Unnamed: 0     id authors  status      classification  \\\n",
              "0            0  10928      29       2                   -   \n",
              "1            1  10927      29       2                   -   \n",
              "2            2  10926      36       2  Misleading Content   \n",
              "3            3  10925      29       2                   -   \n",
              "4            4  10924      29       2                   -   \n",
              "5            5  10923      36       2  Misleading Content   \n",
              "6            6  10922      36       2  Misleading Content   \n",
              "7            7  10921      29       2                   -   \n",
              "8            8  10920      29       2                   -   \n",
              "9            9  10919      36       2  Misleading Content   \n",
              "10          10  10918      36       2  Misleading Content   \n",
              "11          11  10917      36       2  Misleading Content   \n",
              "12          12  10916      36       2  Misleading Content   \n",
              "13          13  10915      29       2                   -   \n",
              "14          14  10914      36       2  Misleading Content   \n",
              "\n",
              "                                                title  \\\n",
              "0   Cek Fakta: Hoaks Kabar Nikita Mirzani Meningga...   \n",
              "1   Cek Fakta: Tidak Benar Tepung Beras Bisa Mered...   \n",
              "2   [SALAH] Menkes Budi Gunadi Sadikin: “Diabetes ...   \n",
              "3   Cek Fakta: Tidak Benar Video Wanita Tertua di ...   \n",
              "4   Cek Fakta: Tidak Benar Kondisi AS Terkena Damp...   \n",
              "5   [SALAH] Kebijakan Pemerintah Tiongkok yang Mew...   \n",
              "6                    [SALAH] Wanita berusia 399 Tahun   \n",
              "7   Cek Fakta: Tidak Benar Vaksin Genosida Uni Ero...   \n",
              "8   Cek Fakta: Tidak Benar Mantan Presiden Soehart...   \n",
              "9   [SALAH] “Beredar Video Diduga Mempertontonkan ...   \n",
              "10  [SALAH] SUARA GANJAR GETARKAN JAKARTA, 30.000 ...   \n",
              "11  [SALAH] “Varian baru covid hanya berbahaya unt...   \n",
              "12  [SALAH] “SULTAN HAMENGKUBUWONO: CINA DAN KETUR...   \n",
              "13  Cek Fakta: Tidak Benar Nurofen Ibuprofen Menga...   \n",
              "14  [SALAH] Video “Berita Viral ~ INNALILLAH!!HARI...   \n",
              "\n",
              "                                              content  \\\n",
              "0   \\nLiputan6.com, Jakarta - Kabar tentang artis ...   \n",
              "1   \\nLiputan6.com, Jakarta - Klaim tentang menemp...   \n",
              "2   Akun Facebook bernama TH K menyebarluaskan tau...   \n",
              "3   \\nLiputan6.com, Jakarta - Sebuah video yang di...   \n",
              "4   \\nLiputan6.com, Jakarta- Cek Fakta Liputan6.co...   \n",
              "5   Akun Twitter dengan nama pengguna “uytimes” me...   \n",
              "6   \"399 Years Women, Oldest woman in the world\"\\n...   \n",
              "7   \\nLiputan6.com, Jakarta- Cek Fakta Liputan6.co...   \n",
              "8   \\nLiputan6.com, Jakarta - Beredar di media sos...   \n",
              "9    Beredar Video Diduga Mempertontonkan Pasangan...   \n",
              "10  SUARA GANJAR GETARKAN JAKARTA, 30.000 WARGA DE...   \n",
              "11  Akun Twitter @/ GratisTerbaik mengutip cuitan ...   \n",
              "12  * “Sejarah membuktikan\\nDan kinipun hampir sem...   \n",
              "13  \\nLiputan6.com, Jakarta- Cek Fakta Liputan6.co...   \n",
              "14  Berita Viral ~ INNALILLAH!!HARI INI 4 NOVEMBER...   \n",
              "\n",
              "                                                 fact  \\\n",
              "0   \\nCek Fakta Liputan6.com menelusuri kabar tent...   \n",
              "1   \\nCek Fakta Liputan6.com menelusuri klaim mene...   \n",
              "2   Setelah dilakukan penelusuran dengan Google Re...   \n",
              "3   \\nCek Fakta Liputan6.com menelusuri video yang...   \n",
              "4   \\nCek Fakta Liputan6.com menelusuri klaim vide...   \n",
              "5   Berdasarkan hasil penelusuran, narasi tersebut...   \n",
              "6   Beredar video Tiktok yang diunggah oleh  @bria...   \n",
              "7   \\nCek Fakta Liputan6.com menelusuri klaim vaks...   \n",
              "8   \\nCek Fakta Liputan6.com menelusuri dan menemu...   \n",
              "9   Beredar video yang diduga mempertontonkan pasa...   \n",
              "10  Channel youtube bernama CERIA TV mengunggah se...   \n",
              "11  Artikel yang diunggah oleh CNBC Indonesia meng...   \n",
              "12  SUMBER membagikan konten yang isinya menimbulk...   \n",
              "13  \\nCek Fakta Liputan6.com menelusuri klaim tabl...   \n",
              "14  Kanal Youtube MIMBAR ISTANA membagikan video y...   \n",
              "\n",
              "                                           references  source_issue  \\\n",
              "0                                                 NaN  liputan6.com   \n",
              "1                                                 NaN  liputan6.com   \n",
              "2   https://www.cnnindonesia.com/nasional/20210426...  facebook.com   \n",
              "3   https://www.thetealmango.com/latest/who-is-399...  liputan6.com   \n",
              "4    \\nhttps://vanlifewanderer.com/2022/08/03/kens...  liputan6.com   \n",
              "5   https://www.douyin.com/video/70471093072544924...   twitter.com   \n",
              "6   https://turnbackhoax.id/2022/04/05/salah-video...        Tiktok   \n",
              "7                                                 NaN  liputan6.com   \n",
              "8   https://www.liputan6.com/news/read/5115252/jok...  liputan6.com   \n",
              "9   https://www.viva.co.id/amp/trending/1526755-di...        Tiktok   \n",
              "10  https://www.youtube.com/watch?v=KLdFDhnAZFU&ab...       Youtube   \n",
              "11  https://www.cnbcindonesia.com/news/20220612154...       Twitter   \n",
              "12  [1] firstdraftnews.org: “Memahami gangguan inf...   Twitter.com   \n",
              "13  https://factcheck.afp.com/doc.afp.com.326R9AX\\...  liputan6.com   \n",
              "14  – https://magma.esdm.go.id/v1/gunung-api/lapor...       YOUTUBE   \n",
              "\n",
              "                                          source_link  \\\n",
              "0   https://www.liputan6.com/cek-fakta/read/512206...   \n",
              "1   https://www.liputan6.com/cek-fakta/read/512197...   \n",
              "2   https://archive.cob.web.id/archive/1667651236....   \n",
              "3   https://www.liputan6.com/cek-fakta/read/512178...   \n",
              "4   https://www.liputan6.com/cek-fakta/read/512121...   \n",
              "5   https://archive.cob.web.id/archive/1667926200....   \n",
              "6   https://archive.cob.web.id/archive/1667920179....   \n",
              "7   https://www.liputan6.com/cek-fakta/read/512085...   \n",
              "8   https://www.liputan6.com/cek-fakta/read/512069...   \n",
              "9    https://archive.cob.web.id/archive/1667627258...   \n",
              "10  https://archive.cob.web.id/archive/1667629533....   \n",
              "11                           https://archive.ph/mpRrm   \n",
              "12                           https://archive.ph/s097V   \n",
              "13  https://www.liputan6.com/cek-fakta/read/511974...   \n",
              "14  https://archive.cob.web.id/archive/1667727450....   \n",
              "\n",
              "                                             picture1  \\\n",
              "0   https://cdn0-production-images-kly.akamaized.n...   \n",
              "1   https://cdn0-production-images-kly.akamaized.n...   \n",
              "2   https://turnbackhoax.id/wp-content/uploads/202...   \n",
              "3   https://cdn1-production-images-kly.akamaized.n...   \n",
              "4   https://cdn0-production-images-kly.akamaized.n...   \n",
              "5   https://turnbackhoax.id/wp-content/uploads/202...   \n",
              "6   https://turnbackhoax.id/wp-content/uploads/202...   \n",
              "7   https://cdn0-production-images-kly.akamaized.n...   \n",
              "8   https://cdn1-production-images-kly.akamaized.n...   \n",
              "9   https://turnbackhoax.id/wp-content/uploads/202...   \n",
              "10  https://turnbackhoax.id/wp-content/uploads/202...   \n",
              "11  https://turnbackhoax.id/wp-content/uploads/202...   \n",
              "12  https://turnbackhoax.id/wp-content/uploads/202...   \n",
              "13  https://cdn1-production-images-kly.akamaized.n...   \n",
              "14  https://turnbackhoax.id/wp-content/uploads/202...   \n",
              "\n",
              "                                             picture2     tanggal  \\\n",
              "0                                                 NaN  2022-11-11   \n",
              "1                                                 NaN  2022-11-10   \n",
              "2                                                 NaN  2022-11-10   \n",
              "3   https://cdn1-production-images-kly.akamaized.n...  2022-11-10   \n",
              "4   https://cdn1-production-images-kly.akamaized.n...  2022-11-10   \n",
              "5                                                 NaN  2022-11-10   \n",
              "6                                                 NaN  2022-11-09   \n",
              "7                                                 NaN  2022-11-09   \n",
              "8                                                 NaN  2022-11-09   \n",
              "9                                                 NaN  2022-11-09   \n",
              "10                                                NaN  2022-11-09   \n",
              "11                                                NaN  2022-11-09   \n",
              "12                                                NaN  2022-11-08   \n",
              "13                                                NaN  2022-11-08   \n",
              "14  https://turnbackhoax.id/wp-content/uploads/202...  2022-11-08   \n",
              "\n",
              "                                                 tags  \\\n",
              "0               cekfakta, liputan6, cekfakta-liputan6   \n",
              "1               cekfakta, liputan6, cekfakta-liputan6   \n",
              "2   cekfakta, tbh, tema: kesehatan, alat: teks, sc...   \n",
              "3               cekfakta, liputan6, cekfakta-liputan6   \n",
              "4               cekfakta, liputan6, cekfakta-liputan6   \n",
              "5   cekfakta, tbh, tema: kesehatan, alat: mixed, s...   \n",
              "6   Cek fakta, tbh, tema: unik, alat: mixed, SC: T...   \n",
              "7               cekfakta, liputan6, cekfakta-liputan6   \n",
              "8               cekfakta, liputan6, cekfakta-liputan6   \n",
              "9   Tema: others Alat: mixed, Sc: Tiktok, Tc: wedg...   \n",
              "10  cek fakta, tbh, Tema: Politik, Alat: mixed, Sc...   \n",
              "11  covid19, cekfaktacovid19, cekfakta, tbh, tema:...   \n",
              "12  cekfakta, tbh, TEMA: politik, ALAT: campuran, ...   \n",
              "13              cekfakta, liputan6, cekfakta-liputan6   \n",
              "14  cekfakta, tbh, tema: bencana, alat: mixed, sc:...   \n",
              "\n",
              "                                           conclusion  \n",
              "0   \\nKabar tentang artis Nikita Mirzani meninggal...  \n",
              "1   \\nKlaim menempelkan adonan tepung beras di tub...  \n",
              "2   Hasil periksa fakta Evarizma Zahra.\\r\\n\\r\\nKon...  \n",
              "3   \\nVideo yang diklaim seorang wanita tertua di ...  \n",
              "4   \\nHasil penelusuran Cek Fakta Liputan6.com, kl...  \n",
              "5   Hasil Periksa Fakta Khairunnisa A.\\r\\n\\r\\nHoak...  \n",
              "6   Hasil Periksa Fakta Dyah Febriyani. Narasi dal...  \n",
              "7   \\nHasil penelusuran Cek Fakta Liputan6.com, kl...  \n",
              "8   \\nPostingan yang menyebut Presiden Jokowi memb...  \n",
              "9   Informasi yang salah, Video tersebut adalah ko...  \n",
              "10  Thumbnail dan narasi video tersebut tidak ada ...  \n",
              "11  Konten yang Menyesatkan. Riset menunjukkan bah...  \n",
              "12  MENYESATKAN, FAKTA: TIDAK pernah ada pernyataa...  \n",
              "13  \\nHasil penelusuran Cek Fakta Liputan6.com, kl...  \n",
              "14  Video yang beredar mengenai letusan Gunung Sem...  "
            ],
            "text/html": [
              "\n",
              "  <div id=\"df-88ab8ffd-7dbb-4506-8cb7-bb44ea64dd05\">\n",
              "    <div class=\"colab-df-container\">\n",
              "      <div>\n",
              "<style scoped>\n",
              "    .dataframe tbody tr th:only-of-type {\n",
              "        vertical-align: middle;\n",
              "    }\n",
              "\n",
              "    .dataframe tbody tr th {\n",
              "        vertical-align: top;\n",
              "    }\n",
              "\n",
              "    .dataframe thead th {\n",
              "        text-align: right;\n",
              "    }\n",
              "</style>\n",
              "<table border=\"1\" class=\"dataframe\">\n",
              "  <thead>\n",
              "    <tr style=\"text-align: right;\">\n",
              "      <th></th>\n",
              "      <th>Unnamed: 0</th>\n",
              "      <th>id</th>\n",
              "      <th>authors</th>\n",
              "      <th>status</th>\n",
              "      <th>classification</th>\n",
              "      <th>title</th>\n",
              "      <th>content</th>\n",
              "      <th>fact</th>\n",
              "      <th>references</th>\n",
              "      <th>source_issue</th>\n",
              "      <th>source_link</th>\n",
              "      <th>picture1</th>\n",
              "      <th>picture2</th>\n",
              "      <th>tanggal</th>\n",
              "      <th>tags</th>\n",
              "      <th>conclusion</th>\n",
              "    </tr>\n",
              "  </thead>\n",
              "  <tbody>\n",
              "    <tr>\n",
              "      <th>0</th>\n",
              "      <td>0</td>\n",
              "      <td>10928</td>\n",
              "      <td>29</td>\n",
              "      <td>2</td>\n",
              "      <td>-</td>\n",
              "      <td>Cek Fakta: Hoaks Kabar Nikita Mirzani Meningga...</td>\n",
              "      <td>\\nLiputan6.com, Jakarta - Kabar tentang artis ...</td>\n",
              "      <td>\\nCek Fakta Liputan6.com menelusuri kabar tent...</td>\n",
              "      <td>NaN</td>\n",
              "      <td>liputan6.com</td>\n",
              "      <td>https://www.liputan6.com/cek-fakta/read/512206...</td>\n",
              "      <td>https://cdn0-production-images-kly.akamaized.n...</td>\n",
              "      <td>NaN</td>\n",
              "      <td>2022-11-11</td>\n",
              "      <td>cekfakta, liputan6, cekfakta-liputan6</td>\n",
              "      <td>\\nKabar tentang artis Nikita Mirzani meninggal...</td>\n",
              "    </tr>\n",
              "    <tr>\n",
              "      <th>1</th>\n",
              "      <td>1</td>\n",
              "      <td>10927</td>\n",
              "      <td>29</td>\n",
              "      <td>2</td>\n",
              "      <td>-</td>\n",
              "      <td>Cek Fakta: Tidak Benar Tepung Beras Bisa Mered...</td>\n",
              "      <td>\\nLiputan6.com, Jakarta - Klaim tentang menemp...</td>\n",
              "      <td>\\nCek Fakta Liputan6.com menelusuri klaim mene...</td>\n",
              "      <td>NaN</td>\n",
              "      <td>liputan6.com</td>\n",
              "      <td>https://www.liputan6.com/cek-fakta/read/512197...</td>\n",
              "      <td>https://cdn0-production-images-kly.akamaized.n...</td>\n",
              "      <td>NaN</td>\n",
              "      <td>2022-11-10</td>\n",
              "      <td>cekfakta, liputan6, cekfakta-liputan6</td>\n",
              "      <td>\\nKlaim menempelkan adonan tepung beras di tub...</td>\n",
              "    </tr>\n",
              "    <tr>\n",
              "      <th>2</th>\n",
              "      <td>2</td>\n",
              "      <td>10926</td>\n",
              "      <td>36</td>\n",
              "      <td>2</td>\n",
              "      <td>Misleading Content</td>\n",
              "      <td>[SALAH] Menkes Budi Gunadi Sadikin: “Diabetes ...</td>\n",
              "      <td>Akun Facebook bernama TH K menyebarluaskan tau...</td>\n",
              "      <td>Setelah dilakukan penelusuran dengan Google Re...</td>\n",
              "      <td>https://www.cnnindonesia.com/nasional/20210426...</td>\n",
              "      <td>facebook.com</td>\n",
              "      <td>https://archive.cob.web.id/archive/1667651236....</td>\n",
              "      <td>https://turnbackhoax.id/wp-content/uploads/202...</td>\n",
              "      <td>NaN</td>\n",
              "      <td>2022-11-10</td>\n",
              "      <td>cekfakta, tbh, tema: kesehatan, alat: teks, sc...</td>\n",
              "      <td>Hasil periksa fakta Evarizma Zahra.\\r\\n\\r\\nKon...</td>\n",
              "    </tr>\n",
              "    <tr>\n",
              "      <th>3</th>\n",
              "      <td>3</td>\n",
              "      <td>10925</td>\n",
              "      <td>29</td>\n",
              "      <td>2</td>\n",
              "      <td>-</td>\n",
              "      <td>Cek Fakta: Tidak Benar Video Wanita Tertua di ...</td>\n",
              "      <td>\\nLiputan6.com, Jakarta - Sebuah video yang di...</td>\n",
              "      <td>\\nCek Fakta Liputan6.com menelusuri video yang...</td>\n",
              "      <td>https://www.thetealmango.com/latest/who-is-399...</td>\n",
              "      <td>liputan6.com</td>\n",
              "      <td>https://www.liputan6.com/cek-fakta/read/512178...</td>\n",
              "      <td>https://cdn1-production-images-kly.akamaized.n...</td>\n",
              "      <td>https://cdn1-production-images-kly.akamaized.n...</td>\n",
              "      <td>2022-11-10</td>\n",
              "      <td>cekfakta, liputan6, cekfakta-liputan6</td>\n",
              "      <td>\\nVideo yang diklaim seorang wanita tertua di ...</td>\n",
              "    </tr>\n",
              "    <tr>\n",
              "      <th>4</th>\n",
              "      <td>4</td>\n",
              "      <td>10924</td>\n",
              "      <td>29</td>\n",
              "      <td>2</td>\n",
              "      <td>-</td>\n",
              "      <td>Cek Fakta: Tidak Benar Kondisi AS Terkena Damp...</td>\n",
              "      <td>\\nLiputan6.com, Jakarta- Cek Fakta Liputan6.co...</td>\n",
              "      <td>\\nCek Fakta Liputan6.com menelusuri klaim vide...</td>\n",
              "      <td>\\nhttps://vanlifewanderer.com/2022/08/03/kens...</td>\n",
              "      <td>liputan6.com</td>\n",
              "      <td>https://www.liputan6.com/cek-fakta/read/512121...</td>\n",
              "      <td>https://cdn0-production-images-kly.akamaized.n...</td>\n",
              "      <td>https://cdn1-production-images-kly.akamaized.n...</td>\n",
              "      <td>2022-11-10</td>\n",
              "      <td>cekfakta, liputan6, cekfakta-liputan6</td>\n",
              "      <td>\\nHasil penelusuran Cek Fakta Liputan6.com, kl...</td>\n",
              "    </tr>\n",
              "    <tr>\n",
              "      <th>5</th>\n",
              "      <td>5</td>\n",
              "      <td>10923</td>\n",
              "      <td>36</td>\n",
              "      <td>2</td>\n",
              "      <td>Misleading Content</td>\n",
              "      <td>[SALAH] Kebijakan Pemerintah Tiongkok yang Mew...</td>\n",
              "      <td>Akun Twitter dengan nama pengguna “uytimes” me...</td>\n",
              "      <td>Berdasarkan hasil penelusuran, narasi tersebut...</td>\n",
              "      <td>https://www.douyin.com/video/70471093072544924...</td>\n",
              "      <td>twitter.com</td>\n",
              "      <td>https://archive.cob.web.id/archive/1667926200....</td>\n",
              "      <td>https://turnbackhoax.id/wp-content/uploads/202...</td>\n",
              "      <td>NaN</td>\n",
              "      <td>2022-11-10</td>\n",
              "      <td>cekfakta, tbh, tema: kesehatan, alat: mixed, s...</td>\n",
              "      <td>Hasil Periksa Fakta Khairunnisa A.\\r\\n\\r\\nHoak...</td>\n",
              "    </tr>\n",
              "    <tr>\n",
              "      <th>6</th>\n",
              "      <td>6</td>\n",
              "      <td>10922</td>\n",
              "      <td>36</td>\n",
              "      <td>2</td>\n",
              "      <td>Misleading Content</td>\n",
              "      <td>[SALAH] Wanita berusia 399 Tahun</td>\n",
              "      <td>\"399 Years Women, Oldest woman in the world\"\\n...</td>\n",
              "      <td>Beredar video Tiktok yang diunggah oleh  @bria...</td>\n",
              "      <td>https://turnbackhoax.id/2022/04/05/salah-video...</td>\n",
              "      <td>Tiktok</td>\n",
              "      <td>https://archive.cob.web.id/archive/1667920179....</td>\n",
              "      <td>https://turnbackhoax.id/wp-content/uploads/202...</td>\n",
              "      <td>NaN</td>\n",
              "      <td>2022-11-09</td>\n",
              "      <td>Cek fakta, tbh, tema: unik, alat: mixed, SC: T...</td>\n",
              "      <td>Hasil Periksa Fakta Dyah Febriyani. Narasi dal...</td>\n",
              "    </tr>\n",
              "    <tr>\n",
              "      <th>7</th>\n",
              "      <td>7</td>\n",
              "      <td>10921</td>\n",
              "      <td>29</td>\n",
              "      <td>2</td>\n",
              "      <td>-</td>\n",
              "      <td>Cek Fakta: Tidak Benar Vaksin Genosida Uni Ero...</td>\n",
              "      <td>\\nLiputan6.com, Jakarta- Cek Fakta Liputan6.co...</td>\n",
              "      <td>\\nCek Fakta Liputan6.com menelusuri klaim vaks...</td>\n",
              "      <td>NaN</td>\n",
              "      <td>liputan6.com</td>\n",
              "      <td>https://www.liputan6.com/cek-fakta/read/512085...</td>\n",
              "      <td>https://cdn0-production-images-kly.akamaized.n...</td>\n",
              "      <td>NaN</td>\n",
              "      <td>2022-11-09</td>\n",
              "      <td>cekfakta, liputan6, cekfakta-liputan6</td>\n",
              "      <td>\\nHasil penelusuran Cek Fakta Liputan6.com, kl...</td>\n",
              "    </tr>\n",
              "    <tr>\n",
              "      <th>8</th>\n",
              "      <td>8</td>\n",
              "      <td>10920</td>\n",
              "      <td>29</td>\n",
              "      <td>2</td>\n",
              "      <td>-</td>\n",
              "      <td>Cek Fakta: Tidak Benar Mantan Presiden Soehart...</td>\n",
              "      <td>\\nLiputan6.com, Jakarta - Beredar di media sos...</td>\n",
              "      <td>\\nCek Fakta Liputan6.com menelusuri dan menemu...</td>\n",
              "      <td>https://www.liputan6.com/news/read/5115252/jok...</td>\n",
              "      <td>liputan6.com</td>\n",
              "      <td>https://www.liputan6.com/cek-fakta/read/512069...</td>\n",
              "      <td>https://cdn1-production-images-kly.akamaized.n...</td>\n",
              "      <td>NaN</td>\n",
              "      <td>2022-11-09</td>\n",
              "      <td>cekfakta, liputan6, cekfakta-liputan6</td>\n",
              "      <td>\\nPostingan yang menyebut Presiden Jokowi memb...</td>\n",
              "    </tr>\n",
              "    <tr>\n",
              "      <th>9</th>\n",
              "      <td>9</td>\n",
              "      <td>10919</td>\n",
              "      <td>36</td>\n",
              "      <td>2</td>\n",
              "      <td>Misleading Content</td>\n",
              "      <td>[SALAH] “Beredar Video Diduga Mempertontonkan ...</td>\n",
              "      <td>Beredar Video Diduga Mempertontonkan Pasangan...</td>\n",
              "      <td>Beredar video yang diduga mempertontonkan pasa...</td>\n",
              "      <td>https://www.viva.co.id/amp/trending/1526755-di...</td>\n",
              "      <td>Tiktok</td>\n",
              "      <td>https://archive.cob.web.id/archive/1667627258...</td>\n",
              "      <td>https://turnbackhoax.id/wp-content/uploads/202...</td>\n",
              "      <td>NaN</td>\n",
              "      <td>2022-11-09</td>\n",
              "      <td>Tema: others Alat: mixed, Sc: Tiktok, Tc: wedg...</td>\n",
              "      <td>Informasi yang salah, Video tersebut adalah ko...</td>\n",
              "    </tr>\n",
              "    <tr>\n",
              "      <th>10</th>\n",
              "      <td>10</td>\n",
              "      <td>10918</td>\n",
              "      <td>36</td>\n",
              "      <td>2</td>\n",
              "      <td>Misleading Content</td>\n",
              "      <td>[SALAH] SUARA GANJAR GETARKAN JAKARTA, 30.000 ...</td>\n",
              "      <td>SUARA GANJAR GETARKAN JAKARTA, 30.000 WARGA DE...</td>\n",
              "      <td>Channel youtube bernama CERIA TV mengunggah se...</td>\n",
              "      <td>https://www.youtube.com/watch?v=KLdFDhnAZFU&amp;ab...</td>\n",
              "      <td>Youtube</td>\n",
              "      <td>https://archive.cob.web.id/archive/1667629533....</td>\n",
              "      <td>https://turnbackhoax.id/wp-content/uploads/202...</td>\n",
              "      <td>NaN</td>\n",
              "      <td>2022-11-09</td>\n",
              "      <td>cek fakta, tbh, Tema: Politik, Alat: mixed, Sc...</td>\n",
              "      <td>Thumbnail dan narasi video tersebut tidak ada ...</td>\n",
              "    </tr>\n",
              "    <tr>\n",
              "      <th>11</th>\n",
              "      <td>11</td>\n",
              "      <td>10917</td>\n",
              "      <td>36</td>\n",
              "      <td>2</td>\n",
              "      <td>Misleading Content</td>\n",
              "      <td>[SALAH] “Varian baru covid hanya berbahaya unt...</td>\n",
              "      <td>Akun Twitter @/ GratisTerbaik mengutip cuitan ...</td>\n",
              "      <td>Artikel yang diunggah oleh CNBC Indonesia meng...</td>\n",
              "      <td>https://www.cnbcindonesia.com/news/20220612154...</td>\n",
              "      <td>Twitter</td>\n",
              "      <td>https://archive.ph/mpRrm</td>\n",
              "      <td>https://turnbackhoax.id/wp-content/uploads/202...</td>\n",
              "      <td>NaN</td>\n",
              "      <td>2022-11-09</td>\n",
              "      <td>covid19, cekfaktacovid19, cekfakta, tbh, tema:...</td>\n",
              "      <td>Konten yang Menyesatkan. Riset menunjukkan bah...</td>\n",
              "    </tr>\n",
              "    <tr>\n",
              "      <th>12</th>\n",
              "      <td>12</td>\n",
              "      <td>10916</td>\n",
              "      <td>36</td>\n",
              "      <td>2</td>\n",
              "      <td>Misleading Content</td>\n",
              "      <td>[SALAH] “SULTAN HAMENGKUBUWONO: CINA DAN KETUR...</td>\n",
              "      <td>* “Sejarah membuktikan\\nDan kinipun hampir sem...</td>\n",
              "      <td>SUMBER membagikan konten yang isinya menimbulk...</td>\n",
              "      <td>[1] firstdraftnews.org: “Memahami gangguan inf...</td>\n",
              "      <td>Twitter.com</td>\n",
              "      <td>https://archive.ph/s097V</td>\n",
              "      <td>https://turnbackhoax.id/wp-content/uploads/202...</td>\n",
              "      <td>NaN</td>\n",
              "      <td>2022-11-08</td>\n",
              "      <td>cekfakta, tbh, TEMA: politik, ALAT: campuran, ...</td>\n",
              "      <td>MENYESATKAN, FAKTA: TIDAK pernah ada pernyataa...</td>\n",
              "    </tr>\n",
              "    <tr>\n",
              "      <th>13</th>\n",
              "      <td>13</td>\n",
              "      <td>10915</td>\n",
              "      <td>29</td>\n",
              "      <td>2</td>\n",
              "      <td>-</td>\n",
              "      <td>Cek Fakta: Tidak Benar Nurofen Ibuprofen Menga...</td>\n",
              "      <td>\\nLiputan6.com, Jakarta- Cek Fakta Liputan6.co...</td>\n",
              "      <td>\\nCek Fakta Liputan6.com menelusuri klaim tabl...</td>\n",
              "      <td>https://factcheck.afp.com/doc.afp.com.326R9AX\\...</td>\n",
              "      <td>liputan6.com</td>\n",
              "      <td>https://www.liputan6.com/cek-fakta/read/511974...</td>\n",
              "      <td>https://cdn1-production-images-kly.akamaized.n...</td>\n",
              "      <td>NaN</td>\n",
              "      <td>2022-11-08</td>\n",
              "      <td>cekfakta, liputan6, cekfakta-liputan6</td>\n",
              "      <td>\\nHasil penelusuran Cek Fakta Liputan6.com, kl...</td>\n",
              "    </tr>\n",
              "    <tr>\n",
              "      <th>14</th>\n",
              "      <td>14</td>\n",
              "      <td>10914</td>\n",
              "      <td>36</td>\n",
              "      <td>2</td>\n",
              "      <td>Misleading Content</td>\n",
              "      <td>[SALAH] Video “Berita Viral ~ INNALILLAH!!HARI...</td>\n",
              "      <td>Berita Viral ~ INNALILLAH!!HARI INI 4 NOVEMBER...</td>\n",
              "      <td>Kanal Youtube MIMBAR ISTANA membagikan video y...</td>\n",
              "      <td>– https://magma.esdm.go.id/v1/gunung-api/lapor...</td>\n",
              "      <td>YOUTUBE</td>\n",
              "      <td>https://archive.cob.web.id/archive/1667727450....</td>\n",
              "      <td>https://turnbackhoax.id/wp-content/uploads/202...</td>\n",
              "      <td>https://turnbackhoax.id/wp-content/uploads/202...</td>\n",
              "      <td>2022-11-08</td>\n",
              "      <td>cekfakta, tbh, tema: bencana, alat: mixed, sc:...</td>\n",
              "      <td>Video yang beredar mengenai letusan Gunung Sem...</td>\n",
              "    </tr>\n",
              "  </tbody>\n",
              "</table>\n",
              "</div>\n",
              "      <button class=\"colab-df-convert\" onclick=\"convertToInteractive('df-88ab8ffd-7dbb-4506-8cb7-bb44ea64dd05')\"\n",
              "              title=\"Convert this dataframe to an interactive table.\"\n",
              "              style=\"display:none;\">\n",
              "        \n",
              "  <svg xmlns=\"http://www.w3.org/2000/svg\" height=\"24px\"viewBox=\"0 0 24 24\"\n",
              "       width=\"24px\">\n",
              "    <path d=\"M0 0h24v24H0V0z\" fill=\"none\"/>\n",
              "    <path d=\"M18.56 5.44l.94 2.06.94-2.06 2.06-.94-2.06-.94-.94-2.06-.94 2.06-2.06.94zm-11 1L8.5 8.5l.94-2.06 2.06-.94-2.06-.94L8.5 2.5l-.94 2.06-2.06.94zm10 10l.94 2.06.94-2.06 2.06-.94-2.06-.94-.94-2.06-.94 2.06-2.06.94z\"/><path d=\"M17.41 7.96l-1.37-1.37c-.4-.4-.92-.59-1.43-.59-.52 0-1.04.2-1.43.59L10.3 9.45l-7.72 7.72c-.78.78-.78 2.05 0 2.83L4 21.41c.39.39.9.59 1.41.59.51 0 1.02-.2 1.41-.59l7.78-7.78 2.81-2.81c.8-.78.8-2.07 0-2.86zM5.41 20L4 18.59l7.72-7.72 1.47 1.35L5.41 20z\"/>\n",
              "  </svg>\n",
              "      </button>\n",
              "      \n",
              "  <style>\n",
              "    .colab-df-container {\n",
              "      display:flex;\n",
              "      flex-wrap:wrap;\n",
              "      gap: 12px;\n",
              "    }\n",
              "\n",
              "    .colab-df-convert {\n",
              "      background-color: #E8F0FE;\n",
              "      border: none;\n",
              "      border-radius: 50%;\n",
              "      cursor: pointer;\n",
              "      display: none;\n",
              "      fill: #1967D2;\n",
              "      height: 32px;\n",
              "      padding: 0 0 0 0;\n",
              "      width: 32px;\n",
              "    }\n",
              "\n",
              "    .colab-df-convert:hover {\n",
              "      background-color: #E2EBFA;\n",
              "      box-shadow: 0px 1px 2px rgba(60, 64, 67, 0.3), 0px 1px 3px 1px rgba(60, 64, 67, 0.15);\n",
              "      fill: #174EA6;\n",
              "    }\n",
              "\n",
              "    [theme=dark] .colab-df-convert {\n",
              "      background-color: #3B4455;\n",
              "      fill: #D2E3FC;\n",
              "    }\n",
              "\n",
              "    [theme=dark] .colab-df-convert:hover {\n",
              "      background-color: #434B5C;\n",
              "      box-shadow: 0px 1px 3px 1px rgba(0, 0, 0, 0.15);\n",
              "      filter: drop-shadow(0px 1px 2px rgba(0, 0, 0, 0.3));\n",
              "      fill: #FFFFFF;\n",
              "    }\n",
              "  </style>\n",
              "\n",
              "      <script>\n",
              "        const buttonEl =\n",
              "          document.querySelector('#df-88ab8ffd-7dbb-4506-8cb7-bb44ea64dd05 button.colab-df-convert');\n",
              "        buttonEl.style.display =\n",
              "          google.colab.kernel.accessAllowed ? 'block' : 'none';\n",
              "\n",
              "        async function convertToInteractive(key) {\n",
              "          const element = document.querySelector('#df-88ab8ffd-7dbb-4506-8cb7-bb44ea64dd05');\n",
              "          const dataTable =\n",
              "            await google.colab.kernel.invokeFunction('convertToInteractive',\n",
              "                                                     [key], {});\n",
              "          if (!dataTable) return;\n",
              "\n",
              "          const docLinkHtml = 'Like what you see? Visit the ' +\n",
              "            '<a target=\"_blank\" href=https://colab.research.google.com/notebooks/data_table.ipynb>data table notebook</a>'\n",
              "            + ' to learn more about interactive tables.';\n",
              "          element.innerHTML = '';\n",
              "          dataTable['output_type'] = 'display_data';\n",
              "          await google.colab.output.renderOutput(dataTable, element);\n",
              "          const docLink = document.createElement('div');\n",
              "          docLink.innerHTML = docLinkHtml;\n",
              "          element.appendChild(docLink);\n",
              "        }\n",
              "      </script>\n",
              "    </div>\n",
              "  </div>\n",
              "  "
            ]
          },
          "metadata": {},
          "execution_count": 13
        },
        {
          "output_type": "stream",
          "name": "stdout",
          "text": [
            "time: 38.9 ms (started: 2023-01-10 10:03:52 +00:00)\n"
          ]
        }
      ]
    },
    {
      "cell_type": "code",
      "execution_count": 14,
      "metadata": {
        "id": "dgDQIF6o1snh",
        "colab": {
          "base_uri": "https://localhost:8080/",
          "height": 0
        },
        "outputId": "b68aea4b-b06b-4fea-ec18-fc7636d7b520"
      },
      "outputs": [
        {
          "output_type": "execute_result",
          "data": {
            "text/plain": [
              "         Unnamed: 0            id        status\n",
              "count  10756.000000  10756.000000  10756.000000\n",
              "mean    5377.500000   5488.900149      2.128486\n",
              "std     3105.134082   3152.556646      0.841311\n",
              "min        0.000000      4.000000      0.000000\n",
              "25%     2688.750000   2743.750000      2.000000\n",
              "50%     5377.500000   5509.500000      2.000000\n",
              "75%     8066.250000   8223.250000      2.000000\n",
              "max    10755.000000  10928.000000     15.000000"
            ],
            "text/html": [
              "\n",
              "  <div id=\"df-139469d8-f8a9-492a-869a-1e87e7cfcc5c\">\n",
              "    <div class=\"colab-df-container\">\n",
              "      <div>\n",
              "<style scoped>\n",
              "    .dataframe tbody tr th:only-of-type {\n",
              "        vertical-align: middle;\n",
              "    }\n",
              "\n",
              "    .dataframe tbody tr th {\n",
              "        vertical-align: top;\n",
              "    }\n",
              "\n",
              "    .dataframe thead th {\n",
              "        text-align: right;\n",
              "    }\n",
              "</style>\n",
              "<table border=\"1\" class=\"dataframe\">\n",
              "  <thead>\n",
              "    <tr style=\"text-align: right;\">\n",
              "      <th></th>\n",
              "      <th>Unnamed: 0</th>\n",
              "      <th>id</th>\n",
              "      <th>status</th>\n",
              "    </tr>\n",
              "  </thead>\n",
              "  <tbody>\n",
              "    <tr>\n",
              "      <th>count</th>\n",
              "      <td>10756.000000</td>\n",
              "      <td>10756.000000</td>\n",
              "      <td>10756.000000</td>\n",
              "    </tr>\n",
              "    <tr>\n",
              "      <th>mean</th>\n",
              "      <td>5377.500000</td>\n",
              "      <td>5488.900149</td>\n",
              "      <td>2.128486</td>\n",
              "    </tr>\n",
              "    <tr>\n",
              "      <th>std</th>\n",
              "      <td>3105.134082</td>\n",
              "      <td>3152.556646</td>\n",
              "      <td>0.841311</td>\n",
              "    </tr>\n",
              "    <tr>\n",
              "      <th>min</th>\n",
              "      <td>0.000000</td>\n",
              "      <td>4.000000</td>\n",
              "      <td>0.000000</td>\n",
              "    </tr>\n",
              "    <tr>\n",
              "      <th>25%</th>\n",
              "      <td>2688.750000</td>\n",
              "      <td>2743.750000</td>\n",
              "      <td>2.000000</td>\n",
              "    </tr>\n",
              "    <tr>\n",
              "      <th>50%</th>\n",
              "      <td>5377.500000</td>\n",
              "      <td>5509.500000</td>\n",
              "      <td>2.000000</td>\n",
              "    </tr>\n",
              "    <tr>\n",
              "      <th>75%</th>\n",
              "      <td>8066.250000</td>\n",
              "      <td>8223.250000</td>\n",
              "      <td>2.000000</td>\n",
              "    </tr>\n",
              "    <tr>\n",
              "      <th>max</th>\n",
              "      <td>10755.000000</td>\n",
              "      <td>10928.000000</td>\n",
              "      <td>15.000000</td>\n",
              "    </tr>\n",
              "  </tbody>\n",
              "</table>\n",
              "</div>\n",
              "      <button class=\"colab-df-convert\" onclick=\"convertToInteractive('df-139469d8-f8a9-492a-869a-1e87e7cfcc5c')\"\n",
              "              title=\"Convert this dataframe to an interactive table.\"\n",
              "              style=\"display:none;\">\n",
              "        \n",
              "  <svg xmlns=\"http://www.w3.org/2000/svg\" height=\"24px\"viewBox=\"0 0 24 24\"\n",
              "       width=\"24px\">\n",
              "    <path d=\"M0 0h24v24H0V0z\" fill=\"none\"/>\n",
              "    <path d=\"M18.56 5.44l.94 2.06.94-2.06 2.06-.94-2.06-.94-.94-2.06-.94 2.06-2.06.94zm-11 1L8.5 8.5l.94-2.06 2.06-.94-2.06-.94L8.5 2.5l-.94 2.06-2.06.94zm10 10l.94 2.06.94-2.06 2.06-.94-2.06-.94-.94-2.06-.94 2.06-2.06.94z\"/><path d=\"M17.41 7.96l-1.37-1.37c-.4-.4-.92-.59-1.43-.59-.52 0-1.04.2-1.43.59L10.3 9.45l-7.72 7.72c-.78.78-.78 2.05 0 2.83L4 21.41c.39.39.9.59 1.41.59.51 0 1.02-.2 1.41-.59l7.78-7.78 2.81-2.81c.8-.78.8-2.07 0-2.86zM5.41 20L4 18.59l7.72-7.72 1.47 1.35L5.41 20z\"/>\n",
              "  </svg>\n",
              "      </button>\n",
              "      \n",
              "  <style>\n",
              "    .colab-df-container {\n",
              "      display:flex;\n",
              "      flex-wrap:wrap;\n",
              "      gap: 12px;\n",
              "    }\n",
              "\n",
              "    .colab-df-convert {\n",
              "      background-color: #E8F0FE;\n",
              "      border: none;\n",
              "      border-radius: 50%;\n",
              "      cursor: pointer;\n",
              "      display: none;\n",
              "      fill: #1967D2;\n",
              "      height: 32px;\n",
              "      padding: 0 0 0 0;\n",
              "      width: 32px;\n",
              "    }\n",
              "\n",
              "    .colab-df-convert:hover {\n",
              "      background-color: #E2EBFA;\n",
              "      box-shadow: 0px 1px 2px rgba(60, 64, 67, 0.3), 0px 1px 3px 1px rgba(60, 64, 67, 0.15);\n",
              "      fill: #174EA6;\n",
              "    }\n",
              "\n",
              "    [theme=dark] .colab-df-convert {\n",
              "      background-color: #3B4455;\n",
              "      fill: #D2E3FC;\n",
              "    }\n",
              "\n",
              "    [theme=dark] .colab-df-convert:hover {\n",
              "      background-color: #434B5C;\n",
              "      box-shadow: 0px 1px 3px 1px rgba(0, 0, 0, 0.15);\n",
              "      filter: drop-shadow(0px 1px 2px rgba(0, 0, 0, 0.3));\n",
              "      fill: #FFFFFF;\n",
              "    }\n",
              "  </style>\n",
              "\n",
              "      <script>\n",
              "        const buttonEl =\n",
              "          document.querySelector('#df-139469d8-f8a9-492a-869a-1e87e7cfcc5c button.colab-df-convert');\n",
              "        buttonEl.style.display =\n",
              "          google.colab.kernel.accessAllowed ? 'block' : 'none';\n",
              "\n",
              "        async function convertToInteractive(key) {\n",
              "          const element = document.querySelector('#df-139469d8-f8a9-492a-869a-1e87e7cfcc5c');\n",
              "          const dataTable =\n",
              "            await google.colab.kernel.invokeFunction('convertToInteractive',\n",
              "                                                     [key], {});\n",
              "          if (!dataTable) return;\n",
              "\n",
              "          const docLinkHtml = 'Like what you see? Visit the ' +\n",
              "            '<a target=\"_blank\" href=https://colab.research.google.com/notebooks/data_table.ipynb>data table notebook</a>'\n",
              "            + ' to learn more about interactive tables.';\n",
              "          element.innerHTML = '';\n",
              "          dataTable['output_type'] = 'display_data';\n",
              "          await google.colab.output.renderOutput(dataTable, element);\n",
              "          const docLink = document.createElement('div');\n",
              "          docLink.innerHTML = docLinkHtml;\n",
              "          element.appendChild(docLink);\n",
              "        }\n",
              "      </script>\n",
              "    </div>\n",
              "  </div>\n",
              "  "
            ]
          },
          "metadata": {},
          "execution_count": 14
        },
        {
          "output_type": "stream",
          "name": "stdout",
          "text": [
            "time: 29.8 ms (started: 2023-01-10 10:03:52 +00:00)\n"
          ]
        }
      ],
      "source": [
        "df.describe()"
      ]
    },
    {
      "cell_type": "code",
      "execution_count": 15,
      "metadata": {
        "id": "2Us_Ko-NWbeX",
        "colab": {
          "base_uri": "https://localhost:8080/"
        },
        "outputId": "4d07b0d7-2c32-42db-93e1-bf3d2561edb3"
      },
      "outputs": [
        {
          "output_type": "stream",
          "name": "stdout",
          "text": [
            "<class 'pandas.core.frame.DataFrame'>\n",
            "RangeIndex: 10756 entries, 0 to 10755\n",
            "Data columns (total 16 columns):\n",
            " #   Column          Non-Null Count  Dtype \n",
            "---  ------          --------------  ----- \n",
            " 0   Unnamed: 0      10756 non-null  int64 \n",
            " 1   id              10756 non-null  int64 \n",
            " 2   authors         10337 non-null  object\n",
            " 3   status          10756 non-null  int64 \n",
            " 4   classification  10756 non-null  object\n",
            " 5   title           10755 non-null  object\n",
            " 6   content         10466 non-null  object\n",
            " 7   fact            10553 non-null  object\n",
            " 8   references      10694 non-null  object\n",
            " 9   source_issue    10031 non-null  object\n",
            " 10  source_link     7642 non-null   object\n",
            " 11  picture1        10464 non-null  object\n",
            " 12  picture2        1981 non-null   object\n",
            " 13  tanggal         10756 non-null  object\n",
            " 14  tags            10731 non-null  object\n",
            " 15  conclusion      6571 non-null   object\n",
            "dtypes: int64(3), object(13)\n",
            "memory usage: 1.3+ MB\n",
            "time: 31.2 ms (started: 2023-01-10 10:03:52 +00:00)\n"
          ]
        }
      ],
      "source": [
        "df.info()"
      ]
    },
    {
      "cell_type": "code",
      "execution_count": 16,
      "metadata": {
        "id": "nWmAx5atWks0",
        "colab": {
          "base_uri": "https://localhost:8080/"
        },
        "outputId": "5d8179a2-1068-4269-a6b6-67d150c9801c"
      },
      "outputs": [
        {
          "output_type": "execute_result",
          "data": {
            "text/plain": [
              "0"
            ]
          },
          "metadata": {},
          "execution_count": 16
        },
        {
          "output_type": "stream",
          "name": "stdout",
          "text": [
            "time: 5.61 ms (started: 2023-01-10 10:03:52 +00:00)\n"
          ]
        }
      ],
      "source": [
        "df['classification'].isnull().sum()"
      ]
    },
    {
      "cell_type": "code",
      "execution_count": 17,
      "metadata": {
        "id": "sXQ2qsWQW0qU",
        "colab": {
          "base_uri": "https://localhost:8080/"
        },
        "outputId": "881c71de-810c-45cb-8527-af99928c8c09"
      },
      "outputs": [
        {
          "output_type": "execute_result",
          "data": {
            "text/plain": [
              "count                  10756\n",
              "unique                    10\n",
              "top       Misleading Content\n",
              "freq                    2629\n",
              "Name: classification, dtype: object"
            ]
          },
          "metadata": {},
          "execution_count": 17
        },
        {
          "output_type": "stream",
          "name": "stdout",
          "text": [
            "time: 17.3 ms (started: 2023-01-10 10:03:52 +00:00)\n"
          ]
        }
      ],
      "source": [
        "df['classification'].describe()"
      ]
    },
    {
      "cell_type": "code",
      "execution_count": 18,
      "metadata": {
        "id": "NxUHL-3BeJbR",
        "colab": {
          "base_uri": "https://localhost:8080/"
        },
        "outputId": "15d3de72-6091-461a-97da-22244b6cf89f"
      },
      "outputs": [
        {
          "output_type": "execute_result",
          "data": {
            "text/plain": [
              "array(['-', 'Misleading Content', 'Fabricated Content',\n",
              "       'Impostor Content', 'Manipulated Content', 'False Context',\n",
              "       'Satire', 'False Connection', 'Clarification', 'TRUE'],\n",
              "      dtype=object)"
            ]
          },
          "metadata": {},
          "execution_count": 18
        },
        {
          "output_type": "stream",
          "name": "stdout",
          "text": [
            "time: 6.66 ms (started: 2023-01-10 10:03:52 +00:00)\n"
          ]
        }
      ],
      "source": [
        "df['classification'].unique()"
      ]
    },
    {
      "cell_type": "markdown",
      "source": [
        "###Total count of each category"
      ],
      "metadata": {
        "id": "Tn6ov6WumFVX"
      }
    },
    {
      "cell_type": "code",
      "source": [
        "print(Counter(df['classification'].values))"
      ],
      "metadata": {
        "id": "Fk3QNCFoxiH5",
        "colab": {
          "base_uri": "https://localhost:8080/"
        },
        "outputId": "e8bd8554-642e-4371-cd73-5985e846b901"
      },
      "execution_count": 19,
      "outputs": [
        {
          "output_type": "stream",
          "name": "stdout",
          "text": [
            "Counter({'Misleading Content': 2629, 'False Context': 2234, '-': 1829, 'Fabricated Content': 1152, 'Manipulated Content': 1152, 'Impostor Content': 503, 'TRUE': 420, 'Clarification': 396, 'False Connection': 279, 'Satire': 162})\n",
            "time: 2.63 ms (started: 2023-01-10 10:03:52 +00:00)\n"
          ]
        }
      ]
    },
    {
      "cell_type": "code",
      "execution_count": 20,
      "metadata": {
        "id": "PPXRq7VhW8WP",
        "colab": {
          "base_uri": "https://localhost:8080/",
          "height": 0
        },
        "outputId": "7b511c54-3cf1-49a4-a31c-e2743db10318"
      },
      "outputs": [
        {
          "output_type": "execute_result",
          "data": {
            "text/plain": [
              "       Unnamed: 0     id authors  status classification  \\\n",
              "0               0  10928      29       2              -   \n",
              "1               1  10927      29       2              -   \n",
              "3               3  10925      29       2              -   \n",
              "4               4  10924      29       2              -   \n",
              "7               7  10921      29       2              -   \n",
              "...           ...    ...     ...     ...            ...   \n",
              "10747       10747     13     NaN       1              -   \n",
              "10748       10748     12     NaN       2              -   \n",
              "10749       10749     11     NaN       2              -   \n",
              "10750       10750     10     NaN       2              -   \n",
              "10751       10751      9     NaN       2              -   \n",
              "\n",
              "                                                   title  \\\n",
              "0      Cek Fakta: Hoaks Kabar Nikita Mirzani Meningga...   \n",
              "1      Cek Fakta: Tidak Benar Tepung Beras Bisa Mered...   \n",
              "3      Cek Fakta: Tidak Benar Video Wanita Tertua di ...   \n",
              "4      Cek Fakta: Tidak Benar Kondisi AS Terkena Damp...   \n",
              "7      Cek Fakta: Tidak Benar Vaksin Genosida Uni Ero...   \n",
              "...                                                  ...   \n",
              "10747                    (EDUKASI) 7 Tipe Informasi Hoax   \n",
              "10748  [KLARIFIKASI] Foto Wagub DKI Sedang Berada di ...   \n",
              "10749         [HOAX] Uang Bayaran dari Tim Basuki-Djarot   \n",
              "10750  [DISINFORMASI] Perubahan Suara saat Hitungan K...   \n",
              "10751  [DISINFORMASI] Perlakuan Berbeda antara GNPF M...   \n",
              "\n",
              "                                                 content  \\\n",
              "0      \\nLiputan6.com, Jakarta - Kabar tentang artis ...   \n",
              "1      \\nLiputan6.com, Jakarta - Klaim tentang menemp...   \n",
              "3      \\nLiputan6.com, Jakarta - Sebuah video yang di...   \n",
              "4      \\nLiputan6.com, Jakarta- Cek Fakta Liputan6.co...   \n",
              "7      \\nLiputan6.com, Jakarta- Cek Fakta Liputan6.co...   \n",
              "...                                                  ...   \n",
              "10747                                                NaN   \n",
              "10748  https://turnbackhoax.id/wp-content/uploads/201...   \n",
              "10749  https://turnbackhoax.id/wp-content/uploads/201...   \n",
              "10750  Perubahan suara pd saat hitungan KPU sdh 100%....   \n",
              "10751  GNPF- Dana sedekah umat jelas sumbernya dan pe...   \n",
              "\n",
              "                                                    fact  \\\n",
              "0      \\nCek Fakta Liputan6.com menelusuri kabar tent...   \n",
              "1      \\nCek Fakta Liputan6.com menelusuri klaim mene...   \n",
              "3      \\nCek Fakta Liputan6.com menelusuri video yang...   \n",
              "4      \\nCek Fakta Liputan6.com menelusuri klaim vide...   \n",
              "7      \\nCek Fakta Liputan6.com menelusuri klaim vaks...   \n",
              "...                                                  ...   \n",
              "10747  Dari yang saya amati, “tema” pesan hoax biasan...   \n",
              "10748  1. Secara resmi dan sah Djarot beragama Islam\\...   \n",
              "10749  Foto berupa tiga lembar uang Rp. 100.000 denga...   \n",
              "10750  “Iya, ada kesalahan input data, di TPS 10 Kelu...   \n",
              "10751  1. Teman Ahok pernah diperiksa KPK.\\nLink : ht...   \n",
              "\n",
              "                                              references  source_issue  \\\n",
              "0                                                    NaN  liputan6.com   \n",
              "1                                                    NaN  liputan6.com   \n",
              "3      https://www.thetealmango.com/latest/who-is-399...  liputan6.com   \n",
              "4       \\nhttps://vanlifewanderer.com/2022/08/03/kens...  liputan6.com   \n",
              "7                                                    NaN  liputan6.com   \n",
              "...                                                  ...           ...   \n",
              "10747  https://www.facebook.com/youthmanualid/posts/6...           NaN   \n",
              "10748  http://www.satuharapan.com/…/wagub-dki-sumbang...  facebook.com   \n",
              "10749  https://www.facebook.com/groups/fafhh/permalin...  facebook.com   \n",
              "10750  https://www.facebook.com/groups/fafhh/permalin...  facebook.com   \n",
              "10751  https://news.detik.com/berita/3312414/begini-a...  facebook.com   \n",
              "\n",
              "                                             source_link  \\\n",
              "0      https://www.liputan6.com/cek-fakta/read/512206...   \n",
              "1      https://www.liputan6.com/cek-fakta/read/512197...   \n",
              "3      https://www.liputan6.com/cek-fakta/read/512178...   \n",
              "4      https://www.liputan6.com/cek-fakta/read/512121...   \n",
              "7      https://www.liputan6.com/cek-fakta/read/512085...   \n",
              "...                                                  ...   \n",
              "10747                                        SocialMedia   \n",
              "10748                                                NaN   \n",
              "10749                                        SocialMedia   \n",
              "10750                                        SocialMedia   \n",
              "10751                                        SocialMedia   \n",
              "\n",
              "                                                picture1  \\\n",
              "0      https://cdn0-production-images-kly.akamaized.n...   \n",
              "1      https://cdn0-production-images-kly.akamaized.n...   \n",
              "3      https://cdn1-production-images-kly.akamaized.n...   \n",
              "4      https://cdn0-production-images-kly.akamaized.n...   \n",
              "7      https://cdn0-production-images-kly.akamaized.n...   \n",
              "...                                                  ...   \n",
              "10747  https://turnbackhoax.id/wp-content/uploads/201...   \n",
              "10748  https://turnbackhoax.id/wp-content/uploads/201...   \n",
              "10749  https://turnbackhoax.id/wp-content/uploads/201...   \n",
              "10750  https://turnbackhoax.id/wp-content/uploads/201...   \n",
              "10751  https://turnbackhoax.id/wp-content/uploads/201...   \n",
              "\n",
              "                                                picture2     tanggal  \\\n",
              "0                                                    NaN  2022-11-11   \n",
              "1                                                    NaN  2022-11-10   \n",
              "3      https://cdn1-production-images-kly.akamaized.n...  2022-11-10   \n",
              "4      https://cdn1-production-images-kly.akamaized.n...  2022-11-10   \n",
              "7                                                    NaN  2022-11-09   \n",
              "...                                                  ...         ...   \n",
              "10747                                                NaN  2018-04-29   \n",
              "10748                                                NaN  2018-04-29   \n",
              "10749                                                NaN  2018-04-29   \n",
              "10750                                                NaN  2018-04-29   \n",
              "10751                                                NaN  2018-04-29   \n",
              "\n",
              "                                               tags  \\\n",
              "0             cekfakta, liputan6, cekfakta-liputan6   \n",
              "1             cekfakta, liputan6, cekfakta-liputan6   \n",
              "3             cekfakta, liputan6, cekfakta-liputan6   \n",
              "4             cekfakta, liputan6, cekfakta-liputan6   \n",
              "7             cekfakta, liputan6, cekfakta-liputan6   \n",
              "...                                             ...   \n",
              "10747                           Tipe HOAX, cekfakta   \n",
              "10748                     Djarot, Kristen, cekfakta   \n",
              "10749                          Badja Uang, cekfakta   \n",
              "10750    Disinformasi, Anies - Sandi, KPU, cekfakta   \n",
              "10751  Disinformasi, GNPF MUI, TEMAN AHOK, cekfakta   \n",
              "\n",
              "                                              conclusion  \n",
              "0      \\nKabar tentang artis Nikita Mirzani meninggal...  \n",
              "1      \\nKlaim menempelkan adonan tepung beras di tub...  \n",
              "3      \\nVideo yang diklaim seorang wanita tertua di ...  \n",
              "4      \\nHasil penelusuran Cek Fakta Liputan6.com, kl...  \n",
              "7      \\nHasil penelusuran Cek Fakta Liputan6.com, kl...  \n",
              "...                                                  ...  \n",
              "10747                                                NaN  \n",
              "10748                                                NaN  \n",
              "10749                                                NaN  \n",
              "10750                                                NaN  \n",
              "10751                                                NaN  \n",
              "\n",
              "[1829 rows x 16 columns]"
            ],
            "text/html": [
              "\n",
              "  <div id=\"df-3b7ea34c-b9c7-4a2e-89de-3fab5735f71a\">\n",
              "    <div class=\"colab-df-container\">\n",
              "      <div>\n",
              "<style scoped>\n",
              "    .dataframe tbody tr th:only-of-type {\n",
              "        vertical-align: middle;\n",
              "    }\n",
              "\n",
              "    .dataframe tbody tr th {\n",
              "        vertical-align: top;\n",
              "    }\n",
              "\n",
              "    .dataframe thead th {\n",
              "        text-align: right;\n",
              "    }\n",
              "</style>\n",
              "<table border=\"1\" class=\"dataframe\">\n",
              "  <thead>\n",
              "    <tr style=\"text-align: right;\">\n",
              "      <th></th>\n",
              "      <th>Unnamed: 0</th>\n",
              "      <th>id</th>\n",
              "      <th>authors</th>\n",
              "      <th>status</th>\n",
              "      <th>classification</th>\n",
              "      <th>title</th>\n",
              "      <th>content</th>\n",
              "      <th>fact</th>\n",
              "      <th>references</th>\n",
              "      <th>source_issue</th>\n",
              "      <th>source_link</th>\n",
              "      <th>picture1</th>\n",
              "      <th>picture2</th>\n",
              "      <th>tanggal</th>\n",
              "      <th>tags</th>\n",
              "      <th>conclusion</th>\n",
              "    </tr>\n",
              "  </thead>\n",
              "  <tbody>\n",
              "    <tr>\n",
              "      <th>0</th>\n",
              "      <td>0</td>\n",
              "      <td>10928</td>\n",
              "      <td>29</td>\n",
              "      <td>2</td>\n",
              "      <td>-</td>\n",
              "      <td>Cek Fakta: Hoaks Kabar Nikita Mirzani Meningga...</td>\n",
              "      <td>\\nLiputan6.com, Jakarta - Kabar tentang artis ...</td>\n",
              "      <td>\\nCek Fakta Liputan6.com menelusuri kabar tent...</td>\n",
              "      <td>NaN</td>\n",
              "      <td>liputan6.com</td>\n",
              "      <td>https://www.liputan6.com/cek-fakta/read/512206...</td>\n",
              "      <td>https://cdn0-production-images-kly.akamaized.n...</td>\n",
              "      <td>NaN</td>\n",
              "      <td>2022-11-11</td>\n",
              "      <td>cekfakta, liputan6, cekfakta-liputan6</td>\n",
              "      <td>\\nKabar tentang artis Nikita Mirzani meninggal...</td>\n",
              "    </tr>\n",
              "    <tr>\n",
              "      <th>1</th>\n",
              "      <td>1</td>\n",
              "      <td>10927</td>\n",
              "      <td>29</td>\n",
              "      <td>2</td>\n",
              "      <td>-</td>\n",
              "      <td>Cek Fakta: Tidak Benar Tepung Beras Bisa Mered...</td>\n",
              "      <td>\\nLiputan6.com, Jakarta - Klaim tentang menemp...</td>\n",
              "      <td>\\nCek Fakta Liputan6.com menelusuri klaim mene...</td>\n",
              "      <td>NaN</td>\n",
              "      <td>liputan6.com</td>\n",
              "      <td>https://www.liputan6.com/cek-fakta/read/512197...</td>\n",
              "      <td>https://cdn0-production-images-kly.akamaized.n...</td>\n",
              "      <td>NaN</td>\n",
              "      <td>2022-11-10</td>\n",
              "      <td>cekfakta, liputan6, cekfakta-liputan6</td>\n",
              "      <td>\\nKlaim menempelkan adonan tepung beras di tub...</td>\n",
              "    </tr>\n",
              "    <tr>\n",
              "      <th>3</th>\n",
              "      <td>3</td>\n",
              "      <td>10925</td>\n",
              "      <td>29</td>\n",
              "      <td>2</td>\n",
              "      <td>-</td>\n",
              "      <td>Cek Fakta: Tidak Benar Video Wanita Tertua di ...</td>\n",
              "      <td>\\nLiputan6.com, Jakarta - Sebuah video yang di...</td>\n",
              "      <td>\\nCek Fakta Liputan6.com menelusuri video yang...</td>\n",
              "      <td>https://www.thetealmango.com/latest/who-is-399...</td>\n",
              "      <td>liputan6.com</td>\n",
              "      <td>https://www.liputan6.com/cek-fakta/read/512178...</td>\n",
              "      <td>https://cdn1-production-images-kly.akamaized.n...</td>\n",
              "      <td>https://cdn1-production-images-kly.akamaized.n...</td>\n",
              "      <td>2022-11-10</td>\n",
              "      <td>cekfakta, liputan6, cekfakta-liputan6</td>\n",
              "      <td>\\nVideo yang diklaim seorang wanita tertua di ...</td>\n",
              "    </tr>\n",
              "    <tr>\n",
              "      <th>4</th>\n",
              "      <td>4</td>\n",
              "      <td>10924</td>\n",
              "      <td>29</td>\n",
              "      <td>2</td>\n",
              "      <td>-</td>\n",
              "      <td>Cek Fakta: Tidak Benar Kondisi AS Terkena Damp...</td>\n",
              "      <td>\\nLiputan6.com, Jakarta- Cek Fakta Liputan6.co...</td>\n",
              "      <td>\\nCek Fakta Liputan6.com menelusuri klaim vide...</td>\n",
              "      <td>\\nhttps://vanlifewanderer.com/2022/08/03/kens...</td>\n",
              "      <td>liputan6.com</td>\n",
              "      <td>https://www.liputan6.com/cek-fakta/read/512121...</td>\n",
              "      <td>https://cdn0-production-images-kly.akamaized.n...</td>\n",
              "      <td>https://cdn1-production-images-kly.akamaized.n...</td>\n",
              "      <td>2022-11-10</td>\n",
              "      <td>cekfakta, liputan6, cekfakta-liputan6</td>\n",
              "      <td>\\nHasil penelusuran Cek Fakta Liputan6.com, kl...</td>\n",
              "    </tr>\n",
              "    <tr>\n",
              "      <th>7</th>\n",
              "      <td>7</td>\n",
              "      <td>10921</td>\n",
              "      <td>29</td>\n",
              "      <td>2</td>\n",
              "      <td>-</td>\n",
              "      <td>Cek Fakta: Tidak Benar Vaksin Genosida Uni Ero...</td>\n",
              "      <td>\\nLiputan6.com, Jakarta- Cek Fakta Liputan6.co...</td>\n",
              "      <td>\\nCek Fakta Liputan6.com menelusuri klaim vaks...</td>\n",
              "      <td>NaN</td>\n",
              "      <td>liputan6.com</td>\n",
              "      <td>https://www.liputan6.com/cek-fakta/read/512085...</td>\n",
              "      <td>https://cdn0-production-images-kly.akamaized.n...</td>\n",
              "      <td>NaN</td>\n",
              "      <td>2022-11-09</td>\n",
              "      <td>cekfakta, liputan6, cekfakta-liputan6</td>\n",
              "      <td>\\nHasil penelusuran Cek Fakta Liputan6.com, kl...</td>\n",
              "    </tr>\n",
              "    <tr>\n",
              "      <th>...</th>\n",
              "      <td>...</td>\n",
              "      <td>...</td>\n",
              "      <td>...</td>\n",
              "      <td>...</td>\n",
              "      <td>...</td>\n",
              "      <td>...</td>\n",
              "      <td>...</td>\n",
              "      <td>...</td>\n",
              "      <td>...</td>\n",
              "      <td>...</td>\n",
              "      <td>...</td>\n",
              "      <td>...</td>\n",
              "      <td>...</td>\n",
              "      <td>...</td>\n",
              "      <td>...</td>\n",
              "      <td>...</td>\n",
              "    </tr>\n",
              "    <tr>\n",
              "      <th>10747</th>\n",
              "      <td>10747</td>\n",
              "      <td>13</td>\n",
              "      <td>NaN</td>\n",
              "      <td>1</td>\n",
              "      <td>-</td>\n",
              "      <td>(EDUKASI) 7 Tipe Informasi Hoax</td>\n",
              "      <td>NaN</td>\n",
              "      <td>Dari yang saya amati, “tema” pesan hoax biasan...</td>\n",
              "      <td>https://www.facebook.com/youthmanualid/posts/6...</td>\n",
              "      <td>NaN</td>\n",
              "      <td>SocialMedia</td>\n",
              "      <td>https://turnbackhoax.id/wp-content/uploads/201...</td>\n",
              "      <td>NaN</td>\n",
              "      <td>2018-04-29</td>\n",
              "      <td>Tipe HOAX, cekfakta</td>\n",
              "      <td>NaN</td>\n",
              "    </tr>\n",
              "    <tr>\n",
              "      <th>10748</th>\n",
              "      <td>10748</td>\n",
              "      <td>12</td>\n",
              "      <td>NaN</td>\n",
              "      <td>2</td>\n",
              "      <td>-</td>\n",
              "      <td>[KLARIFIKASI] Foto Wagub DKI Sedang Berada di ...</td>\n",
              "      <td>https://turnbackhoax.id/wp-content/uploads/201...</td>\n",
              "      <td>1. Secara resmi dan sah Djarot beragama Islam\\...</td>\n",
              "      <td>http://www.satuharapan.com/…/wagub-dki-sumbang...</td>\n",
              "      <td>facebook.com</td>\n",
              "      <td>NaN</td>\n",
              "      <td>https://turnbackhoax.id/wp-content/uploads/201...</td>\n",
              "      <td>NaN</td>\n",
              "      <td>2018-04-29</td>\n",
              "      <td>Djarot, Kristen, cekfakta</td>\n",
              "      <td>NaN</td>\n",
              "    </tr>\n",
              "    <tr>\n",
              "      <th>10749</th>\n",
              "      <td>10749</td>\n",
              "      <td>11</td>\n",
              "      <td>NaN</td>\n",
              "      <td>2</td>\n",
              "      <td>-</td>\n",
              "      <td>[HOAX] Uang Bayaran dari Tim Basuki-Djarot</td>\n",
              "      <td>https://turnbackhoax.id/wp-content/uploads/201...</td>\n",
              "      <td>Foto berupa tiga lembar uang Rp. 100.000 denga...</td>\n",
              "      <td>https://www.facebook.com/groups/fafhh/permalin...</td>\n",
              "      <td>facebook.com</td>\n",
              "      <td>SocialMedia</td>\n",
              "      <td>https://turnbackhoax.id/wp-content/uploads/201...</td>\n",
              "      <td>NaN</td>\n",
              "      <td>2018-04-29</td>\n",
              "      <td>Badja Uang, cekfakta</td>\n",
              "      <td>NaN</td>\n",
              "    </tr>\n",
              "    <tr>\n",
              "      <th>10750</th>\n",
              "      <td>10750</td>\n",
              "      <td>10</td>\n",
              "      <td>NaN</td>\n",
              "      <td>2</td>\n",
              "      <td>-</td>\n",
              "      <td>[DISINFORMASI] Perubahan Suara saat Hitungan K...</td>\n",
              "      <td>Perubahan suara pd saat hitungan KPU sdh 100%....</td>\n",
              "      <td>“Iya, ada kesalahan input data, di TPS 10 Kelu...</td>\n",
              "      <td>https://www.facebook.com/groups/fafhh/permalin...</td>\n",
              "      <td>facebook.com</td>\n",
              "      <td>SocialMedia</td>\n",
              "      <td>https://turnbackhoax.id/wp-content/uploads/201...</td>\n",
              "      <td>NaN</td>\n",
              "      <td>2018-04-29</td>\n",
              "      <td>Disinformasi, Anies - Sandi, KPU, cekfakta</td>\n",
              "      <td>NaN</td>\n",
              "    </tr>\n",
              "    <tr>\n",
              "      <th>10751</th>\n",
              "      <td>10751</td>\n",
              "      <td>9</td>\n",
              "      <td>NaN</td>\n",
              "      <td>2</td>\n",
              "      <td>-</td>\n",
              "      <td>[DISINFORMASI] Perlakuan Berbeda antara GNPF M...</td>\n",
              "      <td>GNPF- Dana sedekah umat jelas sumbernya dan pe...</td>\n",
              "      <td>1. Teman Ahok pernah diperiksa KPK.\\nLink : ht...</td>\n",
              "      <td>https://news.detik.com/berita/3312414/begini-a...</td>\n",
              "      <td>facebook.com</td>\n",
              "      <td>SocialMedia</td>\n",
              "      <td>https://turnbackhoax.id/wp-content/uploads/201...</td>\n",
              "      <td>NaN</td>\n",
              "      <td>2018-04-29</td>\n",
              "      <td>Disinformasi, GNPF MUI, TEMAN AHOK, cekfakta</td>\n",
              "      <td>NaN</td>\n",
              "    </tr>\n",
              "  </tbody>\n",
              "</table>\n",
              "<p>1829 rows × 16 columns</p>\n",
              "</div>\n",
              "      <button class=\"colab-df-convert\" onclick=\"convertToInteractive('df-3b7ea34c-b9c7-4a2e-89de-3fab5735f71a')\"\n",
              "              title=\"Convert this dataframe to an interactive table.\"\n",
              "              style=\"display:none;\">\n",
              "        \n",
              "  <svg xmlns=\"http://www.w3.org/2000/svg\" height=\"24px\"viewBox=\"0 0 24 24\"\n",
              "       width=\"24px\">\n",
              "    <path d=\"M0 0h24v24H0V0z\" fill=\"none\"/>\n",
              "    <path d=\"M18.56 5.44l.94 2.06.94-2.06 2.06-.94-2.06-.94-.94-2.06-.94 2.06-2.06.94zm-11 1L8.5 8.5l.94-2.06 2.06-.94-2.06-.94L8.5 2.5l-.94 2.06-2.06.94zm10 10l.94 2.06.94-2.06 2.06-.94-2.06-.94-.94-2.06-.94 2.06-2.06.94z\"/><path d=\"M17.41 7.96l-1.37-1.37c-.4-.4-.92-.59-1.43-.59-.52 0-1.04.2-1.43.59L10.3 9.45l-7.72 7.72c-.78.78-.78 2.05 0 2.83L4 21.41c.39.39.9.59 1.41.59.51 0 1.02-.2 1.41-.59l7.78-7.78 2.81-2.81c.8-.78.8-2.07 0-2.86zM5.41 20L4 18.59l7.72-7.72 1.47 1.35L5.41 20z\"/>\n",
              "  </svg>\n",
              "      </button>\n",
              "      \n",
              "  <style>\n",
              "    .colab-df-container {\n",
              "      display:flex;\n",
              "      flex-wrap:wrap;\n",
              "      gap: 12px;\n",
              "    }\n",
              "\n",
              "    .colab-df-convert {\n",
              "      background-color: #E8F0FE;\n",
              "      border: none;\n",
              "      border-radius: 50%;\n",
              "      cursor: pointer;\n",
              "      display: none;\n",
              "      fill: #1967D2;\n",
              "      height: 32px;\n",
              "      padding: 0 0 0 0;\n",
              "      width: 32px;\n",
              "    }\n",
              "\n",
              "    .colab-df-convert:hover {\n",
              "      background-color: #E2EBFA;\n",
              "      box-shadow: 0px 1px 2px rgba(60, 64, 67, 0.3), 0px 1px 3px 1px rgba(60, 64, 67, 0.15);\n",
              "      fill: #174EA6;\n",
              "    }\n",
              "\n",
              "    [theme=dark] .colab-df-convert {\n",
              "      background-color: #3B4455;\n",
              "      fill: #D2E3FC;\n",
              "    }\n",
              "\n",
              "    [theme=dark] .colab-df-convert:hover {\n",
              "      background-color: #434B5C;\n",
              "      box-shadow: 0px 1px 3px 1px rgba(0, 0, 0, 0.15);\n",
              "      filter: drop-shadow(0px 1px 2px rgba(0, 0, 0, 0.3));\n",
              "      fill: #FFFFFF;\n",
              "    }\n",
              "  </style>\n",
              "\n",
              "      <script>\n",
              "        const buttonEl =\n",
              "          document.querySelector('#df-3b7ea34c-b9c7-4a2e-89de-3fab5735f71a button.colab-df-convert');\n",
              "        buttonEl.style.display =\n",
              "          google.colab.kernel.accessAllowed ? 'block' : 'none';\n",
              "\n",
              "        async function convertToInteractive(key) {\n",
              "          const element = document.querySelector('#df-3b7ea34c-b9c7-4a2e-89de-3fab5735f71a');\n",
              "          const dataTable =\n",
              "            await google.colab.kernel.invokeFunction('convertToInteractive',\n",
              "                                                     [key], {});\n",
              "          if (!dataTable) return;\n",
              "\n",
              "          const docLinkHtml = 'Like what you see? Visit the ' +\n",
              "            '<a target=\"_blank\" href=https://colab.research.google.com/notebooks/data_table.ipynb>data table notebook</a>'\n",
              "            + ' to learn more about interactive tables.';\n",
              "          element.innerHTML = '';\n",
              "          dataTable['output_type'] = 'display_data';\n",
              "          await google.colab.output.renderOutput(dataTable, element);\n",
              "          const docLink = document.createElement('div');\n",
              "          docLink.innerHTML = docLinkHtml;\n",
              "          element.appendChild(docLink);\n",
              "        }\n",
              "      </script>\n",
              "    </div>\n",
              "  </div>\n",
              "  "
            ]
          },
          "metadata": {},
          "execution_count": 20
        },
        {
          "output_type": "stream",
          "name": "stdout",
          "text": [
            "time: 32.4 ms (started: 2023-01-10 10:03:52 +00:00)\n"
          ]
        }
      ],
      "source": [
        "df.loc[df['classification'] == '-'] \n",
        "#to do \n",
        "#check the content"
      ]
    },
    {
      "cell_type": "markdown",
      "source": [
        "###Preprocess the text data"
      ],
      "metadata": {
        "id": "J5f9jmkbnHxL"
      }
    },
    {
      "cell_type": "code",
      "source": [
        "import re\n",
        "from Sastrawi.Stemmer.StemmerFactory import StemmerFactory\n",
        "factory = StemmerFactory()\n",
        "stemmer = factory.create_stemmer()\n",
        "\n",
        "def lowercase(text):\n",
        "    return text.lower()\n",
        "\n",
        "def remove_unnecessary_char(text):\n",
        "    text = re.sub('\\n',' ',text) # Remove every '\\n'\n",
        "    text = re.sub('rt',' ',text) # Remove every retweet symbol\n",
        "    text = re.sub('user',' ',text) # Remove every username\n",
        "    text = re.sub('((www\\.[^\\s]+)|(https?://[^\\s]+)|(http?://[^\\s]+))',' ',text) # Remove every URL\n",
        "    text = re.sub('  +', ' ', text) # Remove extra spaces\n",
        "    return text\n",
        "    \n",
        "def remove_nonaplhanumeric(text):\n",
        "    text = re.sub('[^0-9a-zA-Z]+', ' ', text) \n",
        "    return text\n",
        "\n",
        "alay_dict_map = dict(zip(alay_dict['original'], alay_dict['replacement']))\n",
        "def normalize_alay(text):\n",
        "    return ' '.join([alay_dict_map[word] if word in alay_dict_map else word for word in text.split(' ')])\n",
        "\n",
        "def remove_stopword(text):\n",
        "    text = ' '.join(['' if word in id_stopword_dict.stopword.values else word for word in text.split(' ')])\n",
        "    text = re.sub('  +', ' ', text) # Remove extra spaces\n",
        "    text = text.strip()\n",
        "    return text\n",
        "\n",
        "def stemming(text):\n",
        "    return stemmer.stem(text)\n",
        "\n",
        "print(\"remove_nonaplhanumeric: \", remove_nonaplhanumeric(\"Halooo,,,,, duniaa!!\"))\n",
        "print(\"lowercase: \", lowercase(\"Halooo, duniaa!\"))\n",
        "print(\"stemming: \", stemming(\"Perekonomian Indonesia sedang dalam pertumbuhan yang membanggakan\"))\n",
        "print(\"remove_unnecessary_char: \", remove_unnecessary_char(\"Hehe\\n\\n RT USER USER apa kabs www.google.com\\n  hehe\"))\n",
        "print(\"normalize_alay: \", normalize_alay(\"aamiin adek abis\"))\n",
        "print(\"remove_stopword: \", remove_stopword(\"ada hehe adalah huhu yang hehe\"))"
      ],
      "metadata": {
        "colab": {
          "base_uri": "https://localhost:8080/"
        },
        "id": "y06ekGVCnGyL",
        "outputId": "35e2125c-7ca9-41f4-89ce-49f076dbc6b9"
      },
      "execution_count": 21,
      "outputs": [
        {
          "output_type": "stream",
          "name": "stdout",
          "text": [
            "remove_nonaplhanumeric:  Halooo duniaa \n",
            "lowercase:  halooo, duniaa!\n",
            "stemming:  ekonomi indonesia sedang dalam tumbuh yang bangga\n",
            "remove_unnecessary_char:  Hehe RT USER USER apa kabs hehe\n",
            "normalize_alay:  amin adik habis\n",
            "remove_stopword:  hehe huhu hehe\n",
            "time: 58.1 ms (started: 2023-01-10 10:03:52 +00:00)\n"
          ]
        }
      ]
    },
    {
      "cell_type": "code",
      "source": [
        "def preprocess(text):\n",
        "    text = lowercase(text) # 1\n",
        "    text = remove_nonaplhanumeric(text) # 2\n",
        "    text = remove_unnecessary_char(text) # 2\n",
        "    text = normalize_alay(text) # 3\n",
        "    text = stemming(text) # 4\n",
        "    text = remove_stopword(text) # 5\n",
        "    return text"
      ],
      "metadata": {
        "colab": {
          "base_uri": "https://localhost:8080/"
        },
        "id": "-uvsa2ccnY2r",
        "outputId": "e7ba1caf-bfad-4590-9533-3a421dabcec6"
      },
      "execution_count": 22,
      "outputs": [
        {
          "output_type": "stream",
          "name": "stdout",
          "text": [
            "time: 923 µs (started: 2023-01-10 10:03:52 +00:00)\n"
          ]
        }
      ]
    },
    {
      "cell_type": "code",
      "source": [
        "df=df.astype(str)\n"
      ],
      "metadata": {
        "colab": {
          "base_uri": "https://localhost:8080/"
        },
        "id": "h6-UAd1Rn-TH",
        "outputId": "15da5cf4-2565-4262-bbb5-436b84c9d845"
      },
      "execution_count": 23,
      "outputs": [
        {
          "output_type": "stream",
          "name": "stdout",
          "text": [
            "time: 43.9 ms (started: 2023-01-10 10:03:52 +00:00)\n"
          ]
        }
      ]
    },
    {
      "cell_type": "code",
      "source": [
        "df['content'] = df['content'].apply(preprocess)"
      ],
      "metadata": {
        "colab": {
          "base_uri": "https://localhost:8080/"
        },
        "id": "8k8y1zXrnlYg",
        "outputId": "13de1595-84f4-49ed-a3d0-4cce723c0cb4"
      },
      "execution_count": 24,
      "outputs": [
        {
          "output_type": "stream",
          "name": "stdout",
          "text": [
            "time: 1min 9s (started: 2023-01-10 10:03:52 +00:00)\n"
          ]
        }
      ]
    },
    {
      "cell_type": "code",
      "source": [
        "print(\"Shape: \", df.shape)\n",
        "df.head(15)"
      ],
      "metadata": {
        "colab": {
          "base_uri": "https://localhost:8080/",
          "height": 1000
        },
        "id": "EtgPVMZooOsj",
        "outputId": "0ceaaaa9-7d47-4101-dd5d-6edabfd17620"
      },
      "execution_count": 25,
      "outputs": [
        {
          "output_type": "stream",
          "name": "stdout",
          "text": [
            "Shape:  (10756, 16)\n"
          ]
        },
        {
          "output_type": "execute_result",
          "data": {
            "text/plain": [
              "   Unnamed: 0     id authors status      classification  \\\n",
              "0           0  10928      29      2                   -   \n",
              "1           1  10927      29      2                   -   \n",
              "2           2  10926      36      2  Misleading Content   \n",
              "3           3  10925      29      2                   -   \n",
              "4           4  10924      29      2                   -   \n",
              "5           5  10923      36      2  Misleading Content   \n",
              "6           6  10922      36      2  Misleading Content   \n",
              "7           7  10921      29      2                   -   \n",
              "8           8  10920      29      2                   -   \n",
              "9           9  10919      36      2  Misleading Content   \n",
              "10         10  10918      36      2  Misleading Content   \n",
              "11         11  10917      36      2  Misleading Content   \n",
              "12         12  10916      36      2  Misleading Content   \n",
              "13         13  10915      29      2                   -   \n",
              "14         14  10914      36      2  Misleading Content   \n",
              "\n",
              "                                                title  \\\n",
              "0   Cek Fakta: Hoaks Kabar Nikita Mirzani Meningga...   \n",
              "1   Cek Fakta: Tidak Benar Tepung Beras Bisa Mered...   \n",
              "2   [SALAH] Menkes Budi Gunadi Sadikin: “Diabetes ...   \n",
              "3   Cek Fakta: Tidak Benar Video Wanita Tertua di ...   \n",
              "4   Cek Fakta: Tidak Benar Kondisi AS Terkena Damp...   \n",
              "5   [SALAH] Kebijakan Pemerintah Tiongkok yang Mew...   \n",
              "6                    [SALAH] Wanita berusia 399 Tahun   \n",
              "7   Cek Fakta: Tidak Benar Vaksin Genosida Uni Ero...   \n",
              "8   Cek Fakta: Tidak Benar Mantan Presiden Soehart...   \n",
              "9   [SALAH] “Beredar Video Diduga Mempertontonkan ...   \n",
              "10  [SALAH] SUARA GANJAR GETARKAN JAKARTA, 30.000 ...   \n",
              "11  [SALAH] “Varian baru covid hanya berbahaya unt...   \n",
              "12  [SALAH] “SULTAN HAMENGKUBUWONO: CINA DAN KETUR...   \n",
              "13  Cek Fakta: Tidak Benar Nurofen Ibuprofen Menga...   \n",
              "14  [SALAH] Video “Berita Viral ~ INNALILLAH!!HARI...   \n",
              "\n",
              "                                              content  \\\n",
              "0   liputan6 com jaka a kabar a is nikita mirzani ...   \n",
              "1   liputan6 com jaka a klaim tempel tepung beras ...   \n",
              "2   akun facebook nama k menyebarluaskan taut a ga...   \n",
              "3   liputan6 com jaka a buah video klaim orang wan...   \n",
              "4   liputan6 com jaka a cek fakta liputan6 com kla...   \n",
              "5   akun twitter nama uytimes unggah buah video ke...   \n",
              "6   399 years women oldest woman in the world terj...   \n",
              "7   liputan6 com jaka a cek fakta liputan6 com kla...   \n",
              "8   liputan6 com jaka a edar media sosial postinga...   \n",
              "9   edar video duga mempe ontonkan pasang lgbt mes...   \n",
              "10  suara ganjar getar jaka a 30 000 warga desa ri...   \n",
              "11  akun twitter gratisterbaik kutip cuit akun twi...   \n",
              "12  sejarah bukti rampok uang negara gerombol khia...   \n",
              "13  liputan6 com jaka a cek fakta liputan6 com kla...   \n",
              "14  berita viral innalillah 4 november 2022 gunung...   \n",
              "\n",
              "                                                 fact  \\\n",
              "0   \\nCek Fakta Liputan6.com menelusuri kabar tent...   \n",
              "1   \\nCek Fakta Liputan6.com menelusuri klaim mene...   \n",
              "2   Setelah dilakukan penelusuran dengan Google Re...   \n",
              "3   \\nCek Fakta Liputan6.com menelusuri video yang...   \n",
              "4   \\nCek Fakta Liputan6.com menelusuri klaim vide...   \n",
              "5   Berdasarkan hasil penelusuran, narasi tersebut...   \n",
              "6   Beredar video Tiktok yang diunggah oleh  @bria...   \n",
              "7   \\nCek Fakta Liputan6.com menelusuri klaim vaks...   \n",
              "8   \\nCek Fakta Liputan6.com menelusuri dan menemu...   \n",
              "9   Beredar video yang diduga mempertontonkan pasa...   \n",
              "10  Channel youtube bernama CERIA TV mengunggah se...   \n",
              "11  Artikel yang diunggah oleh CNBC Indonesia meng...   \n",
              "12  SUMBER membagikan konten yang isinya menimbulk...   \n",
              "13  \\nCek Fakta Liputan6.com menelusuri klaim tabl...   \n",
              "14  Kanal Youtube MIMBAR ISTANA membagikan video y...   \n",
              "\n",
              "                                           references  source_issue  \\\n",
              "0                                                 nan  liputan6.com   \n",
              "1                                                 nan  liputan6.com   \n",
              "2   https://www.cnnindonesia.com/nasional/20210426...  facebook.com   \n",
              "3   https://www.thetealmango.com/latest/who-is-399...  liputan6.com   \n",
              "4    \\nhttps://vanlifewanderer.com/2022/08/03/kens...  liputan6.com   \n",
              "5   https://www.douyin.com/video/70471093072544924...   twitter.com   \n",
              "6   https://turnbackhoax.id/2022/04/05/salah-video...        Tiktok   \n",
              "7                                                 nan  liputan6.com   \n",
              "8   https://www.liputan6.com/news/read/5115252/jok...  liputan6.com   \n",
              "9   https://www.viva.co.id/amp/trending/1526755-di...        Tiktok   \n",
              "10  https://www.youtube.com/watch?v=KLdFDhnAZFU&ab...       Youtube   \n",
              "11  https://www.cnbcindonesia.com/news/20220612154...       Twitter   \n",
              "12  [1] firstdraftnews.org: “Memahami gangguan inf...   Twitter.com   \n",
              "13  https://factcheck.afp.com/doc.afp.com.326R9AX\\...  liputan6.com   \n",
              "14  – https://magma.esdm.go.id/v1/gunung-api/lapor...       YOUTUBE   \n",
              "\n",
              "                                          source_link  \\\n",
              "0   https://www.liputan6.com/cek-fakta/read/512206...   \n",
              "1   https://www.liputan6.com/cek-fakta/read/512197...   \n",
              "2   https://archive.cob.web.id/archive/1667651236....   \n",
              "3   https://www.liputan6.com/cek-fakta/read/512178...   \n",
              "4   https://www.liputan6.com/cek-fakta/read/512121...   \n",
              "5   https://archive.cob.web.id/archive/1667926200....   \n",
              "6   https://archive.cob.web.id/archive/1667920179....   \n",
              "7   https://www.liputan6.com/cek-fakta/read/512085...   \n",
              "8   https://www.liputan6.com/cek-fakta/read/512069...   \n",
              "9    https://archive.cob.web.id/archive/1667627258...   \n",
              "10  https://archive.cob.web.id/archive/1667629533....   \n",
              "11                           https://archive.ph/mpRrm   \n",
              "12                           https://archive.ph/s097V   \n",
              "13  https://www.liputan6.com/cek-fakta/read/511974...   \n",
              "14  https://archive.cob.web.id/archive/1667727450....   \n",
              "\n",
              "                                             picture1  \\\n",
              "0   https://cdn0-production-images-kly.akamaized.n...   \n",
              "1   https://cdn0-production-images-kly.akamaized.n...   \n",
              "2   https://turnbackhoax.id/wp-content/uploads/202...   \n",
              "3   https://cdn1-production-images-kly.akamaized.n...   \n",
              "4   https://cdn0-production-images-kly.akamaized.n...   \n",
              "5   https://turnbackhoax.id/wp-content/uploads/202...   \n",
              "6   https://turnbackhoax.id/wp-content/uploads/202...   \n",
              "7   https://cdn0-production-images-kly.akamaized.n...   \n",
              "8   https://cdn1-production-images-kly.akamaized.n...   \n",
              "9   https://turnbackhoax.id/wp-content/uploads/202...   \n",
              "10  https://turnbackhoax.id/wp-content/uploads/202...   \n",
              "11  https://turnbackhoax.id/wp-content/uploads/202...   \n",
              "12  https://turnbackhoax.id/wp-content/uploads/202...   \n",
              "13  https://cdn1-production-images-kly.akamaized.n...   \n",
              "14  https://turnbackhoax.id/wp-content/uploads/202...   \n",
              "\n",
              "                                             picture2     tanggal  \\\n",
              "0                                                 nan  2022-11-11   \n",
              "1                                                 nan  2022-11-10   \n",
              "2                                                 nan  2022-11-10   \n",
              "3   https://cdn1-production-images-kly.akamaized.n...  2022-11-10   \n",
              "4   https://cdn1-production-images-kly.akamaized.n...  2022-11-10   \n",
              "5                                                 nan  2022-11-10   \n",
              "6                                                 nan  2022-11-09   \n",
              "7                                                 nan  2022-11-09   \n",
              "8                                                 nan  2022-11-09   \n",
              "9                                                 nan  2022-11-09   \n",
              "10                                                nan  2022-11-09   \n",
              "11                                                nan  2022-11-09   \n",
              "12                                                nan  2022-11-08   \n",
              "13                                                nan  2022-11-08   \n",
              "14  https://turnbackhoax.id/wp-content/uploads/202...  2022-11-08   \n",
              "\n",
              "                                                 tags  \\\n",
              "0               cekfakta, liputan6, cekfakta-liputan6   \n",
              "1               cekfakta, liputan6, cekfakta-liputan6   \n",
              "2   cekfakta, tbh, tema: kesehatan, alat: teks, sc...   \n",
              "3               cekfakta, liputan6, cekfakta-liputan6   \n",
              "4               cekfakta, liputan6, cekfakta-liputan6   \n",
              "5   cekfakta, tbh, tema: kesehatan, alat: mixed, s...   \n",
              "6   Cek fakta, tbh, tema: unik, alat: mixed, SC: T...   \n",
              "7               cekfakta, liputan6, cekfakta-liputan6   \n",
              "8               cekfakta, liputan6, cekfakta-liputan6   \n",
              "9   Tema: others Alat: mixed, Sc: Tiktok, Tc: wedg...   \n",
              "10  cek fakta, tbh, Tema: Politik, Alat: mixed, Sc...   \n",
              "11  covid19, cekfaktacovid19, cekfakta, tbh, tema:...   \n",
              "12  cekfakta, tbh, TEMA: politik, ALAT: campuran, ...   \n",
              "13              cekfakta, liputan6, cekfakta-liputan6   \n",
              "14  cekfakta, tbh, tema: bencana, alat: mixed, sc:...   \n",
              "\n",
              "                                           conclusion  \n",
              "0   \\nKabar tentang artis Nikita Mirzani meninggal...  \n",
              "1   \\nKlaim menempelkan adonan tepung beras di tub...  \n",
              "2   Hasil periksa fakta Evarizma Zahra.\\r\\n\\r\\nKon...  \n",
              "3   \\nVideo yang diklaim seorang wanita tertua di ...  \n",
              "4   \\nHasil penelusuran Cek Fakta Liputan6.com, kl...  \n",
              "5   Hasil Periksa Fakta Khairunnisa A.\\r\\n\\r\\nHoak...  \n",
              "6   Hasil Periksa Fakta Dyah Febriyani. Narasi dal...  \n",
              "7   \\nHasil penelusuran Cek Fakta Liputan6.com, kl...  \n",
              "8   \\nPostingan yang menyebut Presiden Jokowi memb...  \n",
              "9   Informasi yang salah, Video tersebut adalah ko...  \n",
              "10  Thumbnail dan narasi video tersebut tidak ada ...  \n",
              "11  Konten yang Menyesatkan. Riset menunjukkan bah...  \n",
              "12  MENYESATKAN, FAKTA: TIDAK pernah ada pernyataa...  \n",
              "13  \\nHasil penelusuran Cek Fakta Liputan6.com, kl...  \n",
              "14  Video yang beredar mengenai letusan Gunung Sem...  "
            ],
            "text/html": [
              "\n",
              "  <div id=\"df-957c3f7a-7d04-4588-9a98-bfd378298624\">\n",
              "    <div class=\"colab-df-container\">\n",
              "      <div>\n",
              "<style scoped>\n",
              "    .dataframe tbody tr th:only-of-type {\n",
              "        vertical-align: middle;\n",
              "    }\n",
              "\n",
              "    .dataframe tbody tr th {\n",
              "        vertical-align: top;\n",
              "    }\n",
              "\n",
              "    .dataframe thead th {\n",
              "        text-align: right;\n",
              "    }\n",
              "</style>\n",
              "<table border=\"1\" class=\"dataframe\">\n",
              "  <thead>\n",
              "    <tr style=\"text-align: right;\">\n",
              "      <th></th>\n",
              "      <th>Unnamed: 0</th>\n",
              "      <th>id</th>\n",
              "      <th>authors</th>\n",
              "      <th>status</th>\n",
              "      <th>classification</th>\n",
              "      <th>title</th>\n",
              "      <th>content</th>\n",
              "      <th>fact</th>\n",
              "      <th>references</th>\n",
              "      <th>source_issue</th>\n",
              "      <th>source_link</th>\n",
              "      <th>picture1</th>\n",
              "      <th>picture2</th>\n",
              "      <th>tanggal</th>\n",
              "      <th>tags</th>\n",
              "      <th>conclusion</th>\n",
              "    </tr>\n",
              "  </thead>\n",
              "  <tbody>\n",
              "    <tr>\n",
              "      <th>0</th>\n",
              "      <td>0</td>\n",
              "      <td>10928</td>\n",
              "      <td>29</td>\n",
              "      <td>2</td>\n",
              "      <td>-</td>\n",
              "      <td>Cek Fakta: Hoaks Kabar Nikita Mirzani Meningga...</td>\n",
              "      <td>liputan6 com jaka a kabar a is nikita mirzani ...</td>\n",
              "      <td>\\nCek Fakta Liputan6.com menelusuri kabar tent...</td>\n",
              "      <td>nan</td>\n",
              "      <td>liputan6.com</td>\n",
              "      <td>https://www.liputan6.com/cek-fakta/read/512206...</td>\n",
              "      <td>https://cdn0-production-images-kly.akamaized.n...</td>\n",
              "      <td>nan</td>\n",
              "      <td>2022-11-11</td>\n",
              "      <td>cekfakta, liputan6, cekfakta-liputan6</td>\n",
              "      <td>\\nKabar tentang artis Nikita Mirzani meninggal...</td>\n",
              "    </tr>\n",
              "    <tr>\n",
              "      <th>1</th>\n",
              "      <td>1</td>\n",
              "      <td>10927</td>\n",
              "      <td>29</td>\n",
              "      <td>2</td>\n",
              "      <td>-</td>\n",
              "      <td>Cek Fakta: Tidak Benar Tepung Beras Bisa Mered...</td>\n",
              "      <td>liputan6 com jaka a klaim tempel tepung beras ...</td>\n",
              "      <td>\\nCek Fakta Liputan6.com menelusuri klaim mene...</td>\n",
              "      <td>nan</td>\n",
              "      <td>liputan6.com</td>\n",
              "      <td>https://www.liputan6.com/cek-fakta/read/512197...</td>\n",
              "      <td>https://cdn0-production-images-kly.akamaized.n...</td>\n",
              "      <td>nan</td>\n",
              "      <td>2022-11-10</td>\n",
              "      <td>cekfakta, liputan6, cekfakta-liputan6</td>\n",
              "      <td>\\nKlaim menempelkan adonan tepung beras di tub...</td>\n",
              "    </tr>\n",
              "    <tr>\n",
              "      <th>2</th>\n",
              "      <td>2</td>\n",
              "      <td>10926</td>\n",
              "      <td>36</td>\n",
              "      <td>2</td>\n",
              "      <td>Misleading Content</td>\n",
              "      <td>[SALAH] Menkes Budi Gunadi Sadikin: “Diabetes ...</td>\n",
              "      <td>akun facebook nama k menyebarluaskan taut a ga...</td>\n",
              "      <td>Setelah dilakukan penelusuran dengan Google Re...</td>\n",
              "      <td>https://www.cnnindonesia.com/nasional/20210426...</td>\n",
              "      <td>facebook.com</td>\n",
              "      <td>https://archive.cob.web.id/archive/1667651236....</td>\n",
              "      <td>https://turnbackhoax.id/wp-content/uploads/202...</td>\n",
              "      <td>nan</td>\n",
              "      <td>2022-11-10</td>\n",
              "      <td>cekfakta, tbh, tema: kesehatan, alat: teks, sc...</td>\n",
              "      <td>Hasil periksa fakta Evarizma Zahra.\\r\\n\\r\\nKon...</td>\n",
              "    </tr>\n",
              "    <tr>\n",
              "      <th>3</th>\n",
              "      <td>3</td>\n",
              "      <td>10925</td>\n",
              "      <td>29</td>\n",
              "      <td>2</td>\n",
              "      <td>-</td>\n",
              "      <td>Cek Fakta: Tidak Benar Video Wanita Tertua di ...</td>\n",
              "      <td>liputan6 com jaka a buah video klaim orang wan...</td>\n",
              "      <td>\\nCek Fakta Liputan6.com menelusuri video yang...</td>\n",
              "      <td>https://www.thetealmango.com/latest/who-is-399...</td>\n",
              "      <td>liputan6.com</td>\n",
              "      <td>https://www.liputan6.com/cek-fakta/read/512178...</td>\n",
              "      <td>https://cdn1-production-images-kly.akamaized.n...</td>\n",
              "      <td>https://cdn1-production-images-kly.akamaized.n...</td>\n",
              "      <td>2022-11-10</td>\n",
              "      <td>cekfakta, liputan6, cekfakta-liputan6</td>\n",
              "      <td>\\nVideo yang diklaim seorang wanita tertua di ...</td>\n",
              "    </tr>\n",
              "    <tr>\n",
              "      <th>4</th>\n",
              "      <td>4</td>\n",
              "      <td>10924</td>\n",
              "      <td>29</td>\n",
              "      <td>2</td>\n",
              "      <td>-</td>\n",
              "      <td>Cek Fakta: Tidak Benar Kondisi AS Terkena Damp...</td>\n",
              "      <td>liputan6 com jaka a cek fakta liputan6 com kla...</td>\n",
              "      <td>\\nCek Fakta Liputan6.com menelusuri klaim vide...</td>\n",
              "      <td>\\nhttps://vanlifewanderer.com/2022/08/03/kens...</td>\n",
              "      <td>liputan6.com</td>\n",
              "      <td>https://www.liputan6.com/cek-fakta/read/512121...</td>\n",
              "      <td>https://cdn0-production-images-kly.akamaized.n...</td>\n",
              "      <td>https://cdn1-production-images-kly.akamaized.n...</td>\n",
              "      <td>2022-11-10</td>\n",
              "      <td>cekfakta, liputan6, cekfakta-liputan6</td>\n",
              "      <td>\\nHasil penelusuran Cek Fakta Liputan6.com, kl...</td>\n",
              "    </tr>\n",
              "    <tr>\n",
              "      <th>5</th>\n",
              "      <td>5</td>\n",
              "      <td>10923</td>\n",
              "      <td>36</td>\n",
              "      <td>2</td>\n",
              "      <td>Misleading Content</td>\n",
              "      <td>[SALAH] Kebijakan Pemerintah Tiongkok yang Mew...</td>\n",
              "      <td>akun twitter nama uytimes unggah buah video ke...</td>\n",
              "      <td>Berdasarkan hasil penelusuran, narasi tersebut...</td>\n",
              "      <td>https://www.douyin.com/video/70471093072544924...</td>\n",
              "      <td>twitter.com</td>\n",
              "      <td>https://archive.cob.web.id/archive/1667926200....</td>\n",
              "      <td>https://turnbackhoax.id/wp-content/uploads/202...</td>\n",
              "      <td>nan</td>\n",
              "      <td>2022-11-10</td>\n",
              "      <td>cekfakta, tbh, tema: kesehatan, alat: mixed, s...</td>\n",
              "      <td>Hasil Periksa Fakta Khairunnisa A.\\r\\n\\r\\nHoak...</td>\n",
              "    </tr>\n",
              "    <tr>\n",
              "      <th>6</th>\n",
              "      <td>6</td>\n",
              "      <td>10922</td>\n",
              "      <td>36</td>\n",
              "      <td>2</td>\n",
              "      <td>Misleading Content</td>\n",
              "      <td>[SALAH] Wanita berusia 399 Tahun</td>\n",
              "      <td>399 years women oldest woman in the world terj...</td>\n",
              "      <td>Beredar video Tiktok yang diunggah oleh  @bria...</td>\n",
              "      <td>https://turnbackhoax.id/2022/04/05/salah-video...</td>\n",
              "      <td>Tiktok</td>\n",
              "      <td>https://archive.cob.web.id/archive/1667920179....</td>\n",
              "      <td>https://turnbackhoax.id/wp-content/uploads/202...</td>\n",
              "      <td>nan</td>\n",
              "      <td>2022-11-09</td>\n",
              "      <td>Cek fakta, tbh, tema: unik, alat: mixed, SC: T...</td>\n",
              "      <td>Hasil Periksa Fakta Dyah Febriyani. Narasi dal...</td>\n",
              "    </tr>\n",
              "    <tr>\n",
              "      <th>7</th>\n",
              "      <td>7</td>\n",
              "      <td>10921</td>\n",
              "      <td>29</td>\n",
              "      <td>2</td>\n",
              "      <td>-</td>\n",
              "      <td>Cek Fakta: Tidak Benar Vaksin Genosida Uni Ero...</td>\n",
              "      <td>liputan6 com jaka a cek fakta liputan6 com kla...</td>\n",
              "      <td>\\nCek Fakta Liputan6.com menelusuri klaim vaks...</td>\n",
              "      <td>nan</td>\n",
              "      <td>liputan6.com</td>\n",
              "      <td>https://www.liputan6.com/cek-fakta/read/512085...</td>\n",
              "      <td>https://cdn0-production-images-kly.akamaized.n...</td>\n",
              "      <td>nan</td>\n",
              "      <td>2022-11-09</td>\n",
              "      <td>cekfakta, liputan6, cekfakta-liputan6</td>\n",
              "      <td>\\nHasil penelusuran Cek Fakta Liputan6.com, kl...</td>\n",
              "    </tr>\n",
              "    <tr>\n",
              "      <th>8</th>\n",
              "      <td>8</td>\n",
              "      <td>10920</td>\n",
              "      <td>29</td>\n",
              "      <td>2</td>\n",
              "      <td>-</td>\n",
              "      <td>Cek Fakta: Tidak Benar Mantan Presiden Soehart...</td>\n",
              "      <td>liputan6 com jaka a edar media sosial postinga...</td>\n",
              "      <td>\\nCek Fakta Liputan6.com menelusuri dan menemu...</td>\n",
              "      <td>https://www.liputan6.com/news/read/5115252/jok...</td>\n",
              "      <td>liputan6.com</td>\n",
              "      <td>https://www.liputan6.com/cek-fakta/read/512069...</td>\n",
              "      <td>https://cdn1-production-images-kly.akamaized.n...</td>\n",
              "      <td>nan</td>\n",
              "      <td>2022-11-09</td>\n",
              "      <td>cekfakta, liputan6, cekfakta-liputan6</td>\n",
              "      <td>\\nPostingan yang menyebut Presiden Jokowi memb...</td>\n",
              "    </tr>\n",
              "    <tr>\n",
              "      <th>9</th>\n",
              "      <td>9</td>\n",
              "      <td>10919</td>\n",
              "      <td>36</td>\n",
              "      <td>2</td>\n",
              "      <td>Misleading Content</td>\n",
              "      <td>[SALAH] “Beredar Video Diduga Mempertontonkan ...</td>\n",
              "      <td>edar video duga mempe ontonkan pasang lgbt mes...</td>\n",
              "      <td>Beredar video yang diduga mempertontonkan pasa...</td>\n",
              "      <td>https://www.viva.co.id/amp/trending/1526755-di...</td>\n",
              "      <td>Tiktok</td>\n",
              "      <td>https://archive.cob.web.id/archive/1667627258...</td>\n",
              "      <td>https://turnbackhoax.id/wp-content/uploads/202...</td>\n",
              "      <td>nan</td>\n",
              "      <td>2022-11-09</td>\n",
              "      <td>Tema: others Alat: mixed, Sc: Tiktok, Tc: wedg...</td>\n",
              "      <td>Informasi yang salah, Video tersebut adalah ko...</td>\n",
              "    </tr>\n",
              "    <tr>\n",
              "      <th>10</th>\n",
              "      <td>10</td>\n",
              "      <td>10918</td>\n",
              "      <td>36</td>\n",
              "      <td>2</td>\n",
              "      <td>Misleading Content</td>\n",
              "      <td>[SALAH] SUARA GANJAR GETARKAN JAKARTA, 30.000 ...</td>\n",
              "      <td>suara ganjar getar jaka a 30 000 warga desa ri...</td>\n",
              "      <td>Channel youtube bernama CERIA TV mengunggah se...</td>\n",
              "      <td>https://www.youtube.com/watch?v=KLdFDhnAZFU&amp;ab...</td>\n",
              "      <td>Youtube</td>\n",
              "      <td>https://archive.cob.web.id/archive/1667629533....</td>\n",
              "      <td>https://turnbackhoax.id/wp-content/uploads/202...</td>\n",
              "      <td>nan</td>\n",
              "      <td>2022-11-09</td>\n",
              "      <td>cek fakta, tbh, Tema: Politik, Alat: mixed, Sc...</td>\n",
              "      <td>Thumbnail dan narasi video tersebut tidak ada ...</td>\n",
              "    </tr>\n",
              "    <tr>\n",
              "      <th>11</th>\n",
              "      <td>11</td>\n",
              "      <td>10917</td>\n",
              "      <td>36</td>\n",
              "      <td>2</td>\n",
              "      <td>Misleading Content</td>\n",
              "      <td>[SALAH] “Varian baru covid hanya berbahaya unt...</td>\n",
              "      <td>akun twitter gratisterbaik kutip cuit akun twi...</td>\n",
              "      <td>Artikel yang diunggah oleh CNBC Indonesia meng...</td>\n",
              "      <td>https://www.cnbcindonesia.com/news/20220612154...</td>\n",
              "      <td>Twitter</td>\n",
              "      <td>https://archive.ph/mpRrm</td>\n",
              "      <td>https://turnbackhoax.id/wp-content/uploads/202...</td>\n",
              "      <td>nan</td>\n",
              "      <td>2022-11-09</td>\n",
              "      <td>covid19, cekfaktacovid19, cekfakta, tbh, tema:...</td>\n",
              "      <td>Konten yang Menyesatkan. Riset menunjukkan bah...</td>\n",
              "    </tr>\n",
              "    <tr>\n",
              "      <th>12</th>\n",
              "      <td>12</td>\n",
              "      <td>10916</td>\n",
              "      <td>36</td>\n",
              "      <td>2</td>\n",
              "      <td>Misleading Content</td>\n",
              "      <td>[SALAH] “SULTAN HAMENGKUBUWONO: CINA DAN KETUR...</td>\n",
              "      <td>sejarah bukti rampok uang negara gerombol khia...</td>\n",
              "      <td>SUMBER membagikan konten yang isinya menimbulk...</td>\n",
              "      <td>[1] firstdraftnews.org: “Memahami gangguan inf...</td>\n",
              "      <td>Twitter.com</td>\n",
              "      <td>https://archive.ph/s097V</td>\n",
              "      <td>https://turnbackhoax.id/wp-content/uploads/202...</td>\n",
              "      <td>nan</td>\n",
              "      <td>2022-11-08</td>\n",
              "      <td>cekfakta, tbh, TEMA: politik, ALAT: campuran, ...</td>\n",
              "      <td>MENYESATKAN, FAKTA: TIDAK pernah ada pernyataa...</td>\n",
              "    </tr>\n",
              "    <tr>\n",
              "      <th>13</th>\n",
              "      <td>13</td>\n",
              "      <td>10915</td>\n",
              "      <td>29</td>\n",
              "      <td>2</td>\n",
              "      <td>-</td>\n",
              "      <td>Cek Fakta: Tidak Benar Nurofen Ibuprofen Menga...</td>\n",
              "      <td>liputan6 com jaka a cek fakta liputan6 com kla...</td>\n",
              "      <td>\\nCek Fakta Liputan6.com menelusuri klaim tabl...</td>\n",
              "      <td>https://factcheck.afp.com/doc.afp.com.326R9AX\\...</td>\n",
              "      <td>liputan6.com</td>\n",
              "      <td>https://www.liputan6.com/cek-fakta/read/511974...</td>\n",
              "      <td>https://cdn1-production-images-kly.akamaized.n...</td>\n",
              "      <td>nan</td>\n",
              "      <td>2022-11-08</td>\n",
              "      <td>cekfakta, liputan6, cekfakta-liputan6</td>\n",
              "      <td>\\nHasil penelusuran Cek Fakta Liputan6.com, kl...</td>\n",
              "    </tr>\n",
              "    <tr>\n",
              "      <th>14</th>\n",
              "      <td>14</td>\n",
              "      <td>10914</td>\n",
              "      <td>36</td>\n",
              "      <td>2</td>\n",
              "      <td>Misleading Content</td>\n",
              "      <td>[SALAH] Video “Berita Viral ~ INNALILLAH!!HARI...</td>\n",
              "      <td>berita viral innalillah 4 november 2022 gunung...</td>\n",
              "      <td>Kanal Youtube MIMBAR ISTANA membagikan video y...</td>\n",
              "      <td>– https://magma.esdm.go.id/v1/gunung-api/lapor...</td>\n",
              "      <td>YOUTUBE</td>\n",
              "      <td>https://archive.cob.web.id/archive/1667727450....</td>\n",
              "      <td>https://turnbackhoax.id/wp-content/uploads/202...</td>\n",
              "      <td>https://turnbackhoax.id/wp-content/uploads/202...</td>\n",
              "      <td>2022-11-08</td>\n",
              "      <td>cekfakta, tbh, tema: bencana, alat: mixed, sc:...</td>\n",
              "      <td>Video yang beredar mengenai letusan Gunung Sem...</td>\n",
              "    </tr>\n",
              "  </tbody>\n",
              "</table>\n",
              "</div>\n",
              "      <button class=\"colab-df-convert\" onclick=\"convertToInteractive('df-957c3f7a-7d04-4588-9a98-bfd378298624')\"\n",
              "              title=\"Convert this dataframe to an interactive table.\"\n",
              "              style=\"display:none;\">\n",
              "        \n",
              "  <svg xmlns=\"http://www.w3.org/2000/svg\" height=\"24px\"viewBox=\"0 0 24 24\"\n",
              "       width=\"24px\">\n",
              "    <path d=\"M0 0h24v24H0V0z\" fill=\"none\"/>\n",
              "    <path d=\"M18.56 5.44l.94 2.06.94-2.06 2.06-.94-2.06-.94-.94-2.06-.94 2.06-2.06.94zm-11 1L8.5 8.5l.94-2.06 2.06-.94-2.06-.94L8.5 2.5l-.94 2.06-2.06.94zm10 10l.94 2.06.94-2.06 2.06-.94-2.06-.94-.94-2.06-.94 2.06-2.06.94z\"/><path d=\"M17.41 7.96l-1.37-1.37c-.4-.4-.92-.59-1.43-.59-.52 0-1.04.2-1.43.59L10.3 9.45l-7.72 7.72c-.78.78-.78 2.05 0 2.83L4 21.41c.39.39.9.59 1.41.59.51 0 1.02-.2 1.41-.59l7.78-7.78 2.81-2.81c.8-.78.8-2.07 0-2.86zM5.41 20L4 18.59l7.72-7.72 1.47 1.35L5.41 20z\"/>\n",
              "  </svg>\n",
              "      </button>\n",
              "      \n",
              "  <style>\n",
              "    .colab-df-container {\n",
              "      display:flex;\n",
              "      flex-wrap:wrap;\n",
              "      gap: 12px;\n",
              "    }\n",
              "\n",
              "    .colab-df-convert {\n",
              "      background-color: #E8F0FE;\n",
              "      border: none;\n",
              "      border-radius: 50%;\n",
              "      cursor: pointer;\n",
              "      display: none;\n",
              "      fill: #1967D2;\n",
              "      height: 32px;\n",
              "      padding: 0 0 0 0;\n",
              "      width: 32px;\n",
              "    }\n",
              "\n",
              "    .colab-df-convert:hover {\n",
              "      background-color: #E2EBFA;\n",
              "      box-shadow: 0px 1px 2px rgba(60, 64, 67, 0.3), 0px 1px 3px 1px rgba(60, 64, 67, 0.15);\n",
              "      fill: #174EA6;\n",
              "    }\n",
              "\n",
              "    [theme=dark] .colab-df-convert {\n",
              "      background-color: #3B4455;\n",
              "      fill: #D2E3FC;\n",
              "    }\n",
              "\n",
              "    [theme=dark] .colab-df-convert:hover {\n",
              "      background-color: #434B5C;\n",
              "      box-shadow: 0px 1px 3px 1px rgba(0, 0, 0, 0.15);\n",
              "      filter: drop-shadow(0px 1px 2px rgba(0, 0, 0, 0.3));\n",
              "      fill: #FFFFFF;\n",
              "    }\n",
              "  </style>\n",
              "\n",
              "      <script>\n",
              "        const buttonEl =\n",
              "          document.querySelector('#df-957c3f7a-7d04-4588-9a98-bfd378298624 button.colab-df-convert');\n",
              "        buttonEl.style.display =\n",
              "          google.colab.kernel.accessAllowed ? 'block' : 'none';\n",
              "\n",
              "        async function convertToInteractive(key) {\n",
              "          const element = document.querySelector('#df-957c3f7a-7d04-4588-9a98-bfd378298624');\n",
              "          const dataTable =\n",
              "            await google.colab.kernel.invokeFunction('convertToInteractive',\n",
              "                                                     [key], {});\n",
              "          if (!dataTable) return;\n",
              "\n",
              "          const docLinkHtml = 'Like what you see? Visit the ' +\n",
              "            '<a target=\"_blank\" href=https://colab.research.google.com/notebooks/data_table.ipynb>data table notebook</a>'\n",
              "            + ' to learn more about interactive tables.';\n",
              "          element.innerHTML = '';\n",
              "          dataTable['output_type'] = 'display_data';\n",
              "          await google.colab.output.renderOutput(dataTable, element);\n",
              "          const docLink = document.createElement('div');\n",
              "          docLink.innerHTML = docLinkHtml;\n",
              "          element.appendChild(docLink);\n",
              "        }\n",
              "      </script>\n",
              "    </div>\n",
              "  </div>\n",
              "  "
            ]
          },
          "metadata": {},
          "execution_count": 25
        },
        {
          "output_type": "stream",
          "name": "stdout",
          "text": [
            "time: 26.2 ms (started: 2023-01-10 10:05:02 +00:00)\n"
          ]
        }
      ]
    },
    {
      "cell_type": "markdown",
      "source": [
        "##Replace all '-' classification with false content\n"
      ],
      "metadata": {
        "id": "02hERA8Uudi8"
      }
    },
    {
      "cell_type": "code",
      "execution_count": 26,
      "metadata": {
        "id": "rYrlrWPQexn7",
        "colab": {
          "base_uri": "https://localhost:8080/"
        },
        "outputId": "93404129-d229-4a02-82b0-4e3a91dc08f9"
      },
      "outputs": [
        {
          "output_type": "stream",
          "name": "stdout",
          "text": [
            "time: 439 µs (started: 2023-01-10 10:05:02 +00:00)\n"
          ]
        }
      ],
      "source": [
        "#Replace all '-' classification with false content\n",
        "#df['classification'].replace('-', 'False Content', inplace=True)"
      ]
    },
    {
      "cell_type": "code",
      "execution_count": 27,
      "metadata": {
        "id": "QY7dCTlPfCcp",
        "colab": {
          "base_uri": "https://localhost:8080/",
          "height": 0
        },
        "outputId": "20dd4052-eccc-47e1-ee97-3fbc4b8f5af7"
      },
      "outputs": [
        {
          "output_type": "execute_result",
          "data": {
            "text/plain": [
              "      Unnamed: 0     id authors status      classification  \\\n",
              "0              0  10928      29      2                   -   \n",
              "1              1  10927      29      2                   -   \n",
              "2              2  10926      36      2  Misleading Content   \n",
              "3              3  10925      29      2                   -   \n",
              "4              4  10924      29      2                   -   \n",
              "...          ...    ...     ...    ...                 ...   \n",
              "10751      10751      9     nan      2                   -   \n",
              "10752      10752      8     nan      1                TRUE   \n",
              "10753      10753      7     nan      2  Fabricated Content   \n",
              "10754      10754      5     nan      2  Fabricated Content   \n",
              "10755      10755      4     nan      2  Fabricated Content   \n",
              "\n",
              "                                                   title  \\\n",
              "0      Cek Fakta: Hoaks Kabar Nikita Mirzani Meningga...   \n",
              "1      Cek Fakta: Tidak Benar Tepung Beras Bisa Mered...   \n",
              "2      [SALAH] Menkes Budi Gunadi Sadikin: “Diabetes ...   \n",
              "3      Cek Fakta: Tidak Benar Video Wanita Tertua di ...   \n",
              "4      Cek Fakta: Tidak Benar Kondisi AS Terkena Damp...   \n",
              "...                                                  ...   \n",
              "10751  [DISINFORMASI] Perlakuan Berbeda antara GNPF M...   \n",
              "10752  Pilot Garuda Berkata Rasis saat Petugas Bea Cu...   \n",
              "10753     Surat Penetapan Pemberangkatan Haji Tahun 2018   \n",
              "10754     \"Ramai Berita SetNov Warga China Terus Datang\"   \n",
              "10755  [HOAX] \"PKI DAN CINA SDH SIAP MERAMPAS INDONESIA\"   \n",
              "\n",
              "                                                 content  \\\n",
              "0      liputan6 com jaka a kabar a is nikita mirzani ...   \n",
              "1      liputan6 com jaka a klaim tempel tepung beras ...   \n",
              "2      akun facebook nama k menyebarluaskan taut a ga...   \n",
              "3      liputan6 com jaka a buah video klaim orang wan...   \n",
              "4      liputan6 com jaka a cek fakta liputan6 com kla...   \n",
              "...                                                  ...   \n",
              "10751  gera nasional fatwa dana sedekah umat sumber p...   \n",
              "10752  how about this indonesiagaruda racism on your ...   \n",
              "10753  surat berangkat haji 2018 hubung musim haji 20...   \n",
              "10754  ramai berita setya novanto warga bangsa cina d...   \n",
              "10755  partai komunis indonesia cina rampas indonesia...   \n",
              "\n",
              "                                                    fact  \\\n",
              "0      \\nCek Fakta Liputan6.com menelusuri kabar tent...   \n",
              "1      \\nCek Fakta Liputan6.com menelusuri klaim mene...   \n",
              "2      Setelah dilakukan penelusuran dengan Google Re...   \n",
              "3      \\nCek Fakta Liputan6.com menelusuri video yang...   \n",
              "4      \\nCek Fakta Liputan6.com menelusuri klaim vide...   \n",
              "...                                                  ...   \n",
              "10751  1. Teman Ahok pernah diperiksa KPK.\\nLink : ht...   \n",
              "10752  Pihak Garuda Indonesia langsung memberikan kla...   \n",
              "10753  Dirjen Penyelenggaraan Haji dan Umrah, Nizar A...   \n",
              "10754  \"Faktanya Video yang diberikan oleh pemosting ...   \n",
              "10755  Dari beberapa klaim sumber-sumber informasi da...   \n",
              "\n",
              "                                              references  source_issue  \\\n",
              "0                                                    nan  liputan6.com   \n",
              "1                                                    nan  liputan6.com   \n",
              "2      https://www.cnnindonesia.com/nasional/20210426...  facebook.com   \n",
              "3      https://www.thetealmango.com/latest/who-is-399...  liputan6.com   \n",
              "4       \\nhttps://vanlifewanderer.com/2022/08/03/kens...  liputan6.com   \n",
              "...                                                  ...           ...   \n",
              "10751  https://news.detik.com/berita/3312414/begini-a...  facebook.com   \n",
              "10752  (1) http://megapolitan.kompas.com/read/2017/11...   twitter.com   \n",
              "10753  (1) http://www.galamedianews.com/haji/169468/k...  facebook.com   \n",
              "10754                       https://youtu.be/YXeGUPoDEzM  facebook.com   \n",
              "10755  https://turnbackhoax.id/2017/11/20/hoax-pki-da...  whatsapp.com   \n",
              "\n",
              "                                             source_link  \\\n",
              "0      https://www.liputan6.com/cek-fakta/read/512206...   \n",
              "1      https://www.liputan6.com/cek-fakta/read/512197...   \n",
              "2      https://archive.cob.web.id/archive/1667651236....   \n",
              "3      https://www.liputan6.com/cek-fakta/read/512178...   \n",
              "4      https://www.liputan6.com/cek-fakta/read/512121...   \n",
              "...                                                  ...   \n",
              "10751                                        SocialMedia   \n",
              "10752                                                nan   \n",
              "10753                                                nan   \n",
              "10754                                                nan   \n",
              "10755                                       whatsapp.com   \n",
              "\n",
              "                                                picture1  \\\n",
              "0      https://cdn0-production-images-kly.akamaized.n...   \n",
              "1      https://cdn0-production-images-kly.akamaized.n...   \n",
              "2      https://turnbackhoax.id/wp-content/uploads/202...   \n",
              "3      https://cdn1-production-images-kly.akamaized.n...   \n",
              "4      https://cdn0-production-images-kly.akamaized.n...   \n",
              "...                                                  ...   \n",
              "10751  https://turnbackhoax.id/wp-content/uploads/201...   \n",
              "10752  https://scontent-sit4-1.xx.fbcdn.net/v/t31.0-8...   \n",
              "10753  https://scontent-sit4-1.xx.fbcdn.net/v/t31.0-8...   \n",
              "10754  https://scontent-sit4-1.xx.fbcdn.net/v/t1.0-9/...   \n",
              "10755  https://scontent-sit4-1.xx.fbcdn.net/v/t31.0-8...   \n",
              "\n",
              "                                                picture2     tanggal  \\\n",
              "0                                                    nan  2022-11-11   \n",
              "1                                                    nan  2022-11-10   \n",
              "2                                                    nan  2022-11-10   \n",
              "3      https://cdn1-production-images-kly.akamaized.n...  2022-11-10   \n",
              "4      https://cdn1-production-images-kly.akamaized.n...  2022-11-10   \n",
              "...                                                  ...         ...   \n",
              "10751                                                nan  2018-04-29   \n",
              "10752  https://scontent-sit4-1.xx.fbcdn.net/v/t31.0-8...  2017-11-21   \n",
              "10753                                                nan  2017-11-21   \n",
              "10754  https://scontent-sit4-1.xx.fbcdn.net/v/t1.0-9/...  2018-11-21   \n",
              "10755  https://scontent-sit4-1.xx.fbcdn.net/v/t31.0-8...  2017-11-21   \n",
              "\n",
              "                                                    tags  \\\n",
              "0                  cekfakta, liputan6, cekfakta-liputan6   \n",
              "1                  cekfakta, liputan6, cekfakta-liputan6   \n",
              "2      cekfakta, tbh, tema: kesehatan, alat: teks, sc...   \n",
              "3                  cekfakta, liputan6, cekfakta-liputan6   \n",
              "4                  cekfakta, liputan6, cekfakta-liputan6   \n",
              "...                                                  ...   \n",
              "10751       Disinformasi, GNPF MUI, TEMAN AHOK, cekfakta   \n",
              "10752       garudaindonesia, pilot, cina, sara, cekfakta   \n",
              "10753                    haji, 2018, siskohaji, cekfakta   \n",
              "10754  setnov, cina, wisatawan, komunis, kiamat, cekf...   \n",
              "10755  pki, cina, jokowi, pki, panglimatni, fbi, inva...   \n",
              "\n",
              "                                              conclusion  \n",
              "0      \\nKabar tentang artis Nikita Mirzani meninggal...  \n",
              "1      \\nKlaim menempelkan adonan tepung beras di tub...  \n",
              "2      Hasil periksa fakta Evarizma Zahra.\\r\\n\\r\\nKon...  \n",
              "3      \\nVideo yang diklaim seorang wanita tertua di ...  \n",
              "4      \\nHasil penelusuran Cek Fakta Liputan6.com, kl...  \n",
              "...                                                  ...  \n",
              "10751                                                nan  \n",
              "10752                                                nan  \n",
              "10753                                                nan  \n",
              "10754                                                nan  \n",
              "10755                                                nan  \n",
              "\n",
              "[10756 rows x 16 columns]"
            ],
            "text/html": [
              "\n",
              "  <div id=\"df-2e520c08-fdda-4407-a27f-723ae356bb8d\">\n",
              "    <div class=\"colab-df-container\">\n",
              "      <div>\n",
              "<style scoped>\n",
              "    .dataframe tbody tr th:only-of-type {\n",
              "        vertical-align: middle;\n",
              "    }\n",
              "\n",
              "    .dataframe tbody tr th {\n",
              "        vertical-align: top;\n",
              "    }\n",
              "\n",
              "    .dataframe thead th {\n",
              "        text-align: right;\n",
              "    }\n",
              "</style>\n",
              "<table border=\"1\" class=\"dataframe\">\n",
              "  <thead>\n",
              "    <tr style=\"text-align: right;\">\n",
              "      <th></th>\n",
              "      <th>Unnamed: 0</th>\n",
              "      <th>id</th>\n",
              "      <th>authors</th>\n",
              "      <th>status</th>\n",
              "      <th>classification</th>\n",
              "      <th>title</th>\n",
              "      <th>content</th>\n",
              "      <th>fact</th>\n",
              "      <th>references</th>\n",
              "      <th>source_issue</th>\n",
              "      <th>source_link</th>\n",
              "      <th>picture1</th>\n",
              "      <th>picture2</th>\n",
              "      <th>tanggal</th>\n",
              "      <th>tags</th>\n",
              "      <th>conclusion</th>\n",
              "    </tr>\n",
              "  </thead>\n",
              "  <tbody>\n",
              "    <tr>\n",
              "      <th>0</th>\n",
              "      <td>0</td>\n",
              "      <td>10928</td>\n",
              "      <td>29</td>\n",
              "      <td>2</td>\n",
              "      <td>-</td>\n",
              "      <td>Cek Fakta: Hoaks Kabar Nikita Mirzani Meningga...</td>\n",
              "      <td>liputan6 com jaka a kabar a is nikita mirzani ...</td>\n",
              "      <td>\\nCek Fakta Liputan6.com menelusuri kabar tent...</td>\n",
              "      <td>nan</td>\n",
              "      <td>liputan6.com</td>\n",
              "      <td>https://www.liputan6.com/cek-fakta/read/512206...</td>\n",
              "      <td>https://cdn0-production-images-kly.akamaized.n...</td>\n",
              "      <td>nan</td>\n",
              "      <td>2022-11-11</td>\n",
              "      <td>cekfakta, liputan6, cekfakta-liputan6</td>\n",
              "      <td>\\nKabar tentang artis Nikita Mirzani meninggal...</td>\n",
              "    </tr>\n",
              "    <tr>\n",
              "      <th>1</th>\n",
              "      <td>1</td>\n",
              "      <td>10927</td>\n",
              "      <td>29</td>\n",
              "      <td>2</td>\n",
              "      <td>-</td>\n",
              "      <td>Cek Fakta: Tidak Benar Tepung Beras Bisa Mered...</td>\n",
              "      <td>liputan6 com jaka a klaim tempel tepung beras ...</td>\n",
              "      <td>\\nCek Fakta Liputan6.com menelusuri klaim mene...</td>\n",
              "      <td>nan</td>\n",
              "      <td>liputan6.com</td>\n",
              "      <td>https://www.liputan6.com/cek-fakta/read/512197...</td>\n",
              "      <td>https://cdn0-production-images-kly.akamaized.n...</td>\n",
              "      <td>nan</td>\n",
              "      <td>2022-11-10</td>\n",
              "      <td>cekfakta, liputan6, cekfakta-liputan6</td>\n",
              "      <td>\\nKlaim menempelkan adonan tepung beras di tub...</td>\n",
              "    </tr>\n",
              "    <tr>\n",
              "      <th>2</th>\n",
              "      <td>2</td>\n",
              "      <td>10926</td>\n",
              "      <td>36</td>\n",
              "      <td>2</td>\n",
              "      <td>Misleading Content</td>\n",
              "      <td>[SALAH] Menkes Budi Gunadi Sadikin: “Diabetes ...</td>\n",
              "      <td>akun facebook nama k menyebarluaskan taut a ga...</td>\n",
              "      <td>Setelah dilakukan penelusuran dengan Google Re...</td>\n",
              "      <td>https://www.cnnindonesia.com/nasional/20210426...</td>\n",
              "      <td>facebook.com</td>\n",
              "      <td>https://archive.cob.web.id/archive/1667651236....</td>\n",
              "      <td>https://turnbackhoax.id/wp-content/uploads/202...</td>\n",
              "      <td>nan</td>\n",
              "      <td>2022-11-10</td>\n",
              "      <td>cekfakta, tbh, tema: kesehatan, alat: teks, sc...</td>\n",
              "      <td>Hasil periksa fakta Evarizma Zahra.\\r\\n\\r\\nKon...</td>\n",
              "    </tr>\n",
              "    <tr>\n",
              "      <th>3</th>\n",
              "      <td>3</td>\n",
              "      <td>10925</td>\n",
              "      <td>29</td>\n",
              "      <td>2</td>\n",
              "      <td>-</td>\n",
              "      <td>Cek Fakta: Tidak Benar Video Wanita Tertua di ...</td>\n",
              "      <td>liputan6 com jaka a buah video klaim orang wan...</td>\n",
              "      <td>\\nCek Fakta Liputan6.com menelusuri video yang...</td>\n",
              "      <td>https://www.thetealmango.com/latest/who-is-399...</td>\n",
              "      <td>liputan6.com</td>\n",
              "      <td>https://www.liputan6.com/cek-fakta/read/512178...</td>\n",
              "      <td>https://cdn1-production-images-kly.akamaized.n...</td>\n",
              "      <td>https://cdn1-production-images-kly.akamaized.n...</td>\n",
              "      <td>2022-11-10</td>\n",
              "      <td>cekfakta, liputan6, cekfakta-liputan6</td>\n",
              "      <td>\\nVideo yang diklaim seorang wanita tertua di ...</td>\n",
              "    </tr>\n",
              "    <tr>\n",
              "      <th>4</th>\n",
              "      <td>4</td>\n",
              "      <td>10924</td>\n",
              "      <td>29</td>\n",
              "      <td>2</td>\n",
              "      <td>-</td>\n",
              "      <td>Cek Fakta: Tidak Benar Kondisi AS Terkena Damp...</td>\n",
              "      <td>liputan6 com jaka a cek fakta liputan6 com kla...</td>\n",
              "      <td>\\nCek Fakta Liputan6.com menelusuri klaim vide...</td>\n",
              "      <td>\\nhttps://vanlifewanderer.com/2022/08/03/kens...</td>\n",
              "      <td>liputan6.com</td>\n",
              "      <td>https://www.liputan6.com/cek-fakta/read/512121...</td>\n",
              "      <td>https://cdn0-production-images-kly.akamaized.n...</td>\n",
              "      <td>https://cdn1-production-images-kly.akamaized.n...</td>\n",
              "      <td>2022-11-10</td>\n",
              "      <td>cekfakta, liputan6, cekfakta-liputan6</td>\n",
              "      <td>\\nHasil penelusuran Cek Fakta Liputan6.com, kl...</td>\n",
              "    </tr>\n",
              "    <tr>\n",
              "      <th>...</th>\n",
              "      <td>...</td>\n",
              "      <td>...</td>\n",
              "      <td>...</td>\n",
              "      <td>...</td>\n",
              "      <td>...</td>\n",
              "      <td>...</td>\n",
              "      <td>...</td>\n",
              "      <td>...</td>\n",
              "      <td>...</td>\n",
              "      <td>...</td>\n",
              "      <td>...</td>\n",
              "      <td>...</td>\n",
              "      <td>...</td>\n",
              "      <td>...</td>\n",
              "      <td>...</td>\n",
              "      <td>...</td>\n",
              "    </tr>\n",
              "    <tr>\n",
              "      <th>10751</th>\n",
              "      <td>10751</td>\n",
              "      <td>9</td>\n",
              "      <td>nan</td>\n",
              "      <td>2</td>\n",
              "      <td>-</td>\n",
              "      <td>[DISINFORMASI] Perlakuan Berbeda antara GNPF M...</td>\n",
              "      <td>gera nasional fatwa dana sedekah umat sumber p...</td>\n",
              "      <td>1. Teman Ahok pernah diperiksa KPK.\\nLink : ht...</td>\n",
              "      <td>https://news.detik.com/berita/3312414/begini-a...</td>\n",
              "      <td>facebook.com</td>\n",
              "      <td>SocialMedia</td>\n",
              "      <td>https://turnbackhoax.id/wp-content/uploads/201...</td>\n",
              "      <td>nan</td>\n",
              "      <td>2018-04-29</td>\n",
              "      <td>Disinformasi, GNPF MUI, TEMAN AHOK, cekfakta</td>\n",
              "      <td>nan</td>\n",
              "    </tr>\n",
              "    <tr>\n",
              "      <th>10752</th>\n",
              "      <td>10752</td>\n",
              "      <td>8</td>\n",
              "      <td>nan</td>\n",
              "      <td>1</td>\n",
              "      <td>TRUE</td>\n",
              "      <td>Pilot Garuda Berkata Rasis saat Petugas Bea Cu...</td>\n",
              "      <td>how about this indonesiagaruda racism on your ...</td>\n",
              "      <td>Pihak Garuda Indonesia langsung memberikan kla...</td>\n",
              "      <td>(1) http://megapolitan.kompas.com/read/2017/11...</td>\n",
              "      <td>twitter.com</td>\n",
              "      <td>nan</td>\n",
              "      <td>https://scontent-sit4-1.xx.fbcdn.net/v/t31.0-8...</td>\n",
              "      <td>https://scontent-sit4-1.xx.fbcdn.net/v/t31.0-8...</td>\n",
              "      <td>2017-11-21</td>\n",
              "      <td>garudaindonesia, pilot, cina, sara, cekfakta</td>\n",
              "      <td>nan</td>\n",
              "    </tr>\n",
              "    <tr>\n",
              "      <th>10753</th>\n",
              "      <td>10753</td>\n",
              "      <td>7</td>\n",
              "      <td>nan</td>\n",
              "      <td>2</td>\n",
              "      <td>Fabricated Content</td>\n",
              "      <td>Surat Penetapan Pemberangkatan Haji Tahun 2018</td>\n",
              "      <td>surat berangkat haji 2018 hubung musim haji 20...</td>\n",
              "      <td>Dirjen Penyelenggaraan Haji dan Umrah, Nizar A...</td>\n",
              "      <td>(1) http://www.galamedianews.com/haji/169468/k...</td>\n",
              "      <td>facebook.com</td>\n",
              "      <td>nan</td>\n",
              "      <td>https://scontent-sit4-1.xx.fbcdn.net/v/t31.0-8...</td>\n",
              "      <td>nan</td>\n",
              "      <td>2017-11-21</td>\n",
              "      <td>haji, 2018, siskohaji, cekfakta</td>\n",
              "      <td>nan</td>\n",
              "    </tr>\n",
              "    <tr>\n",
              "      <th>10754</th>\n",
              "      <td>10754</td>\n",
              "      <td>5</td>\n",
              "      <td>nan</td>\n",
              "      <td>2</td>\n",
              "      <td>Fabricated Content</td>\n",
              "      <td>\"Ramai Berita SetNov Warga China Terus Datang\"</td>\n",
              "      <td>ramai berita setya novanto warga bangsa cina d...</td>\n",
              "      <td>\"Faktanya Video yang diberikan oleh pemosting ...</td>\n",
              "      <td>https://youtu.be/YXeGUPoDEzM</td>\n",
              "      <td>facebook.com</td>\n",
              "      <td>nan</td>\n",
              "      <td>https://scontent-sit4-1.xx.fbcdn.net/v/t1.0-9/...</td>\n",
              "      <td>https://scontent-sit4-1.xx.fbcdn.net/v/t1.0-9/...</td>\n",
              "      <td>2018-11-21</td>\n",
              "      <td>setnov, cina, wisatawan, komunis, kiamat, cekf...</td>\n",
              "      <td>nan</td>\n",
              "    </tr>\n",
              "    <tr>\n",
              "      <th>10755</th>\n",
              "      <td>10755</td>\n",
              "      <td>4</td>\n",
              "      <td>nan</td>\n",
              "      <td>2</td>\n",
              "      <td>Fabricated Content</td>\n",
              "      <td>[HOAX] \"PKI DAN CINA SDH SIAP MERAMPAS INDONESIA\"</td>\n",
              "      <td>partai komunis indonesia cina rampas indonesia...</td>\n",
              "      <td>Dari beberapa klaim sumber-sumber informasi da...</td>\n",
              "      <td>https://turnbackhoax.id/2017/11/20/hoax-pki-da...</td>\n",
              "      <td>whatsapp.com</td>\n",
              "      <td>whatsapp.com</td>\n",
              "      <td>https://scontent-sit4-1.xx.fbcdn.net/v/t31.0-8...</td>\n",
              "      <td>https://scontent-sit4-1.xx.fbcdn.net/v/t31.0-8...</td>\n",
              "      <td>2017-11-21</td>\n",
              "      <td>pki, cina, jokowi, pki, panglimatni, fbi, inva...</td>\n",
              "      <td>nan</td>\n",
              "    </tr>\n",
              "  </tbody>\n",
              "</table>\n",
              "<p>10756 rows × 16 columns</p>\n",
              "</div>\n",
              "      <button class=\"colab-df-convert\" onclick=\"convertToInteractive('df-2e520c08-fdda-4407-a27f-723ae356bb8d')\"\n",
              "              title=\"Convert this dataframe to an interactive table.\"\n",
              "              style=\"display:none;\">\n",
              "        \n",
              "  <svg xmlns=\"http://www.w3.org/2000/svg\" height=\"24px\"viewBox=\"0 0 24 24\"\n",
              "       width=\"24px\">\n",
              "    <path d=\"M0 0h24v24H0V0z\" fill=\"none\"/>\n",
              "    <path d=\"M18.56 5.44l.94 2.06.94-2.06 2.06-.94-2.06-.94-.94-2.06-.94 2.06-2.06.94zm-11 1L8.5 8.5l.94-2.06 2.06-.94-2.06-.94L8.5 2.5l-.94 2.06-2.06.94zm10 10l.94 2.06.94-2.06 2.06-.94-2.06-.94-.94-2.06-.94 2.06-2.06.94z\"/><path d=\"M17.41 7.96l-1.37-1.37c-.4-.4-.92-.59-1.43-.59-.52 0-1.04.2-1.43.59L10.3 9.45l-7.72 7.72c-.78.78-.78 2.05 0 2.83L4 21.41c.39.39.9.59 1.41.59.51 0 1.02-.2 1.41-.59l7.78-7.78 2.81-2.81c.8-.78.8-2.07 0-2.86zM5.41 20L4 18.59l7.72-7.72 1.47 1.35L5.41 20z\"/>\n",
              "  </svg>\n",
              "      </button>\n",
              "      \n",
              "  <style>\n",
              "    .colab-df-container {\n",
              "      display:flex;\n",
              "      flex-wrap:wrap;\n",
              "      gap: 12px;\n",
              "    }\n",
              "\n",
              "    .colab-df-convert {\n",
              "      background-color: #E8F0FE;\n",
              "      border: none;\n",
              "      border-radius: 50%;\n",
              "      cursor: pointer;\n",
              "      display: none;\n",
              "      fill: #1967D2;\n",
              "      height: 32px;\n",
              "      padding: 0 0 0 0;\n",
              "      width: 32px;\n",
              "    }\n",
              "\n",
              "    .colab-df-convert:hover {\n",
              "      background-color: #E2EBFA;\n",
              "      box-shadow: 0px 1px 2px rgba(60, 64, 67, 0.3), 0px 1px 3px 1px rgba(60, 64, 67, 0.15);\n",
              "      fill: #174EA6;\n",
              "    }\n",
              "\n",
              "    [theme=dark] .colab-df-convert {\n",
              "      background-color: #3B4455;\n",
              "      fill: #D2E3FC;\n",
              "    }\n",
              "\n",
              "    [theme=dark] .colab-df-convert:hover {\n",
              "      background-color: #434B5C;\n",
              "      box-shadow: 0px 1px 3px 1px rgba(0, 0, 0, 0.15);\n",
              "      filter: drop-shadow(0px 1px 2px rgba(0, 0, 0, 0.3));\n",
              "      fill: #FFFFFF;\n",
              "    }\n",
              "  </style>\n",
              "\n",
              "      <script>\n",
              "        const buttonEl =\n",
              "          document.querySelector('#df-2e520c08-fdda-4407-a27f-723ae356bb8d button.colab-df-convert');\n",
              "        buttonEl.style.display =\n",
              "          google.colab.kernel.accessAllowed ? 'block' : 'none';\n",
              "\n",
              "        async function convertToInteractive(key) {\n",
              "          const element = document.querySelector('#df-2e520c08-fdda-4407-a27f-723ae356bb8d');\n",
              "          const dataTable =\n",
              "            await google.colab.kernel.invokeFunction('convertToInteractive',\n",
              "                                                     [key], {});\n",
              "          if (!dataTable) return;\n",
              "\n",
              "          const docLinkHtml = 'Like what you see? Visit the ' +\n",
              "            '<a target=\"_blank\" href=https://colab.research.google.com/notebooks/data_table.ipynb>data table notebook</a>'\n",
              "            + ' to learn more about interactive tables.';\n",
              "          element.innerHTML = '';\n",
              "          dataTable['output_type'] = 'display_data';\n",
              "          await google.colab.output.renderOutput(dataTable, element);\n",
              "          const docLink = document.createElement('div');\n",
              "          docLink.innerHTML = docLinkHtml;\n",
              "          element.appendChild(docLink);\n",
              "        }\n",
              "      </script>\n",
              "    </div>\n",
              "  </div>\n",
              "  "
            ]
          },
          "metadata": {},
          "execution_count": 27
        },
        {
          "output_type": "stream",
          "name": "stdout",
          "text": [
            "time: 24.9 ms (started: 2023-01-10 10:05:02 +00:00)\n"
          ]
        }
      ],
      "source": [
        "df"
      ]
    },
    {
      "cell_type": "code",
      "execution_count": 28,
      "metadata": {
        "id": "bIlXuOHrf-Qi",
        "colab": {
          "base_uri": "https://localhost:8080/"
        },
        "outputId": "cea0209e-fd98-4ada-b24f-bf7e813c65c3"
      },
      "outputs": [
        {
          "output_type": "execute_result",
          "data": {
            "text/plain": [
              "420"
            ]
          },
          "metadata": {},
          "execution_count": 28
        },
        {
          "output_type": "stream",
          "name": "stdout",
          "text": [
            "time: 21.1 ms (started: 2023-01-10 10:05:02 +00:00)\n"
          ]
        }
      ],
      "source": [
        "#List of True News but this is not published\n",
        "len(df.loc[df['classification'] == 'TRUE'] )"
      ]
    },
    {
      "cell_type": "code",
      "execution_count": 29,
      "metadata": {
        "id": "n201bHqBgkk1",
        "colab": {
          "base_uri": "https://localhost:8080/",
          "height": 0
        },
        "outputId": "baad68e3-1ac6-41f7-97bc-a5d433a141df"
      },
      "outputs": [
        {
          "output_type": "execute_result",
          "data": {
            "text/plain": [
              "      Unnamed: 0    id authors status classification  \\\n",
              "1704        1704  9209       0      3           TRUE   \n",
              "5120        5120  5768       0      3           TRUE   \n",
              "5122        5122  5766       0      3           TRUE   \n",
              "5126        5126  5762       0      1           TRUE   \n",
              "5127        5127  5761       0      1           TRUE   \n",
              "...          ...   ...     ...    ...            ...   \n",
              "10716      10716    65     nan      1           TRUE   \n",
              "10717      10717    64      13      1           TRUE   \n",
              "10718      10718    62     nan      1           TRUE   \n",
              "10719      10719    61     nan      1           TRUE   \n",
              "10752      10752     8     nan      1           TRUE   \n",
              "\n",
              "                                                   title  \\\n",
              "1704   Kolaborasi Cek Fakta Bersiap Antisipasi Hoaks ...   \n",
              "5120   CEK FAKTA: Benarkah Paslon KBS di Pilkada Beng...   \n",
              "5122   Benarkah Suara Rekaman Fitnah JK Itu Milik Dan...   \n",
              "5126   Cek Fakta: Benar, Cabup Barru Malkan Amin Meni...   \n",
              "5127   [Cek Fakta] Arahkan Suara Pemilih, Anggota KPP...   \n",
              "...                                                  ...   \n",
              "10716  [KLARIFIKASI] Penggalian Saluran Air di Penjar...   \n",
              "10717  [KLARIFIKASI] FPI Tidak Menyebarkan Spanduk Ha...   \n",
              "10718  [KLARIFIKASI] GUNUNG GONGGANG DI SAGARANTEN SU...   \n",
              "10719  [KLARIFIKASI] \"PT. Dirgantara Indonesia Tak Di...   \n",
              "10752  Pilot Garuda Berkata Rasis saat Petugas Bea Cu...   \n",
              "\n",
              "                                                 content  \\\n",
              "1704   jejaring periksa fakta gawang asosiasi media s...   \n",
              "5120   ketua tim advokasi pasang calon abi bahrun her...   \n",
              "5122   buah rekam video tuding figur jusuf kalla soso...   \n",
              "5126   media sosial chat whatsapp ramai kabar tinggal...   \n",
              "5127   edar informasi anggota kpps mungut suara 04 ca...   \n",
              "...                                                  ...   \n",
              "10716  proyek gali salur air longsor makan korban jiw...   \n",
              "10717  front bela islam front bela islam ban pasang s...   \n",
              "10718  edar isu gunung gonggang sukabumi letus pasca ...   \n",
              "10719  laku telusur berita fakta 2017 manajer hukum h...   \n",
              "10752  how about this indonesiagaruda racism on your ...   \n",
              "\n",
              "                                                    fact  \\\n",
              "1704                                                 nan   \n",
              "5120   Berdasarkan penelusuran Tim Cek Fakta Bertuahp...   \n",
              "5122   Berdasarkan hasil penelusuran tim Cek Fakta Ga...   \n",
              "5126   Direktur RSUP Wahidin Sudirohusodo, dr Khalik ...   \n",
              "5127   Berdasarkan hasil cek fakta, adanya pemecatan ...   \n",
              "...                                                  ...   \n",
              "10716  Dilansir dari akurat.co dan wartakota.tribunne...   \n",
              "10717  Pihak Front Pembela Islam (FPI) membantah tela...   \n",
              "10718  Gunung Gonggang yang memiliki ketinggian 691 m...   \n",
              "10719  PT. Dirgantara Indonesia (PTDI) melalui akun m...   \n",
              "10752  Pihak Garuda Indonesia langsung memberikan kla...   \n",
              "\n",
              "                                              references   source_issue  \\\n",
              "1704                                                 nan            nan   \n",
              "5120   https://bertuahpos.com/cek-fakta/cek-fakta-ben...   Whatsapp.com   \n",
              "5122   https://galigo.id/detail/benarkah-suara-rekama...  Rekaman Suara   \n",
              "5126   https://makassar.terkini.id/cek-fakta-benar-ca...   whatsapp.com   \n",
              "5127   http://www.koranmerah.com/2020/12/09/cek-fakta...   facebook.com   \n",
              "...                                                  ...            ...   \n",
              "10716  http://news.akurat.co/id-213773-read-sandiaga-...      akurat.co   \n",
              "10717  https://metro.sindonews.com/read/1302812/170/b...            nan   \n",
              "10718  https://sukabumiupdate.com/detail/sukabumi/per...            nan   \n",
              "10719  https://www.antaranews.com/berita/626557/kabar...            nan   \n",
              "10752  (1) http://megapolitan.kompas.com/read/2017/11...    twitter.com   \n",
              "\n",
              "                                             source_link  \\\n",
              "1704                                                 nan   \n",
              "5120                                                 nan   \n",
              "5122                                                 nan   \n",
              "5126                                                 nan   \n",
              "5127                                                 nan   \n",
              "...                                                  ...   \n",
              "10716                                       Media Daring   \n",
              "10717                                       Media Daring   \n",
              "10718                                       Media Daring   \n",
              "10719  https://twitter.com/officialptdi/status/991970...   \n",
              "10752                                                nan   \n",
              "\n",
              "                                                picture1  \\\n",
              "1704   https://turnbackhoax.id/wp-content/uploads/202...   \n",
              "5120   https://bertuahpos.com/wp-content/uploads/2020...   \n",
              "5122   https://portal.galigo.id/storage/news/16072436...   \n",
              "5126   https://makassar.terkini.id/aset/images/sites/...   \n",
              "5127   http://www.koranmerah.com/wp-content/uploads/2...   \n",
              "...                                                  ...   \n",
              "10716  https://turnbackhoax.id/wp-content/uploads/201...   \n",
              "10717  https://turnbackhoax.id/wp-content/uploads/201...   \n",
              "10718  https://turnbackhoax.id/wp-content/uploads/201...   \n",
              "10719  https://turnbackhoax.id/wp-content/uploads/201...   \n",
              "10752  https://scontent-sit4-1.xx.fbcdn.net/v/t31.0-8...   \n",
              "\n",
              "                                                picture2     tanggal  \\\n",
              "1704                                                 nan  2022-02-18   \n",
              "5120                                                 nan  2020-12-09   \n",
              "5122                                                 nan  2020-12-09   \n",
              "5126                                                 nan  2020-12-09   \n",
              "5127                                                 nan  2020-12-09   \n",
              "...                                                  ...         ...   \n",
              "10716  https://turnbackhoax.id/wp-content/uploads/201...  2018-05-03   \n",
              "10717  https://turnbackhoax.id/wp-content/uploads/201...  2018-05-04   \n",
              "10718                                                nan  2018-04-05   \n",
              "10719  https://turnbackhoax.id/wp-content/uploads/201...  2018-05-04   \n",
              "10752  https://scontent-sit4-1.xx.fbcdn.net/v/t31.0-8...  2017-11-21   \n",
              "\n",
              "                                                    tags  \\\n",
              "1704                                    berita, cekfakta   \n",
              "5120   Whatsapp grup, ASN, PAslon KBS, cekfakta, pilk...   \n",
              "5122      Rekaman, danny pamanto, pilkada 2020, cekfakta   \n",
              "5126                               pilkada2020, cekfakta   \n",
              "5127   Arahkan, Suara Pemilih, Anggota KPPS, Ampenan ...   \n",
              "...                                                  ...   \n",
              "10716  Klarifikasi, Galian Saluran Air, Sandiaga Uno,...   \n",
              "10717  Klarifikasi, FPI, Habib Rizieq Shihab, Spanduk...   \n",
              "10718                          Gunung Gonggang, cekfakta   \n",
              "10719                               Dirgantara, cekfakta   \n",
              "10752       garudaindonesia, pilot, cina, sara, cekfakta   \n",
              "\n",
              "                                              conclusion  \n",
              "1704                                                 nan  \n",
              "5120   ahwa benar Tim Paslon Kasmarni-Bagus Santoso m...  \n",
              "5122   Berdasarkan pemeriksaan tim cek fakta Galigo.i...  \n",
              "5126                                                 nan  \n",
              "5127                                                 nan  \n",
              "...                                                  ...  \n",
              "10716                                                nan  \n",
              "10717                                                nan  \n",
              "10718                                                nan  \n",
              "10719                                                nan  \n",
              "10752                                                nan  \n",
              "\n",
              "[420 rows x 16 columns]"
            ],
            "text/html": [
              "\n",
              "  <div id=\"df-59717047-9612-4c05-8280-0ff4fd9af349\">\n",
              "    <div class=\"colab-df-container\">\n",
              "      <div>\n",
              "<style scoped>\n",
              "    .dataframe tbody tr th:only-of-type {\n",
              "        vertical-align: middle;\n",
              "    }\n",
              "\n",
              "    .dataframe tbody tr th {\n",
              "        vertical-align: top;\n",
              "    }\n",
              "\n",
              "    .dataframe thead th {\n",
              "        text-align: right;\n",
              "    }\n",
              "</style>\n",
              "<table border=\"1\" class=\"dataframe\">\n",
              "  <thead>\n",
              "    <tr style=\"text-align: right;\">\n",
              "      <th></th>\n",
              "      <th>Unnamed: 0</th>\n",
              "      <th>id</th>\n",
              "      <th>authors</th>\n",
              "      <th>status</th>\n",
              "      <th>classification</th>\n",
              "      <th>title</th>\n",
              "      <th>content</th>\n",
              "      <th>fact</th>\n",
              "      <th>references</th>\n",
              "      <th>source_issue</th>\n",
              "      <th>source_link</th>\n",
              "      <th>picture1</th>\n",
              "      <th>picture2</th>\n",
              "      <th>tanggal</th>\n",
              "      <th>tags</th>\n",
              "      <th>conclusion</th>\n",
              "    </tr>\n",
              "  </thead>\n",
              "  <tbody>\n",
              "    <tr>\n",
              "      <th>1704</th>\n",
              "      <td>1704</td>\n",
              "      <td>9209</td>\n",
              "      <td>0</td>\n",
              "      <td>3</td>\n",
              "      <td>TRUE</td>\n",
              "      <td>Kolaborasi Cek Fakta Bersiap Antisipasi Hoaks ...</td>\n",
              "      <td>jejaring periksa fakta gawang asosiasi media s...</td>\n",
              "      <td>nan</td>\n",
              "      <td>nan</td>\n",
              "      <td>nan</td>\n",
              "      <td>nan</td>\n",
              "      <td>https://turnbackhoax.id/wp-content/uploads/202...</td>\n",
              "      <td>nan</td>\n",
              "      <td>2022-02-18</td>\n",
              "      <td>berita, cekfakta</td>\n",
              "      <td>nan</td>\n",
              "    </tr>\n",
              "    <tr>\n",
              "      <th>5120</th>\n",
              "      <td>5120</td>\n",
              "      <td>5768</td>\n",
              "      <td>0</td>\n",
              "      <td>3</td>\n",
              "      <td>TRUE</td>\n",
              "      <td>CEK FAKTA: Benarkah Paslon KBS di Pilkada Beng...</td>\n",
              "      <td>ketua tim advokasi pasang calon abi bahrun her...</td>\n",
              "      <td>Berdasarkan penelusuran Tim Cek Fakta Bertuahp...</td>\n",
              "      <td>https://bertuahpos.com/cek-fakta/cek-fakta-ben...</td>\n",
              "      <td>Whatsapp.com</td>\n",
              "      <td>nan</td>\n",
              "      <td>https://bertuahpos.com/wp-content/uploads/2020...</td>\n",
              "      <td>nan</td>\n",
              "      <td>2020-12-09</td>\n",
              "      <td>Whatsapp grup, ASN, PAslon KBS, cekfakta, pilk...</td>\n",
              "      <td>ahwa benar Tim Paslon Kasmarni-Bagus Santoso m...</td>\n",
              "    </tr>\n",
              "    <tr>\n",
              "      <th>5122</th>\n",
              "      <td>5122</td>\n",
              "      <td>5766</td>\n",
              "      <td>0</td>\n",
              "      <td>3</td>\n",
              "      <td>TRUE</td>\n",
              "      <td>Benarkah Suara Rekaman Fitnah JK Itu Milik Dan...</td>\n",
              "      <td>buah rekam video tuding figur jusuf kalla soso...</td>\n",
              "      <td>Berdasarkan hasil penelusuran tim Cek Fakta Ga...</td>\n",
              "      <td>https://galigo.id/detail/benarkah-suara-rekama...</td>\n",
              "      <td>Rekaman Suara</td>\n",
              "      <td>nan</td>\n",
              "      <td>https://portal.galigo.id/storage/news/16072436...</td>\n",
              "      <td>nan</td>\n",
              "      <td>2020-12-09</td>\n",
              "      <td>Rekaman, danny pamanto, pilkada 2020, cekfakta</td>\n",
              "      <td>Berdasarkan pemeriksaan tim cek fakta Galigo.i...</td>\n",
              "    </tr>\n",
              "    <tr>\n",
              "      <th>5126</th>\n",
              "      <td>5126</td>\n",
              "      <td>5762</td>\n",
              "      <td>0</td>\n",
              "      <td>1</td>\n",
              "      <td>TRUE</td>\n",
              "      <td>Cek Fakta: Benar, Cabup Barru Malkan Amin Meni...</td>\n",
              "      <td>media sosial chat whatsapp ramai kabar tinggal...</td>\n",
              "      <td>Direktur RSUP Wahidin Sudirohusodo, dr Khalik ...</td>\n",
              "      <td>https://makassar.terkini.id/cek-fakta-benar-ca...</td>\n",
              "      <td>whatsapp.com</td>\n",
              "      <td>nan</td>\n",
              "      <td>https://makassar.terkini.id/aset/images/sites/...</td>\n",
              "      <td>nan</td>\n",
              "      <td>2020-12-09</td>\n",
              "      <td>pilkada2020, cekfakta</td>\n",
              "      <td>nan</td>\n",
              "    </tr>\n",
              "    <tr>\n",
              "      <th>5127</th>\n",
              "      <td>5127</td>\n",
              "      <td>5761</td>\n",
              "      <td>0</td>\n",
              "      <td>1</td>\n",
              "      <td>TRUE</td>\n",
              "      <td>[Cek Fakta] Arahkan Suara Pemilih, Anggota KPP...</td>\n",
              "      <td>edar informasi anggota kpps mungut suara 04 ca...</td>\n",
              "      <td>Berdasarkan hasil cek fakta, adanya pemecatan ...</td>\n",
              "      <td>http://www.koranmerah.com/2020/12/09/cek-fakta...</td>\n",
              "      <td>facebook.com</td>\n",
              "      <td>nan</td>\n",
              "      <td>http://www.koranmerah.com/wp-content/uploads/2...</td>\n",
              "      <td>nan</td>\n",
              "      <td>2020-12-09</td>\n",
              "      <td>Arahkan, Suara Pemilih, Anggota KPPS, Ampenan ...</td>\n",
              "      <td>nan</td>\n",
              "    </tr>\n",
              "    <tr>\n",
              "      <th>...</th>\n",
              "      <td>...</td>\n",
              "      <td>...</td>\n",
              "      <td>...</td>\n",
              "      <td>...</td>\n",
              "      <td>...</td>\n",
              "      <td>...</td>\n",
              "      <td>...</td>\n",
              "      <td>...</td>\n",
              "      <td>...</td>\n",
              "      <td>...</td>\n",
              "      <td>...</td>\n",
              "      <td>...</td>\n",
              "      <td>...</td>\n",
              "      <td>...</td>\n",
              "      <td>...</td>\n",
              "      <td>...</td>\n",
              "    </tr>\n",
              "    <tr>\n",
              "      <th>10716</th>\n",
              "      <td>10716</td>\n",
              "      <td>65</td>\n",
              "      <td>nan</td>\n",
              "      <td>1</td>\n",
              "      <td>TRUE</td>\n",
              "      <td>[KLARIFIKASI] Penggalian Saluran Air di Penjar...</td>\n",
              "      <td>proyek gali salur air longsor makan korban jiw...</td>\n",
              "      <td>Dilansir dari akurat.co dan wartakota.tribunne...</td>\n",
              "      <td>http://news.akurat.co/id-213773-read-sandiaga-...</td>\n",
              "      <td>akurat.co</td>\n",
              "      <td>Media Daring</td>\n",
              "      <td>https://turnbackhoax.id/wp-content/uploads/201...</td>\n",
              "      <td>https://turnbackhoax.id/wp-content/uploads/201...</td>\n",
              "      <td>2018-05-03</td>\n",
              "      <td>Klarifikasi, Galian Saluran Air, Sandiaga Uno,...</td>\n",
              "      <td>nan</td>\n",
              "    </tr>\n",
              "    <tr>\n",
              "      <th>10717</th>\n",
              "      <td>10717</td>\n",
              "      <td>64</td>\n",
              "      <td>13</td>\n",
              "      <td>1</td>\n",
              "      <td>TRUE</td>\n",
              "      <td>[KLARIFIKASI] FPI Tidak Menyebarkan Spanduk Ha...</td>\n",
              "      <td>front bela islam front bela islam ban pasang s...</td>\n",
              "      <td>Pihak Front Pembela Islam (FPI) membantah tela...</td>\n",
              "      <td>https://metro.sindonews.com/read/1302812/170/b...</td>\n",
              "      <td>nan</td>\n",
              "      <td>Media Daring</td>\n",
              "      <td>https://turnbackhoax.id/wp-content/uploads/201...</td>\n",
              "      <td>https://turnbackhoax.id/wp-content/uploads/201...</td>\n",
              "      <td>2018-05-04</td>\n",
              "      <td>Klarifikasi, FPI, Habib Rizieq Shihab, Spanduk...</td>\n",
              "      <td>nan</td>\n",
              "    </tr>\n",
              "    <tr>\n",
              "      <th>10718</th>\n",
              "      <td>10718</td>\n",
              "      <td>62</td>\n",
              "      <td>nan</td>\n",
              "      <td>1</td>\n",
              "      <td>TRUE</td>\n",
              "      <td>[KLARIFIKASI] GUNUNG GONGGANG DI SAGARANTEN SU...</td>\n",
              "      <td>edar isu gunung gonggang sukabumi letus pasca ...</td>\n",
              "      <td>Gunung Gonggang yang memiliki ketinggian 691 m...</td>\n",
              "      <td>https://sukabumiupdate.com/detail/sukabumi/per...</td>\n",
              "      <td>nan</td>\n",
              "      <td>Media Daring</td>\n",
              "      <td>https://turnbackhoax.id/wp-content/uploads/201...</td>\n",
              "      <td>nan</td>\n",
              "      <td>2018-04-05</td>\n",
              "      <td>Gunung Gonggang, cekfakta</td>\n",
              "      <td>nan</td>\n",
              "    </tr>\n",
              "    <tr>\n",
              "      <th>10719</th>\n",
              "      <td>10719</td>\n",
              "      <td>61</td>\n",
              "      <td>nan</td>\n",
              "      <td>1</td>\n",
              "      <td>TRUE</td>\n",
              "      <td>[KLARIFIKASI] \"PT. Dirgantara Indonesia Tak Di...</td>\n",
              "      <td>laku telusur berita fakta 2017 manajer hukum h...</td>\n",
              "      <td>PT. Dirgantara Indonesia (PTDI) melalui akun m...</td>\n",
              "      <td>https://www.antaranews.com/berita/626557/kabar...</td>\n",
              "      <td>nan</td>\n",
              "      <td>https://twitter.com/officialptdi/status/991970...</td>\n",
              "      <td>https://turnbackhoax.id/wp-content/uploads/201...</td>\n",
              "      <td>https://turnbackhoax.id/wp-content/uploads/201...</td>\n",
              "      <td>2018-05-04</td>\n",
              "      <td>Dirgantara, cekfakta</td>\n",
              "      <td>nan</td>\n",
              "    </tr>\n",
              "    <tr>\n",
              "      <th>10752</th>\n",
              "      <td>10752</td>\n",
              "      <td>8</td>\n",
              "      <td>nan</td>\n",
              "      <td>1</td>\n",
              "      <td>TRUE</td>\n",
              "      <td>Pilot Garuda Berkata Rasis saat Petugas Bea Cu...</td>\n",
              "      <td>how about this indonesiagaruda racism on your ...</td>\n",
              "      <td>Pihak Garuda Indonesia langsung memberikan kla...</td>\n",
              "      <td>(1) http://megapolitan.kompas.com/read/2017/11...</td>\n",
              "      <td>twitter.com</td>\n",
              "      <td>nan</td>\n",
              "      <td>https://scontent-sit4-1.xx.fbcdn.net/v/t31.0-8...</td>\n",
              "      <td>https://scontent-sit4-1.xx.fbcdn.net/v/t31.0-8...</td>\n",
              "      <td>2017-11-21</td>\n",
              "      <td>garudaindonesia, pilot, cina, sara, cekfakta</td>\n",
              "      <td>nan</td>\n",
              "    </tr>\n",
              "  </tbody>\n",
              "</table>\n",
              "<p>420 rows × 16 columns</p>\n",
              "</div>\n",
              "      <button class=\"colab-df-convert\" onclick=\"convertToInteractive('df-59717047-9612-4c05-8280-0ff4fd9af349')\"\n",
              "              title=\"Convert this dataframe to an interactive table.\"\n",
              "              style=\"display:none;\">\n",
              "        \n",
              "  <svg xmlns=\"http://www.w3.org/2000/svg\" height=\"24px\"viewBox=\"0 0 24 24\"\n",
              "       width=\"24px\">\n",
              "    <path d=\"M0 0h24v24H0V0z\" fill=\"none\"/>\n",
              "    <path d=\"M18.56 5.44l.94 2.06.94-2.06 2.06-.94-2.06-.94-.94-2.06-.94 2.06-2.06.94zm-11 1L8.5 8.5l.94-2.06 2.06-.94-2.06-.94L8.5 2.5l-.94 2.06-2.06.94zm10 10l.94 2.06.94-2.06 2.06-.94-2.06-.94-.94-2.06-.94 2.06-2.06.94z\"/><path d=\"M17.41 7.96l-1.37-1.37c-.4-.4-.92-.59-1.43-.59-.52 0-1.04.2-1.43.59L10.3 9.45l-7.72 7.72c-.78.78-.78 2.05 0 2.83L4 21.41c.39.39.9.59 1.41.59.51 0 1.02-.2 1.41-.59l7.78-7.78 2.81-2.81c.8-.78.8-2.07 0-2.86zM5.41 20L4 18.59l7.72-7.72 1.47 1.35L5.41 20z\"/>\n",
              "  </svg>\n",
              "      </button>\n",
              "      \n",
              "  <style>\n",
              "    .colab-df-container {\n",
              "      display:flex;\n",
              "      flex-wrap:wrap;\n",
              "      gap: 12px;\n",
              "    }\n",
              "\n",
              "    .colab-df-convert {\n",
              "      background-color: #E8F0FE;\n",
              "      border: none;\n",
              "      border-radius: 50%;\n",
              "      cursor: pointer;\n",
              "      display: none;\n",
              "      fill: #1967D2;\n",
              "      height: 32px;\n",
              "      padding: 0 0 0 0;\n",
              "      width: 32px;\n",
              "    }\n",
              "\n",
              "    .colab-df-convert:hover {\n",
              "      background-color: #E2EBFA;\n",
              "      box-shadow: 0px 1px 2px rgba(60, 64, 67, 0.3), 0px 1px 3px 1px rgba(60, 64, 67, 0.15);\n",
              "      fill: #174EA6;\n",
              "    }\n",
              "\n",
              "    [theme=dark] .colab-df-convert {\n",
              "      background-color: #3B4455;\n",
              "      fill: #D2E3FC;\n",
              "    }\n",
              "\n",
              "    [theme=dark] .colab-df-convert:hover {\n",
              "      background-color: #434B5C;\n",
              "      box-shadow: 0px 1px 3px 1px rgba(0, 0, 0, 0.15);\n",
              "      filter: drop-shadow(0px 1px 2px rgba(0, 0, 0, 0.3));\n",
              "      fill: #FFFFFF;\n",
              "    }\n",
              "  </style>\n",
              "\n",
              "      <script>\n",
              "        const buttonEl =\n",
              "          document.querySelector('#df-59717047-9612-4c05-8280-0ff4fd9af349 button.colab-df-convert');\n",
              "        buttonEl.style.display =\n",
              "          google.colab.kernel.accessAllowed ? 'block' : 'none';\n",
              "\n",
              "        async function convertToInteractive(key) {\n",
              "          const element = document.querySelector('#df-59717047-9612-4c05-8280-0ff4fd9af349');\n",
              "          const dataTable =\n",
              "            await google.colab.kernel.invokeFunction('convertToInteractive',\n",
              "                                                     [key], {});\n",
              "          if (!dataTable) return;\n",
              "\n",
              "          const docLinkHtml = 'Like what you see? Visit the ' +\n",
              "            '<a target=\"_blank\" href=https://colab.research.google.com/notebooks/data_table.ipynb>data table notebook</a>'\n",
              "            + ' to learn more about interactive tables.';\n",
              "          element.innerHTML = '';\n",
              "          dataTable['output_type'] = 'display_data';\n",
              "          await google.colab.output.renderOutput(dataTable, element);\n",
              "          const docLink = document.createElement('div');\n",
              "          docLink.innerHTML = docLinkHtml;\n",
              "          element.appendChild(docLink);\n",
              "        }\n",
              "      </script>\n",
              "    </div>\n",
              "  </div>\n",
              "  "
            ]
          },
          "metadata": {},
          "execution_count": 29
        },
        {
          "output_type": "stream",
          "name": "stdout",
          "text": [
            "time: 25 ms (started: 2023-01-10 10:05:02 +00:00)\n"
          ]
        }
      ],
      "source": [
        "df.loc[df['classification'] == 'TRUE']"
      ]
    },
    {
      "cell_type": "code",
      "execution_count": 30,
      "metadata": {
        "id": "-z61k_yaiQqQ",
        "colab": {
          "base_uri": "https://localhost:8080/",
          "height": 0
        },
        "outputId": "b9b49a67-8986-4968-e207-4d17b4a6a09e"
      },
      "outputs": [
        {
          "output_type": "execute_result",
          "data": {
            "text/plain": [
              "  Unnamed: 0     id authors status      classification  \\\n",
              "0          0  10928      29      2                   -   \n",
              "1          1  10927      29      2                   -   \n",
              "2          2  10926      36      2  Misleading Content   \n",
              "3          3  10925      29      2                   -   \n",
              "4          4  10924      29      2                   -   \n",
              "\n",
              "                                               title  \\\n",
              "0  Cek Fakta: Hoaks Kabar Nikita Mirzani Meningga...   \n",
              "1  Cek Fakta: Tidak Benar Tepung Beras Bisa Mered...   \n",
              "2  [SALAH] Menkes Budi Gunadi Sadikin: “Diabetes ...   \n",
              "3  Cek Fakta: Tidak Benar Video Wanita Tertua di ...   \n",
              "4  Cek Fakta: Tidak Benar Kondisi AS Terkena Damp...   \n",
              "\n",
              "                                             content  \\\n",
              "0  liputan6 com jaka a kabar a is nikita mirzani ...   \n",
              "1  liputan6 com jaka a klaim tempel tepung beras ...   \n",
              "2  akun facebook nama k menyebarluaskan taut a ga...   \n",
              "3  liputan6 com jaka a buah video klaim orang wan...   \n",
              "4  liputan6 com jaka a cek fakta liputan6 com kla...   \n",
              "\n",
              "                                                fact  \\\n",
              "0  \\nCek Fakta Liputan6.com menelusuri kabar tent...   \n",
              "1  \\nCek Fakta Liputan6.com menelusuri klaim mene...   \n",
              "2  Setelah dilakukan penelusuran dengan Google Re...   \n",
              "3  \\nCek Fakta Liputan6.com menelusuri video yang...   \n",
              "4  \\nCek Fakta Liputan6.com menelusuri klaim vide...   \n",
              "\n",
              "                                          references  source_issue  \\\n",
              "0                                                nan  liputan6.com   \n",
              "1                                                nan  liputan6.com   \n",
              "2  https://www.cnnindonesia.com/nasional/20210426...  facebook.com   \n",
              "3  https://www.thetealmango.com/latest/who-is-399...  liputan6.com   \n",
              "4   \\nhttps://vanlifewanderer.com/2022/08/03/kens...  liputan6.com   \n",
              "\n",
              "                                         source_link  \\\n",
              "0  https://www.liputan6.com/cek-fakta/read/512206...   \n",
              "1  https://www.liputan6.com/cek-fakta/read/512197...   \n",
              "2  https://archive.cob.web.id/archive/1667651236....   \n",
              "3  https://www.liputan6.com/cek-fakta/read/512178...   \n",
              "4  https://www.liputan6.com/cek-fakta/read/512121...   \n",
              "\n",
              "                                            picture1  \\\n",
              "0  https://cdn0-production-images-kly.akamaized.n...   \n",
              "1  https://cdn0-production-images-kly.akamaized.n...   \n",
              "2  https://turnbackhoax.id/wp-content/uploads/202...   \n",
              "3  https://cdn1-production-images-kly.akamaized.n...   \n",
              "4  https://cdn0-production-images-kly.akamaized.n...   \n",
              "\n",
              "                                            picture2     tanggal  \\\n",
              "0                                                nan  2022-11-11   \n",
              "1                                                nan  2022-11-10   \n",
              "2                                                nan  2022-11-10   \n",
              "3  https://cdn1-production-images-kly.akamaized.n...  2022-11-10   \n",
              "4  https://cdn1-production-images-kly.akamaized.n...  2022-11-10   \n",
              "\n",
              "                                                tags  \\\n",
              "0              cekfakta, liputan6, cekfakta-liputan6   \n",
              "1              cekfakta, liputan6, cekfakta-liputan6   \n",
              "2  cekfakta, tbh, tema: kesehatan, alat: teks, sc...   \n",
              "3              cekfakta, liputan6, cekfakta-liputan6   \n",
              "4              cekfakta, liputan6, cekfakta-liputan6   \n",
              "\n",
              "                                          conclusion  \n",
              "0  \\nKabar tentang artis Nikita Mirzani meninggal...  \n",
              "1  \\nKlaim menempelkan adonan tepung beras di tub...  \n",
              "2  Hasil periksa fakta Evarizma Zahra.\\r\\n\\r\\nKon...  \n",
              "3  \\nVideo yang diklaim seorang wanita tertua di ...  \n",
              "4  \\nHasil penelusuran Cek Fakta Liputan6.com, kl...  "
            ],
            "text/html": [
              "\n",
              "  <div id=\"df-6955a0d7-bacc-4e18-9f5c-8074f4994ee0\">\n",
              "    <div class=\"colab-df-container\">\n",
              "      <div>\n",
              "<style scoped>\n",
              "    .dataframe tbody tr th:only-of-type {\n",
              "        vertical-align: middle;\n",
              "    }\n",
              "\n",
              "    .dataframe tbody tr th {\n",
              "        vertical-align: top;\n",
              "    }\n",
              "\n",
              "    .dataframe thead th {\n",
              "        text-align: right;\n",
              "    }\n",
              "</style>\n",
              "<table border=\"1\" class=\"dataframe\">\n",
              "  <thead>\n",
              "    <tr style=\"text-align: right;\">\n",
              "      <th></th>\n",
              "      <th>Unnamed: 0</th>\n",
              "      <th>id</th>\n",
              "      <th>authors</th>\n",
              "      <th>status</th>\n",
              "      <th>classification</th>\n",
              "      <th>title</th>\n",
              "      <th>content</th>\n",
              "      <th>fact</th>\n",
              "      <th>references</th>\n",
              "      <th>source_issue</th>\n",
              "      <th>source_link</th>\n",
              "      <th>picture1</th>\n",
              "      <th>picture2</th>\n",
              "      <th>tanggal</th>\n",
              "      <th>tags</th>\n",
              "      <th>conclusion</th>\n",
              "    </tr>\n",
              "  </thead>\n",
              "  <tbody>\n",
              "    <tr>\n",
              "      <th>0</th>\n",
              "      <td>0</td>\n",
              "      <td>10928</td>\n",
              "      <td>29</td>\n",
              "      <td>2</td>\n",
              "      <td>-</td>\n",
              "      <td>Cek Fakta: Hoaks Kabar Nikita Mirzani Meningga...</td>\n",
              "      <td>liputan6 com jaka a kabar a is nikita mirzani ...</td>\n",
              "      <td>\\nCek Fakta Liputan6.com menelusuri kabar tent...</td>\n",
              "      <td>nan</td>\n",
              "      <td>liputan6.com</td>\n",
              "      <td>https://www.liputan6.com/cek-fakta/read/512206...</td>\n",
              "      <td>https://cdn0-production-images-kly.akamaized.n...</td>\n",
              "      <td>nan</td>\n",
              "      <td>2022-11-11</td>\n",
              "      <td>cekfakta, liputan6, cekfakta-liputan6</td>\n",
              "      <td>\\nKabar tentang artis Nikita Mirzani meninggal...</td>\n",
              "    </tr>\n",
              "    <tr>\n",
              "      <th>1</th>\n",
              "      <td>1</td>\n",
              "      <td>10927</td>\n",
              "      <td>29</td>\n",
              "      <td>2</td>\n",
              "      <td>-</td>\n",
              "      <td>Cek Fakta: Tidak Benar Tepung Beras Bisa Mered...</td>\n",
              "      <td>liputan6 com jaka a klaim tempel tepung beras ...</td>\n",
              "      <td>\\nCek Fakta Liputan6.com menelusuri klaim mene...</td>\n",
              "      <td>nan</td>\n",
              "      <td>liputan6.com</td>\n",
              "      <td>https://www.liputan6.com/cek-fakta/read/512197...</td>\n",
              "      <td>https://cdn0-production-images-kly.akamaized.n...</td>\n",
              "      <td>nan</td>\n",
              "      <td>2022-11-10</td>\n",
              "      <td>cekfakta, liputan6, cekfakta-liputan6</td>\n",
              "      <td>\\nKlaim menempelkan adonan tepung beras di tub...</td>\n",
              "    </tr>\n",
              "    <tr>\n",
              "      <th>2</th>\n",
              "      <td>2</td>\n",
              "      <td>10926</td>\n",
              "      <td>36</td>\n",
              "      <td>2</td>\n",
              "      <td>Misleading Content</td>\n",
              "      <td>[SALAH] Menkes Budi Gunadi Sadikin: “Diabetes ...</td>\n",
              "      <td>akun facebook nama k menyebarluaskan taut a ga...</td>\n",
              "      <td>Setelah dilakukan penelusuran dengan Google Re...</td>\n",
              "      <td>https://www.cnnindonesia.com/nasional/20210426...</td>\n",
              "      <td>facebook.com</td>\n",
              "      <td>https://archive.cob.web.id/archive/1667651236....</td>\n",
              "      <td>https://turnbackhoax.id/wp-content/uploads/202...</td>\n",
              "      <td>nan</td>\n",
              "      <td>2022-11-10</td>\n",
              "      <td>cekfakta, tbh, tema: kesehatan, alat: teks, sc...</td>\n",
              "      <td>Hasil periksa fakta Evarizma Zahra.\\r\\n\\r\\nKon...</td>\n",
              "    </tr>\n",
              "    <tr>\n",
              "      <th>3</th>\n",
              "      <td>3</td>\n",
              "      <td>10925</td>\n",
              "      <td>29</td>\n",
              "      <td>2</td>\n",
              "      <td>-</td>\n",
              "      <td>Cek Fakta: Tidak Benar Video Wanita Tertua di ...</td>\n",
              "      <td>liputan6 com jaka a buah video klaim orang wan...</td>\n",
              "      <td>\\nCek Fakta Liputan6.com menelusuri video yang...</td>\n",
              "      <td>https://www.thetealmango.com/latest/who-is-399...</td>\n",
              "      <td>liputan6.com</td>\n",
              "      <td>https://www.liputan6.com/cek-fakta/read/512178...</td>\n",
              "      <td>https://cdn1-production-images-kly.akamaized.n...</td>\n",
              "      <td>https://cdn1-production-images-kly.akamaized.n...</td>\n",
              "      <td>2022-11-10</td>\n",
              "      <td>cekfakta, liputan6, cekfakta-liputan6</td>\n",
              "      <td>\\nVideo yang diklaim seorang wanita tertua di ...</td>\n",
              "    </tr>\n",
              "    <tr>\n",
              "      <th>4</th>\n",
              "      <td>4</td>\n",
              "      <td>10924</td>\n",
              "      <td>29</td>\n",
              "      <td>2</td>\n",
              "      <td>-</td>\n",
              "      <td>Cek Fakta: Tidak Benar Kondisi AS Terkena Damp...</td>\n",
              "      <td>liputan6 com jaka a cek fakta liputan6 com kla...</td>\n",
              "      <td>\\nCek Fakta Liputan6.com menelusuri klaim vide...</td>\n",
              "      <td>\\nhttps://vanlifewanderer.com/2022/08/03/kens...</td>\n",
              "      <td>liputan6.com</td>\n",
              "      <td>https://www.liputan6.com/cek-fakta/read/512121...</td>\n",
              "      <td>https://cdn0-production-images-kly.akamaized.n...</td>\n",
              "      <td>https://cdn1-production-images-kly.akamaized.n...</td>\n",
              "      <td>2022-11-10</td>\n",
              "      <td>cekfakta, liputan6, cekfakta-liputan6</td>\n",
              "      <td>\\nHasil penelusuran Cek Fakta Liputan6.com, kl...</td>\n",
              "    </tr>\n",
              "  </tbody>\n",
              "</table>\n",
              "</div>\n",
              "      <button class=\"colab-df-convert\" onclick=\"convertToInteractive('df-6955a0d7-bacc-4e18-9f5c-8074f4994ee0')\"\n",
              "              title=\"Convert this dataframe to an interactive table.\"\n",
              "              style=\"display:none;\">\n",
              "        \n",
              "  <svg xmlns=\"http://www.w3.org/2000/svg\" height=\"24px\"viewBox=\"0 0 24 24\"\n",
              "       width=\"24px\">\n",
              "    <path d=\"M0 0h24v24H0V0z\" fill=\"none\"/>\n",
              "    <path d=\"M18.56 5.44l.94 2.06.94-2.06 2.06-.94-2.06-.94-.94-2.06-.94 2.06-2.06.94zm-11 1L8.5 8.5l.94-2.06 2.06-.94-2.06-.94L8.5 2.5l-.94 2.06-2.06.94zm10 10l.94 2.06.94-2.06 2.06-.94-2.06-.94-.94-2.06-.94 2.06-2.06.94z\"/><path d=\"M17.41 7.96l-1.37-1.37c-.4-.4-.92-.59-1.43-.59-.52 0-1.04.2-1.43.59L10.3 9.45l-7.72 7.72c-.78.78-.78 2.05 0 2.83L4 21.41c.39.39.9.59 1.41.59.51 0 1.02-.2 1.41-.59l7.78-7.78 2.81-2.81c.8-.78.8-2.07 0-2.86zM5.41 20L4 18.59l7.72-7.72 1.47 1.35L5.41 20z\"/>\n",
              "  </svg>\n",
              "      </button>\n",
              "      \n",
              "  <style>\n",
              "    .colab-df-container {\n",
              "      display:flex;\n",
              "      flex-wrap:wrap;\n",
              "      gap: 12px;\n",
              "    }\n",
              "\n",
              "    .colab-df-convert {\n",
              "      background-color: #E8F0FE;\n",
              "      border: none;\n",
              "      border-radius: 50%;\n",
              "      cursor: pointer;\n",
              "      display: none;\n",
              "      fill: #1967D2;\n",
              "      height: 32px;\n",
              "      padding: 0 0 0 0;\n",
              "      width: 32px;\n",
              "    }\n",
              "\n",
              "    .colab-df-convert:hover {\n",
              "      background-color: #E2EBFA;\n",
              "      box-shadow: 0px 1px 2px rgba(60, 64, 67, 0.3), 0px 1px 3px 1px rgba(60, 64, 67, 0.15);\n",
              "      fill: #174EA6;\n",
              "    }\n",
              "\n",
              "    [theme=dark] .colab-df-convert {\n",
              "      background-color: #3B4455;\n",
              "      fill: #D2E3FC;\n",
              "    }\n",
              "\n",
              "    [theme=dark] .colab-df-convert:hover {\n",
              "      background-color: #434B5C;\n",
              "      box-shadow: 0px 1px 3px 1px rgba(0, 0, 0, 0.15);\n",
              "      filter: drop-shadow(0px 1px 2px rgba(0, 0, 0, 0.3));\n",
              "      fill: #FFFFFF;\n",
              "    }\n",
              "  </style>\n",
              "\n",
              "      <script>\n",
              "        const buttonEl =\n",
              "          document.querySelector('#df-6955a0d7-bacc-4e18-9f5c-8074f4994ee0 button.colab-df-convert');\n",
              "        buttonEl.style.display =\n",
              "          google.colab.kernel.accessAllowed ? 'block' : 'none';\n",
              "\n",
              "        async function convertToInteractive(key) {\n",
              "          const element = document.querySelector('#df-6955a0d7-bacc-4e18-9f5c-8074f4994ee0');\n",
              "          const dataTable =\n",
              "            await google.colab.kernel.invokeFunction('convertToInteractive',\n",
              "                                                     [key], {});\n",
              "          if (!dataTable) return;\n",
              "\n",
              "          const docLinkHtml = 'Like what you see? Visit the ' +\n",
              "            '<a target=\"_blank\" href=https://colab.research.google.com/notebooks/data_table.ipynb>data table notebook</a>'\n",
              "            + ' to learn more about interactive tables.';\n",
              "          element.innerHTML = '';\n",
              "          dataTable['output_type'] = 'display_data';\n",
              "          await google.colab.output.renderOutput(dataTable, element);\n",
              "          const docLink = document.createElement('div');\n",
              "          docLink.innerHTML = docLinkHtml;\n",
              "          element.appendChild(docLink);\n",
              "        }\n",
              "      </script>\n",
              "    </div>\n",
              "  </div>\n",
              "  "
            ]
          },
          "metadata": {},
          "execution_count": 30
        },
        {
          "output_type": "stream",
          "name": "stdout",
          "text": [
            "time: 20.8 ms (started: 2023-01-10 10:05:02 +00:00)\n"
          ]
        }
      ],
      "source": [
        "df.head()"
      ]
    },
    {
      "cell_type": "markdown",
      "metadata": {
        "id": "r3J2k9qkb-gF"
      },
      "source": [
        "##Remove null value from title, content and classification column"
      ]
    },
    {
      "cell_type": "code",
      "execution_count": 31,
      "metadata": {
        "id": "trm1jQpEb8iG",
        "colab": {
          "base_uri": "https://localhost:8080/"
        },
        "outputId": "385b7f6e-63e6-492f-828c-1c436fc6742e"
      },
      "outputs": [
        {
          "output_type": "stream",
          "name": "stdout",
          "text": [
            "time: 20.3 ms (started: 2023-01-10 10:05:02 +00:00)\n"
          ]
        }
      ],
      "source": [
        "df = df.dropna(subset=['title', 'content','classification'])"
      ]
    },
    {
      "cell_type": "code",
      "execution_count": 32,
      "metadata": {
        "id": "BryASVT2cGju",
        "colab": {
          "base_uri": "https://localhost:8080/"
        },
        "outputId": "2a237803-16d6-4078-d8db-f3fb4fe87f62"
      },
      "outputs": [
        {
          "output_type": "execute_result",
          "data": {
            "text/plain": [
              "Unnamed: 0        0\n",
              "id                0\n",
              "authors           0\n",
              "status            0\n",
              "classification    0\n",
              "title             0\n",
              "content           0\n",
              "fact              0\n",
              "references        0\n",
              "source_issue      0\n",
              "source_link       0\n",
              "picture1          0\n",
              "picture2          0\n",
              "tanggal           0\n",
              "tags              0\n",
              "conclusion        0\n",
              "dtype: int64"
            ]
          },
          "metadata": {},
          "execution_count": 32
        },
        {
          "output_type": "stream",
          "name": "stdout",
          "text": [
            "time: 25.8 ms (started: 2023-01-10 10:05:02 +00:00)\n"
          ]
        }
      ],
      "source": [
        "df.isnull().sum()"
      ]
    },
    {
      "cell_type": "markdown",
      "metadata": {
        "id": "YOBxKGu_cH_q"
      },
      "source": [
        "##Remove unecessary column\n"
      ]
    },
    {
      "cell_type": "code",
      "execution_count": 33,
      "metadata": {
        "id": "-17DPcz9gst_",
        "colab": {
          "base_uri": "https://localhost:8080/",
          "height": 0
        },
        "outputId": "29bccabf-d7e4-4fe5-a2a4-071685822deb"
      },
      "outputs": [
        {
          "output_type": "execute_result",
          "data": {
            "text/plain": [
              "                                                   title  \\\n",
              "0      Cek Fakta: Hoaks Kabar Nikita Mirzani Meningga...   \n",
              "1      Cek Fakta: Tidak Benar Tepung Beras Bisa Mered...   \n",
              "2      [SALAH] Menkes Budi Gunadi Sadikin: “Diabetes ...   \n",
              "3      Cek Fakta: Tidak Benar Video Wanita Tertua di ...   \n",
              "4      Cek Fakta: Tidak Benar Kondisi AS Terkena Damp...   \n",
              "...                                                  ...   \n",
              "10751  [DISINFORMASI] Perlakuan Berbeda antara GNPF M...   \n",
              "10752  Pilot Garuda Berkata Rasis saat Petugas Bea Cu...   \n",
              "10753     Surat Penetapan Pemberangkatan Haji Tahun 2018   \n",
              "10754     \"Ramai Berita SetNov Warga China Terus Datang\"   \n",
              "10755  [HOAX] \"PKI DAN CINA SDH SIAP MERAMPAS INDONESIA\"   \n",
              "\n",
              "                                                 content  source_issue  \\\n",
              "0      liputan6 com jaka a kabar a is nikita mirzani ...  liputan6.com   \n",
              "1      liputan6 com jaka a klaim tempel tepung beras ...  liputan6.com   \n",
              "2      akun facebook nama k menyebarluaskan taut a ga...  facebook.com   \n",
              "3      liputan6 com jaka a buah video klaim orang wan...  liputan6.com   \n",
              "4      liputan6 com jaka a cek fakta liputan6 com kla...  liputan6.com   \n",
              "...                                                  ...           ...   \n",
              "10751  gera nasional fatwa dana sedekah umat sumber p...  facebook.com   \n",
              "10752  how about this indonesiagaruda racism on your ...   twitter.com   \n",
              "10753  surat berangkat haji 2018 hubung musim haji 20...  facebook.com   \n",
              "10754  ramai berita setya novanto warga bangsa cina d...  facebook.com   \n",
              "10755  partai komunis indonesia cina rampas indonesia...  whatsapp.com   \n",
              "\n",
              "          tanggal      classification  \n",
              "0      2022-11-11                   -  \n",
              "1      2022-11-10                   -  \n",
              "2      2022-11-10  Misleading Content  \n",
              "3      2022-11-10                   -  \n",
              "4      2022-11-10                   -  \n",
              "...           ...                 ...  \n",
              "10751  2018-04-29                   -  \n",
              "10752  2017-11-21                TRUE  \n",
              "10753  2017-11-21  Fabricated Content  \n",
              "10754  2018-11-21  Fabricated Content  \n",
              "10755  2017-11-21  Fabricated Content  \n",
              "\n",
              "[10756 rows x 5 columns]"
            ],
            "text/html": [
              "\n",
              "  <div id=\"df-fbca3083-5de2-4eb4-930e-5b639903892c\">\n",
              "    <div class=\"colab-df-container\">\n",
              "      <div>\n",
              "<style scoped>\n",
              "    .dataframe tbody tr th:only-of-type {\n",
              "        vertical-align: middle;\n",
              "    }\n",
              "\n",
              "    .dataframe tbody tr th {\n",
              "        vertical-align: top;\n",
              "    }\n",
              "\n",
              "    .dataframe thead th {\n",
              "        text-align: right;\n",
              "    }\n",
              "</style>\n",
              "<table border=\"1\" class=\"dataframe\">\n",
              "  <thead>\n",
              "    <tr style=\"text-align: right;\">\n",
              "      <th></th>\n",
              "      <th>title</th>\n",
              "      <th>content</th>\n",
              "      <th>source_issue</th>\n",
              "      <th>tanggal</th>\n",
              "      <th>classification</th>\n",
              "    </tr>\n",
              "  </thead>\n",
              "  <tbody>\n",
              "    <tr>\n",
              "      <th>0</th>\n",
              "      <td>Cek Fakta: Hoaks Kabar Nikita Mirzani Meningga...</td>\n",
              "      <td>liputan6 com jaka a kabar a is nikita mirzani ...</td>\n",
              "      <td>liputan6.com</td>\n",
              "      <td>2022-11-11</td>\n",
              "      <td>-</td>\n",
              "    </tr>\n",
              "    <tr>\n",
              "      <th>1</th>\n",
              "      <td>Cek Fakta: Tidak Benar Tepung Beras Bisa Mered...</td>\n",
              "      <td>liputan6 com jaka a klaim tempel tepung beras ...</td>\n",
              "      <td>liputan6.com</td>\n",
              "      <td>2022-11-10</td>\n",
              "      <td>-</td>\n",
              "    </tr>\n",
              "    <tr>\n",
              "      <th>2</th>\n",
              "      <td>[SALAH] Menkes Budi Gunadi Sadikin: “Diabetes ...</td>\n",
              "      <td>akun facebook nama k menyebarluaskan taut a ga...</td>\n",
              "      <td>facebook.com</td>\n",
              "      <td>2022-11-10</td>\n",
              "      <td>Misleading Content</td>\n",
              "    </tr>\n",
              "    <tr>\n",
              "      <th>3</th>\n",
              "      <td>Cek Fakta: Tidak Benar Video Wanita Tertua di ...</td>\n",
              "      <td>liputan6 com jaka a buah video klaim orang wan...</td>\n",
              "      <td>liputan6.com</td>\n",
              "      <td>2022-11-10</td>\n",
              "      <td>-</td>\n",
              "    </tr>\n",
              "    <tr>\n",
              "      <th>4</th>\n",
              "      <td>Cek Fakta: Tidak Benar Kondisi AS Terkena Damp...</td>\n",
              "      <td>liputan6 com jaka a cek fakta liputan6 com kla...</td>\n",
              "      <td>liputan6.com</td>\n",
              "      <td>2022-11-10</td>\n",
              "      <td>-</td>\n",
              "    </tr>\n",
              "    <tr>\n",
              "      <th>...</th>\n",
              "      <td>...</td>\n",
              "      <td>...</td>\n",
              "      <td>...</td>\n",
              "      <td>...</td>\n",
              "      <td>...</td>\n",
              "    </tr>\n",
              "    <tr>\n",
              "      <th>10751</th>\n",
              "      <td>[DISINFORMASI] Perlakuan Berbeda antara GNPF M...</td>\n",
              "      <td>gera nasional fatwa dana sedekah umat sumber p...</td>\n",
              "      <td>facebook.com</td>\n",
              "      <td>2018-04-29</td>\n",
              "      <td>-</td>\n",
              "    </tr>\n",
              "    <tr>\n",
              "      <th>10752</th>\n",
              "      <td>Pilot Garuda Berkata Rasis saat Petugas Bea Cu...</td>\n",
              "      <td>how about this indonesiagaruda racism on your ...</td>\n",
              "      <td>twitter.com</td>\n",
              "      <td>2017-11-21</td>\n",
              "      <td>TRUE</td>\n",
              "    </tr>\n",
              "    <tr>\n",
              "      <th>10753</th>\n",
              "      <td>Surat Penetapan Pemberangkatan Haji Tahun 2018</td>\n",
              "      <td>surat berangkat haji 2018 hubung musim haji 20...</td>\n",
              "      <td>facebook.com</td>\n",
              "      <td>2017-11-21</td>\n",
              "      <td>Fabricated Content</td>\n",
              "    </tr>\n",
              "    <tr>\n",
              "      <th>10754</th>\n",
              "      <td>\"Ramai Berita SetNov Warga China Terus Datang\"</td>\n",
              "      <td>ramai berita setya novanto warga bangsa cina d...</td>\n",
              "      <td>facebook.com</td>\n",
              "      <td>2018-11-21</td>\n",
              "      <td>Fabricated Content</td>\n",
              "    </tr>\n",
              "    <tr>\n",
              "      <th>10755</th>\n",
              "      <td>[HOAX] \"PKI DAN CINA SDH SIAP MERAMPAS INDONESIA\"</td>\n",
              "      <td>partai komunis indonesia cina rampas indonesia...</td>\n",
              "      <td>whatsapp.com</td>\n",
              "      <td>2017-11-21</td>\n",
              "      <td>Fabricated Content</td>\n",
              "    </tr>\n",
              "  </tbody>\n",
              "</table>\n",
              "<p>10756 rows × 5 columns</p>\n",
              "</div>\n",
              "      <button class=\"colab-df-convert\" onclick=\"convertToInteractive('df-fbca3083-5de2-4eb4-930e-5b639903892c')\"\n",
              "              title=\"Convert this dataframe to an interactive table.\"\n",
              "              style=\"display:none;\">\n",
              "        \n",
              "  <svg xmlns=\"http://www.w3.org/2000/svg\" height=\"24px\"viewBox=\"0 0 24 24\"\n",
              "       width=\"24px\">\n",
              "    <path d=\"M0 0h24v24H0V0z\" fill=\"none\"/>\n",
              "    <path d=\"M18.56 5.44l.94 2.06.94-2.06 2.06-.94-2.06-.94-.94-2.06-.94 2.06-2.06.94zm-11 1L8.5 8.5l.94-2.06 2.06-.94-2.06-.94L8.5 2.5l-.94 2.06-2.06.94zm10 10l.94 2.06.94-2.06 2.06-.94-2.06-.94-.94-2.06-.94 2.06-2.06.94z\"/><path d=\"M17.41 7.96l-1.37-1.37c-.4-.4-.92-.59-1.43-.59-.52 0-1.04.2-1.43.59L10.3 9.45l-7.72 7.72c-.78.78-.78 2.05 0 2.83L4 21.41c.39.39.9.59 1.41.59.51 0 1.02-.2 1.41-.59l7.78-7.78 2.81-2.81c.8-.78.8-2.07 0-2.86zM5.41 20L4 18.59l7.72-7.72 1.47 1.35L5.41 20z\"/>\n",
              "  </svg>\n",
              "      </button>\n",
              "      \n",
              "  <style>\n",
              "    .colab-df-container {\n",
              "      display:flex;\n",
              "      flex-wrap:wrap;\n",
              "      gap: 12px;\n",
              "    }\n",
              "\n",
              "    .colab-df-convert {\n",
              "      background-color: #E8F0FE;\n",
              "      border: none;\n",
              "      border-radius: 50%;\n",
              "      cursor: pointer;\n",
              "      display: none;\n",
              "      fill: #1967D2;\n",
              "      height: 32px;\n",
              "      padding: 0 0 0 0;\n",
              "      width: 32px;\n",
              "    }\n",
              "\n",
              "    .colab-df-convert:hover {\n",
              "      background-color: #E2EBFA;\n",
              "      box-shadow: 0px 1px 2px rgba(60, 64, 67, 0.3), 0px 1px 3px 1px rgba(60, 64, 67, 0.15);\n",
              "      fill: #174EA6;\n",
              "    }\n",
              "\n",
              "    [theme=dark] .colab-df-convert {\n",
              "      background-color: #3B4455;\n",
              "      fill: #D2E3FC;\n",
              "    }\n",
              "\n",
              "    [theme=dark] .colab-df-convert:hover {\n",
              "      background-color: #434B5C;\n",
              "      box-shadow: 0px 1px 3px 1px rgba(0, 0, 0, 0.15);\n",
              "      filter: drop-shadow(0px 1px 2px rgba(0, 0, 0, 0.3));\n",
              "      fill: #FFFFFF;\n",
              "    }\n",
              "  </style>\n",
              "\n",
              "      <script>\n",
              "        const buttonEl =\n",
              "          document.querySelector('#df-fbca3083-5de2-4eb4-930e-5b639903892c button.colab-df-convert');\n",
              "        buttonEl.style.display =\n",
              "          google.colab.kernel.accessAllowed ? 'block' : 'none';\n",
              "\n",
              "        async function convertToInteractive(key) {\n",
              "          const element = document.querySelector('#df-fbca3083-5de2-4eb4-930e-5b639903892c');\n",
              "          const dataTable =\n",
              "            await google.colab.kernel.invokeFunction('convertToInteractive',\n",
              "                                                     [key], {});\n",
              "          if (!dataTable) return;\n",
              "\n",
              "          const docLinkHtml = 'Like what you see? Visit the ' +\n",
              "            '<a target=\"_blank\" href=https://colab.research.google.com/notebooks/data_table.ipynb>data table notebook</a>'\n",
              "            + ' to learn more about interactive tables.';\n",
              "          element.innerHTML = '';\n",
              "          dataTable['output_type'] = 'display_data';\n",
              "          await google.colab.output.renderOutput(dataTable, element);\n",
              "          const docLink = document.createElement('div');\n",
              "          docLink.innerHTML = docLinkHtml;\n",
              "          element.appendChild(docLink);\n",
              "        }\n",
              "      </script>\n",
              "    </div>\n",
              "  </div>\n",
              "  "
            ]
          },
          "metadata": {},
          "execution_count": 33
        },
        {
          "output_type": "stream",
          "name": "stdout",
          "text": [
            "time: 17.8 ms (started: 2023-01-10 10:05:02 +00:00)\n"
          ]
        }
      ],
      "source": [
        "#Remove unecessary column\n",
        "df = df[['title','content','source_issue','tanggal','classification']]\n",
        "df"
      ]
    },
    {
      "cell_type": "markdown",
      "metadata": {
        "id": "bzJq2hnoBpLO"
      },
      "source": [
        "##Counting number of content of each category of classification"
      ]
    },
    {
      "cell_type": "code",
      "source": [
        "df.classification.value_counts()"
      ],
      "metadata": {
        "colab": {
          "base_uri": "https://localhost:8080/"
        },
        "id": "hVIpOPR3peON",
        "outputId": "586498cc-b0af-4d07-894d-79f87c146a78"
      },
      "execution_count": 34,
      "outputs": [
        {
          "output_type": "execute_result",
          "data": {
            "text/plain": [
              "Misleading Content     2629\n",
              "False Context          2234\n",
              "-                      1829\n",
              "Fabricated Content     1152\n",
              "Manipulated Content    1152\n",
              "Impostor Content        503\n",
              "TRUE                    420\n",
              "Clarification           396\n",
              "False Connection        279\n",
              "Satire                  162\n",
              "Name: classification, dtype: int64"
            ]
          },
          "metadata": {},
          "execution_count": 34
        },
        {
          "output_type": "stream",
          "name": "stdout",
          "text": [
            "time: 6.41 ms (started: 2023-01-10 10:05:02 +00:00)\n"
          ]
        }
      ]
    },
    {
      "cell_type": "code",
      "execution_count": 35,
      "metadata": {
        "id": "5dtZ_U5FnHXr",
        "colab": {
          "base_uri": "https://localhost:8080/",
          "height": 442
        },
        "outputId": "1245d640-1043-43b1-9619-81babebae3eb"
      },
      "outputs": [
        {
          "output_type": "execute_result",
          "data": {
            "text/plain": [
              "                                                   title  \\\n",
              "0      Cek Fakta: Hoaks Kabar Nikita Mirzani Meningga...   \n",
              "1      Cek Fakta: Tidak Benar Tepung Beras Bisa Mered...   \n",
              "2      [SALAH] Menkes Budi Gunadi Sadikin: “Diabetes ...   \n",
              "3      Cek Fakta: Tidak Benar Video Wanita Tertua di ...   \n",
              "4      Cek Fakta: Tidak Benar Kondisi AS Terkena Damp...   \n",
              "...                                                  ...   \n",
              "10751  [DISINFORMASI] Perlakuan Berbeda antara GNPF M...   \n",
              "10752  Pilot Garuda Berkata Rasis saat Petugas Bea Cu...   \n",
              "10753     Surat Penetapan Pemberangkatan Haji Tahun 2018   \n",
              "10754     \"Ramai Berita SetNov Warga China Terus Datang\"   \n",
              "10755  [HOAX] \"PKI DAN CINA SDH SIAP MERAMPAS INDONESIA\"   \n",
              "\n",
              "                                                 content  source_issue  \\\n",
              "0      liputan6 com jaka a kabar a is nikita mirzani ...  liputan6.com   \n",
              "1      liputan6 com jaka a klaim tempel tepung beras ...  liputan6.com   \n",
              "2      akun facebook nama k menyebarluaskan taut a ga...  facebook.com   \n",
              "3      liputan6 com jaka a buah video klaim orang wan...  liputan6.com   \n",
              "4      liputan6 com jaka a cek fakta liputan6 com kla...  liputan6.com   \n",
              "...                                                  ...           ...   \n",
              "10751  gera nasional fatwa dana sedekah umat sumber p...  facebook.com   \n",
              "10752  how about this indonesiagaruda racism on your ...   twitter.com   \n",
              "10753  surat berangkat haji 2018 hubung musim haji 20...  facebook.com   \n",
              "10754  ramai berita setya novanto warga bangsa cina d...  facebook.com   \n",
              "10755  partai komunis indonesia cina rampas indonesia...  whatsapp.com   \n",
              "\n",
              "          tanggal      classification  label  \n",
              "0      2022-11-11                   -      0  \n",
              "1      2022-11-10                   -      0  \n",
              "2      2022-11-10  Misleading Content      7  \n",
              "3      2022-11-10                   -      0  \n",
              "4      2022-11-10                   -      0  \n",
              "...           ...                 ...    ...  \n",
              "10751  2018-04-29                   -      0  \n",
              "10752  2017-11-21                TRUE      9  \n",
              "10753  2017-11-21  Fabricated Content      2  \n",
              "10754  2018-11-21  Fabricated Content      2  \n",
              "10755  2017-11-21  Fabricated Content      2  \n",
              "\n",
              "[10756 rows x 6 columns]"
            ],
            "text/html": [
              "\n",
              "  <div id=\"df-5f5a9959-eac5-46be-8ff4-71a914b73512\">\n",
              "    <div class=\"colab-df-container\">\n",
              "      <div>\n",
              "<style scoped>\n",
              "    .dataframe tbody tr th:only-of-type {\n",
              "        vertical-align: middle;\n",
              "    }\n",
              "\n",
              "    .dataframe tbody tr th {\n",
              "        vertical-align: top;\n",
              "    }\n",
              "\n",
              "    .dataframe thead th {\n",
              "        text-align: right;\n",
              "    }\n",
              "</style>\n",
              "<table border=\"1\" class=\"dataframe\">\n",
              "  <thead>\n",
              "    <tr style=\"text-align: right;\">\n",
              "      <th></th>\n",
              "      <th>title</th>\n",
              "      <th>content</th>\n",
              "      <th>source_issue</th>\n",
              "      <th>tanggal</th>\n",
              "      <th>classification</th>\n",
              "      <th>label</th>\n",
              "    </tr>\n",
              "  </thead>\n",
              "  <tbody>\n",
              "    <tr>\n",
              "      <th>0</th>\n",
              "      <td>Cek Fakta: Hoaks Kabar Nikita Mirzani Meningga...</td>\n",
              "      <td>liputan6 com jaka a kabar a is nikita mirzani ...</td>\n",
              "      <td>liputan6.com</td>\n",
              "      <td>2022-11-11</td>\n",
              "      <td>-</td>\n",
              "      <td>0</td>\n",
              "    </tr>\n",
              "    <tr>\n",
              "      <th>1</th>\n",
              "      <td>Cek Fakta: Tidak Benar Tepung Beras Bisa Mered...</td>\n",
              "      <td>liputan6 com jaka a klaim tempel tepung beras ...</td>\n",
              "      <td>liputan6.com</td>\n",
              "      <td>2022-11-10</td>\n",
              "      <td>-</td>\n",
              "      <td>0</td>\n",
              "    </tr>\n",
              "    <tr>\n",
              "      <th>2</th>\n",
              "      <td>[SALAH] Menkes Budi Gunadi Sadikin: “Diabetes ...</td>\n",
              "      <td>akun facebook nama k menyebarluaskan taut a ga...</td>\n",
              "      <td>facebook.com</td>\n",
              "      <td>2022-11-10</td>\n",
              "      <td>Misleading Content</td>\n",
              "      <td>7</td>\n",
              "    </tr>\n",
              "    <tr>\n",
              "      <th>3</th>\n",
              "      <td>Cek Fakta: Tidak Benar Video Wanita Tertua di ...</td>\n",
              "      <td>liputan6 com jaka a buah video klaim orang wan...</td>\n",
              "      <td>liputan6.com</td>\n",
              "      <td>2022-11-10</td>\n",
              "      <td>-</td>\n",
              "      <td>0</td>\n",
              "    </tr>\n",
              "    <tr>\n",
              "      <th>4</th>\n",
              "      <td>Cek Fakta: Tidak Benar Kondisi AS Terkena Damp...</td>\n",
              "      <td>liputan6 com jaka a cek fakta liputan6 com kla...</td>\n",
              "      <td>liputan6.com</td>\n",
              "      <td>2022-11-10</td>\n",
              "      <td>-</td>\n",
              "      <td>0</td>\n",
              "    </tr>\n",
              "    <tr>\n",
              "      <th>...</th>\n",
              "      <td>...</td>\n",
              "      <td>...</td>\n",
              "      <td>...</td>\n",
              "      <td>...</td>\n",
              "      <td>...</td>\n",
              "      <td>...</td>\n",
              "    </tr>\n",
              "    <tr>\n",
              "      <th>10751</th>\n",
              "      <td>[DISINFORMASI] Perlakuan Berbeda antara GNPF M...</td>\n",
              "      <td>gera nasional fatwa dana sedekah umat sumber p...</td>\n",
              "      <td>facebook.com</td>\n",
              "      <td>2018-04-29</td>\n",
              "      <td>-</td>\n",
              "      <td>0</td>\n",
              "    </tr>\n",
              "    <tr>\n",
              "      <th>10752</th>\n",
              "      <td>Pilot Garuda Berkata Rasis saat Petugas Bea Cu...</td>\n",
              "      <td>how about this indonesiagaruda racism on your ...</td>\n",
              "      <td>twitter.com</td>\n",
              "      <td>2017-11-21</td>\n",
              "      <td>TRUE</td>\n",
              "      <td>9</td>\n",
              "    </tr>\n",
              "    <tr>\n",
              "      <th>10753</th>\n",
              "      <td>Surat Penetapan Pemberangkatan Haji Tahun 2018</td>\n",
              "      <td>surat berangkat haji 2018 hubung musim haji 20...</td>\n",
              "      <td>facebook.com</td>\n",
              "      <td>2017-11-21</td>\n",
              "      <td>Fabricated Content</td>\n",
              "      <td>2</td>\n",
              "    </tr>\n",
              "    <tr>\n",
              "      <th>10754</th>\n",
              "      <td>\"Ramai Berita SetNov Warga China Terus Datang\"</td>\n",
              "      <td>ramai berita setya novanto warga bangsa cina d...</td>\n",
              "      <td>facebook.com</td>\n",
              "      <td>2018-11-21</td>\n",
              "      <td>Fabricated Content</td>\n",
              "      <td>2</td>\n",
              "    </tr>\n",
              "    <tr>\n",
              "      <th>10755</th>\n",
              "      <td>[HOAX] \"PKI DAN CINA SDH SIAP MERAMPAS INDONESIA\"</td>\n",
              "      <td>partai komunis indonesia cina rampas indonesia...</td>\n",
              "      <td>whatsapp.com</td>\n",
              "      <td>2017-11-21</td>\n",
              "      <td>Fabricated Content</td>\n",
              "      <td>2</td>\n",
              "    </tr>\n",
              "  </tbody>\n",
              "</table>\n",
              "<p>10756 rows × 6 columns</p>\n",
              "</div>\n",
              "      <button class=\"colab-df-convert\" onclick=\"convertToInteractive('df-5f5a9959-eac5-46be-8ff4-71a914b73512')\"\n",
              "              title=\"Convert this dataframe to an interactive table.\"\n",
              "              style=\"display:none;\">\n",
              "        \n",
              "  <svg xmlns=\"http://www.w3.org/2000/svg\" height=\"24px\"viewBox=\"0 0 24 24\"\n",
              "       width=\"24px\">\n",
              "    <path d=\"M0 0h24v24H0V0z\" fill=\"none\"/>\n",
              "    <path d=\"M18.56 5.44l.94 2.06.94-2.06 2.06-.94-2.06-.94-.94-2.06-.94 2.06-2.06.94zm-11 1L8.5 8.5l.94-2.06 2.06-.94-2.06-.94L8.5 2.5l-.94 2.06-2.06.94zm10 10l.94 2.06.94-2.06 2.06-.94-2.06-.94-.94-2.06-.94 2.06-2.06.94z\"/><path d=\"M17.41 7.96l-1.37-1.37c-.4-.4-.92-.59-1.43-.59-.52 0-1.04.2-1.43.59L10.3 9.45l-7.72 7.72c-.78.78-.78 2.05 0 2.83L4 21.41c.39.39.9.59 1.41.59.51 0 1.02-.2 1.41-.59l7.78-7.78 2.81-2.81c.8-.78.8-2.07 0-2.86zM5.41 20L4 18.59l7.72-7.72 1.47 1.35L5.41 20z\"/>\n",
              "  </svg>\n",
              "      </button>\n",
              "      \n",
              "  <style>\n",
              "    .colab-df-container {\n",
              "      display:flex;\n",
              "      flex-wrap:wrap;\n",
              "      gap: 12px;\n",
              "    }\n",
              "\n",
              "    .colab-df-convert {\n",
              "      background-color: #E8F0FE;\n",
              "      border: none;\n",
              "      border-radius: 50%;\n",
              "      cursor: pointer;\n",
              "      display: none;\n",
              "      fill: #1967D2;\n",
              "      height: 32px;\n",
              "      padding: 0 0 0 0;\n",
              "      width: 32px;\n",
              "    }\n",
              "\n",
              "    .colab-df-convert:hover {\n",
              "      background-color: #E2EBFA;\n",
              "      box-shadow: 0px 1px 2px rgba(60, 64, 67, 0.3), 0px 1px 3px 1px rgba(60, 64, 67, 0.15);\n",
              "      fill: #174EA6;\n",
              "    }\n",
              "\n",
              "    [theme=dark] .colab-df-convert {\n",
              "      background-color: #3B4455;\n",
              "      fill: #D2E3FC;\n",
              "    }\n",
              "\n",
              "    [theme=dark] .colab-df-convert:hover {\n",
              "      background-color: #434B5C;\n",
              "      box-shadow: 0px 1px 3px 1px rgba(0, 0, 0, 0.15);\n",
              "      filter: drop-shadow(0px 1px 2px rgba(0, 0, 0, 0.3));\n",
              "      fill: #FFFFFF;\n",
              "    }\n",
              "  </style>\n",
              "\n",
              "      <script>\n",
              "        const buttonEl =\n",
              "          document.querySelector('#df-5f5a9959-eac5-46be-8ff4-71a914b73512 button.colab-df-convert');\n",
              "        buttonEl.style.display =\n",
              "          google.colab.kernel.accessAllowed ? 'block' : 'none';\n",
              "\n",
              "        async function convertToInteractive(key) {\n",
              "          const element = document.querySelector('#df-5f5a9959-eac5-46be-8ff4-71a914b73512');\n",
              "          const dataTable =\n",
              "            await google.colab.kernel.invokeFunction('convertToInteractive',\n",
              "                                                     [key], {});\n",
              "          if (!dataTable) return;\n",
              "\n",
              "          const docLinkHtml = 'Like what you see? Visit the ' +\n",
              "            '<a target=\"_blank\" href=https://colab.research.google.com/notebooks/data_table.ipynb>data table notebook</a>'\n",
              "            + ' to learn more about interactive tables.';\n",
              "          element.innerHTML = '';\n",
              "          dataTable['output_type'] = 'display_data';\n",
              "          await google.colab.output.renderOutput(dataTable, element);\n",
              "          const docLink = document.createElement('div');\n",
              "          docLink.innerHTML = docLinkHtml;\n",
              "          element.appendChild(docLink);\n",
              "        }\n",
              "      </script>\n",
              "    </div>\n",
              "  </div>\n",
              "  "
            ]
          },
          "metadata": {},
          "execution_count": 35
        },
        {
          "output_type": "stream",
          "name": "stdout",
          "text": [
            "time: 21.3 ms (started: 2023-01-10 10:05:02 +00:00)\n"
          ]
        }
      ],
      "source": [
        "#Change the classification to numerical format\n",
        "le = preprocessing.LabelEncoder()\n",
        "le.fit(df.classification)\n",
        "df['label'] = le.transform(df.classification)\n",
        "df"
      ]
    },
    {
      "cell_type": "code",
      "source": [
        "df"
      ],
      "metadata": {
        "colab": {
          "base_uri": "https://localhost:8080/",
          "height": 442
        },
        "id": "Wubyhm-fvfal",
        "outputId": "086a8edc-0304-448c-91e2-2e15c45fd596"
      },
      "execution_count": 36,
      "outputs": [
        {
          "output_type": "execute_result",
          "data": {
            "text/plain": [
              "                                                   title  \\\n",
              "0      Cek Fakta: Hoaks Kabar Nikita Mirzani Meningga...   \n",
              "1      Cek Fakta: Tidak Benar Tepung Beras Bisa Mered...   \n",
              "2      [SALAH] Menkes Budi Gunadi Sadikin: “Diabetes ...   \n",
              "3      Cek Fakta: Tidak Benar Video Wanita Tertua di ...   \n",
              "4      Cek Fakta: Tidak Benar Kondisi AS Terkena Damp...   \n",
              "...                                                  ...   \n",
              "10751  [DISINFORMASI] Perlakuan Berbeda antara GNPF M...   \n",
              "10752  Pilot Garuda Berkata Rasis saat Petugas Bea Cu...   \n",
              "10753     Surat Penetapan Pemberangkatan Haji Tahun 2018   \n",
              "10754     \"Ramai Berita SetNov Warga China Terus Datang\"   \n",
              "10755  [HOAX] \"PKI DAN CINA SDH SIAP MERAMPAS INDONESIA\"   \n",
              "\n",
              "                                                 content  source_issue  \\\n",
              "0      liputan6 com jaka a kabar a is nikita mirzani ...  liputan6.com   \n",
              "1      liputan6 com jaka a klaim tempel tepung beras ...  liputan6.com   \n",
              "2      akun facebook nama k menyebarluaskan taut a ga...  facebook.com   \n",
              "3      liputan6 com jaka a buah video klaim orang wan...  liputan6.com   \n",
              "4      liputan6 com jaka a cek fakta liputan6 com kla...  liputan6.com   \n",
              "...                                                  ...           ...   \n",
              "10751  gera nasional fatwa dana sedekah umat sumber p...  facebook.com   \n",
              "10752  how about this indonesiagaruda racism on your ...   twitter.com   \n",
              "10753  surat berangkat haji 2018 hubung musim haji 20...  facebook.com   \n",
              "10754  ramai berita setya novanto warga bangsa cina d...  facebook.com   \n",
              "10755  partai komunis indonesia cina rampas indonesia...  whatsapp.com   \n",
              "\n",
              "          tanggal      classification  label  \n",
              "0      2022-11-11                   -      0  \n",
              "1      2022-11-10                   -      0  \n",
              "2      2022-11-10  Misleading Content      7  \n",
              "3      2022-11-10                   -      0  \n",
              "4      2022-11-10                   -      0  \n",
              "...           ...                 ...    ...  \n",
              "10751  2018-04-29                   -      0  \n",
              "10752  2017-11-21                TRUE      9  \n",
              "10753  2017-11-21  Fabricated Content      2  \n",
              "10754  2018-11-21  Fabricated Content      2  \n",
              "10755  2017-11-21  Fabricated Content      2  \n",
              "\n",
              "[10756 rows x 6 columns]"
            ],
            "text/html": [
              "\n",
              "  <div id=\"df-9318a8ad-e0e1-4af1-a9b8-f360c7c17012\">\n",
              "    <div class=\"colab-df-container\">\n",
              "      <div>\n",
              "<style scoped>\n",
              "    .dataframe tbody tr th:only-of-type {\n",
              "        vertical-align: middle;\n",
              "    }\n",
              "\n",
              "    .dataframe tbody tr th {\n",
              "        vertical-align: top;\n",
              "    }\n",
              "\n",
              "    .dataframe thead th {\n",
              "        text-align: right;\n",
              "    }\n",
              "</style>\n",
              "<table border=\"1\" class=\"dataframe\">\n",
              "  <thead>\n",
              "    <tr style=\"text-align: right;\">\n",
              "      <th></th>\n",
              "      <th>title</th>\n",
              "      <th>content</th>\n",
              "      <th>source_issue</th>\n",
              "      <th>tanggal</th>\n",
              "      <th>classification</th>\n",
              "      <th>label</th>\n",
              "    </tr>\n",
              "  </thead>\n",
              "  <tbody>\n",
              "    <tr>\n",
              "      <th>0</th>\n",
              "      <td>Cek Fakta: Hoaks Kabar Nikita Mirzani Meningga...</td>\n",
              "      <td>liputan6 com jaka a kabar a is nikita mirzani ...</td>\n",
              "      <td>liputan6.com</td>\n",
              "      <td>2022-11-11</td>\n",
              "      <td>-</td>\n",
              "      <td>0</td>\n",
              "    </tr>\n",
              "    <tr>\n",
              "      <th>1</th>\n",
              "      <td>Cek Fakta: Tidak Benar Tepung Beras Bisa Mered...</td>\n",
              "      <td>liputan6 com jaka a klaim tempel tepung beras ...</td>\n",
              "      <td>liputan6.com</td>\n",
              "      <td>2022-11-10</td>\n",
              "      <td>-</td>\n",
              "      <td>0</td>\n",
              "    </tr>\n",
              "    <tr>\n",
              "      <th>2</th>\n",
              "      <td>[SALAH] Menkes Budi Gunadi Sadikin: “Diabetes ...</td>\n",
              "      <td>akun facebook nama k menyebarluaskan taut a ga...</td>\n",
              "      <td>facebook.com</td>\n",
              "      <td>2022-11-10</td>\n",
              "      <td>Misleading Content</td>\n",
              "      <td>7</td>\n",
              "    </tr>\n",
              "    <tr>\n",
              "      <th>3</th>\n",
              "      <td>Cek Fakta: Tidak Benar Video Wanita Tertua di ...</td>\n",
              "      <td>liputan6 com jaka a buah video klaim orang wan...</td>\n",
              "      <td>liputan6.com</td>\n",
              "      <td>2022-11-10</td>\n",
              "      <td>-</td>\n",
              "      <td>0</td>\n",
              "    </tr>\n",
              "    <tr>\n",
              "      <th>4</th>\n",
              "      <td>Cek Fakta: Tidak Benar Kondisi AS Terkena Damp...</td>\n",
              "      <td>liputan6 com jaka a cek fakta liputan6 com kla...</td>\n",
              "      <td>liputan6.com</td>\n",
              "      <td>2022-11-10</td>\n",
              "      <td>-</td>\n",
              "      <td>0</td>\n",
              "    </tr>\n",
              "    <tr>\n",
              "      <th>...</th>\n",
              "      <td>...</td>\n",
              "      <td>...</td>\n",
              "      <td>...</td>\n",
              "      <td>...</td>\n",
              "      <td>...</td>\n",
              "      <td>...</td>\n",
              "    </tr>\n",
              "    <tr>\n",
              "      <th>10751</th>\n",
              "      <td>[DISINFORMASI] Perlakuan Berbeda antara GNPF M...</td>\n",
              "      <td>gera nasional fatwa dana sedekah umat sumber p...</td>\n",
              "      <td>facebook.com</td>\n",
              "      <td>2018-04-29</td>\n",
              "      <td>-</td>\n",
              "      <td>0</td>\n",
              "    </tr>\n",
              "    <tr>\n",
              "      <th>10752</th>\n",
              "      <td>Pilot Garuda Berkata Rasis saat Petugas Bea Cu...</td>\n",
              "      <td>how about this indonesiagaruda racism on your ...</td>\n",
              "      <td>twitter.com</td>\n",
              "      <td>2017-11-21</td>\n",
              "      <td>TRUE</td>\n",
              "      <td>9</td>\n",
              "    </tr>\n",
              "    <tr>\n",
              "      <th>10753</th>\n",
              "      <td>Surat Penetapan Pemberangkatan Haji Tahun 2018</td>\n",
              "      <td>surat berangkat haji 2018 hubung musim haji 20...</td>\n",
              "      <td>facebook.com</td>\n",
              "      <td>2017-11-21</td>\n",
              "      <td>Fabricated Content</td>\n",
              "      <td>2</td>\n",
              "    </tr>\n",
              "    <tr>\n",
              "      <th>10754</th>\n",
              "      <td>\"Ramai Berita SetNov Warga China Terus Datang\"</td>\n",
              "      <td>ramai berita setya novanto warga bangsa cina d...</td>\n",
              "      <td>facebook.com</td>\n",
              "      <td>2018-11-21</td>\n",
              "      <td>Fabricated Content</td>\n",
              "      <td>2</td>\n",
              "    </tr>\n",
              "    <tr>\n",
              "      <th>10755</th>\n",
              "      <td>[HOAX] \"PKI DAN CINA SDH SIAP MERAMPAS INDONESIA\"</td>\n",
              "      <td>partai komunis indonesia cina rampas indonesia...</td>\n",
              "      <td>whatsapp.com</td>\n",
              "      <td>2017-11-21</td>\n",
              "      <td>Fabricated Content</td>\n",
              "      <td>2</td>\n",
              "    </tr>\n",
              "  </tbody>\n",
              "</table>\n",
              "<p>10756 rows × 6 columns</p>\n",
              "</div>\n",
              "      <button class=\"colab-df-convert\" onclick=\"convertToInteractive('df-9318a8ad-e0e1-4af1-a9b8-f360c7c17012')\"\n",
              "              title=\"Convert this dataframe to an interactive table.\"\n",
              "              style=\"display:none;\">\n",
              "        \n",
              "  <svg xmlns=\"http://www.w3.org/2000/svg\" height=\"24px\"viewBox=\"0 0 24 24\"\n",
              "       width=\"24px\">\n",
              "    <path d=\"M0 0h24v24H0V0z\" fill=\"none\"/>\n",
              "    <path d=\"M18.56 5.44l.94 2.06.94-2.06 2.06-.94-2.06-.94-.94-2.06-.94 2.06-2.06.94zm-11 1L8.5 8.5l.94-2.06 2.06-.94-2.06-.94L8.5 2.5l-.94 2.06-2.06.94zm10 10l.94 2.06.94-2.06 2.06-.94-2.06-.94-.94-2.06-.94 2.06-2.06.94z\"/><path d=\"M17.41 7.96l-1.37-1.37c-.4-.4-.92-.59-1.43-.59-.52 0-1.04.2-1.43.59L10.3 9.45l-7.72 7.72c-.78.78-.78 2.05 0 2.83L4 21.41c.39.39.9.59 1.41.59.51 0 1.02-.2 1.41-.59l7.78-7.78 2.81-2.81c.8-.78.8-2.07 0-2.86zM5.41 20L4 18.59l7.72-7.72 1.47 1.35L5.41 20z\"/>\n",
              "  </svg>\n",
              "      </button>\n",
              "      \n",
              "  <style>\n",
              "    .colab-df-container {\n",
              "      display:flex;\n",
              "      flex-wrap:wrap;\n",
              "      gap: 12px;\n",
              "    }\n",
              "\n",
              "    .colab-df-convert {\n",
              "      background-color: #E8F0FE;\n",
              "      border: none;\n",
              "      border-radius: 50%;\n",
              "      cursor: pointer;\n",
              "      display: none;\n",
              "      fill: #1967D2;\n",
              "      height: 32px;\n",
              "      padding: 0 0 0 0;\n",
              "      width: 32px;\n",
              "    }\n",
              "\n",
              "    .colab-df-convert:hover {\n",
              "      background-color: #E2EBFA;\n",
              "      box-shadow: 0px 1px 2px rgba(60, 64, 67, 0.3), 0px 1px 3px 1px rgba(60, 64, 67, 0.15);\n",
              "      fill: #174EA6;\n",
              "    }\n",
              "\n",
              "    [theme=dark] .colab-df-convert {\n",
              "      background-color: #3B4455;\n",
              "      fill: #D2E3FC;\n",
              "    }\n",
              "\n",
              "    [theme=dark] .colab-df-convert:hover {\n",
              "      background-color: #434B5C;\n",
              "      box-shadow: 0px 1px 3px 1px rgba(0, 0, 0, 0.15);\n",
              "      filter: drop-shadow(0px 1px 2px rgba(0, 0, 0, 0.3));\n",
              "      fill: #FFFFFF;\n",
              "    }\n",
              "  </style>\n",
              "\n",
              "      <script>\n",
              "        const buttonEl =\n",
              "          document.querySelector('#df-9318a8ad-e0e1-4af1-a9b8-f360c7c17012 button.colab-df-convert');\n",
              "        buttonEl.style.display =\n",
              "          google.colab.kernel.accessAllowed ? 'block' : 'none';\n",
              "\n",
              "        async function convertToInteractive(key) {\n",
              "          const element = document.querySelector('#df-9318a8ad-e0e1-4af1-a9b8-f360c7c17012');\n",
              "          const dataTable =\n",
              "            await google.colab.kernel.invokeFunction('convertToInteractive',\n",
              "                                                     [key], {});\n",
              "          if (!dataTable) return;\n",
              "\n",
              "          const docLinkHtml = 'Like what you see? Visit the ' +\n",
              "            '<a target=\"_blank\" href=https://colab.research.google.com/notebooks/data_table.ipynb>data table notebook</a>'\n",
              "            + ' to learn more about interactive tables.';\n",
              "          element.innerHTML = '';\n",
              "          dataTable['output_type'] = 'display_data';\n",
              "          await google.colab.output.renderOutput(dataTable, element);\n",
              "          const docLink = document.createElement('div');\n",
              "          docLink.innerHTML = docLinkHtml;\n",
              "          element.appendChild(docLink);\n",
              "        }\n",
              "      </script>\n",
              "    </div>\n",
              "  </div>\n",
              "  "
            ]
          },
          "metadata": {},
          "execution_count": 36
        },
        {
          "output_type": "stream",
          "name": "stdout",
          "text": [
            "time: 24.4 ms (started: 2023-01-10 10:05:02 +00:00)\n"
          ]
        }
      ]
    },
    {
      "cell_type": "code",
      "source": [
        "df['content'] = df['content'].replace(\"href\", '')"
      ],
      "metadata": {
        "colab": {
          "base_uri": "https://localhost:8080/"
        },
        "id": "PZxUdvKowCPP",
        "outputId": "8a09e439-46d9-4c03-f322-d7538b63c153"
      },
      "execution_count": 37,
      "outputs": [
        {
          "output_type": "stream",
          "name": "stdout",
          "text": [
            "time: 4.49 ms (started: 2023-01-10 10:05:02 +00:00)\n"
          ]
        }
      ]
    },
    {
      "cell_type": "code",
      "source": [
        "remove_words = ['href', 'nbsp', 'nan','ldque', 'ldquo','rdquo','blank','noopener','rel','amp','watch','target','tag','archive','tag']\n",
        "pat = r'\\b(?:{})\\b'.format('|'.join(remove_words))"
      ],
      "metadata": {
        "colab": {
          "base_uri": "https://localhost:8080/"
        },
        "id": "7WNPRocjKKfQ",
        "outputId": "49a4bdd3-e938-4812-c0bd-586a32c4d09d"
      },
      "execution_count": 71,
      "outputs": [
        {
          "output_type": "stream",
          "name": "stdout",
          "text": [
            "time: 3.5 ms (started: 2023-01-10 10:17:41 +00:00)\n"
          ]
        }
      ]
    },
    {
      "cell_type": "code",
      "source": [
        "pat"
      ],
      "metadata": {
        "colab": {
          "base_uri": "https://localhost:8080/",
          "height": 36
        },
        "id": "e4ADSpwVKcEP",
        "outputId": "8e4bac05-319e-4f2c-9f62-24c6509b3038"
      },
      "execution_count": 65,
      "outputs": [
        {
          "output_type": "execute_result",
          "data": {
            "text/plain": [
              "'\\\\b(?:href|nbsp|nan|ldque|ldquo|rdquo|blank|noopener|rel|amp|watch|target)\\\\b'"
            ],
            "application/vnd.google.colaboratory.intrinsic+json": {
              "type": "string"
            }
          },
          "metadata": {},
          "execution_count": 65
        },
        {
          "output_type": "stream",
          "name": "stdout",
          "text": [
            "time: 4.04 ms (started: 2023-01-10 10:15:46 +00:00)\n"
          ]
        }
      ]
    },
    {
      "cell_type": "code",
      "source": [
        "df['content'] = df['content'].str.replace(pat, '')"
      ],
      "metadata": {
        "colab": {
          "base_uri": "https://localhost:8080/"
        },
        "id": "lz52DFyVKgX_",
        "outputId": "a43c3a30-4631-43cb-ecdd-983e011a8ed4"
      },
      "execution_count": 73,
      "outputs": [
        {
          "output_type": "stream",
          "name": "stdout",
          "text": [
            "time: 164 ms (started: 2023-01-10 10:18:06 +00:00)\n"
          ]
        }
      ]
    },
    {
      "cell_type": "code",
      "source": [
        "df.head()"
      ],
      "metadata": {
        "colab": {
          "base_uri": "https://localhost:8080/",
          "height": 224
        },
        "id": "6oNjrAVnKSnA",
        "outputId": "62bb42f6-a8ec-45c9-e830-59e7f3c93738"
      },
      "execution_count": 67,
      "outputs": [
        {
          "output_type": "execute_result",
          "data": {
            "text/plain": [
              "                                               title  \\\n",
              "0  Cek Fakta: Hoaks Kabar Nikita Mirzani Meningga...   \n",
              "1  Cek Fakta: Tidak Benar Tepung Beras Bisa Mered...   \n",
              "2  [SALAH] Menkes Budi Gunadi Sadikin: “Diabetes ...   \n",
              "3  Cek Fakta: Tidak Benar Video Wanita Tertua di ...   \n",
              "4  Cek Fakta: Tidak Benar Kondisi AS Terkena Damp...   \n",
              "\n",
              "                                             content  source_issue  \\\n",
              "0  liputan6 com jaka a kabar a is nikita mirzani ...  liputan6.com   \n",
              "1  liputan6 com jaka a klaim tempel tepung beras ...  liputan6.com   \n",
              "2  akun facebook nama k menyebarluaskan taut a ga...  facebook.com   \n",
              "3  liputan6 com jaka a buah video klaim orang wan...  liputan6.com   \n",
              "4  liputan6 com jaka a cek fakta liputan6 com kla...  liputan6.com   \n",
              "\n",
              "      tanggal      classification  label  \n",
              "0  2022-11-11                   -      0  \n",
              "1  2022-11-10                   -      0  \n",
              "2  2022-11-10  Misleading Content      7  \n",
              "3  2022-11-10                   -      0  \n",
              "4  2022-11-10                   -      0  "
            ],
            "text/html": [
              "\n",
              "  <div id=\"df-bb11bfff-a0cd-4fb1-8bb7-66145b170c81\">\n",
              "    <div class=\"colab-df-container\">\n",
              "      <div>\n",
              "<style scoped>\n",
              "    .dataframe tbody tr th:only-of-type {\n",
              "        vertical-align: middle;\n",
              "    }\n",
              "\n",
              "    .dataframe tbody tr th {\n",
              "        vertical-align: top;\n",
              "    }\n",
              "\n",
              "    .dataframe thead th {\n",
              "        text-align: right;\n",
              "    }\n",
              "</style>\n",
              "<table border=\"1\" class=\"dataframe\">\n",
              "  <thead>\n",
              "    <tr style=\"text-align: right;\">\n",
              "      <th></th>\n",
              "      <th>title</th>\n",
              "      <th>content</th>\n",
              "      <th>source_issue</th>\n",
              "      <th>tanggal</th>\n",
              "      <th>classification</th>\n",
              "      <th>label</th>\n",
              "    </tr>\n",
              "  </thead>\n",
              "  <tbody>\n",
              "    <tr>\n",
              "      <th>0</th>\n",
              "      <td>Cek Fakta: Hoaks Kabar Nikita Mirzani Meningga...</td>\n",
              "      <td>liputan6 com jaka a kabar a is nikita mirzani ...</td>\n",
              "      <td>liputan6.com</td>\n",
              "      <td>2022-11-11</td>\n",
              "      <td>-</td>\n",
              "      <td>0</td>\n",
              "    </tr>\n",
              "    <tr>\n",
              "      <th>1</th>\n",
              "      <td>Cek Fakta: Tidak Benar Tepung Beras Bisa Mered...</td>\n",
              "      <td>liputan6 com jaka a klaim tempel tepung beras ...</td>\n",
              "      <td>liputan6.com</td>\n",
              "      <td>2022-11-10</td>\n",
              "      <td>-</td>\n",
              "      <td>0</td>\n",
              "    </tr>\n",
              "    <tr>\n",
              "      <th>2</th>\n",
              "      <td>[SALAH] Menkes Budi Gunadi Sadikin: “Diabetes ...</td>\n",
              "      <td>akun facebook nama k menyebarluaskan taut a ga...</td>\n",
              "      <td>facebook.com</td>\n",
              "      <td>2022-11-10</td>\n",
              "      <td>Misleading Content</td>\n",
              "      <td>7</td>\n",
              "    </tr>\n",
              "    <tr>\n",
              "      <th>3</th>\n",
              "      <td>Cek Fakta: Tidak Benar Video Wanita Tertua di ...</td>\n",
              "      <td>liputan6 com jaka a buah video klaim orang wan...</td>\n",
              "      <td>liputan6.com</td>\n",
              "      <td>2022-11-10</td>\n",
              "      <td>-</td>\n",
              "      <td>0</td>\n",
              "    </tr>\n",
              "    <tr>\n",
              "      <th>4</th>\n",
              "      <td>Cek Fakta: Tidak Benar Kondisi AS Terkena Damp...</td>\n",
              "      <td>liputan6 com jaka a cek fakta liputan6 com kla...</td>\n",
              "      <td>liputan6.com</td>\n",
              "      <td>2022-11-10</td>\n",
              "      <td>-</td>\n",
              "      <td>0</td>\n",
              "    </tr>\n",
              "  </tbody>\n",
              "</table>\n",
              "</div>\n",
              "      <button class=\"colab-df-convert\" onclick=\"convertToInteractive('df-bb11bfff-a0cd-4fb1-8bb7-66145b170c81')\"\n",
              "              title=\"Convert this dataframe to an interactive table.\"\n",
              "              style=\"display:none;\">\n",
              "        \n",
              "  <svg xmlns=\"http://www.w3.org/2000/svg\" height=\"24px\"viewBox=\"0 0 24 24\"\n",
              "       width=\"24px\">\n",
              "    <path d=\"M0 0h24v24H0V0z\" fill=\"none\"/>\n",
              "    <path d=\"M18.56 5.44l.94 2.06.94-2.06 2.06-.94-2.06-.94-.94-2.06-.94 2.06-2.06.94zm-11 1L8.5 8.5l.94-2.06 2.06-.94-2.06-.94L8.5 2.5l-.94 2.06-2.06.94zm10 10l.94 2.06.94-2.06 2.06-.94-2.06-.94-.94-2.06-.94 2.06-2.06.94z\"/><path d=\"M17.41 7.96l-1.37-1.37c-.4-.4-.92-.59-1.43-.59-.52 0-1.04.2-1.43.59L10.3 9.45l-7.72 7.72c-.78.78-.78 2.05 0 2.83L4 21.41c.39.39.9.59 1.41.59.51 0 1.02-.2 1.41-.59l7.78-7.78 2.81-2.81c.8-.78.8-2.07 0-2.86zM5.41 20L4 18.59l7.72-7.72 1.47 1.35L5.41 20z\"/>\n",
              "  </svg>\n",
              "      </button>\n",
              "      \n",
              "  <style>\n",
              "    .colab-df-container {\n",
              "      display:flex;\n",
              "      flex-wrap:wrap;\n",
              "      gap: 12px;\n",
              "    }\n",
              "\n",
              "    .colab-df-convert {\n",
              "      background-color: #E8F0FE;\n",
              "      border: none;\n",
              "      border-radius: 50%;\n",
              "      cursor: pointer;\n",
              "      display: none;\n",
              "      fill: #1967D2;\n",
              "      height: 32px;\n",
              "      padding: 0 0 0 0;\n",
              "      width: 32px;\n",
              "    }\n",
              "\n",
              "    .colab-df-convert:hover {\n",
              "      background-color: #E2EBFA;\n",
              "      box-shadow: 0px 1px 2px rgba(60, 64, 67, 0.3), 0px 1px 3px 1px rgba(60, 64, 67, 0.15);\n",
              "      fill: #174EA6;\n",
              "    }\n",
              "\n",
              "    [theme=dark] .colab-df-convert {\n",
              "      background-color: #3B4455;\n",
              "      fill: #D2E3FC;\n",
              "    }\n",
              "\n",
              "    [theme=dark] .colab-df-convert:hover {\n",
              "      background-color: #434B5C;\n",
              "      box-shadow: 0px 1px 3px 1px rgba(0, 0, 0, 0.15);\n",
              "      filter: drop-shadow(0px 1px 2px rgba(0, 0, 0, 0.3));\n",
              "      fill: #FFFFFF;\n",
              "    }\n",
              "  </style>\n",
              "\n",
              "      <script>\n",
              "        const buttonEl =\n",
              "          document.querySelector('#df-bb11bfff-a0cd-4fb1-8bb7-66145b170c81 button.colab-df-convert');\n",
              "        buttonEl.style.display =\n",
              "          google.colab.kernel.accessAllowed ? 'block' : 'none';\n",
              "\n",
              "        async function convertToInteractive(key) {\n",
              "          const element = document.querySelector('#df-bb11bfff-a0cd-4fb1-8bb7-66145b170c81');\n",
              "          const dataTable =\n",
              "            await google.colab.kernel.invokeFunction('convertToInteractive',\n",
              "                                                     [key], {});\n",
              "          if (!dataTable) return;\n",
              "\n",
              "          const docLinkHtml = 'Like what you see? Visit the ' +\n",
              "            '<a target=\"_blank\" href=https://colab.research.google.com/notebooks/data_table.ipynb>data table notebook</a>'\n",
              "            + ' to learn more about interactive tables.';\n",
              "          element.innerHTML = '';\n",
              "          dataTable['output_type'] = 'display_data';\n",
              "          await google.colab.output.renderOutput(dataTable, element);\n",
              "          const docLink = document.createElement('div');\n",
              "          docLink.innerHTML = docLinkHtml;\n",
              "          element.appendChild(docLink);\n",
              "        }\n",
              "      </script>\n",
              "    </div>\n",
              "  </div>\n",
              "  "
            ]
          },
          "metadata": {},
          "execution_count": 67
        },
        {
          "output_type": "stream",
          "name": "stdout",
          "text": [
            "time: 16 ms (started: 2023-01-10 10:15:50 +00:00)\n"
          ]
        }
      ]
    },
    {
      "cell_type": "markdown",
      "source": [
        "##Feature Importance"
      ],
      "metadata": {
        "id": "GlMFInnM_9yk"
      }
    },
    {
      "cell_type": "code",
      "source": [
        "v = CountVectorizer(ngram_range=(1,1))\n",
        "x = v.fit_transform(df['content'])\n",
        " \n",
        " \n",
        "model=LogisticRegression()\n",
        "model.fit(x,df['classification'])\n",
        " \n",
        "#we are not getting the absolute value\n",
        "feature_importance=pd.DataFrame({'feature':v.get_feature_names(),'feature_importance':model.coef_[0]})\n",
        "feature_importance.sort_values('feature_importance',ascending=False).head(10)"
      ],
      "metadata": {
        "id": "Zsh3NSmjImvh",
        "colab": {
          "base_uri": "https://localhost:8080/",
          "height": 525
        },
        "outputId": "915ababf-7196-413d-d1c9-68d09aa703f2"
      },
      "execution_count": 74,
      "outputs": [
        {
          "output_type": "stream",
          "name": "stderr",
          "text": [
            "/usr/local/lib/python3.8/dist-packages/sklearn/linear_model/_logistic.py:762: ConvergenceWarning: lbfgs failed to converge (status=1):\n",
            "STOP: TOTAL NO. of ITERATIONS REACHED LIMIT.\n",
            "\n",
            "Increase the number of iterations (max_iter) or scale the data as shown in:\n",
            "    https://scikit-learn.org/stable/modules/preprocessing.html\n",
            "Please also refer to the documentation for alternative solver options:\n",
            "    https://scikit-learn.org/stable/modules/linear_model.html#logistic-regression\n",
            "  n_iter_i = _check_optimize_result(\n"
          ]
        },
        {
          "output_type": "execute_result",
          "data": {
            "text/plain": [
              "        feature  feature_importance\n",
              "20870  liputan6            2.203435\n",
              "20442     layar            1.421802\n",
              "23545      muat            1.388180\n",
              "34065     tempo            1.331264\n",
              "26834        ph            1.290951\n",
              "19423    kompas            1.015981\n",
              "20318    lantik            1.003341\n",
              "14474      haid            0.994498\n",
              "25773     palsu            0.993077\n",
              "13633     gelar            0.962242"
            ],
            "text/html": [
              "\n",
              "  <div id=\"df-f4901a9a-ae40-4185-a25f-41a50dcdc601\">\n",
              "    <div class=\"colab-df-container\">\n",
              "      <div>\n",
              "<style scoped>\n",
              "    .dataframe tbody tr th:only-of-type {\n",
              "        vertical-align: middle;\n",
              "    }\n",
              "\n",
              "    .dataframe tbody tr th {\n",
              "        vertical-align: top;\n",
              "    }\n",
              "\n",
              "    .dataframe thead th {\n",
              "        text-align: right;\n",
              "    }\n",
              "</style>\n",
              "<table border=\"1\" class=\"dataframe\">\n",
              "  <thead>\n",
              "    <tr style=\"text-align: right;\">\n",
              "      <th></th>\n",
              "      <th>feature</th>\n",
              "      <th>feature_importance</th>\n",
              "    </tr>\n",
              "  </thead>\n",
              "  <tbody>\n",
              "    <tr>\n",
              "      <th>20870</th>\n",
              "      <td>liputan6</td>\n",
              "      <td>2.203435</td>\n",
              "    </tr>\n",
              "    <tr>\n",
              "      <th>20442</th>\n",
              "      <td>layar</td>\n",
              "      <td>1.421802</td>\n",
              "    </tr>\n",
              "    <tr>\n",
              "      <th>23545</th>\n",
              "      <td>muat</td>\n",
              "      <td>1.388180</td>\n",
              "    </tr>\n",
              "    <tr>\n",
              "      <th>34065</th>\n",
              "      <td>tempo</td>\n",
              "      <td>1.331264</td>\n",
              "    </tr>\n",
              "    <tr>\n",
              "      <th>26834</th>\n",
              "      <td>ph</td>\n",
              "      <td>1.290951</td>\n",
              "    </tr>\n",
              "    <tr>\n",
              "      <th>19423</th>\n",
              "      <td>kompas</td>\n",
              "      <td>1.015981</td>\n",
              "    </tr>\n",
              "    <tr>\n",
              "      <th>20318</th>\n",
              "      <td>lantik</td>\n",
              "      <td>1.003341</td>\n",
              "    </tr>\n",
              "    <tr>\n",
              "      <th>14474</th>\n",
              "      <td>haid</td>\n",
              "      <td>0.994498</td>\n",
              "    </tr>\n",
              "    <tr>\n",
              "      <th>25773</th>\n",
              "      <td>palsu</td>\n",
              "      <td>0.993077</td>\n",
              "    </tr>\n",
              "    <tr>\n",
              "      <th>13633</th>\n",
              "      <td>gelar</td>\n",
              "      <td>0.962242</td>\n",
              "    </tr>\n",
              "  </tbody>\n",
              "</table>\n",
              "</div>\n",
              "      <button class=\"colab-df-convert\" onclick=\"convertToInteractive('df-f4901a9a-ae40-4185-a25f-41a50dcdc601')\"\n",
              "              title=\"Convert this dataframe to an interactive table.\"\n",
              "              style=\"display:none;\">\n",
              "        \n",
              "  <svg xmlns=\"http://www.w3.org/2000/svg\" height=\"24px\"viewBox=\"0 0 24 24\"\n",
              "       width=\"24px\">\n",
              "    <path d=\"M0 0h24v24H0V0z\" fill=\"none\"/>\n",
              "    <path d=\"M18.56 5.44l.94 2.06.94-2.06 2.06-.94-2.06-.94-.94-2.06-.94 2.06-2.06.94zm-11 1L8.5 8.5l.94-2.06 2.06-.94-2.06-.94L8.5 2.5l-.94 2.06-2.06.94zm10 10l.94 2.06.94-2.06 2.06-.94-2.06-.94-.94-2.06-.94 2.06-2.06.94z\"/><path d=\"M17.41 7.96l-1.37-1.37c-.4-.4-.92-.59-1.43-.59-.52 0-1.04.2-1.43.59L10.3 9.45l-7.72 7.72c-.78.78-.78 2.05 0 2.83L4 21.41c.39.39.9.59 1.41.59.51 0 1.02-.2 1.41-.59l7.78-7.78 2.81-2.81c.8-.78.8-2.07 0-2.86zM5.41 20L4 18.59l7.72-7.72 1.47 1.35L5.41 20z\"/>\n",
              "  </svg>\n",
              "      </button>\n",
              "      \n",
              "  <style>\n",
              "    .colab-df-container {\n",
              "      display:flex;\n",
              "      flex-wrap:wrap;\n",
              "      gap: 12px;\n",
              "    }\n",
              "\n",
              "    .colab-df-convert {\n",
              "      background-color: #E8F0FE;\n",
              "      border: none;\n",
              "      border-radius: 50%;\n",
              "      cursor: pointer;\n",
              "      display: none;\n",
              "      fill: #1967D2;\n",
              "      height: 32px;\n",
              "      padding: 0 0 0 0;\n",
              "      width: 32px;\n",
              "    }\n",
              "\n",
              "    .colab-df-convert:hover {\n",
              "      background-color: #E2EBFA;\n",
              "      box-shadow: 0px 1px 2px rgba(60, 64, 67, 0.3), 0px 1px 3px 1px rgba(60, 64, 67, 0.15);\n",
              "      fill: #174EA6;\n",
              "    }\n",
              "\n",
              "    [theme=dark] .colab-df-convert {\n",
              "      background-color: #3B4455;\n",
              "      fill: #D2E3FC;\n",
              "    }\n",
              "\n",
              "    [theme=dark] .colab-df-convert:hover {\n",
              "      background-color: #434B5C;\n",
              "      box-shadow: 0px 1px 3px 1px rgba(0, 0, 0, 0.15);\n",
              "      filter: drop-shadow(0px 1px 2px rgba(0, 0, 0, 0.3));\n",
              "      fill: #FFFFFF;\n",
              "    }\n",
              "  </style>\n",
              "\n",
              "      <script>\n",
              "        const buttonEl =\n",
              "          document.querySelector('#df-f4901a9a-ae40-4185-a25f-41a50dcdc601 button.colab-df-convert');\n",
              "        buttonEl.style.display =\n",
              "          google.colab.kernel.accessAllowed ? 'block' : 'none';\n",
              "\n",
              "        async function convertToInteractive(key) {\n",
              "          const element = document.querySelector('#df-f4901a9a-ae40-4185-a25f-41a50dcdc601');\n",
              "          const dataTable =\n",
              "            await google.colab.kernel.invokeFunction('convertToInteractive',\n",
              "                                                     [key], {});\n",
              "          if (!dataTable) return;\n",
              "\n",
              "          const docLinkHtml = 'Like what you see? Visit the ' +\n",
              "            '<a target=\"_blank\" href=https://colab.research.google.com/notebooks/data_table.ipynb>data table notebook</a>'\n",
              "            + ' to learn more about interactive tables.';\n",
              "          element.innerHTML = '';\n",
              "          dataTable['output_type'] = 'display_data';\n",
              "          await google.colab.output.renderOutput(dataTable, element);\n",
              "          const docLink = document.createElement('div');\n",
              "          docLink.innerHTML = docLinkHtml;\n",
              "          element.appendChild(docLink);\n",
              "        }\n",
              "      </script>\n",
              "    </div>\n",
              "  </div>\n",
              "  "
            ]
          },
          "metadata": {},
          "execution_count": 74
        },
        {
          "output_type": "stream",
          "name": "stdout",
          "text": [
            "time: 18.2 s (started: 2023-01-10 10:18:08 +00:00)\n"
          ]
        }
      ]
    },
    {
      "cell_type": "markdown",
      "metadata": {
        "id": "RtBEwIM9j3qg"
      },
      "source": [
        "#Exploratory Data Analysis"
      ]
    },
    {
      "cell_type": "markdown",
      "source": [
        "#Traditional Machine Learning"
      ],
      "metadata": {
        "id": "tF_KCRgXMqPN"
      }
    },
    {
      "cell_type": "code",
      "source": [
        "#Original Imbalanced Data\n",
        "tvec = TfidfVectorizer(stop_words=None, max_features=100000, ngram_range=(1, 3))\n",
        "lr = LogisticRegression(max_iter=1000)\n",
        "rf = RandomForestClassifier(max_depth=2, random_state=0)\n",
        "neigh = KNeighborsClassifier(n_neighbors=3)\n",
        "gnb = GaussianNB()\n",
        "pct = Perceptron(tol=1e-3, random_state=0)\n",
        "sgd = SGDClassifier(loss=\"hinge\", penalty=\"l2\", max_iter=1000)\n",
        "\n",
        "from sklearn.model_selection import StratifiedKFold\n",
        "from sklearn.metrics import precision_score, recall_score, f1_score\n",
        "\n",
        "def lr_cv(splits, X, Y, pipeline, average_method):\n",
        "    \n",
        "    kfold = StratifiedKFold(n_splits=splits, shuffle=True, random_state=777)\n",
        "    accuracy = []\n",
        "    precision = []\n",
        "    recall = []\n",
        "    f1 = []\n",
        "    for train, test in kfold.split(X, Y):\n",
        "        lr_fit = pipeline.fit(X[train], Y[train])\n",
        "        prediction = lr_fit.predict(X[test])\n",
        "        scores = lr_fit.score(X[test],Y[test])\n",
        "        \n",
        "        accuracy.append(scores * 100)\n",
        "        precision.append(precision_score(Y[test], prediction, average=average_method)*100)\n",
        "        print('Misleading Content,  False Context,  False Content, Fabricated Content, Manipulated Content, Impostor Content, Clarification, False Connection, TRUE, Satire           ')\n",
        "        print('precision:',precision_score(Y[test], prediction, average=None))\n",
        "        recall.append(recall_score(Y[test], prediction, average=average_method)*100)\n",
        "        print('recall:   ',recall_score(Y[test], prediction, average=None))\n",
        "        f1.append(f1_score(Y[test], prediction, average=average_method)*100)\n",
        "        print('f1 score: ',f1_score(Y[test], prediction, average=None))\n",
        "        print('-'*50)\n",
        "\n",
        "    print(\"accuracy: %.2f%% (+/- %.2f%%)\" % (np.mean(accuracy), np.std(accuracy)))\n",
        "    print(\"precision: %.2f%% (+/- %.2f%%)\" % (np.mean(precision), np.std(precision)))\n",
        "    print(\"recall: %.2f%% (+/- %.2f%%)\" % (np.mean(recall), np.std(recall)))\n",
        "    print(\"f1 score: %.2f%% (+/- %.2f%%)\" % (np.mean(f1), np.std(f1)))"
      ],
      "metadata": {
        "colab": {
          "base_uri": "https://localhost:8080/"
        },
        "id": "DP1MdTHtMuDJ",
        "outputId": "c9672ce5-7d34-41d9-be3f-207b5c1c540e"
      },
      "execution_count": 77,
      "outputs": [
        {
          "output_type": "stream",
          "name": "stdout",
          "text": [
            "time: 10.2 ms (started: 2023-01-10 10:22:26 +00:00)\n"
          ]
        }
      ]
    },
    {
      "cell_type": "markdown",
      "source": [
        "##Linear regression"
      ],
      "metadata": {
        "id": "ZMDICzlVNDOb"
      }
    },
    {
      "cell_type": "code",
      "source": [
        "from sklearn.pipeline import Pipeline\n",
        "original_pipeline = Pipeline([\n",
        "    ('vectorizer', tvec),\n",
        "    ('classifier', lr)\n",
        "])\n",
        "lr_cv(5, df.content, df.classification, original_pipeline, 'macro')"
      ],
      "metadata": {
        "colab": {
          "base_uri": "https://localhost:8080/"
        },
        "id": "_L7ssU7ZNAM6",
        "outputId": "5320d6b7-5bbf-4d44-b7ea-b560fda66a44"
      },
      "execution_count": 80,
      "outputs": [
        {
          "output_type": "stream",
          "name": "stderr",
          "text": [
            "/usr/local/lib/python3.8/dist-packages/sklearn/metrics/_classification.py:1221: UndefinedMetricWarning: Precision is ill-defined and being set to 0.0 in labels with no predicted samples. Use `zero_division` parameter to control this behavior.\n",
            "  _warn_prf(average, modifier, msg_start, len(result))\n"
          ]
        },
        {
          "output_type": "stream",
          "name": "stdout",
          "text": [
            "Misleading Content,  False Context,  False Content, Fabricated Content, Manipulated Content, Impostor Content, Clarification, False Connection, TRUE, Satire           \n",
            "precision: [0.80409357 0.25       0.51955307 0.         0.35364042 0.94\n",
            " 0.46226415 0.42820839 0.         0.45454545]\n",
            "recall:    [0.75136612 0.0125     0.40434783 0.         0.53243848 0.46534653\n",
            " 0.21304348 0.64068441 0.         0.05952381]\n",
            "f1 score:  [0.77683616 0.02380952 0.45476773 0.         0.425      0.62251656\n",
            " 0.29166667 0.51332826 0.         0.10526316]\n",
            "--------------------------------------------------\n"
          ]
        },
        {
          "output_type": "stream",
          "name": "stderr",
          "text": [
            "/usr/local/lib/python3.8/dist-packages/sklearn/metrics/_classification.py:1221: UndefinedMetricWarning: Precision is ill-defined and being set to 0.0 in labels with no predicted samples. Use `zero_division` parameter to control this behavior.\n",
            "  _warn_prf(average, modifier, msg_start, len(result))\n"
          ]
        },
        {
          "output_type": "stream",
          "name": "stdout",
          "text": [
            "Misleading Content,  False Context,  False Content, Fabricated Content, Manipulated Content, Impostor Content, Clarification, False Connection, TRUE, Satire           \n",
            "precision: [0.77675841 0.16666667 0.54       0.         0.36214605 0.83823529\n",
            " 0.48113208 0.41329857 0.         0.5       ]\n",
            "recall:    [0.69398907 0.01265823 0.46956522 0.         0.54362416 0.56435644\n",
            " 0.22173913 0.6026616  0.         0.03571429]\n",
            "f1 score:  [0.73304473 0.02352941 0.50232558 0.         0.43470483 0.67455621\n",
            " 0.30357143 0.49033256 0.         0.06666667]\n",
            "--------------------------------------------------\n"
          ]
        },
        {
          "output_type": "stream",
          "name": "stderr",
          "text": [
            "/usr/local/lib/python3.8/dist-packages/sklearn/metrics/_classification.py:1221: UndefinedMetricWarning: Precision is ill-defined and being set to 0.0 in labels with no predicted samples. Use `zero_division` parameter to control this behavior.\n",
            "  _warn_prf(average, modifier, msg_start, len(result))\n"
          ]
        },
        {
          "output_type": "stream",
          "name": "stdout",
          "text": [
            "Misleading Content,  False Context,  False Content, Fabricated Content, Manipulated Content, Impostor Content, Clarification, False Connection, TRUE, Satire           \n",
            "precision: [0.82035928 0.5        0.56020942 0.         0.37637795 0.75862069\n",
            " 0.47154472 0.40903388 0.         0.54545455]\n",
            "recall:    [0.74863388 0.01265823 0.46521739 0.         0.53467562 0.43564356\n",
            " 0.25217391 0.61977186 0.         0.07142857]\n",
            "f1 score:  [0.78285714 0.02469136 0.50831354 0.         0.44177449 0.55345912\n",
            " 0.3286119  0.49281935 0.         0.12631579]\n",
            "--------------------------------------------------\n"
          ]
        },
        {
          "output_type": "stream",
          "name": "stderr",
          "text": [
            "/usr/local/lib/python3.8/dist-packages/sklearn/metrics/_classification.py:1221: UndefinedMetricWarning: Precision is ill-defined and being set to 0.0 in labels with no predicted samples. Use `zero_division` parameter to control this behavior.\n",
            "  _warn_prf(average, modifier, msg_start, len(result))\n"
          ]
        },
        {
          "output_type": "stream",
          "name": "stdout",
          "text": [
            "Misleading Content,  False Context,  False Content, Fabricated Content, Manipulated Content, Impostor Content, Clarification, False Connection, TRUE, Satire           \n",
            "precision: [0.75071633 0.33333333 0.57777778 0.         0.35825545 0.83636364\n",
            " 0.48818898 0.41645244 0.         0.72727273]\n",
            "recall:    [0.71584699 0.03797468 0.45021645 0.         0.51454139 0.46\n",
            " 0.26839827 0.61714286 0.         0.0952381 ]\n",
            "f1 score:  [0.73286713 0.06818182 0.50608273 0.         0.42240588 0.59354839\n",
            " 0.34636872 0.49731389 0.         0.16842105]\n",
            "--------------------------------------------------\n",
            "Misleading Content,  False Context,  False Content, Fabricated Content, Manipulated Content, Impostor Content, Clarification, False Connection, TRUE, Satire           \n",
            "precision: [0.80062305 0.6        0.52808989 0.         0.37384615 0.82142857\n",
            " 0.46601942 0.4136253  0.         0.5       ]\n",
            "recall:    [0.70410959 0.03797468 0.40692641 0.         0.54484305 0.46\n",
            " 0.20779221 0.64638783 0.         0.0952381 ]\n",
            "f1 score:  [0.74927114 0.07142857 0.4596577  0.         0.44343066 0.58974359\n",
            " 0.28742515 0.50445104 0.         0.16      ]\n",
            "--------------------------------------------------\n",
            "accuracy: 48.46% (+/- 0.33%)\n",
            "precision: 43.45% (+/- 1.70%)\n",
            "recall: 31.25% (+/- 0.29%)\n",
            "f1 score: 32.60% (+/- 0.42%)\n",
            "time: 4min 20s (started: 2023-01-10 10:23:27 +00:00)\n"
          ]
        },
        {
          "output_type": "stream",
          "name": "stderr",
          "text": [
            "/usr/local/lib/python3.8/dist-packages/sklearn/metrics/_classification.py:1221: UndefinedMetricWarning: Precision is ill-defined and being set to 0.0 in labels with no predicted samples. Use `zero_division` parameter to control this behavior.\n",
            "  _warn_prf(average, modifier, msg_start, len(result))\n"
          ]
        }
      ]
    },
    {
      "cell_type": "markdown",
      "source": [
        "##Oversampling"
      ],
      "metadata": {
        "id": "dzfB2S-DNTtG"
      }
    },
    {
      "cell_type": "markdown",
      "source": [
        "###Random Over Sampler"
      ],
      "metadata": {
        "id": "uVaoGWdJNaal"
      }
    },
    {
      "cell_type": "code",
      "source": [
        "#Random Over Sampler\n",
        "from imblearn.pipeline import make_pipeline\n",
        "from imblearn.over_sampling import ADASYN, SMOTE, RandomOverSampler\n",
        "\n",
        "ROS_pipeline = make_pipeline(tvec, RandomOverSampler(random_state=777),lr )\n",
        "SMOTE_pipeline_lr = make_pipeline(tvec, SMOTE(random_state=777),lr)\n",
        "SMOTE_pipeline_rf = make_pipeline(tvec, SMOTE(random_state=777),rf)\n",
        "SMOTE_pipeline_neigh = make_pipeline(tvec, SMOTE(random_state=777),neigh)\n",
        "SMOTE_pipeline_gnb = make_pipeline(tvec, SMOTE(random_state=777),gnb)\n",
        "SMOTE_pipeline_pct = make_pipeline(tvec, SMOTE(random_state=777),pct)\n",
        "SMOTE_pipeline_sgd = make_pipeline(tvec, SMOTE(random_state=777),sgd)\n",
        "\n"
      ],
      "metadata": {
        "colab": {
          "base_uri": "https://localhost:8080/"
        },
        "id": "hc4rkunrMplh",
        "outputId": "960502f2-26c7-4580-fff0-449915fd4cd8"
      },
      "execution_count": 81,
      "outputs": [
        {
          "output_type": "stream",
          "name": "stdout",
          "text": [
            "time: 102 ms (started: 2023-01-10 10:29:04 +00:00)\n"
          ]
        }
      ]
    },
    {
      "cell_type": "code",
      "source": [
        "from collections import Counter\n",
        "from imblearn.over_sampling import SMOTE \n",
        "\n",
        "sm = SMOTE(random_state=42)\n",
        "tvec = TfidfVectorizer(stop_words=None, max_features=100000, ngram_range=(1, 3))\n",
        "df_tfidf = tvec.fit_transform(df.content)\n",
        "X_res, y_res = sm.fit_resample(df_tfidf, df.classification)\n",
        "print('Distribution before SMOTE: {}'.format(Counter(df.classification)))\n",
        "print('Distribution after SMOTE: {}'.format(Counter(y_res)))"
      ],
      "metadata": {
        "colab": {
          "base_uri": "https://localhost:8080/"
        },
        "id": "VrQBpKZJN_UN",
        "outputId": "0b93496a-4c5d-4ef5-c608-2cffb92d6a15"
      },
      "execution_count": 84,
      "outputs": [
        {
          "output_type": "stream",
          "name": "stdout",
          "text": [
            "Distribution before SMOTE: Counter({'Misleading Content': 2629, 'False Context': 2234, '-': 1829, 'Fabricated Content': 1152, 'Manipulated Content': 1152, 'Impostor Content': 503, 'TRUE': 420, 'Clarification': 396, 'False Connection': 279, 'Satire': 162})\n",
            "Distribution after SMOTE: Counter({'-': 2629, 'Misleading Content': 2629, 'Fabricated Content': 2629, 'Impostor Content': 2629, 'Manipulated Content': 2629, 'False Context': 2629, 'Satire': 2629, 'False Connection': 2629, 'Clarification': 2629, 'TRUE': 2629})\n",
            "time: 8.1 s (started: 2023-01-10 10:29:56 +00:00)\n"
          ]
        }
      ]
    },
    {
      "cell_type": "code",
      "source": [
        "lr_cv(5, df.content, df.classification, ROS_pipeline, 'macro')"
      ],
      "metadata": {
        "colab": {
          "base_uri": "https://localhost:8080/"
        },
        "id": "oFfhmlDyOA3-",
        "outputId": "31991389-e23f-424d-e424-e0c545139453"
      },
      "execution_count": 85,
      "outputs": [
        {
          "output_type": "stream",
          "name": "stdout",
          "text": [
            "Misleading Content,  False Context,  False Content, Fabricated Content, Manipulated Content, Impostor Content, Clarification, False Connection, TRUE, Satire           \n",
            "precision: [0.83757962 0.21698113 0.48917749 0.2        0.43378995 0.65555556\n",
            " 0.32793522 0.49466951 0.23529412 0.27894737]\n",
            "recall:    [0.71857923 0.2875     0.49130435 0.18181818 0.42505593 0.58415842\n",
            " 0.35217391 0.44106464 0.12121212 0.63095238]\n",
            "f1 score:  [0.77352941 0.24731183 0.49023861 0.19047619 0.42937853 0.61780105\n",
            " 0.33962264 0.46633166 0.16       0.38686131]\n",
            "--------------------------------------------------\n",
            "Misleading Content,  False Context,  False Content, Fabricated Content, Manipulated Content, Impostor Content, Clarification, False Connection, TRUE, Satire           \n",
            "precision: [0.81587302 0.25862069 0.47679325 0.06666667 0.4416476  0.60344828\n",
            " 0.36134454 0.51715686 0.25       0.2372093 ]\n",
            "recall:    [0.70218579 0.37974684 0.49130435 0.05357143 0.43176734 0.69306931\n",
            " 0.37391304 0.40114068 0.1875     0.60714286]\n",
            "f1 score:  [0.75477239 0.30769231 0.48394004 0.05940594 0.43665158 0.64516129\n",
            " 0.36752137 0.45182013 0.21428571 0.34113712]\n",
            "--------------------------------------------------\n",
            "Misleading Content,  False Context,  False Content, Fabricated Content, Manipulated Content, Impostor Content, Clarification, False Connection, TRUE, Satire           \n",
            "precision: [0.83384615 0.25       0.47136564 0.13207547 0.47088608 0.62\n",
            " 0.34645669 0.48806941 0.21568627 0.26368159]\n",
            "recall:    [0.74043716 0.26582278 0.46521739 0.125      0.41610738 0.61386139\n",
            " 0.3826087  0.42775665 0.34375    0.63095238]\n",
            "f1 score:  [0.78437048 0.25766871 0.46827133 0.12844037 0.44180523 0.61691542\n",
            " 0.36363636 0.45592705 0.26506024 0.37192982]\n",
            "--------------------------------------------------\n",
            "Misleading Content,  False Context,  False Content, Fabricated Content, Manipulated Content, Impostor Content, Clarification, False Connection, TRUE, Satire           \n",
            "precision: [0.77981651 0.20353982 0.53846154 0.06976744 0.46313364 0.62727273\n",
            " 0.39925373 0.53221957 0.19047619 0.27179487]\n",
            "recall:    [0.69672131 0.29113924 0.51515152 0.05357143 0.44966443 0.69\n",
            " 0.46320346 0.4247619  0.125      0.63095238]\n",
            "f1 score:  [0.73593074 0.23958333 0.52654867 0.06060606 0.45629966 0.65714286\n",
            " 0.42885772 0.47245763 0.1509434  0.37992832]\n",
            "--------------------------------------------------\n",
            "Misleading Content,  False Context,  False Content, Fabricated Content, Manipulated Content, Impostor Content, Clarification, False Connection, TRUE, Satire           \n",
            "precision: [0.83892617 0.22857143 0.44933921 0.13157895 0.44137931 0.65306122\n",
            " 0.336      0.50727651 0.30434783 0.29081633]\n",
            "recall:    [0.68493151 0.30379747 0.44155844 0.08928571 0.43049327 0.64\n",
            " 0.36363636 0.46387833 0.21212121 0.67857143]\n",
            "f1 score:  [0.75414781 0.26086957 0.44541485 0.10638298 0.43586833 0.64646465\n",
            " 0.34927235 0.48460775 0.25       0.40714286]\n",
            "--------------------------------------------------\n",
            "accuracy: 48.02% (+/- 0.59%)\n",
            "precision: 41.10% (+/- 0.58%)\n",
            "recall: 43.23% (+/- 0.57%)\n",
            "f1 score: 41.13% (+/- 0.32%)\n",
            "time: 5min 50s (started: 2023-01-10 10:30:16 +00:00)\n"
          ]
        }
      ]
    },
    {
      "cell_type": "markdown",
      "source": [
        "###SMOTE with Logistic Regression"
      ],
      "metadata": {
        "id": "lUsHe6lJOPYk"
      }
    },
    {
      "cell_type": "code",
      "source": [
        "#SMOTE with Logistic Regression\n",
        "lr_cv(5, df.content, df.classification, SMOTE_pipeline_lr, 'macro')\n"
      ],
      "metadata": {
        "colab": {
          "base_uri": "https://localhost:8080/"
        },
        "id": "dTXMjparOPpx",
        "outputId": "d2fe7a07-e55d-4604-bb00-7ff447c78048"
      },
      "execution_count": 87,
      "outputs": [
        {
          "output_type": "stream",
          "name": "stdout",
          "text": [
            "Misleading Content,  False Context,  False Content, Fabricated Content, Manipulated Content, Impostor Content, Clarification, False Connection, TRUE, Satire           \n",
            "precision: [0.80804954 0.2016129  0.48484848 0.13461538 0.44018059 0.62886598\n",
            " 0.36714976 0.48336595 0.20833333 0.37142857]\n",
            "recall:    [0.71311475 0.3125     0.48695652 0.12727273 0.43624161 0.6039604\n",
            " 0.33043478 0.46958175 0.15151515 0.61904762]\n",
            "f1 score:  [0.75761974 0.24509804 0.48590022 0.13084112 0.43820225 0.61616162\n",
            " 0.34782609 0.47637416 0.1754386  0.46428571]\n",
            "--------------------------------------------------\n",
            "Misleading Content,  False Context,  False Content, Fabricated Content, Manipulated Content, Impostor Content, Clarification, False Connection, TRUE, Satire           \n",
            "precision: [0.79421222 0.203125   0.46218487 0.07272727 0.45012165 0.57983193\n",
            " 0.3507109  0.4898374  0.24137931 0.30573248]\n",
            "recall:    [0.67486339 0.32911392 0.47826087 0.07142857 0.41387025 0.68316832\n",
            " 0.32173913 0.4581749  0.21875    0.57142857]\n",
            "f1 score:  [0.72968981 0.25120773 0.47008547 0.07207207 0.43123543 0.62727273\n",
            " 0.33560091 0.47347741 0.2295082  0.39834025]\n",
            "--------------------------------------------------\n",
            "Misleading Content,  False Context,  False Content, Fabricated Content, Manipulated Content, Impostor Content, Clarification, False Connection, TRUE, Satire           \n",
            "precision: [0.82621951 0.2020202  0.48962656 0.08333333 0.46564885 0.63917526\n",
            " 0.40178571 0.46808511 0.19298246 0.35555556]\n",
            "recall:    [0.74043716 0.25316456 0.51304348 0.08928571 0.40939597 0.61386139\n",
            " 0.39130435 0.46007605 0.34375    0.57142857]\n",
            "f1 score:  [0.78097983 0.2247191  0.50106157 0.0862069  0.43571429 0.62626263\n",
            " 0.39647577 0.46404602 0.24719101 0.43835616]\n",
            "--------------------------------------------------\n",
            "Misleading Content,  False Context,  False Content, Fabricated Content, Manipulated Content, Impostor Content, Clarification, False Connection, TRUE, Satire           \n",
            "precision: [0.76969697 0.19685039 0.53603604 0.06       0.44262295 0.60869565\n",
            " 0.4        0.51843818 0.23333333 0.33557047]\n",
            "recall:    [0.69398907 0.3164557  0.51515152 0.05357143 0.42281879 0.7\n",
            " 0.41558442 0.4552381  0.21875    0.5952381 ]\n",
            "f1 score:  [0.72988506 0.24271845 0.52538631 0.05660377 0.43249428 0.65116279\n",
            " 0.40764331 0.48478702 0.22580645 0.42918455]\n",
            "--------------------------------------------------\n",
            "Misleading Content,  False Context,  False Content, Fabricated Content, Manipulated Content, Impostor Content, Clarification, False Connection, TRUE, Satire           \n",
            "precision: [0.82142857 0.19811321 0.43829787 0.1509434  0.44976077 0.60185185\n",
            " 0.35648148 0.50188679 0.34782609 0.37662338]\n",
            "recall:    [0.69315068 0.26582278 0.44588745 0.14285714 0.42152466 0.65\n",
            " 0.33333333 0.50570342 0.24242424 0.69047619]\n",
            "f1 score:  [0.75185736 0.22702703 0.44206009 0.14678899 0.43518519 0.625\n",
            " 0.34451902 0.50378788 0.28571429 0.48739496]\n",
            "--------------------------------------------------\n",
            "accuracy: 48.35% (+/- 0.70%)\n",
            "precision: 41.09% (+/- 0.94%)\n",
            "recall: 43.27% (+/- 0.75%)\n",
            "f1 score: 41.58% (+/- 0.79%)\n",
            "time: 5min 30s (started: 2023-01-10 10:36:30 +00:00)\n"
          ]
        }
      ]
    },
    {
      "cell_type": "markdown",
      "source": [
        "###SMOTE with Random Forest"
      ],
      "metadata": {
        "id": "D5qkuOv3O5sp"
      }
    },
    {
      "cell_type": "code",
      "source": [
        "#SMOTE with Random Forest\n",
        "lr_cv(5, df.content, df.classification, SMOTE_pipeline_rf, 'macro')\n"
      ],
      "metadata": {
        "colab": {
          "base_uri": "https://localhost:8080/"
        },
        "id": "-6V7PHbwO6Aa",
        "outputId": "cdeeeddc-50e7-46b9-8246-d406337d59d5"
      },
      "execution_count": 88,
      "outputs": [
        {
          "output_type": "stream",
          "name": "stdout",
          "text": [
            "Misleading Content,  False Context,  False Content, Fabricated Content, Manipulated Content, Impostor Content, Clarification, False Connection, TRUE, Satire           \n",
            "precision: [0.72206304 0.16901408 0.36526946 0.05660377 0.35820896 0.45945946\n",
            " 0.27586207 0.72340426 0.04054054 0.0705347 ]\n",
            "recall:    [0.68852459 0.15       0.26521739 0.10909091 0.10738255 0.33663366\n",
            " 0.03478261 0.06463878 0.36363636 0.73809524]\n",
            "f1 score:  [0.7048951  0.1589404  0.30730479 0.07453416 0.16523236 0.38857143\n",
            " 0.06177606 0.11867365 0.07294833 0.12876428]\n",
            "--------------------------------------------------\n",
            "Misleading Content,  False Context,  False Content, Fabricated Content, Manipulated Content, Impostor Content, Clarification, False Connection, TRUE, Satire           \n",
            "precision: [0.61138614 0.33333333 0.33043478 0.03278689 0.41860465 0.50549451\n",
            " 0.06382979 0.625      0.03278689 0.07542857]\n",
            "recall:    [0.67486339 0.15189873 0.33043478 0.03571429 0.08053691 0.45544554\n",
            " 0.01304348 0.01901141 0.3125     0.78571429]\n",
            "f1 score:  [0.64155844 0.20869565 0.33043478 0.03418803 0.13508443 0.47916667\n",
            " 0.02166065 0.03690037 0.05934718 0.13764338]\n",
            "--------------------------------------------------\n",
            "Misleading Content,  False Context,  False Content, Fabricated Content, Manipulated Content, Impostor Content, Clarification, False Connection, TRUE, Satire           \n",
            "precision: [0.61238532 0.10869565 0.33333333 0.07142857 0.34693878 0.42222222\n",
            " 0.20967742 0.40449438 0.06912442 0.07815846]\n",
            "recall:    [0.7295082  0.06329114 0.1173913  0.125      0.07606264 0.37623762\n",
            " 0.05652174 0.06844106 0.46875    0.86904762]\n",
            "f1 score:  [0.66583541 0.08       0.17363344 0.09090909 0.12477064 0.39790576\n",
            " 0.0890411  0.11707317 0.12048193 0.14341847]\n",
            "--------------------------------------------------\n",
            "Misleading Content,  False Context,  False Content, Fabricated Content, Manipulated Content, Impostor Content, Clarification, False Connection, TRUE, Satire           \n",
            "precision: [0.61097257 0.2027027  0.42241379 0.06329114 0.28275862 0.39090909\n",
            " 0.20408163 0.53521127 0.0430622  0.07580825]\n",
            "recall:    [0.66939891 0.18987342 0.21212121 0.08928571 0.0917226  0.43\n",
            " 0.04329004 0.07238095 0.28125    0.80952381]\n",
            "f1 score:  [0.63885267 0.19607843 0.28242075 0.07407407 0.13851351 0.40952381\n",
            " 0.07142857 0.12751678 0.0746888  0.13863405]\n",
            "--------------------------------------------------\n",
            "Misleading Content,  False Context,  False Content, Fabricated Content, Manipulated Content, Impostor Content, Clarification, False Connection, TRUE, Satire           \n",
            "precision: [0.66486486 0.24       0.33       0.06741573 0.375      0.54545455\n",
            " 0.3442623  0.4        0.06030151 0.0778032 ]\n",
            "recall:    [0.6739726  0.15189873 0.28571429 0.10714286 0.11434978 0.42\n",
            " 0.09090909 0.07224335 0.36363636 0.80952381]\n",
            "f1 score:  [0.66938776 0.18604651 0.3062645  0.08275862 0.17525773 0.47457627\n",
            " 0.14383562 0.12238325 0.10344828 0.14196242]\n",
            "--------------------------------------------------\n",
            "accuracy: 24.52% (+/- 0.87%)\n",
            "precision: 29.73% (+/- 2.06%)\n",
            "recall: 29.29% (+/- 0.87%)\n",
            "f1 score: 21.65% (+/- 1.35%)\n",
            "time: 31 s (started: 2023-01-10 10:42:01 +00:00)\n"
          ]
        }
      ]
    },
    {
      "cell_type": "markdown",
      "source": [
        "###SMOTE with KNN"
      ],
      "metadata": {
        "id": "zG4cAiO6PAun"
      }
    },
    {
      "cell_type": "code",
      "source": [
        "#SMOTE with KNN\n",
        "lr_cv(5, df.content, df.classification, SMOTE_pipeline_neigh, 'macro')\n"
      ],
      "metadata": {
        "colab": {
          "base_uri": "https://localhost:8080/"
        },
        "id": "hfFuf3_7PA_m",
        "outputId": "b7b65d67-7ed5-4234-dc1d-4ee3b18ca27a"
      },
      "execution_count": 89,
      "outputs": [
        {
          "output_type": "stream",
          "name": "stdout",
          "text": [
            "Misleading Content,  False Context,  False Content, Fabricated Content, Manipulated Content, Impostor Content, Clarification, False Connection, TRUE, Satire           \n",
            "precision: [0.43537415 0.07368421 0.36683417 0.07971014 0.34210526 0.26666667\n",
            " 0.23509934 0.71428571 0.10588235 0.08982036]\n",
            "recall:    [0.52459016 0.4375     0.3173913  0.2        0.05816555 0.67326733\n",
            " 0.30869565 0.01901141 0.27272727 0.17857143]\n",
            "f1 score:  [0.47583643 0.12612613 0.34032634 0.11398964 0.09942639 0.38202247\n",
            " 0.26691729 0.03703704 0.15254237 0.11952191]\n",
            "--------------------------------------------------\n",
            "Misleading Content,  False Context,  False Content, Fabricated Content, Manipulated Content, Impostor Content, Clarification, False Connection, TRUE, Satire           \n",
            "precision: [0.41898148 0.06775701 0.33152174 0.07758621 0.35632184 0.20489297\n",
            " 0.24904215 0.5        0.04575163 0.09933775]\n",
            "recall:    [0.49453552 0.36708861 0.26521739 0.16071429 0.06935123 0.66336634\n",
            " 0.2826087  0.01140684 0.21875    0.17857143]\n",
            "f1 score:  [0.45363409 0.11439842 0.29468599 0.10465116 0.11610487 0.31308411\n",
            " 0.26476578 0.02230483 0.07567568 0.12765957]\n",
            "--------------------------------------------------\n",
            "Misleading Content,  False Context,  False Content, Fabricated Content, Manipulated Content, Impostor Content, Clarification, False Connection, TRUE, Satire           \n",
            "precision: [0.43249428 0.07092199 0.31428571 0.08333333 0.37681159 0.252\n",
            " 0.2360515  0.54545455 0.07017544 0.125     ]\n",
            "recall:    [0.51639344 0.37974684 0.33478261 0.28571429 0.05816555 0.62376238\n",
            " 0.23913043 0.01140684 0.375      0.17857143]\n",
            "f1 score:  [0.47073474 0.11952191 0.32421053 0.12903226 0.10077519 0.35897436\n",
            " 0.23758099 0.02234637 0.1182266  0.14705882]\n",
            "--------------------------------------------------\n",
            "Misleading Content,  False Context,  False Content, Fabricated Content, Manipulated Content, Impostor Content, Clarification, False Connection, TRUE, Satire           \n",
            "precision: [0.38989899 0.05681818 0.33031674 0.07407407 0.27272727 0.36571429\n",
            " 0.18150685 0.77777778 0.10526316 0.08376963]\n",
            "recall:    [0.5273224  0.3164557  0.31601732 0.28571429 0.03355705 0.64\n",
            " 0.22943723 0.01333333 0.1875     0.19047619]\n",
            "f1 score:  [0.44831591 0.09633911 0.32300885 0.11764706 0.05976096 0.46545455\n",
            " 0.20267686 0.02621723 0.13483146 0.11636364]\n",
            "--------------------------------------------------\n",
            "Misleading Content,  False Context,  False Content, Fabricated Content, Manipulated Content, Impostor Content, Clarification, False Connection, TRUE, Satire           \n",
            "precision: [0.39864865 0.06711409 0.34615385 0.07729469 0.24528302 0.24080268\n",
            " 0.25       0.45454545 0.07051282 0.08333333]\n",
            "recall:    [0.48493151 0.37974684 0.27272727 0.28571429 0.02914798 0.72\n",
            " 0.23809524 0.0095057  0.33333333 0.13095238]\n",
            "f1 score:  [0.43757726 0.11406844 0.30508475 0.121673   0.05210421 0.36090226\n",
            " 0.24390244 0.01862197 0.11640212 0.10185185]\n",
            "--------------------------------------------------\n",
            "accuracy: 22.23% (+/- 0.91%)\n",
            "precision: 24.88% (+/- 1.76%)\n",
            "recall: 28.66% (+/- 1.22%)\n",
            "f1 score: 19.78% (+/- 0.90%)\n",
            "time: 44 s (started: 2023-01-10 10:42:32 +00:00)\n"
          ]
        }
      ]
    },
    {
      "cell_type": "markdown",
      "source": [
        "###SMOTE with Perceptron"
      ],
      "metadata": {
        "id": "naa446YpPGtb"
      }
    },
    {
      "cell_type": "code",
      "source": [
        "#SMOTE with Perceptron\n",
        "lr_cv(5, df.content, df.classification, SMOTE_pipeline_pct, 'macro')"
      ],
      "metadata": {
        "colab": {
          "base_uri": "https://localhost:8080/"
        },
        "id": "zeXWHCC0PHJT",
        "outputId": "e4d937a8-b40a-488b-e3d3-022b5c4ed357"
      },
      "execution_count": 90,
      "outputs": [
        {
          "output_type": "stream",
          "name": "stdout",
          "text": [
            "Misleading Content,  False Context,  False Content, Fabricated Content, Manipulated Content, Impostor Content, Clarification, False Connection, TRUE, Satire           \n",
            "precision: [0.76519337 0.15517241 0.44888889 0.10526316 0.36596737 0.62068966\n",
            " 0.25783972 0.43611584 0.13636364 0.1754386 ]\n",
            "recall:    [0.7568306  0.1125     0.43913043 0.07272727 0.35123043 0.53465347\n",
            " 0.32173913 0.48669202 0.09090909 0.11904762]\n",
            "f1 score:  [0.76098901 0.13043478 0.44395604 0.08602151 0.35844749 0.57446809\n",
            " 0.28626692 0.46001797 0.10909091 0.14184397]\n",
            "--------------------------------------------------\n",
            "Misleading Content,  False Context,  False Content, Fabricated Content, Manipulated Content, Impostor Content, Clarification, False Connection, TRUE, Satire           \n",
            "precision: [0.6247191  0.17241379 0.48128342 0.11111111 0.38916256 0.55462185\n",
            " 0.27835052 0.41987179 0.14285714 0.23684211]\n",
            "recall:    [0.75956284 0.12658228 0.39130435 0.08928571 0.35346756 0.65346535\n",
            " 0.23478261 0.49809886 0.15625    0.10714286]\n",
            "f1 score:  [0.68557337 0.1459854  0.43165468 0.0990099  0.37045721 0.6\n",
            " 0.25471698 0.45565217 0.14925373 0.14754098]\n",
            "--------------------------------------------------\n",
            "Misleading Content,  False Context,  False Content, Fabricated Content, Manipulated Content, Impostor Content, Clarification, False Connection, TRUE, Satire           \n",
            "precision: [0.7265625  0.20895522 0.42920354 0.075      0.38848921 0.59302326\n",
            " 0.36744186 0.43557169 0.07142857 0.4587156 ]\n",
            "recall:    [0.76229508 0.17721519 0.42173913 0.05357143 0.36241611 0.5049505\n",
            " 0.34347826 0.45627376 0.125      0.5952381 ]\n",
            "f1 score:  [0.744      0.19178082 0.4254386  0.0625     0.375      0.54545455\n",
            " 0.35505618 0.44568245 0.09090909 0.51813472]\n",
            "--------------------------------------------------\n",
            "Misleading Content,  False Context,  False Content, Fabricated Content, Manipulated Content, Impostor Content, Clarification, False Connection, TRUE, Satire           \n",
            "precision: [0.71279373 0.1875     0.48858447 0.02631579 0.43356643 0.53846154\n",
            " 0.36585366 0.45787546 0.05555556 0.3963964 ]\n",
            "recall:    [0.74590164 0.18987342 0.46320346 0.01785714 0.41610738 0.56\n",
            " 0.32467532 0.47619048 0.0625     0.52380952]\n",
            "f1 score:  [0.72897196 0.18867925 0.47555556 0.0212766  0.42465753 0.54901961\n",
            " 0.3440367  0.46685341 0.05882353 0.45128205]\n",
            "--------------------------------------------------\n",
            "Misleading Content,  False Context,  False Content, Fabricated Content, Manipulated Content, Impostor Content, Clarification, False Connection, TRUE, Satire           \n",
            "precision: [0.62672811 0.18181818 0.36820084 0.11627907 0.38412017 0.59259259\n",
            " 0.34972678 0.44897959 0.09302326 0.06666667]\n",
            "recall:    [0.74520548 0.15189873 0.38095238 0.08928571 0.40134529 0.64\n",
            " 0.27705628 0.46007605 0.12121212 0.02380952]\n",
            "f1 score:  [0.68085106 0.16551724 0.37446809 0.1010101  0.39254386 0.61538462\n",
            " 0.30917874 0.45446009 0.10526316 0.03508772]\n",
            "--------------------------------------------------\n",
            "accuracy: 44.64% (+/- 1.37%)\n",
            "precision: 35.05% (+/- 1.87%)\n",
            "recall: 35.06% (+/- 2.35%)\n",
            "f1 score: 34.78% (+/- 2.12%)\n",
            "time: 32 s (started: 2023-01-10 10:43:16 +00:00)\n"
          ]
        }
      ]
    },
    {
      "cell_type": "markdown",
      "source": [
        "###SMOTE with SGD"
      ],
      "metadata": {
        "id": "E4qiK-66PZBV"
      }
    },
    {
      "cell_type": "code",
      "source": [
        "#SMOTE with SGD\n",
        "lr_cv(5, df.content, df.classification, SMOTE_pipeline_sgd, 'macro')\n"
      ],
      "metadata": {
        "colab": {
          "base_uri": "https://localhost:8080/"
        },
        "id": "aabIVDG7PYTg",
        "outputId": "66e9a735-01af-4a9f-ecef-a5aeae3db149"
      },
      "execution_count": 91,
      "outputs": [
        {
          "output_type": "stream",
          "name": "stdout",
          "text": [
            "Misleading Content,  False Context,  False Content, Fabricated Content, Manipulated Content, Impostor Content, Clarification, False Connection, TRUE, Satire           \n",
            "precision: [0.71168831 0.17482517 0.46245059 0.12698413 0.42228739 0.51694915\n",
            " 0.35353535 0.54455446 0.1372549  0.38345865]\n",
            "recall:    [0.74863388 0.3125     0.50869565 0.29090909 0.32214765 0.6039604\n",
            " 0.30434783 0.41825095 0.21212121 0.60714286]\n",
            "f1 score:  [0.72969374 0.22421525 0.48447205 0.17679558 0.36548223 0.55707763\n",
            " 0.3271028  0.47311828 0.16666667 0.47004608]\n",
            "--------------------------------------------------\n",
            "Misleading Content,  False Context,  False Content, Fabricated Content, Manipulated Content, Impostor Content, Clarification, False Connection, TRUE, Satire           \n",
            "precision: [0.68542199 0.21875    0.40569395 0.07462687 0.48       0.47260274\n",
            " 0.3814433  0.50789474 0.14754098 0.39705882]\n",
            "recall:    [0.73224044 0.35443038 0.49565217 0.17857143 0.32214765 0.68316832\n",
            " 0.32173913 0.36692015 0.28125    0.64285714]\n",
            "f1 score:  [0.70805812 0.2705314  0.44618395 0.10526316 0.38554217 0.55870445\n",
            " 0.3490566  0.42604857 0.19354839 0.49090909]\n",
            "--------------------------------------------------\n",
            "Misleading Content,  False Context,  False Content, Fabricated Content, Manipulated Content, Impostor Content, Clarification, False Connection, TRUE, Satire           \n",
            "precision: [0.69471154 0.20183486 0.44402985 0.1025641  0.4801444  0.52419355\n",
            " 0.4009009  0.49875931 0.13829787 0.42975207]\n",
            "recall:    [0.78961749 0.27848101 0.5173913  0.21428571 0.29753915 0.64356436\n",
            " 0.38695652 0.38212928 0.40625    0.61904762]\n",
            "f1 score:  [0.73913043 0.23404255 0.47791165 0.13872832 0.36740331 0.57777778\n",
            " 0.39380531 0.43272336 0.20634921 0.50731707]\n",
            "--------------------------------------------------\n",
            "Misleading Content,  False Context,  False Content, Fabricated Content, Manipulated Content, Impostor Content, Clarification, False Connection, TRUE, Satire           \n",
            "precision: [0.70618557 0.15923567 0.47222222 0.07692308 0.44968553 0.50364964\n",
            " 0.43438914 0.51358696 0.14285714 0.41129032]\n",
            "recall:    [0.74863388 0.3164557  0.51515152 0.17857143 0.31991051 0.69\n",
            " 0.41558442 0.36       0.25       0.60714286]\n",
            "f1 score:  [0.72679045 0.21186441 0.49275362 0.10752688 0.37385621 0.58227848\n",
            " 0.42477876 0.42329227 0.18181818 0.49038462]\n",
            "--------------------------------------------------\n",
            "Misleading Content,  False Context,  False Content, Fabricated Content, Manipulated Content, Impostor Content, Clarification, False Connection, TRUE, Satire           \n",
            "precision: [0.69129288 0.17692308 0.41287879 0.09401709 0.46984127 0.51824818\n",
            " 0.37368421 0.52267303 0.12857143 0.42307692]\n",
            "recall:    [0.71780822 0.29113924 0.47186147 0.19642857 0.33183857 0.71\n",
            " 0.30735931 0.41634981 0.27272727 0.6547619 ]\n",
            "f1 score:  [0.70430108 0.22009569 0.44040404 0.12716763 0.38896189 0.59915612\n",
            " 0.33729216 0.46349206 0.17475728 0.51401869]\n",
            "--------------------------------------------------\n",
            "accuracy: 45.60% (+/- 0.49%)\n",
            "precision: 38.40% (+/- 0.49%)\n",
            "recall: 44.03% (+/- 0.70%)\n",
            "f1 score: 39.94% (+/- 0.48%)\n",
            "time: 36.4 s (started: 2023-01-10 10:43:48 +00:00)\n"
          ]
        }
      ]
    },
    {
      "cell_type": "markdown",
      "source": [
        "#Downsampling"
      ],
      "metadata": {
        "id": "LbM_ph5ePiqA"
      }
    },
    {
      "cell_type": "code",
      "source": [
        "from imblearn.under_sampling import NearMiss, RandomUnderSampler\n",
        "from imblearn import under_sampling as us\n",
        "\n",
        "RUS_pipeline = make_pipeline(tvec, RandomUnderSampler(random_state=777),lr)\n",
        "NM1_pipeline = make_pipeline(tvec, NearMiss(sampling_strategy='not minority', version = 1),lr)\n",
        "NM2_pipeline = make_pipeline(tvec, NearMiss(sampling_strategy='not minority', version = 2),lr)\n",
        "NM3_pipeline = make_pipeline(tvec, NearMiss(sampling_strategy='not minority', version = 3, n_neighbors_ver3=4),lr)"
      ],
      "metadata": {
        "colab": {
          "base_uri": "https://localhost:8080/"
        },
        "id": "PfQY_XXOPi3y",
        "outputId": "35a36f7b-c629-4501-932c-69751173614f"
      },
      "execution_count": 92,
      "outputs": [
        {
          "output_type": "stream",
          "name": "stdout",
          "text": [
            "time: 5.95 ms (started: 2023-01-10 10:44:25 +00:00)\n"
          ]
        }
      ]
    },
    {
      "cell_type": "markdown",
      "source": [
        "## RandomUnderSampler"
      ],
      "metadata": {
        "id": "RKaZ-xciQcAn"
      }
    },
    {
      "cell_type": "code",
      "source": [
        "lr_cv(5, df.content, df.classification, RUS_pipeline, 'macro')"
      ],
      "metadata": {
        "colab": {
          "base_uri": "https://localhost:8080/"
        },
        "id": "-wiLylRTQcKd",
        "outputId": "cc6f218b-f304-4fbf-c715-fa44d9ac7b39"
      },
      "execution_count": 94,
      "outputs": [
        {
          "output_type": "stream",
          "name": "stdout",
          "text": [
            "Misleading Content,  False Context,  False Content, Fabricated Content, Manipulated Content, Impostor Content, Clarification, False Connection, TRUE, Satire           \n",
            "precision: [0.75796178 0.13270142 0.35748792 0.08928571 0.38297872 0.56410256\n",
            " 0.2516129  0.46184739 0.05462185 0.18688525]\n",
            "recall:    [0.65027322 0.35       0.32173913 0.27272727 0.16107383 0.65346535\n",
            " 0.16956522 0.21863118 0.39393939 0.67857143]\n",
            "f1 score:  [0.7        0.19243986 0.33867277 0.13452915 0.22677165 0.60550459\n",
            " 0.2025974  0.29677419 0.09594096 0.29305913]\n",
            "--------------------------------------------------\n",
            "Misleading Content,  False Context,  False Content, Fabricated Content, Manipulated Content, Impostor Content, Clarification, False Connection, TRUE, Satire           \n",
            "precision: [0.77       0.14778325 0.41436464 0.09756098 0.39655172 0.51094891\n",
            " 0.26428571 0.49042146 0.04379562 0.17981073]\n",
            "recall:    [0.63114754 0.37974684 0.32608696 0.28571429 0.15436242 0.69306931\n",
            " 0.16086957 0.24334601 0.375      0.67857143]\n",
            "f1 score:  [0.69369369 0.21276596 0.3649635  0.14545455 0.22222222 0.58823529\n",
            " 0.2        0.3252859  0.07843137 0.28428928]\n",
            "--------------------------------------------------\n",
            "Misleading Content,  False Context,  False Content, Fabricated Content, Manipulated Content, Impostor Content, Clarification, False Connection, TRUE, Satire           \n",
            "precision: [0.80263158 0.11428571 0.47826087 0.06451613 0.37869822 0.52991453\n",
            " 0.23952096 0.4906367  0.06622517 0.1980198 ]\n",
            "recall:    [0.66666667 0.25316456 0.33478261 0.21428571 0.14317673 0.61386139\n",
            " 0.17391304 0.24904943 0.625      0.71428571]\n",
            "f1 score:  [0.72835821 0.15748031 0.39386189 0.09917355 0.20779221 0.56880734\n",
            " 0.20151134 0.33039092 0.11976048 0.31007752]\n",
            "--------------------------------------------------\n",
            "Misleading Content,  False Context,  False Content, Fabricated Content, Manipulated Content, Impostor Content, Clarification, False Connection, TRUE, Satire           \n",
            "precision: [0.72136223 0.13942308 0.49367089 0.10204082 0.32727273 0.47260274\n",
            " 0.32748538 0.49612403 0.05652174 0.17391304]\n",
            "recall:    [0.63661202 0.36708861 0.33766234 0.26785714 0.12080537 0.69\n",
            " 0.24242424 0.24380952 0.40625    0.71428571]\n",
            "f1 score:  [0.67634253 0.20209059 0.40102828 0.14778325 0.17647059 0.56097561\n",
            " 0.27860697 0.32694764 0.09923664 0.27972028]\n",
            "--------------------------------------------------\n",
            "Misleading Content,  False Context,  False Content, Fabricated Content, Manipulated Content, Impostor Content, Clarification, False Connection, TRUE, Satire           \n",
            "precision: [0.75503356 0.15957447 0.37931034 0.07909605 0.40697674 0.5483871\n",
            " 0.28658537 0.50787402 0.07522124 0.1884058 ]\n",
            "recall:    [0.61643836 0.37974684 0.33333333 0.25       0.15695067 0.68\n",
            " 0.2034632  0.24524715 0.51515152 0.77380952]\n",
            "f1 score:  [0.67873303 0.2247191  0.35483871 0.12017167 0.22653722 0.60714286\n",
            " 0.23797468 0.33076923 0.13127413 0.3030303 ]\n",
            "--------------------------------------------------\n",
            "accuracy: 33.93% (+/- 0.40%)\n",
            "precision: 33.23% (+/- 0.51%)\n",
            "recall: 39.93% (+/- 0.96%)\n",
            "f1 score: 31.37% (+/- 0.44%)\n",
            "time: 1min 39s (started: 2023-01-10 10:45:32 +00:00)\n"
          ]
        }
      ]
    },
    {
      "cell_type": "markdown",
      "source": [
        "##Near Miss"
      ],
      "metadata": {
        "id": "gmcDYnrcRYwF"
      }
    },
    {
      "cell_type": "markdown",
      "source": [
        "###Near Miss 1"
      ],
      "metadata": {
        "id": "RHGm6-xQROuN"
      }
    },
    {
      "cell_type": "code",
      "source": [
        "lr_cv(5, df.content, df.classification, NM1_pipeline, 'macro')\n"
      ],
      "metadata": {
        "colab": {
          "base_uri": "https://localhost:8080/"
        },
        "id": "BQEAzt-URO2A",
        "outputId": "6e8d0254-9954-4807-80ff-b843e717fff5"
      },
      "execution_count": 95,
      "outputs": [
        {
          "output_type": "stream",
          "name": "stdout",
          "text": [
            "Misleading Content,  False Context,  False Content, Fabricated Content, Manipulated Content, Impostor Content, Clarification, False Connection, TRUE, Satire           \n",
            "precision: [0.86055777 0.10886076 0.33       0.07183908 0.38235294 0.41401274\n",
            " 0.27472527 0.50549451 0.03100775 0.08429119]\n",
            "recall:    [0.59016393 0.5375     0.14347826 0.45454545 0.05816555 0.64356436\n",
            " 0.10869565 0.08745247 0.12121212 0.52380952]\n",
            "f1 score:  [0.70016207 0.18105263 0.2        0.12406948 0.10097087 0.50387597\n",
            " 0.15576324 0.14910859 0.04938272 0.14521452]\n",
            "--------------------------------------------------\n",
            "Misleading Content,  False Context,  False Content, Fabricated Content, Manipulated Content, Impostor Content, Clarification, False Connection, TRUE, Satire           \n",
            "precision: [0.83141762 0.09855072 0.5        0.07236842 0.46391753 0.39877301\n",
            " 0.34862385 0.50961538 0.05109489 0.0867052 ]\n",
            "recall:    [0.59289617 0.43037975 0.24347826 0.39285714 0.10067114 0.64356436\n",
            " 0.16521739 0.10076046 0.21875    0.53571429]\n",
            "f1 score:  [0.69218501 0.16037736 0.32748538 0.12222222 0.16544118 0.49242424\n",
            " 0.22418879 0.16825397 0.08284024 0.14925373]\n",
            "--------------------------------------------------\n",
            "Misleading Content,  False Context,  False Content, Fabricated Content, Manipulated Content, Impostor Content, Clarification, False Connection, TRUE, Satire           \n",
            "precision: [0.88306452 0.10179641 0.2972973  0.05448718 0.39047619 0.36054422\n",
            " 0.33944954 0.47706422 0.06748466 0.09356725]\n",
            "recall:    [0.59836066 0.43037975 0.14347826 0.30357143 0.0917226  0.52475248\n",
            " 0.16086957 0.09885932 0.34375    0.57142857]\n",
            "f1 score:  [0.71335505 0.16464891 0.19354839 0.0923913  0.14855072 0.42741935\n",
            " 0.21828909 0.16377953 0.11282051 0.16080402]\n",
            "--------------------------------------------------\n",
            "Misleading Content,  False Context,  False Content, Fabricated Content, Manipulated Content, Impostor Content, Clarification, False Connection, TRUE, Satire           \n",
            "precision: [0.80876494 0.07801418 0.37614679 0.06930693 0.35714286 0.3442623\n",
            " 0.40566038 0.57317073 0.07692308 0.08484848]\n",
            "recall:    [0.55464481 0.41772152 0.17748918 0.375      0.04474273 0.63\n",
            " 0.18614719 0.08952381 0.34375    0.5       ]\n",
            "f1 score:  [0.65802269 0.1314741  0.24117647 0.11699164 0.07952286 0.44522968\n",
            " 0.25519288 0.15485997 0.12571429 0.14507772]\n",
            "--------------------------------------------------\n",
            "Misleading Content,  False Context,  False Content, Fabricated Content, Manipulated Content, Impostor Content, Clarification, False Connection, TRUE, Satire           \n",
            "precision: [0.85306122 0.10626703 0.32967033 0.04545455 0.38028169 0.4676259\n",
            " 0.3362069  0.5375     0.06153846 0.09285714]\n",
            "recall:    [0.57260274 0.49367089 0.12987013 0.28571429 0.06053812 0.65\n",
            " 0.16883117 0.08174905 0.24242424 0.61904762]\n",
            "f1 score:  [0.6852459  0.17488789 0.1863354  0.07843137 0.10444874 0.54393305\n",
            " 0.22478386 0.14191419 0.09815951 0.16149068]\n",
            "--------------------------------------------------\n",
            "accuracy: 25.16% (+/- 1.01%)\n",
            "precision: 31.75% (+/- 1.10%)\n",
            "recall: 33.17% (+/- 0.57%)\n",
            "f1 score: 24.09% (+/- 0.94%)\n",
            "time: 1min 44s (started: 2023-01-10 10:47:12 +00:00)\n"
          ]
        }
      ]
    },
    {
      "cell_type": "code",
      "source": [
        "from collections import Counter\n",
        "\n",
        "nm1 = NearMiss(sampling_strategy='not minority', version=1, n_neighbors_ver3=4)\n",
        "tvec = TfidfVectorizer(stop_words=None, max_features=100000, ngram_range=(1, 3))\n",
        "df_tfidf = tvec.fit_transform(df.content)\n",
        "X_res, y_res = nm1.fit_resample(df_tfidf, df.classification)\n",
        "print('Distribution before NearMiss-1: {}'.format(Counter(df.classification)))\n",
        "print('Distribution after NearMiss-1: {}'.format(Counter(y_res)))"
      ],
      "metadata": {
        "colab": {
          "base_uri": "https://localhost:8080/"
        },
        "id": "tGKzM-sJRW9z",
        "outputId": "dab946b8-868e-4a39-99a0-3522b5c9ffba"
      },
      "execution_count": 98,
      "outputs": [
        {
          "output_type": "stream",
          "name": "stdout",
          "text": [
            "Distribution before NearMiss-1: Counter({'Misleading Content': 2629, 'False Context': 2234, '-': 1829, 'Fabricated Content': 1152, 'Manipulated Content': 1152, 'Impostor Content': 503, 'TRUE': 420, 'Clarification': 396, 'False Connection': 279, 'Satire': 162})\n",
            "Distribution after NearMiss-1: Counter({'-': 162, 'Clarification': 162, 'Fabricated Content': 162, 'False Connection': 162, 'False Context': 162, 'Impostor Content': 162, 'Manipulated Content': 162, 'Misleading Content': 162, 'Satire': 162, 'TRUE': 162})\n",
            "time: 7.76 s (started: 2023-01-10 10:49:31 +00:00)\n"
          ]
        }
      ]
    },
    {
      "cell_type": "markdown",
      "source": [
        "### Near Miss 2"
      ],
      "metadata": {
        "id": "EU9ZShWaQylG"
      }
    },
    {
      "cell_type": "code",
      "source": [
        "lr_cv(5, df.content, df.classification, NM2_pipeline, 'macro')"
      ],
      "metadata": {
        "colab": {
          "base_uri": "https://localhost:8080/"
        },
        "id": "xZ_RuLFmQy5e",
        "outputId": "0312bd0a-e201-4570-dc45-8324ea5583f3"
      },
      "execution_count": 100,
      "outputs": [
        {
          "output_type": "stream",
          "name": "stdout",
          "text": [
            "Misleading Content,  False Context,  False Content, Fabricated Content, Manipulated Content, Impostor Content, Clarification, False Connection, TRUE, Satire           \n",
            "precision: [0.8372093  0.11295681 0.37305699 0.10087719 0.42346939 0.66666667\n",
            " 0.22857143 0.52432432 0.06756757 0.11057692]\n",
            "recall:    [0.59016393 0.425      0.31304348 0.41818182 0.18568233 0.57425743\n",
            " 0.13913043 0.18441065 0.3030303  0.54761905]\n",
            "f1 score:  [0.69230769 0.17847769 0.34042553 0.16254417 0.25816485 0.61702128\n",
            " 0.17297297 0.27285513 0.11049724 0.184     ]\n",
            "--------------------------------------------------\n",
            "Misleading Content,  False Context,  False Content, Fabricated Content, Manipulated Content, Impostor Content, Clarification, False Connection, TRUE, Satire           \n",
            "precision: [0.71621622 0.1221374  0.38509317 0.06936416 0.34857143 0.51908397\n",
            " 0.28235294 0.48809524 0.07638889 0.09129512]\n",
            "recall:    [0.57923497 0.40506329 0.26956522 0.21428571 0.13646532 0.67326733\n",
            " 0.20869565 0.15589354 0.34375    0.51190476]\n",
            "f1 score:  [0.64048338 0.18768328 0.31713555 0.10480349 0.19614148 0.5862069\n",
            " 0.24       0.23631124 0.125      0.15495495]\n",
            "--------------------------------------------------\n",
            "Misleading Content,  False Context,  False Content, Fabricated Content, Manipulated Content, Impostor Content, Clarification, False Connection, TRUE, Satire           \n",
            "precision: [0.82795699 0.14782609 0.39705882 0.08900524 0.41040462 0.53982301\n",
            " 0.24019608 0.5        0.08080808 0.11508951]\n",
            "recall:    [0.63114754 0.43037975 0.35217391 0.30357143 0.15883669 0.6039604\n",
            " 0.21304348 0.15969582 0.5        0.53571429]\n",
            "f1 score:  [0.71627907 0.22006472 0.37327189 0.13765182 0.22903226 0.57009346\n",
            " 0.22580645 0.24207493 0.13913043 0.18947368]\n",
            "--------------------------------------------------\n",
            "Misleading Content,  False Context,  False Content, Fabricated Content, Manipulated Content, Impostor Content, Clarification, False Connection, TRUE, Satire           \n",
            "precision: [0.7122807  0.09126984 0.49032258 0.08839779 0.41212121 0.51694915\n",
            " 0.20930233 0.49726776 0.07843137 0.10687023]\n",
            "recall:    [0.55464481 0.29113924 0.32900433 0.28571429 0.15212528 0.61\n",
            " 0.19480519 0.17333333 0.5        0.5       ]\n",
            "f1 score:  [0.62365591 0.13897281 0.39378238 0.1350211  0.22222222 0.55963303\n",
            " 0.20179372 0.25706215 0.13559322 0.17610063]\n",
            "--------------------------------------------------\n",
            "Misleading Content,  False Context,  False Content, Fabricated Content, Manipulated Content, Impostor Content, Clarification, False Connection, TRUE, Satire           \n",
            "precision: [0.82700422 0.13888889 0.37356322 0.07522124 0.3625731  0.53435115\n",
            " 0.2781457  0.52459016 0.06382979 0.11603376]\n",
            "recall:    [0.5369863  0.37974684 0.28138528 0.30357143 0.13901345 0.7\n",
            " 0.18181818 0.18250951 0.36363636 0.6547619 ]\n",
            "f1 score:  [0.65116279 0.20338983 0.32098765 0.12056738 0.20097245 0.60606061\n",
            " 0.21989529 0.27080395 0.10859729 0.19713262]\n",
            "--------------------------------------------------\n",
            "accuracy: 30.47% (+/- 0.99%)\n",
            "precision: 32.78% (+/- 1.19%)\n",
            "recall: 36.76% (+/- 1.31%)\n",
            "f1 score: 29.13% (+/- 0.93%)\n",
            "time: 1min 18s (started: 2023-01-10 10:50:15 +00:00)\n"
          ]
        }
      ]
    },
    {
      "cell_type": "code",
      "source": [
        "from collections import Counter\n",
        "\n",
        "nm2 = NearMiss(sampling_strategy='not minority', version=2, n_neighbors_ver3=4)\n",
        "tvec = TfidfVectorizer(stop_words=None, max_features=100000, ngram_range=(1, 3))\n",
        "df_tfidf = tvec.fit_transform(df.content)\n",
        "X_res, y_res = nm2.fit_resample(df_tfidf, df.classification)\n",
        "print('Distribution before NearMiss-2: {}'.format(Counter(df.classification)))\n",
        "print('Distribution after NearMiss-2: {}'.format(Counter(y_res)))"
      ],
      "metadata": {
        "colab": {
          "base_uri": "https://localhost:8080/"
        },
        "id": "kaiSu2eaRKT4",
        "outputId": "43a03741-c195-4f49-8920-5614fd36e9cf"
      },
      "execution_count": 102,
      "outputs": [
        {
          "output_type": "stream",
          "name": "stdout",
          "text": [
            "Distribution before NearMiss-2: Counter({'Misleading Content': 2629, 'False Context': 2234, '-': 1829, 'Fabricated Content': 1152, 'Manipulated Content': 1152, 'Impostor Content': 503, 'TRUE': 420, 'Clarification': 396, 'False Connection': 279, 'Satire': 162})\n",
            "Distribution after NearMiss-2: Counter({'-': 162, 'Clarification': 162, 'Fabricated Content': 162, 'False Connection': 162, 'False Context': 162, 'Impostor Content': 162, 'Manipulated Content': 162, 'Misleading Content': 162, 'Satire': 162, 'TRUE': 162})\n",
            "time: 10.2 s (started: 2023-01-10 10:53:41 +00:00)\n"
          ]
        }
      ]
    },
    {
      "cell_type": "markdown",
      "source": [
        "###Near Miss 3"
      ],
      "metadata": {
        "id": "m81WtitSQ75-"
      }
    },
    {
      "cell_type": "code",
      "source": [
        "import pprint\n",
        "pprint(lr_cv(5, df.content, df.classification, NM3_pipeline, 'macro'))"
      ],
      "metadata": {
        "colab": {
          "base_uri": "https://localhost:8080/",
          "height": 1000
        },
        "id": "eWoupHh_Q5pu",
        "outputId": "52d32bb9-e404-467f-f792-875fa937878d"
      },
      "execution_count": 105,
      "outputs": [
        {
          "output_type": "stream",
          "name": "stderr",
          "text": [
            "/usr/local/lib/python3.8/dist-packages/imblearn/under_sampling/_prototype_selection/_nearmiss.py:177: UserWarning: The number of the samples to be selected is larger than the number of samples available. The balancing ratio cannot be ensure and all samples will be returned.\n",
            "  warnings.warn(\n",
            "/usr/local/lib/python3.8/dist-packages/sklearn/metrics/_classification.py:1221: UndefinedMetricWarning: Precision is ill-defined and being set to 0.0 in labels with no predicted samples. Use `zero_division` parameter to control this behavior.\n",
            "  _warn_prf(average, modifier, msg_start, len(result))\n"
          ]
        },
        {
          "output_type": "stream",
          "name": "stdout",
          "text": [
            "Misleading Content,  False Context,  False Content, Fabricated Content, Manipulated Content, Impostor Content, Clarification, False Connection, TRUE, Satire           \n",
            "precision: [0.         0.         0.19634146 0.04097453 0.         0.\n",
            " 0.         0.         0.04428904 0.        ]\n",
            "recall:    [0.         0.         0.7        0.67272727 0.         0.\n",
            " 0.         0.         0.57575758 0.        ]\n",
            "f1 score:  [0.         0.         0.30666667 0.07724426 0.         0.\n",
            " 0.         0.         0.08225108 0.        ]\n",
            "--------------------------------------------------\n"
          ]
        },
        {
          "output_type": "stream",
          "name": "stderr",
          "text": [
            "/usr/local/lib/python3.8/dist-packages/imblearn/under_sampling/_prototype_selection/_nearmiss.py:177: UserWarning: The number of the samples to be selected is larger than the number of samples available. The balancing ratio cannot be ensure and all samples will be returned.\n",
            "  warnings.warn(\n",
            "/usr/local/lib/python3.8/dist-packages/sklearn/metrics/_classification.py:1221: UndefinedMetricWarning: Precision is ill-defined and being set to 0.0 in labels with no predicted samples. Use `zero_division` parameter to control this behavior.\n",
            "  _warn_prf(average, modifier, msg_start, len(result))\n"
          ]
        },
        {
          "output_type": "stream",
          "name": "stdout",
          "text": [
            "Misleading Content,  False Context,  False Content, Fabricated Content, Manipulated Content, Impostor Content, Clarification, False Connection, TRUE, Satire           \n",
            "precision: [0.         0.         0.23031204 0.04731458 0.         0.\n",
            " 0.         0.33663366 0.04794521 0.        ]\n",
            "recall:    [0.         0.         0.67391304 0.66071429 0.         0.\n",
            " 0.         0.25855513 0.4375     0.        ]\n",
            "f1 score:  [0.         0.         0.34330011 0.08830549 0.         0.\n",
            " 0.         0.29247312 0.08641975 0.        ]\n",
            "--------------------------------------------------\n"
          ]
        },
        {
          "output_type": "stream",
          "name": "stderr",
          "text": [
            "/usr/local/lib/python3.8/dist-packages/imblearn/under_sampling/_prototype_selection/_nearmiss.py:177: UserWarning: The number of the samples to be selected is larger than the number of samples available. The balancing ratio cannot be ensure and all samples will be returned.\n",
            "  warnings.warn(\n",
            "/usr/local/lib/python3.8/dist-packages/sklearn/metrics/_classification.py:1221: UndefinedMetricWarning: Precision is ill-defined and being set to 0.0 in labels with no predicted samples. Use `zero_division` parameter to control this behavior.\n",
            "  _warn_prf(average, modifier, msg_start, len(result))\n"
          ]
        },
        {
          "output_type": "stream",
          "name": "stdout",
          "text": [
            "Misleading Content,  False Context,  False Content, Fabricated Content, Manipulated Content, Impostor Content, Clarification, False Connection, TRUE, Satire           \n",
            "precision: [0.         0.         0.39285714 0.03305785 0.         0.\n",
            " 0.         0.         0.03954802 0.        ]\n",
            "recall:    [0.         0.         0.19130435 0.78571429 0.         0.\n",
            " 0.         0.         0.875      0.        ]\n",
            "f1 score:  [0.         0.         0.25730994 0.06344629 0.         0.\n",
            " 0.         0.         0.07567568 0.        ]\n",
            "--------------------------------------------------\n"
          ]
        },
        {
          "output_type": "stream",
          "name": "stderr",
          "text": [
            "/usr/local/lib/python3.8/dist-packages/imblearn/under_sampling/_prototype_selection/_nearmiss.py:177: UserWarning: The number of the samples to be selected is larger than the number of samples available. The balancing ratio cannot be ensure and all samples will be returned.\n",
            "  warnings.warn(\n",
            "/usr/local/lib/python3.8/dist-packages/sklearn/metrics/_classification.py:1221: UndefinedMetricWarning: Precision is ill-defined and being set to 0.0 in labels with no predicted samples. Use `zero_division` parameter to control this behavior.\n",
            "  _warn_prf(average, modifier, msg_start, len(result))\n"
          ]
        },
        {
          "output_type": "stream",
          "name": "stdout",
          "text": [
            "Misleading Content,  False Context,  False Content, Fabricated Content, Manipulated Content, Impostor Content, Clarification, False Connection, TRUE, Satire           \n",
            "precision: [0.         0.         0.24257426 0.03456221 0.         0.47706422\n",
            " 0.         0.         0.04460967 0.        ]\n",
            "recall:    [0.         0.         0.21212121 0.80357143 0.         0.52\n",
            " 0.         0.         0.75       0.        ]\n",
            "f1 score:  [0.         0.         0.22632794 0.06627393 0.         0.49760766\n",
            " 0.         0.         0.08421053 0.        ]\n",
            "--------------------------------------------------\n"
          ]
        },
        {
          "output_type": "stream",
          "name": "stderr",
          "text": [
            "/usr/local/lib/python3.8/dist-packages/imblearn/under_sampling/_prototype_selection/_nearmiss.py:177: UserWarning: The number of the samples to be selected is larger than the number of samples available. The balancing ratio cannot be ensure and all samples will be returned.\n",
            "  warnings.warn(\n"
          ]
        },
        {
          "output_type": "stream",
          "name": "stdout",
          "text": [
            "Misleading Content,  False Context,  False Content, Fabricated Content, Manipulated Content, Impostor Content, Clarification, False Connection, TRUE, Satire           \n",
            "precision: [0.         0.         0.15377698 0.04107425 0.         0.\n",
            " 0.         0.         0.05665025 0.        ]\n",
            "recall:    [0.         0.         0.74025974 0.46428571 0.         0.\n",
            " 0.         0.         0.6969697  0.        ]\n",
            "f1 score:  [0.         0.         0.25465376 0.0754717  0.         0.\n",
            " 0.         0.         0.1047836  0.        ]\n",
            "--------------------------------------------------\n",
            "accuracy: 9.90% (+/- 3.48%)\n",
            "precision: 4.92% (+/- 2.13%)\n",
            "recall: 20.04% (+/- 1.53%)\n",
            "f1 score: 5.96% (+/- 2.03%)\n"
          ]
        },
        {
          "output_type": "stream",
          "name": "stderr",
          "text": [
            "/usr/local/lib/python3.8/dist-packages/sklearn/metrics/_classification.py:1221: UndefinedMetricWarning: Precision is ill-defined and being set to 0.0 in labels with no predicted samples. Use `zero_division` parameter to control this behavior.\n",
            "  _warn_prf(average, modifier, msg_start, len(result))\n"
          ]
        },
        {
          "output_type": "error",
          "ename": "TypeError",
          "evalue": "ignored",
          "traceback": [
            "\u001b[0;31m---------------------------------------------------------------------------\u001b[0m",
            "\u001b[0;31mTypeError\u001b[0m                                 Traceback (most recent call last)",
            "\u001b[0;32m<ipython-input-105-b9ae4be256d1>\u001b[0m in \u001b[0;36m<module>\u001b[0;34m\u001b[0m\n\u001b[1;32m      1\u001b[0m \u001b[0;32mimport\u001b[0m \u001b[0mpprint\u001b[0m\u001b[0;34m\u001b[0m\u001b[0;34m\u001b[0m\u001b[0m\n\u001b[0;32m----> 2\u001b[0;31m \u001b[0mpprint\u001b[0m\u001b[0;34m(\u001b[0m\u001b[0mlr_cv\u001b[0m\u001b[0;34m(\u001b[0m\u001b[0;36m5\u001b[0m\u001b[0;34m,\u001b[0m \u001b[0mdf\u001b[0m\u001b[0;34m.\u001b[0m\u001b[0mcontent\u001b[0m\u001b[0;34m,\u001b[0m \u001b[0mdf\u001b[0m\u001b[0;34m.\u001b[0m\u001b[0mclassification\u001b[0m\u001b[0;34m,\u001b[0m \u001b[0mNM3_pipeline\u001b[0m\u001b[0;34m,\u001b[0m \u001b[0;34m'macro'\u001b[0m\u001b[0;34m)\u001b[0m\u001b[0;34m)\u001b[0m\u001b[0;34m\u001b[0m\u001b[0;34m\u001b[0m\u001b[0m\n\u001b[0m",
            "\u001b[0;31mTypeError\u001b[0m: 'module' object is not callable"
          ]
        },
        {
          "output_type": "stream",
          "name": "stdout",
          "text": [
            "time: 1min 38s (started: 2023-01-10 10:55:20 +00:00)\n"
          ]
        }
      ]
    },
    {
      "cell_type": "code",
      "source": [
        "from collections import Counter\n",
        "\n",
        "nm3 = NearMiss(sampling_strategy='not minority', version=3, n_neighbors_ver3=4)\n",
        "tvec = TfidfVectorizer(stop_words=None, max_features=100000, ngram_range=(1, 3))\n",
        "df_tfidf = tvec.fit_transform(df.content)\n",
        "X_res, y_res = nm3.fit_resample(df_tfidf, df.classification)\n",
        "print('Distribution before NearMiss-3: {}'.format(Counter(df.classification)))\n",
        "print('Distribution after NearMiss-3: {}'.format(Counter(y_res)))"
      ],
      "metadata": {
        "id": "XMiuUiw_RGph"
      },
      "execution_count": null,
      "outputs": []
    },
    {
      "cell_type": "markdown",
      "metadata": {
        "id": "eB-jGWlnjxcg"
      },
      "source": [
        "#IndoBERT Fine Tuning"
      ]
    },
    {
      "cell_type": "code",
      "source": [
        "X = df.iloc[:, 0:-1]\n",
        "y = df.iloc[:, -1]"
      ],
      "metadata": {
        "id": "32jIdF6NZ4jw",
        "colab": {
          "base_uri": "https://localhost:8080/"
        },
        "outputId": "5aadb837-a172-41c0-b407-ef7f62aa3382"
      },
      "execution_count": 72,
      "outputs": [
        {
          "output_type": "stream",
          "name": "stdout",
          "text": [
            "time: 4.45 ms (started: 2023-01-09 22:59:18 +00:00)\n"
          ]
        }
      ]
    },
    {
      "cell_type": "code",
      "source": [
        "X_train, X_test, y_train, y_test = train_test_split(X, y, test_size=0.25, random_state=42)"
      ],
      "metadata": {
        "colab": {
          "base_uri": "https://localhost:8080/"
        },
        "id": "q7SBPw-9heQw",
        "outputId": "a3e1cbc1-127d-4f1d-d9cc-3147fb45cc20"
      },
      "execution_count": 73,
      "outputs": [
        {
          "output_type": "stream",
          "name": "stdout",
          "text": [
            "time: 18.7 ms (started: 2023-01-09 22:59:20 +00:00)\n"
          ]
        }
      ]
    },
    {
      "cell_type": "markdown",
      "metadata": {
        "id": "6jCFCwbPjpzj"
      },
      "source": [
        "##Splitting the Dataset"
      ]
    },
    {
      "cell_type": "code",
      "execution_count": 74,
      "metadata": {
        "id": "lusPr3KBC9nm",
        "colab": {
          "base_uri": "https://localhost:8080/"
        },
        "outputId": "321bab0d-50ff-42d4-dfa4-706f35d0cc76"
      },
      "outputs": [
        {
          "output_type": "stream",
          "name": "stdout",
          "text": [
            "Size of training set: 7529\n",
            "Size of validation set: 1613\n",
            "time: 139 ms (started: 2023-01-09 22:59:23 +00:00)\n"
          ]
        }
      ],
      "source": [
        "from imblearn.combine import SMOTETomek\n",
        "smt = SMOTETomek(sampling_strategy='auto')\n",
        "\n",
        "\n",
        "# Train-Validation-Test set split into 70:15:15 ratio\n",
        "# Train-Temp split\n",
        "train_text, temp_text, train_labels, temp_labels = train_test_split(df['content'], df['label'], \n",
        "                                                                    random_state=2018, \n",
        "                                                                    test_size=0.3, \n",
        "                                                                    stratify=df['classification'])\n",
        "                                                                    \n",
        "\n",
        "# Validation-Test split\n",
        "val_text, test_text, val_labels, test_labels = train_test_split(temp_text, temp_labels, \n",
        "                                                                random_state=2018, \n",
        "                                                                test_size=0.5, \n",
        "                                                                stratify=temp_labels)\n",
        "\n",
        "\n",
        "print(\"Size of training set: {}\".format(len(train_text)))\n",
        "print(\"Size of validation set: {}\".format(len(val_text)))\n"
      ]
    },
    {
      "cell_type": "code",
      "execution_count": 78,
      "metadata": {
        "id": "uBoQHLfDDB2G",
        "colab": {
          "base_uri": "https://localhost:8080/"
        },
        "outputId": "4ac0a02e-b28d-4cac-9b55-b210ae60aa4c"
      },
      "outputs": [
        {
          "output_type": "stream",
          "name": "stdout",
          "text": [
            "time: 4.38 s (started: 2023-01-09 23:01:27 +00:00)\n"
          ]
        }
      ],
      "source": [
        "# Load BERT model and tokenizer via HuggingFace Transformers\n",
        "bert = AutoModel.from_pretrained('indobenchmark/indobert-base-p1')\n",
        "tokenizer = BertTokenizerFast.from_pretrained('indobenchmark/indobert-base-p1')"
      ]
    },
    {
      "cell_type": "markdown",
      "metadata": {
        "id": "yCPWTEGycp4E"
      },
      "source": [
        "##Prepare Input Data"
      ]
    },
    {
      "cell_type": "code",
      "execution_count": 79,
      "metadata": {
        "id": "5ana_1mfDB5n",
        "colab": {
          "base_uri": "https://localhost:8080/",
          "height": 313
        },
        "outputId": "56765cc0-4c3c-4cf5-fd01-e0a7c5907000"
      },
      "outputs": [
        {
          "output_type": "execute_result",
          "data": {
            "text/plain": [
              "Text(0, 0.5, 'Number of texts')"
            ]
          },
          "metadata": {},
          "execution_count": 79
        },
        {
          "output_type": "display_data",
          "data": {
            "text/plain": [
              "<Figure size 432x288 with 1 Axes>"
            ],
            "image/png": "[encoded data removed]"
          },
          "metadata": {
            "image/png": {
              "width": 435,
              "height": 260
            },
            "needs_background": "light"
          }
        },
        {
          "output_type": "stream",
          "name": "stdout",
          "text": [
            "time: 379 ms (started: 2023-01-09 23:01:36 +00:00)\n"
          ]
        }
      ],
      "source": [
        "# Plot histogram of the number of words in train data 'title'\n",
        "seq_len = [len(title.split()) for title in train_text]\n",
        "\n",
        "pd.Series(seq_len).hist(bins = 40,color='firebrick')\n",
        "plt.xlabel('Number of Words')\n",
        "plt.ylabel('Number of texts')"
      ]
    },
    {
      "cell_type": "code",
      "execution_count": 84,
      "metadata": {
        "id": "Rle4gh5EDB8v",
        "colab": {
          "base_uri": "https://localhost:8080/"
        },
        "outputId": "41681e9e-f27c-4aa0-840e-3111d36ccb4a"
      },
      "outputs": [
        {
          "output_type": "stream",
          "name": "stdout",
          "text": [
            "{'input_ids': [[2, 25102, 1050, 30357, 4425, 1371, 30470, 3], [2, 29236, 533, 30470, 3, 0, 0, 0]], 'token_type_ids': [[0, 0, 0, 0, 0, 0, 0, 0], [0, 0, 0, 0, 0, 0, 0, 0]], 'attention_mask': [[1, 1, 1, 1, 1, 1, 1, 1], [1, 1, 1, 1, 1, 0, 0, 0]]}\n",
            "time: 6.3 ms (started: 2023-01-09 23:01:41 +00:00)\n"
          ]
        }
      ],
      "source": [
        "# BERT Tokeizer Functionality\n",
        "sample_data = [\"Build fake news model.\", \n",
        "               \"Using bert.\"]                                         # sample data\n",
        "tokenized_sample_data = tokenizer.batch_encode_plus(sample_data,\n",
        "                                                    padding=True)     # encode text\n",
        "print(tokenized_sample_data)\n",
        "\n",
        "# Ref: https://huggingface.co/docs/transformers/preprocessing"
      ]
    },
    {
      "cell_type": "code",
      "execution_count": 81,
      "metadata": {
        "id": "kNm6utRZDCAS",
        "colab": {
          "base_uri": "https://localhost:8080/"
        },
        "outputId": "cf3f95dd-38f1-4439-b506-4c55287efe63"
      },
      "outputs": [
        {
          "output_type": "stream",
          "name": "stdout",
          "text": [
            "time: 2.5 s (started: 2023-01-09 23:01:37 +00:00)\n"
          ]
        }
      ],
      "source": [
        "# Majority of titles above have word length under 15. So, we set max title length as 15\n",
        "MAX_LENGHT = 15\n",
        "# Tokenize and encode sequences in the train set\n",
        "tokens_train = tokenizer.batch_encode_plus(\n",
        "    train_text.tolist(),\n",
        "    max_length = MAX_LENGHT,\n",
        "    pad_to_max_length=True,\n",
        "    truncation=True\n",
        ")\n",
        "# tokenize and encode sequences in the validation set\n",
        "tokens_val = tokenizer.batch_encode_plus(\n",
        "    val_text.tolist(),\n",
        "    max_length = MAX_LENGHT,\n",
        "    pad_to_max_length=True,\n",
        "    truncation=True\n",
        ")\n",
        "# tokenize and encode sequences in the test set\n",
        "tokens_test = tokenizer.batch_encode_plus(\n",
        "    test_text.tolist(),\n",
        "    max_length = MAX_LENGHT,\n",
        "    pad_to_max_length=True,\n",
        "    truncation=True\n",
        ")"
      ]
    },
    {
      "cell_type": "code",
      "execution_count": 82,
      "metadata": {
        "id": "6SggDhsrc1xA",
        "colab": {
          "base_uri": "https://localhost:8080/"
        },
        "outputId": "37afe257-880c-4597-b304-c58912555673"
      },
      "outputs": [
        {
          "output_type": "stream",
          "name": "stdout",
          "text": [
            "time: 31 ms (started: 2023-01-09 23:01:39 +00:00)\n"
          ]
        }
      ],
      "source": [
        "# Convert lists to tensors\n",
        "train_seq = torch.tensor(tokens_train['input_ids'])\n",
        "train_mask = torch.tensor(tokens_train['attention_mask'])\n",
        "train_y = torch.tensor(train_labels.tolist())\n",
        "\n",
        "val_seq = torch.tensor(tokens_val['input_ids'])\n",
        "val_mask = torch.tensor(tokens_val['attention_mask'])\n",
        "val_y = torch.tensor(val_labels.tolist())\n",
        "\n",
        "test_seq = torch.tensor(tokens_test['input_ids'])\n",
        "test_mask = torch.tensor(tokens_test['attention_mask'])\n",
        "test_y = torch.tensor(test_labels.tolist())"
      ]
    },
    {
      "cell_type": "code",
      "execution_count": 83,
      "metadata": {
        "id": "y8gItShxc39U",
        "colab": {
          "base_uri": "https://localhost:8080/"
        },
        "outputId": "c4a53a1d-f84d-45a4-fb17-07940e8075ff"
      },
      "outputs": [
        {
          "output_type": "stream",
          "name": "stdout",
          "text": [
            "time: 1.95 ms (started: 2023-01-09 23:01:39 +00:00)\n"
          ]
        }
      ],
      "source": [
        "# Data Loader structure definition\n",
        "from torch.utils.data import TensorDataset, DataLoader, RandomSampler, SequentialSampler\n",
        "batch_size = 32                                               #define a batch size\n",
        "\n",
        "train_data = TensorDataset(train_seq, train_mask, train_y)    # wrap tensors\n",
        "train_sampler = RandomSampler(train_data)                     # sampler for sampling the data during training\n",
        "train_dataloader = DataLoader(train_data, sampler=train_sampler, batch_size=batch_size)\n",
        "                                                              # dataLoader for train set\n",
        "val_data = TensorDataset(val_seq, val_mask, val_y)            # wrap tensors\n",
        "val_sampler = SequentialSampler(val_data)                     # sampler for sampling the data during training\n",
        "val_dataloader = DataLoader(val_data, sampler = val_sampler, batch_size=batch_size)\n",
        "                                                              # dataLoader for validation set"
      ]
    },
    {
      "cell_type": "markdown",
      "metadata": {
        "id": "uNq8WYJ3c86P"
      },
      "source": [
        "## Freeze Layers"
      ]
    },
    {
      "cell_type": "code",
      "execution_count": 56,
      "metadata": {
        "id": "Lg2yYd3xc5gS",
        "colab": {
          "base_uri": "https://localhost:8080/"
        },
        "outputId": "355a4ff0-765c-4952-97b1-794122fbd879"
      },
      "outputs": [
        {
          "output_type": "stream",
          "name": "stdout",
          "text": [
            "time: 1.91 ms (started: 2023-01-09 09:20:01 +00:00)\n"
          ]
        }
      ],
      "source": [
        "# Freezing the parameters and defining trainable BERT structure\n",
        "for param in bert.parameters():\n",
        "    param.requires_grad = False    # false here means gradient need not be computed"
      ]
    },
    {
      "cell_type": "markdown",
      "metadata": {
        "id": "zmSwJYbBdEk3"
      },
      "source": [
        "## Define Model Architecture"
      ]
    },
    {
      "cell_type": "code",
      "execution_count": 57,
      "metadata": {
        "id": "hCAvYd4HdB_f",
        "colab": {
          "base_uri": "https://localhost:8080/"
        },
        "outputId": "332c5573-27b1-4b97-9541-7822a8666827"
      },
      "outputs": [
        {
          "output_type": "stream",
          "name": "stdout",
          "text": [
            "time: 59.6 ms (started: 2023-01-09 09:20:01 +00:00)\n"
          ]
        },
        {
          "output_type": "stream",
          "name": "stderr",
          "text": [
            "/usr/local/lib/python3.8/dist-packages/transformers/optimization.py:306: FutureWarning: This implementation of AdamW is deprecated and will be removed in a future version. Use the PyTorch implementation torch.optim.AdamW instead, or set `no_deprecation_warning=True` to disable this warning\n",
            "  warnings.warn(\n"
          ]
        }
      ],
      "source": [
        "class BERT_Arch(nn.Module):\n",
        "    def __init__(self, bert):  \n",
        "      super(BERT_Arch, self).__init__()\n",
        "      self.bert = bert   \n",
        "      self.dropout = nn.Dropout(0.1)            # dropout layer\n",
        "      self.relu =  nn.ReLU()                    # relu activation function\n",
        "      self.fc1 = nn.Linear(768,512)             # dense layer 1\n",
        "      self.fc2 = nn.Linear(512,10)               # dense layer 2 (Output layer)\n",
        "      self.softmax = nn.LogSoftmax(dim=1)       # softmax activation function\n",
        "    def forward(self, sent_id, mask):           # define the forward pass  \n",
        "      cls_hs = self.bert(sent_id, attention_mask=mask)['pooler_output']\n",
        "                                                # pass the inputs to the model\n",
        "      x = self.fc1(cls_hs)\n",
        "      x = self.relu(x)\n",
        "      x = self.dropout(x)\n",
        "      x = self.fc2(x)                           # output layer\n",
        "      x = self.softmax(x)                       # apply softmax activation\n",
        "      return x\n",
        "\n",
        "model = BERT_Arch(bert)\n",
        "# Defining the hyperparameters (optimizer, weights of the classes and the epochs)\n",
        "# Define the optimizer\n",
        "from transformers import AdamW\n",
        "optimizer = AdamW(model.parameters(),\n",
        "                  lr = 1e-5)          # learning rate\n",
        "# Define the loss function\n",
        "cross_entropy  = nn.NLLLoss() \n",
        "# Number of training epochs\n",
        "epochs = 5"
      ]
    },
    {
      "cell_type": "markdown",
      "source": [
        "time: 16.1 ms (started: 2022-11-14 21:45:40 +00:00)\n"
      ],
      "metadata": {
        "id": "uoRzF14CsToK"
      }
    },
    {
      "cell_type": "markdown",
      "metadata": {
        "id": "tqEaa6fYdKsz"
      },
      "source": [
        "##Define Train & Evaluate Function"
      ]
    },
    {
      "cell_type": "code",
      "execution_count": 58,
      "metadata": {
        "id": "KoDMf4rAdHqB",
        "colab": {
          "base_uri": "https://localhost:8080/"
        },
        "outputId": "ac745028-b6fe-4c2a-a109-804c249a690a"
      },
      "outputs": [
        {
          "output_type": "stream",
          "name": "stdout",
          "text": [
            "time: 13.6 ms (started: 2023-01-09 09:20:01 +00:00)\n"
          ]
        }
      ],
      "source": [
        "# Defining training and evaluation functions\n",
        "def train():  \n",
        "  model.train()\n",
        "  total_loss, total_accuracy = 0, 0\n",
        "  \n",
        "  for step,batch in enumerate(train_dataloader):                # iterate over batches\n",
        "    if step % 50 == 0 and not step == 0:                        # progress update after every 50 batches.\n",
        "      print('  Batch {:>5,}  of  {:>5,}.'.format(step, len(train_dataloader)))\n",
        "    batch = [r for r in batch]                                  # push the batch to gpu\n",
        "    sent_id, mask, labels = batch \n",
        "    model.zero_grad()                                           # clear previously calculated gradients\n",
        "    preds = model(sent_id, mask)                                # get model predictions for current batch\n",
        "    loss = cross_entropy(preds, labels)                         # compute loss between actual & predicted values\n",
        "    total_loss = total_loss + loss.item()                       # add on to the total loss\n",
        "    loss.backward()                                             # backward pass to calculate the gradients\n",
        "    torch.nn.utils.clip_grad_norm_(model.parameters(), 1.0)     # clip gradients to 1.0. It helps in preventing exploding gradient problem\n",
        "    optimizer.step()                                            # update parameters\n",
        "    preds=preds.detach().cpu().numpy()                          # model predictions are stored on GPU. So, push it to CPU\n",
        "\n",
        "  avg_loss = total_loss / len(train_dataloader)                 # compute training loss of the epoch  \n",
        "                                                                # reshape predictions in form of (# samples, # classes)\n",
        "  return avg_loss                                 # returns the loss and predictions\n",
        "\n",
        "def evaluate():  \n",
        "  print(\"\\nEvaluating...\")  \n",
        "  model.eval()                                    # Deactivate dropout layers\n",
        "  total_loss, total_accuracy = 0, 0  \n",
        "  for step,batch in enumerate(val_dataloader):    # Iterate over batches  \n",
        "    if step % 50 == 0 and not step == 0:          # Progress update every 50 batches.     \n",
        "                                                  # Calculate elapsed time in minutes.\n",
        "                                                  # Elapsed = format_time(time.time() - t0)\n",
        "      print('  Batch {:>5,}  of  {:>5,}.'.format(step, len(val_dataloader)))\n",
        "                                                  # Report progress\n",
        "    batch = [t for t in batch]                    # Push the batch to GPU\n",
        "    sent_id, mask, labels = batch\n",
        "    with torch.no_grad():                         # Deactivate autograd\n",
        "      preds = model(sent_id, mask)                # Model predictions\n",
        "      loss = cross_entropy(preds,labels)          # Compute the validation loss between actual and predicted values\n",
        "      total_loss = total_loss + loss.item()\n",
        "      preds = preds.detach().cpu().numpy()\n",
        "  avg_loss = total_loss / len(val_dataloader)         # compute the validation loss of the epoch\n",
        "  return avg_loss"
      ]
    },
    {
      "cell_type": "markdown",
      "metadata": {
        "id": "cT9KojaDdOUi"
      },
      "source": [
        "## Model training"
      ]
    },
    {
      "cell_type": "code",
      "execution_count": 59,
      "metadata": {
        "id": "rd-MDd3hdQ2S",
        "colab": {
          "base_uri": "https://localhost:8080/"
        },
        "outputId": "731ecd6f-e38c-48b3-e051-ebeaa9612feb"
      },
      "outputs": [
        {
          "output_type": "stream",
          "name": "stdout",
          "text": [
            "\n",
            " Epoch 1 / 5\n",
            "  Batch    50  of    229.\n",
            "  Batch   100  of    229.\n",
            "  Batch   150  of    229.\n",
            "  Batch   200  of    229.\n",
            "\n",
            "Evaluating...\n",
            "\n",
            "Training Loss: 2.058\n",
            "Validation Loss: 1.944\n",
            "\n",
            " Epoch 2 / 5\n",
            "  Batch    50  of    229.\n",
            "  Batch   100  of    229.\n",
            "  Batch   150  of    229.\n",
            "  Batch   200  of    229.\n",
            "\n",
            "Evaluating...\n",
            "\n",
            "Training Loss: 1.933\n",
            "Validation Loss: 1.913\n",
            "\n",
            " Epoch 3 / 5\n",
            "  Batch    50  of    229.\n",
            "  Batch   100  of    229.\n",
            "  Batch   150  of    229.\n",
            "  Batch   200  of    229.\n",
            "\n",
            "Evaluating...\n",
            "\n",
            "Training Loss: 1.909\n",
            "Validation Loss: 1.900\n",
            "\n",
            " Epoch 4 / 5\n",
            "  Batch    50  of    229.\n",
            "  Batch   100  of    229.\n",
            "  Batch   150  of    229.\n",
            "  Batch   200  of    229.\n",
            "\n",
            "Evaluating...\n",
            "\n",
            "Training Loss: 1.893\n",
            "Validation Loss: 1.884\n",
            "\n",
            " Epoch 5 / 5\n",
            "  Batch    50  of    229.\n",
            "  Batch   100  of    229.\n",
            "  Batch   150  of    229.\n",
            "  Batch   200  of    229.\n",
            "\n",
            "Evaluating...\n",
            "\n",
            "Training Loss: 1.882\n",
            "Validation Loss: 1.870\n",
            "time: 29min 53s (started: 2023-01-09 09:20:01 +00:00)\n"
          ]
        }
      ],
      "source": [
        "# Train and predict\n",
        "best_valid_loss = float('inf')\n",
        "train_losses=[]                   # empty lists to store training and validation loss of each epoch\n",
        "valid_losses=[]\n",
        "\n",
        "for epoch in range(epochs):     \n",
        "    print('\\n Epoch {:} / {:}'.format(epoch + 1, epochs))     \n",
        "    train_loss = train()                       # train model\n",
        "    valid_loss = evaluate()                    # evaluate model\n",
        "    if valid_loss < best_valid_loss:              # save the best model\n",
        "        best_valid_loss = valid_loss\n",
        "        torch.save(model.state_dict(), '/content/drive/MyDrive/thesis/c2_new_model_weights.pt')\n",
        "    train_losses.append(train_loss)               # append training and validation loss\n",
        "    valid_losses.append(valid_loss)\n",
        "    \n",
        "    print(f'\\nTraining Loss: {train_loss:.3f}')\n",
        "    print(f'Validation Loss: {valid_loss:.3f}')"
      ]
    },
    {
      "cell_type": "markdown",
      "metadata": {
        "id": "0neExJuGdSzz"
      },
      "source": [
        "## Model performance"
      ]
    },
    {
      "cell_type": "code",
      "execution_count": 60,
      "metadata": {
        "id": "uTuAk4NxdVnw",
        "colab": {
          "base_uri": "https://localhost:8080/"
        },
        "outputId": "3b560f3d-2c84-406e-a994-2ebf3b634a75"
      },
      "outputs": [
        {
          "output_type": "stream",
          "name": "stdout",
          "text": [
            "time: 302 µs (started: 2023-01-09 09:49:54 +00:00)\n"
          ]
        }
      ],
      "source": [
        "# load weights of best model\n",
        "#path = '/content/drive/MyDrive/thesis/c1_fakenews_weights.pt'\n",
        "#model.load_state_dict(torch.load(path))"
      ]
    },
    {
      "cell_type": "code",
      "execution_count": 61,
      "metadata": {
        "id": "7s2qqEvYdYJu",
        "colab": {
          "base_uri": "https://localhost:8080/"
        },
        "outputId": "fd040617-b7e4-44f4-fc58-a0387f56f44b"
      },
      "outputs": [
        {
          "output_type": "stream",
          "name": "stdout",
          "text": [
            "              precision    recall  f1-score   support\n",
            "\n",
            "           0       0.40      0.49      0.44       267\n",
            "           1       0.00      0.00      0.00        57\n",
            "           2       0.00      0.00      0.00       172\n",
            "           3       0.00      0.00      0.00        42\n",
            "           4       0.33      0.14      0.20       334\n",
            "           5       0.00      0.00      0.00        75\n",
            "           6       0.00      0.00      0.00       171\n",
            "           7       0.27      0.75      0.39       393\n",
            "           8       0.00      0.00      0.00        24\n",
            "           9       0.00      0.00      0.00        35\n",
            "\n",
            "    accuracy                           0.30      1570\n",
            "   macro avg       0.10      0.14      0.10      1570\n",
            "weighted avg       0.21      0.30      0.22      1570\n",
            "\n",
            "time: 57.1 s (started: 2023-01-09 09:49:54 +00:00)\n"
          ]
        },
        {
          "output_type": "stream",
          "name": "stderr",
          "text": [
            "/usr/local/lib/python3.8/dist-packages/sklearn/metrics/_classification.py:1221: UndefinedMetricWarning: Precision and F-score are ill-defined and being set to 0.0 in labels with no predicted samples. Use `zero_division` parameter to control this behavior.\n",
            "  _warn_prf(average, modifier, msg_start, len(result))\n"
          ]
        }
      ],
      "source": [
        "with torch.no_grad():\n",
        "  preds = model(test_seq, test_mask)\n",
        "  preds = preds.detach().cpu().numpy()\n",
        "\n",
        "preds = np.argmax(preds, axis = 1)\n",
        "print(classification_report(test_y, preds))"
      ]
    },
    {
      "cell_type": "markdown",
      "metadata": {
        "id": "jw_I4qJNdduw"
      },
      "source": [
        "## Fake News Predictions"
      ]
    },
    {
      "cell_type": "code",
      "execution_count": 62,
      "metadata": {
        "id": "G-HpZbaDdaYs",
        "colab": {
          "base_uri": "https://localhost:8080/"
        },
        "outputId": "5cafc4f8-aabb-4618-a480-f8220bab00cd"
      },
      "outputs": [
        {
          "output_type": "stream",
          "name": "stdout",
          "text": [
            "time: 353 µs (started: 2023-01-09 09:50:51 +00:00)\n"
          ]
        }
      ],
      "source": [
        "# # load weights of best model\n",
        "# path = 'c1_fakenews_weights.pt'\n",
        "# model.load_state_dict(torch.load(path))"
      ]
    },
    {
      "cell_type": "code",
      "execution_count": 63,
      "metadata": {
        "id": "yP6NUn12dgQO",
        "colab": {
          "base_uri": "https://localhost:8080/"
        },
        "outputId": "6d4b4088-f81c-4d97-9477-bf6c4b5ac5a1"
      },
      "outputs": [
        {
          "output_type": "execute_result",
          "data": {
            "text/plain": [
              "array([7, 0, 7, 4])"
            ]
          },
          "metadata": {},
          "execution_count": 63
        },
        {
          "output_type": "stream",
          "name": "stdout",
          "text": [
            "time: 2.1 s (started: 2023-01-09 09:50:51 +00:00)\n"
          ]
        }
      ],
      "source": [
        "# testing on unseen data\n",
        "unseen_news_text = [\"Video Presiden Joko Widodo Jenguk Lesti Kejora Di Rumah Sakit  Tanpa Kehadiran Rizky Billar\",     # Fake\n",
        "                    \"mengapa satgasus dibubarkan setelah kasus Sambo Mencuat?\",               # Fake\n",
        "                    \"Puluhan Orang Cidera Parah Gas Air Mata Hujani Masa Aksi 411 yang Sedang Sholat\",           # Fake\n",
        "                    \"Muak Dengan Kelicikan Barat, Puluhan Kepala Negara Minta Jokowi Bentuk Sekaligus Pimpin PBB Baru\"                          # Fake\n",
        "                    ]\n",
        "\n",
        "# tokenize and encode sequences in the test set\n",
        "MAX_LENGHT = 200\n",
        "tokens_unseen = tokenizer.batch_encode_plus(\n",
        "    unseen_news_text,\n",
        "    max_length = MAX_LENGHT,\n",
        "    pad_to_max_length=True,\n",
        "    truncation=True\n",
        ")\n",
        "\n",
        "unseen_seq = torch.tensor(tokens_unseen['input_ids'])\n",
        "unseen_mask = torch.tensor(tokens_unseen['attention_mask'])\n",
        "\n",
        "with torch.no_grad():\n",
        "  preds = model(unseen_seq, unseen_mask)\n",
        "  preds = preds.detach().cpu().numpy()\n",
        "\n",
        "preds = np.argmax(preds, axis = 1)\n",
        "preds"
      ]
    },
    {
      "cell_type": "markdown",
      "source": [
        "#Stance Detection"
      ],
      "metadata": {
        "id": "DTVwfk3-Slm7"
      }
    },
    {
      "cell_type": "code",
      "source": [],
      "metadata": {
        "id": "gM3PGA2ESl3D"
      },
      "execution_count": null,
      "outputs": []
    },
    {
      "cell_type": "code",
      "source": [],
      "metadata": {
        "id": "aTEmwZz1SoH5"
      },
      "execution_count": null,
      "outputs": []
    },
    {
      "cell_type": "markdown",
      "source": [
        "#Evidence Retreival"
      ],
      "metadata": {
        "id": "u-O5lStKSo3x"
      }
    },
    {
      "cell_type": "markdown",
      "source": [
        "#Freeze the library and export to txt"
      ],
      "metadata": {
        "id": "EDC1ymk1YSm1"
      }
    },
    {
      "cell_type": "code",
      "source": [
        "!pip freeze > /content/drive/MyDrive/thesis/requirements.txt"
      ],
      "metadata": {
        "id": "QXytMnBhYWca"
      },
      "execution_count": null,
      "outputs": []
    }
  ],
  "metadata": {
    "colab": {
      "collapsed_sections": [
        "khF3AVPmUI51",
        "V_c9Ob4ql1O5",
        "e0vzDSUVmuKa",
        "U3QOsn6Wl87G",
        "Tn6ov6WumFVX",
        "02hERA8Uudi8",
        "YOBxKGu_cH_q",
        "zmSwJYbBdEk3",
        "tqEaa6fYdKsz"
      ],
      "provenance": [],
      "toc_visible": true,
      "authorship_tag": "ABX9TyNcPCkIVInQipqTIOtbFSlQ",
      "include_colab_link": true
    },
    "gpuClass": "standard",
    "kernelspec": {
      "display_name": "Python 3",
      "name": "python3"
    },
    "language_info": {
      "name": "python"
    }
  },
  "nbformat": 4,
  "nbformat_minor": 0
}