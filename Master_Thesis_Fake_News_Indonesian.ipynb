{
  "cells": [
    {
      "cell_type": "markdown",
      "metadata": {
        "id": "view-in-github",
        "colab_type": "text"
      },
      "source": [
        "<a href=\"https://colab.research.google.com/github/BrianArnesto/masterThesis/blob/main/Master_Thesis_Fake_News_Indonesian.ipynb\" target=\"_parent\"><img src=\"https://colab.research.google.com/assets/colab-badge.svg\" alt=\"Open In Colab\"/></a>"
      ]
    },
    {
      "cell_type": "markdown",
      "source": [
        "Reference:\n",
        "\n",
        "https://scikit-learn.org/stable/modules/generated/sklearn.linear_model.Perceptron.html\n",
        "https://scikit-learn.org/stable/modules/sgd.html\n",
        "https://scikit-learn.org/stable/modules/generated/sklearn.ensemble.RandomForestClassifier.html\n",
        "https://scikit-learn.org/stable/modules/generated/sklearn.linear_model.LinearRegression.html\n",
        "https://github.com/leelaylay/TweetSemEval\n",
        "https://towardsdatascience.com/yet-another-twitter-sentiment-analysis-part-1-tackling-class-imbalance-4d7a7f717d44\n",
        "https://github.com/cbaziotis/datastories-semeval2017-task4\n"
      ],
      "metadata": {
        "id": "bXN2CKifs1kH"
      },
      "id": "bXN2CKifs1kH"
    },
    {
      "cell_type": "code",
      "execution_count": 17,
      "id": "61399bd8",
      "metadata": {
        "id": "61399bd8",
        "colab": {
          "base_uri": "https://localhost:8080/"
        },
        "outputId": "b26eed88-6856-4981-c3c3-1909d6536705"
      },
      "outputs": [
        {
          "output_type": "stream",
          "name": "stdout",
          "text": [
            "Drive already mounted at /content/drive; to attempt to forcibly remount, call drive.mount(\"/content/drive\", force_remount=True).\n"
          ]
        }
      ],
      "source": [
        "import pandas as pd\n",
        "import numpy as np\n",
        "import matplotlib.pyplot as plt\n",
        "plt.style.use('fivethirtyeight')\n",
        "from google.colab import drive\n",
        "import warnings\n",
        "warnings.filterwarnings(\"ignore\", category=FutureWarning)\n",
        "drive.mount('/content/drive')\n",
        "\n",
        "%matplotlib inline\n",
        "%config InlineBackend.figure_format = 'retina'"
      ]
    },
    {
      "cell_type": "code",
      "source": [
        "pip install emoji\n"
      ],
      "metadata": {
        "colab": {
          "base_uri": "https://localhost:8080/"
        },
        "id": "Jta1VES4XYak",
        "outputId": "83a7ceb3-71af-4792-d960-56ab28550262"
      },
      "id": "Jta1VES4XYak",
      "execution_count": 18,
      "outputs": [
        {
          "output_type": "stream",
          "name": "stdout",
          "text": [
            "Looking in indexes: https://pypi.org/simple, https://us-python.pkg.dev/colab-wheels/public/simple/\n",
            "Requirement already satisfied: emoji in /usr/local/lib/python3.8/dist-packages (2.2.0)\n"
          ]
        }
      ]
    },
    {
      "cell_type": "code",
      "source": [
        "pip install unidecode"
      ],
      "metadata": {
        "colab": {
          "base_uri": "https://localhost:8080/"
        },
        "id": "JHMGINpt5XTL",
        "outputId": "ab8a6852-ddd3-465c-dd12-f6955503f292"
      },
      "id": "JHMGINpt5XTL",
      "execution_count": 19,
      "outputs": [
        {
          "output_type": "stream",
          "name": "stdout",
          "text": [
            "Looking in indexes: https://pypi.org/simple, https://us-python.pkg.dev/colab-wheels/public/simple/\n",
            "Requirement already satisfied: unidecode in /usr/local/lib/python3.8/dist-packages (1.3.6)\n"
          ]
        }
      ]
    },
    {
      "cell_type": "code",
      "execution_count": 20,
      "id": "43403071",
      "metadata": {
        "colab": {
          "base_uri": "https://localhost:8080/",
          "height": 90
        },
        "id": "43403071",
        "outputId": "043885bd-b742-40b7-da97-773b832ce454"
      },
      "outputs": [
        {
          "output_type": "execute_result",
          "data": {
            "text/plain": [
              "'\\nimport glob\\nall_files = glob.glob(\"twitter*.tsv\")\\nframe = pd.DataFrame()\\nlist_ = []\\nfor file_ in all_files:\\n    df = pd.read_csv(file_,index_col=None, sep=\\'\\t\\', header=None, names=[\\'id\\',\\'sentiment\\',\\'text\\',\\'to_delete\\'])\\n    list_.append(df.iloc[:,:-1])\\ndf = pd.concat(list_)\\ndf = df.drop_duplicates()\\ndf = df.reset_index(drop=True)\\ndf.tail()\\n'"
            ],
            "application/vnd.google.colaboratory.intrinsic+json": {
              "type": "string"
            }
          },
          "metadata": {},
          "execution_count": 20
        }
      ],
      "source": [
        "'''\n",
        "import glob\n",
        "all_files = glob.glob(\"twitter*.tsv\")\n",
        "frame = pd.DataFrame()\n",
        "list_ = []\n",
        "for file_ in all_files:\n",
        "    df = pd.read_csv(file_,index_col=None, sep='\\t', header=None, names=['id','sentiment','text','to_delete'])\n",
        "    list_.append(df.iloc[:,:-1])\n",
        "df = pd.concat(list_)\n",
        "df = df.drop_duplicates()\n",
        "df = df.reset_index(drop=True)\n",
        "df.tail()\n",
        "'''"
      ]
    },
    {
      "cell_type": "code",
      "source": [
        "df = pd.read_csv('/content/drive/MyDrive/thesis/news3.csv')\n",
        "df.head()\n"
      ],
      "metadata": {
        "colab": {
          "base_uri": "https://localhost:8080/",
          "height": 1000
        },
        "id": "PUPxTsTVZTi3",
        "outputId": "44cfceef-b866-406b-e4fb-2b04de06672e"
      },
      "id": "PUPxTsTVZTi3",
      "execution_count": 21,
      "outputs": [
        {
          "output_type": "execute_result",
          "data": {
            "text/plain": [
              "   Unnamed: 0     id  \\\n",
              "0           0  10928   \n",
              "1           1  10927   \n",
              "2           2  10926   \n",
              "3           3  10925   \n",
              "4           4  10924   \n",
              "\n",
              "                                                                                                title  \\\n",
              "0  Cek Fakta: Hoaks Kabar Nikita Mirzani Meninggal Dunia Akibat Serangan Jantung pada 2 November 2022   \n",
              "1                                  Cek Fakta: Tidak Benar Tepung Beras Bisa Meredakan Demam pada Anak   \n",
              "2                                        [SALAH] Menkes Budi Gunadi Sadikin: “Diabetes Mudah Diobati”   \n",
              "3                               Cek Fakta: Tidak Benar Video Wanita Tertua di Dunia Berusia 399 Tahun   \n",
              "4                             Cek Fakta: Tidak Benar Kondisi AS Terkena Dampak Resesi dalam Video Ini   \n",
              "\n",
              "                                                                                                                                                                                                                                                                                                                                                                                                                                                                                                                                                                                                                                                                                                                                                                                                                                                                                                                                                                                                                                                                                                                                                                                                                                                                                                                                                                                                                                                                                                                                                                                                                                        content  \\\n",
              "0                                                                                                                                                                                                                                                                                                                                                                                                                                                                                                                                                                                                         \\nLiputan6.com, Jakarta - Kabar tentang artis Nikita Mirzani meninggal dunia akibat serangan jantung pada 2 November 2022 beredar di media sosial. Kabar tersebut disebarkan salah satu akun Facebook pada 2 November 2022.\\nAkun Facebook tersebut mengunggah video dari situs berbagi video YouTube. Video tersebut berjudul \"Innalillahi, Nikita Mirzani 'Meninggal Dunia' Akibat Serangan Jantung\".\\nGambar dalam video tersebut Nikita Mirzani tengah terbaring di ranjang rumah sakit, tangannya tampak diinfus. Di samping gambar tersebut, terdapat sejumlah orang tengah berkumpul di sekitar pemakaman.\\nVideo tersebut kemudian diberi judul \"BREAKING NEWS \"NIKITA MIRZANI 'MENINGGAL DUNIA' AKIBAT SERANGAN JANTUNG\".\\n\"Bener apa bener sih NI berita?..\" tulis salah satu akun Facebook.\\nKonten yang disebarkan akun Facebook tersebut telah beberapa kali direspons dan dikomentari warganet.\\nBenarkah kabar Nikita Mirzani meninggal dunia akibat serangan jantung pada 2 November 2022? Berikut penelusurannya.\\n    \n",
              "1  \\nLiputan6.com, Jakarta - Klaim tentang menempelkan tepung beras di tubuh bisa meredakan demam pada anak beredar di media sosial. Klaim tersebut disebarkan salah satu akun Facebook pada 31 Oktober 2022 lalu.\\nAkun Facebook tersebut mengunggah video berisi tata cara menggunakan tepung beras untuk menurunkan demam pada anak. Yang pertama, tepung beras dicampur dengan air hingga membentuk adonan. Adonan tepung beras tersebut kemudian ditempelkan dan diusapkan pada bagian dada dan perut anak.\\n\"Sekarang ini lagi musim demam,saya share pengalaman ya sama teman teman,andalan mama dulu kami kecil,sampai sekarang saya bikin ke anak anak,setidaknya pertolongan pertama buat anak anak demam, supaya gak kejang kejang dan step.\\nK*m*k* V*v**nn* pernah panas 40 tapi masih aktif\\nHabis bikin tepung jangan buka ac ya,ataupun kipas,waktu bikin juga jangan buka ac dan kipas.Please nonton video sampai habis🙏\\nCukup tepung campur air putih aduk kira bisa di pegang.\\nBikin sampai tepung kering ya,kalau kering tandanya hawa panas badan di tarik tepung.\\nPointnya yg mesti di lamakan lihat di video.\\nHabis bikin tepung kasi minyak kayu putih satu badan,lalu urut urut,kasi makan yg hangat hangat.\\nObat tetap di minum,kalau demam bukan karena virus atau bakteri ,makaakan cepat sembuh\\nSelamat mencoba😊🙏🙏🙏🙏\\nSharing is caring😊,\" tulis salah satu akun Facebook.\\nKonten yang disebarkan akun Facebook tersebut telah 11 ribu kali ditonton dan mendapat 161 komentar dari warganet.\\nBenarkah menempelkan adonan tepung beras di tubuh bisa meredakan demam pada anak? Berikut penelusurannya.\\n    \n",
              "2                                                                                                                                                                                                                                                                                                                                                                                                                                                                                                                                                                                                                                                                                                                                                                                                                                                                                                                                                                                                                                                                                                                                                                          Akun Facebook bernama TH K menyebarluaskan tautan serta gambar yang memperlihatkan menkes Budi Gunadi Sadikin sedang memberikan pidato. Selain itu, di gambar tersebut dilengkapi penjelasan bahwa pidato tersebut membahas tentang semua orang Indonesia yang kaget dengan fakta bahwa diabetes mudah diobati.\\n\\nTautan dan gambar yang diunggah pada 19 Juli 2022 tersebut telah dibagikan ulang sebanyak 153 kali, serta telah direspon oleh hampir 4,000 orang.   \n",
              "3                                                                                                                                                                                                                                                                                                                                                                                                                                                                                                                                                                                                                                                                                                                                                                                                                                                                                           \\nLiputan6.com, Jakarta - Sebuah video yang diklaim seorang wanita tertua di dunia berusia 399 tahun beredar di media sosial. Video tersebut disebarkan salah satu akun Facebook pada 18 April 2022.\\nVideo berdurasi 59 detik itu memperlihatkan seseorang tengah berbaring di tempat tidur dengan kondisi yang sudah renta.\\nSosok dalam video tersebut kemudian disebut-sebut sebagai wanita tertua di dunia berusia 399 tahun.\\n\"The oldest woman in the world 399 years old 😱👏,\" tulis salah satu akun Facebook.\\nKonten yang disebarkan akun Facebook tersebut telah 384 ribu kali ditonton dan mendapat 431 komentar dari warganet.\\nBenarkah dalam video itu merupakan wanita tertua di dunia berusia 399 tahun? Berikut penelusurannya.\\n    \n",
              "4                                                                                                                                                                                                                                                                                                                                                                                                                                                                                                                                                                                                                                                                                                                                                                                                                                                                                         \\nLiputan6.com, Jakarta- Cek Fakta Liputan6.com mendapati klaim video kondisi Amerika Serikat atau AS terkena dampak resesi. Kabar tersebut diunggah salah satu akun Facebook, pada 22 Oktober 2022.\\nUnggahan klaim video kondisi AS terkena dampak resesi menampilkan situasi tepi jalan terdapat sejumlah orang tergeletak dan ada yang berjalan gontai.\\nVideo tersebut diberi keterangan sebagai berikut.\\n\"Ini situasi terkini di Amerika serikat Negara super power yg terkena dampak akibat resesi global yg melanda Dunia..coba klu terjadi di Indonesia para Kadrun mngoreng2 tiap hari sambil menari2 teriak2 turunkan Jokowi..😁😁\"\\nBenarkah klaim video kondisi AS terkena dampak resesi? Simak hasil penelusuran Cek Fakta Liputan6.com.   \n",
              "\n",
              "   source_issue     tanggal      classification  label  \n",
              "0  liputan6.com  2022-11-11       False Content      3  \n",
              "1  liputan6.com  2022-11-10       False Content      3  \n",
              "2  facebook.com  2022-11-10  Misleading Content      7  \n",
              "3  liputan6.com  2022-11-10       False Content      3  \n",
              "4  liputan6.com  2022-11-10       False Content      3  "
            ],
            "text/html": [
              "\n",
              "  <div id=\"df-894e3aed-4320-41cd-987a-569682ff6b60\">\n",
              "    <div class=\"colab-df-container\">\n",
              "      <div>\n",
              "<style scoped>\n",
              "    .dataframe tbody tr th:only-of-type {\n",
              "        vertical-align: middle;\n",
              "    }\n",
              "\n",
              "    .dataframe tbody tr th {\n",
              "        vertical-align: top;\n",
              "    }\n",
              "\n",
              "    .dataframe thead th {\n",
              "        text-align: right;\n",
              "    }\n",
              "</style>\n",
              "<table border=\"1\" class=\"dataframe\">\n",
              "  <thead>\n",
              "    <tr style=\"text-align: right;\">\n",
              "      <th></th>\n",
              "      <th>Unnamed: 0</th>\n",
              "      <th>id</th>\n",
              "      <th>title</th>\n",
              "      <th>content</th>\n",
              "      <th>source_issue</th>\n",
              "      <th>tanggal</th>\n",
              "      <th>classification</th>\n",
              "      <th>label</th>\n",
              "    </tr>\n",
              "  </thead>\n",
              "  <tbody>\n",
              "    <tr>\n",
              "      <th>0</th>\n",
              "      <td>0</td>\n",
              "      <td>10928</td>\n",
              "      <td>Cek Fakta: Hoaks Kabar Nikita Mirzani Meninggal Dunia Akibat Serangan Jantung pada 2 November 2022</td>\n",
              "      <td>\\nLiputan6.com, Jakarta - Kabar tentang artis Nikita Mirzani meninggal dunia akibat serangan jantung pada 2 November 2022 beredar di media sosial. Kabar tersebut disebarkan salah satu akun Facebook pada 2 November 2022.\\nAkun Facebook tersebut mengunggah video dari situs berbagi video YouTube. Video tersebut berjudul \"Innalillahi, Nikita Mirzani 'Meninggal Dunia' Akibat Serangan Jantung\".\\nGambar dalam video tersebut Nikita Mirzani tengah terbaring di ranjang rumah sakit, tangannya tampak diinfus. Di samping gambar tersebut, terdapat sejumlah orang tengah berkumpul di sekitar pemakaman.\\nVideo tersebut kemudian diberi judul \"BREAKING NEWS \"NIKITA MIRZANI 'MENINGGAL DUNIA' AKIBAT SERANGAN JANTUNG\".\\n\"Bener apa bener sih NI berita?..\" tulis salah satu akun Facebook.\\nKonten yang disebarkan akun Facebook tersebut telah beberapa kali direspons dan dikomentari warganet.\\nBenarkah kabar Nikita Mirzani meninggal dunia akibat serangan jantung pada 2 November 2022? Berikut penelusurannya.\\n</td>\n",
              "      <td>liputan6.com</td>\n",
              "      <td>2022-11-11</td>\n",
              "      <td>False Content</td>\n",
              "      <td>3</td>\n",
              "    </tr>\n",
              "    <tr>\n",
              "      <th>1</th>\n",
              "      <td>1</td>\n",
              "      <td>10927</td>\n",
              "      <td>Cek Fakta: Tidak Benar Tepung Beras Bisa Meredakan Demam pada Anak</td>\n",
              "      <td>\\nLiputan6.com, Jakarta - Klaim tentang menempelkan tepung beras di tubuh bisa meredakan demam pada anak beredar di media sosial. Klaim tersebut disebarkan salah satu akun Facebook pada 31 Oktober 2022 lalu.\\nAkun Facebook tersebut mengunggah video berisi tata cara menggunakan tepung beras untuk menurunkan demam pada anak. Yang pertama, tepung beras dicampur dengan air hingga membentuk adonan. Adonan tepung beras tersebut kemudian ditempelkan dan diusapkan pada bagian dada dan perut anak.\\n\"Sekarang ini lagi musim demam,saya share pengalaman ya sama teman teman,andalan mama dulu kami kecil,sampai sekarang saya bikin ke anak anak,setidaknya pertolongan pertama buat anak anak demam, supaya gak kejang kejang dan step.\\nK*m*k* V*v**nn* pernah panas 40 tapi masih aktif\\nHabis bikin tepung jangan buka ac ya,ataupun kipas,waktu bikin juga jangan buka ac dan kipas.Please nonton video sampai habis🙏\\nCukup tepung campur air putih aduk kira bisa di pegang.\\nBikin sampai tepung kering ya,kalau kering tandanya hawa panas badan di tarik tepung.\\nPointnya yg mesti di lamakan lihat di video.\\nHabis bikin tepung kasi minyak kayu putih satu badan,lalu urut urut,kasi makan yg hangat hangat.\\nObat tetap di minum,kalau demam bukan karena virus atau bakteri ,makaakan cepat sembuh\\nSelamat mencoba😊🙏🙏🙏🙏\\nSharing is caring😊,\" tulis salah satu akun Facebook.\\nKonten yang disebarkan akun Facebook tersebut telah 11 ribu kali ditonton dan mendapat 161 komentar dari warganet.\\nBenarkah menempelkan adonan tepung beras di tubuh bisa meredakan demam pada anak? Berikut penelusurannya.\\n</td>\n",
              "      <td>liputan6.com</td>\n",
              "      <td>2022-11-10</td>\n",
              "      <td>False Content</td>\n",
              "      <td>3</td>\n",
              "    </tr>\n",
              "    <tr>\n",
              "      <th>2</th>\n",
              "      <td>2</td>\n",
              "      <td>10926</td>\n",
              "      <td>[SALAH] Menkes Budi Gunadi Sadikin: “Diabetes Mudah Diobati”</td>\n",
              "      <td>Akun Facebook bernama TH K menyebarluaskan tautan serta gambar yang memperlihatkan menkes Budi Gunadi Sadikin sedang memberikan pidato. Selain itu, di gambar tersebut dilengkapi penjelasan bahwa pidato tersebut membahas tentang semua orang Indonesia yang kaget dengan fakta bahwa diabetes mudah diobati.\\n\\nTautan dan gambar yang diunggah pada 19 Juli 2022 tersebut telah dibagikan ulang sebanyak 153 kali, serta telah direspon oleh hampir 4,000 orang.</td>\n",
              "      <td>facebook.com</td>\n",
              "      <td>2022-11-10</td>\n",
              "      <td>Misleading Content</td>\n",
              "      <td>7</td>\n",
              "    </tr>\n",
              "    <tr>\n",
              "      <th>3</th>\n",
              "      <td>3</td>\n",
              "      <td>10925</td>\n",
              "      <td>Cek Fakta: Tidak Benar Video Wanita Tertua di Dunia Berusia 399 Tahun</td>\n",
              "      <td>\\nLiputan6.com, Jakarta - Sebuah video yang diklaim seorang wanita tertua di dunia berusia 399 tahun beredar di media sosial. Video tersebut disebarkan salah satu akun Facebook pada 18 April 2022.\\nVideo berdurasi 59 detik itu memperlihatkan seseorang tengah berbaring di tempat tidur dengan kondisi yang sudah renta.\\nSosok dalam video tersebut kemudian disebut-sebut sebagai wanita tertua di dunia berusia 399 tahun.\\n\"The oldest woman in the world 399 years old 😱👏,\" tulis salah satu akun Facebook.\\nKonten yang disebarkan akun Facebook tersebut telah 384 ribu kali ditonton dan mendapat 431 komentar dari warganet.\\nBenarkah dalam video itu merupakan wanita tertua di dunia berusia 399 tahun? Berikut penelusurannya.\\n</td>\n",
              "      <td>liputan6.com</td>\n",
              "      <td>2022-11-10</td>\n",
              "      <td>False Content</td>\n",
              "      <td>3</td>\n",
              "    </tr>\n",
              "    <tr>\n",
              "      <th>4</th>\n",
              "      <td>4</td>\n",
              "      <td>10924</td>\n",
              "      <td>Cek Fakta: Tidak Benar Kondisi AS Terkena Dampak Resesi dalam Video Ini</td>\n",
              "      <td>\\nLiputan6.com, Jakarta- Cek Fakta Liputan6.com mendapati klaim video kondisi Amerika Serikat atau AS terkena dampak resesi. Kabar tersebut diunggah salah satu akun Facebook, pada 22 Oktober 2022.\\nUnggahan klaim video kondisi AS terkena dampak resesi menampilkan situasi tepi jalan terdapat sejumlah orang tergeletak dan ada yang berjalan gontai.\\nVideo tersebut diberi keterangan sebagai berikut.\\n\"Ini situasi terkini di Amerika serikat Negara super power yg terkena dampak akibat resesi global yg melanda Dunia..coba klu terjadi di Indonesia para Kadrun mngoreng2 tiap hari sambil menari2 teriak2 turunkan Jokowi..😁😁\"\\nBenarkah klaim video kondisi AS terkena dampak resesi? Simak hasil penelusuran Cek Fakta Liputan6.com.</td>\n",
              "      <td>liputan6.com</td>\n",
              "      <td>2022-11-10</td>\n",
              "      <td>False Content</td>\n",
              "      <td>3</td>\n",
              "    </tr>\n",
              "  </tbody>\n",
              "</table>\n",
              "</div>\n",
              "      <button class=\"colab-df-convert\" onclick=\"convertToInteractive('df-894e3aed-4320-41cd-987a-569682ff6b60')\"\n",
              "              title=\"Convert this dataframe to an interactive table.\"\n",
              "              style=\"display:none;\">\n",
              "        \n",
              "  <svg xmlns=\"http://www.w3.org/2000/svg\" height=\"24px\"viewBox=\"0 0 24 24\"\n",
              "       width=\"24px\">\n",
              "    <path d=\"M0 0h24v24H0V0z\" fill=\"none\"/>\n",
              "    <path d=\"M18.56 5.44l.94 2.06.94-2.06 2.06-.94-2.06-.94-.94-2.06-.94 2.06-2.06.94zm-11 1L8.5 8.5l.94-2.06 2.06-.94-2.06-.94L8.5 2.5l-.94 2.06-2.06.94zm10 10l.94 2.06.94-2.06 2.06-.94-2.06-.94-.94-2.06-.94 2.06-2.06.94z\"/><path d=\"M17.41 7.96l-1.37-1.37c-.4-.4-.92-.59-1.43-.59-.52 0-1.04.2-1.43.59L10.3 9.45l-7.72 7.72c-.78.78-.78 2.05 0 2.83L4 21.41c.39.39.9.59 1.41.59.51 0 1.02-.2 1.41-.59l7.78-7.78 2.81-2.81c.8-.78.8-2.07 0-2.86zM5.41 20L4 18.59l7.72-7.72 1.47 1.35L5.41 20z\"/>\n",
              "  </svg>\n",
              "      </button>\n",
              "      \n",
              "  <style>\n",
              "    .colab-df-container {\n",
              "      display:flex;\n",
              "      flex-wrap:wrap;\n",
              "      gap: 12px;\n",
              "    }\n",
              "\n",
              "    .colab-df-convert {\n",
              "      background-color: #E8F0FE;\n",
              "      border: none;\n",
              "      border-radius: 50%;\n",
              "      cursor: pointer;\n",
              "      display: none;\n",
              "      fill: #1967D2;\n",
              "      height: 32px;\n",
              "      padding: 0 0 0 0;\n",
              "      width: 32px;\n",
              "    }\n",
              "\n",
              "    .colab-df-convert:hover {\n",
              "      background-color: #E2EBFA;\n",
              "      box-shadow: 0px 1px 2px rgba(60, 64, 67, 0.3), 0px 1px 3px 1px rgba(60, 64, 67, 0.15);\n",
              "      fill: #174EA6;\n",
              "    }\n",
              "\n",
              "    [theme=dark] .colab-df-convert {\n",
              "      background-color: #3B4455;\n",
              "      fill: #D2E3FC;\n",
              "    }\n",
              "\n",
              "    [theme=dark] .colab-df-convert:hover {\n",
              "      background-color: #434B5C;\n",
              "      box-shadow: 0px 1px 3px 1px rgba(0, 0, 0, 0.15);\n",
              "      filter: drop-shadow(0px 1px 2px rgba(0, 0, 0, 0.3));\n",
              "      fill: #FFFFFF;\n",
              "    }\n",
              "  </style>\n",
              "\n",
              "      <script>\n",
              "        const buttonEl =\n",
              "          document.querySelector('#df-894e3aed-4320-41cd-987a-569682ff6b60 button.colab-df-convert');\n",
              "        buttonEl.style.display =\n",
              "          google.colab.kernel.accessAllowed ? 'block' : 'none';\n",
              "\n",
              "        async function convertToInteractive(key) {\n",
              "          const element = document.querySelector('#df-894e3aed-4320-41cd-987a-569682ff6b60');\n",
              "          const dataTable =\n",
              "            await google.colab.kernel.invokeFunction('convertToInteractive',\n",
              "                                                     [key], {});\n",
              "          if (!dataTable) return;\n",
              "\n",
              "          const docLinkHtml = 'Like what you see? Visit the ' +\n",
              "            '<a target=\"_blank\" href=https://colab.research.google.com/notebooks/data_table.ipynb>data table notebook</a>'\n",
              "            + ' to learn more about interactive tables.';\n",
              "          element.innerHTML = '';\n",
              "          dataTable['output_type'] = 'display_data';\n",
              "          await google.colab.output.renderOutput(dataTable, element);\n",
              "          const docLink = document.createElement('div');\n",
              "          docLink.innerHTML = docLinkHtml;\n",
              "          element.appendChild(docLink);\n",
              "        }\n",
              "      </script>\n",
              "    </div>\n",
              "  </div>\n",
              "  "
            ]
          },
          "metadata": {},
          "execution_count": 21
        }
      ]
    },
    {
      "cell_type": "code",
      "source": [
        "df = df[['id','classification','content']]\n",
        "df.head()"
      ],
      "metadata": {
        "colab": {
          "base_uri": "https://localhost:8080/",
          "height": 840
        },
        "id": "im5lw7s1ZdLc",
        "outputId": "544c3d80-c49d-4a1c-b739-93133ab7fbdc"
      },
      "id": "im5lw7s1ZdLc",
      "execution_count": 22,
      "outputs": [
        {
          "output_type": "execute_result",
          "data": {
            "text/plain": [
              "      id      classification  \\\n",
              "0  10928       False Content   \n",
              "1  10927       False Content   \n",
              "2  10926  Misleading Content   \n",
              "3  10925       False Content   \n",
              "4  10924       False Content   \n",
              "\n",
              "                                                                                                                                                                                                                                                                                                                                                                                                                                                                                                                                                                                                                                                                                                                                                                                                                                                                                                                                                                                                                                                                                                                                                                                                                                                                                                                                                                                                                                                                                                                                                                                                                                        content  \n",
              "0                                                                                                                                                                                                                                                                                                                                                                                                                                                                                                                                                                                                         \\nLiputan6.com, Jakarta - Kabar tentang artis Nikita Mirzani meninggal dunia akibat serangan jantung pada 2 November 2022 beredar di media sosial. Kabar tersebut disebarkan salah satu akun Facebook pada 2 November 2022.\\nAkun Facebook tersebut mengunggah video dari situs berbagi video YouTube. Video tersebut berjudul \"Innalillahi, Nikita Mirzani 'Meninggal Dunia' Akibat Serangan Jantung\".\\nGambar dalam video tersebut Nikita Mirzani tengah terbaring di ranjang rumah sakit, tangannya tampak diinfus. Di samping gambar tersebut, terdapat sejumlah orang tengah berkumpul di sekitar pemakaman.\\nVideo tersebut kemudian diberi judul \"BREAKING NEWS \"NIKITA MIRZANI 'MENINGGAL DUNIA' AKIBAT SERANGAN JANTUNG\".\\n\"Bener apa bener sih NI berita?..\" tulis salah satu akun Facebook.\\nKonten yang disebarkan akun Facebook tersebut telah beberapa kali direspons dan dikomentari warganet.\\nBenarkah kabar Nikita Mirzani meninggal dunia akibat serangan jantung pada 2 November 2022? Berikut penelusurannya.\\n   \n",
              "1  \\nLiputan6.com, Jakarta - Klaim tentang menempelkan tepung beras di tubuh bisa meredakan demam pada anak beredar di media sosial. Klaim tersebut disebarkan salah satu akun Facebook pada 31 Oktober 2022 lalu.\\nAkun Facebook tersebut mengunggah video berisi tata cara menggunakan tepung beras untuk menurunkan demam pada anak. Yang pertama, tepung beras dicampur dengan air hingga membentuk adonan. Adonan tepung beras tersebut kemudian ditempelkan dan diusapkan pada bagian dada dan perut anak.\\n\"Sekarang ini lagi musim demam,saya share pengalaman ya sama teman teman,andalan mama dulu kami kecil,sampai sekarang saya bikin ke anak anak,setidaknya pertolongan pertama buat anak anak demam, supaya gak kejang kejang dan step.\\nK*m*k* V*v**nn* pernah panas 40 tapi masih aktif\\nHabis bikin tepung jangan buka ac ya,ataupun kipas,waktu bikin juga jangan buka ac dan kipas.Please nonton video sampai habis🙏\\nCukup tepung campur air putih aduk kira bisa di pegang.\\nBikin sampai tepung kering ya,kalau kering tandanya hawa panas badan di tarik tepung.\\nPointnya yg mesti di lamakan lihat di video.\\nHabis bikin tepung kasi minyak kayu putih satu badan,lalu urut urut,kasi makan yg hangat hangat.\\nObat tetap di minum,kalau demam bukan karena virus atau bakteri ,makaakan cepat sembuh\\nSelamat mencoba😊🙏🙏🙏🙏\\nSharing is caring😊,\" tulis salah satu akun Facebook.\\nKonten yang disebarkan akun Facebook tersebut telah 11 ribu kali ditonton dan mendapat 161 komentar dari warganet.\\nBenarkah menempelkan adonan tepung beras di tubuh bisa meredakan demam pada anak? Berikut penelusurannya.\\n   \n",
              "2                                                                                                                                                                                                                                                                                                                                                                                                                                                                                                                                                                                                                                                                                                                                                                                                                                                                                                                                                                                                                                                                                                                                                                          Akun Facebook bernama TH K menyebarluaskan tautan serta gambar yang memperlihatkan menkes Budi Gunadi Sadikin sedang memberikan pidato. Selain itu, di gambar tersebut dilengkapi penjelasan bahwa pidato tersebut membahas tentang semua orang Indonesia yang kaget dengan fakta bahwa diabetes mudah diobati.\\n\\nTautan dan gambar yang diunggah pada 19 Juli 2022 tersebut telah dibagikan ulang sebanyak 153 kali, serta telah direspon oleh hampir 4,000 orang.  \n",
              "3                                                                                                                                                                                                                                                                                                                                                                                                                                                                                                                                                                                                                                                                                                                                                                                                                                                                                           \\nLiputan6.com, Jakarta - Sebuah video yang diklaim seorang wanita tertua di dunia berusia 399 tahun beredar di media sosial. Video tersebut disebarkan salah satu akun Facebook pada 18 April 2022.\\nVideo berdurasi 59 detik itu memperlihatkan seseorang tengah berbaring di tempat tidur dengan kondisi yang sudah renta.\\nSosok dalam video tersebut kemudian disebut-sebut sebagai wanita tertua di dunia berusia 399 tahun.\\n\"The oldest woman in the world 399 years old 😱👏,\" tulis salah satu akun Facebook.\\nKonten yang disebarkan akun Facebook tersebut telah 384 ribu kali ditonton dan mendapat 431 komentar dari warganet.\\nBenarkah dalam video itu merupakan wanita tertua di dunia berusia 399 tahun? Berikut penelusurannya.\\n   \n",
              "4                                                                                                                                                                                                                                                                                                                                                                                                                                                                                                                                                                                                                                                                                                                                                                                                                                                                                         \\nLiputan6.com, Jakarta- Cek Fakta Liputan6.com mendapati klaim video kondisi Amerika Serikat atau AS terkena dampak resesi. Kabar tersebut diunggah salah satu akun Facebook, pada 22 Oktober 2022.\\nUnggahan klaim video kondisi AS terkena dampak resesi menampilkan situasi tepi jalan terdapat sejumlah orang tergeletak dan ada yang berjalan gontai.\\nVideo tersebut diberi keterangan sebagai berikut.\\n\"Ini situasi terkini di Amerika serikat Negara super power yg terkena dampak akibat resesi global yg melanda Dunia..coba klu terjadi di Indonesia para Kadrun mngoreng2 tiap hari sambil menari2 teriak2 turunkan Jokowi..😁😁\"\\nBenarkah klaim video kondisi AS terkena dampak resesi? Simak hasil penelusuran Cek Fakta Liputan6.com.  "
            ],
            "text/html": [
              "\n",
              "  <div id=\"df-eff58b4e-596a-49aa-a560-265c01589360\">\n",
              "    <div class=\"colab-df-container\">\n",
              "      <div>\n",
              "<style scoped>\n",
              "    .dataframe tbody tr th:only-of-type {\n",
              "        vertical-align: middle;\n",
              "    }\n",
              "\n",
              "    .dataframe tbody tr th {\n",
              "        vertical-align: top;\n",
              "    }\n",
              "\n",
              "    .dataframe thead th {\n",
              "        text-align: right;\n",
              "    }\n",
              "</style>\n",
              "<table border=\"1\" class=\"dataframe\">\n",
              "  <thead>\n",
              "    <tr style=\"text-align: right;\">\n",
              "      <th></th>\n",
              "      <th>id</th>\n",
              "      <th>classification</th>\n",
              "      <th>content</th>\n",
              "    </tr>\n",
              "  </thead>\n",
              "  <tbody>\n",
              "    <tr>\n",
              "      <th>0</th>\n",
              "      <td>10928</td>\n",
              "      <td>False Content</td>\n",
              "      <td>\\nLiputan6.com, Jakarta - Kabar tentang artis Nikita Mirzani meninggal dunia akibat serangan jantung pada 2 November 2022 beredar di media sosial. Kabar tersebut disebarkan salah satu akun Facebook pada 2 November 2022.\\nAkun Facebook tersebut mengunggah video dari situs berbagi video YouTube. Video tersebut berjudul \"Innalillahi, Nikita Mirzani 'Meninggal Dunia' Akibat Serangan Jantung\".\\nGambar dalam video tersebut Nikita Mirzani tengah terbaring di ranjang rumah sakit, tangannya tampak diinfus. Di samping gambar tersebut, terdapat sejumlah orang tengah berkumpul di sekitar pemakaman.\\nVideo tersebut kemudian diberi judul \"BREAKING NEWS \"NIKITA MIRZANI 'MENINGGAL DUNIA' AKIBAT SERANGAN JANTUNG\".\\n\"Bener apa bener sih NI berita?..\" tulis salah satu akun Facebook.\\nKonten yang disebarkan akun Facebook tersebut telah beberapa kali direspons dan dikomentari warganet.\\nBenarkah kabar Nikita Mirzani meninggal dunia akibat serangan jantung pada 2 November 2022? Berikut penelusurannya.\\n</td>\n",
              "    </tr>\n",
              "    <tr>\n",
              "      <th>1</th>\n",
              "      <td>10927</td>\n",
              "      <td>False Content</td>\n",
              "      <td>\\nLiputan6.com, Jakarta - Klaim tentang menempelkan tepung beras di tubuh bisa meredakan demam pada anak beredar di media sosial. Klaim tersebut disebarkan salah satu akun Facebook pada 31 Oktober 2022 lalu.\\nAkun Facebook tersebut mengunggah video berisi tata cara menggunakan tepung beras untuk menurunkan demam pada anak. Yang pertama, tepung beras dicampur dengan air hingga membentuk adonan. Adonan tepung beras tersebut kemudian ditempelkan dan diusapkan pada bagian dada dan perut anak.\\n\"Sekarang ini lagi musim demam,saya share pengalaman ya sama teman teman,andalan mama dulu kami kecil,sampai sekarang saya bikin ke anak anak,setidaknya pertolongan pertama buat anak anak demam, supaya gak kejang kejang dan step.\\nK*m*k* V*v**nn* pernah panas 40 tapi masih aktif\\nHabis bikin tepung jangan buka ac ya,ataupun kipas,waktu bikin juga jangan buka ac dan kipas.Please nonton video sampai habis🙏\\nCukup tepung campur air putih aduk kira bisa di pegang.\\nBikin sampai tepung kering ya,kalau kering tandanya hawa panas badan di tarik tepung.\\nPointnya yg mesti di lamakan lihat di video.\\nHabis bikin tepung kasi minyak kayu putih satu badan,lalu urut urut,kasi makan yg hangat hangat.\\nObat tetap di minum,kalau demam bukan karena virus atau bakteri ,makaakan cepat sembuh\\nSelamat mencoba😊🙏🙏🙏🙏\\nSharing is caring😊,\" tulis salah satu akun Facebook.\\nKonten yang disebarkan akun Facebook tersebut telah 11 ribu kali ditonton dan mendapat 161 komentar dari warganet.\\nBenarkah menempelkan adonan tepung beras di tubuh bisa meredakan demam pada anak? Berikut penelusurannya.\\n</td>\n",
              "    </tr>\n",
              "    <tr>\n",
              "      <th>2</th>\n",
              "      <td>10926</td>\n",
              "      <td>Misleading Content</td>\n",
              "      <td>Akun Facebook bernama TH K menyebarluaskan tautan serta gambar yang memperlihatkan menkes Budi Gunadi Sadikin sedang memberikan pidato. Selain itu, di gambar tersebut dilengkapi penjelasan bahwa pidato tersebut membahas tentang semua orang Indonesia yang kaget dengan fakta bahwa diabetes mudah diobati.\\n\\nTautan dan gambar yang diunggah pada 19 Juli 2022 tersebut telah dibagikan ulang sebanyak 153 kali, serta telah direspon oleh hampir 4,000 orang.</td>\n",
              "    </tr>\n",
              "    <tr>\n",
              "      <th>3</th>\n",
              "      <td>10925</td>\n",
              "      <td>False Content</td>\n",
              "      <td>\\nLiputan6.com, Jakarta - Sebuah video yang diklaim seorang wanita tertua di dunia berusia 399 tahun beredar di media sosial. Video tersebut disebarkan salah satu akun Facebook pada 18 April 2022.\\nVideo berdurasi 59 detik itu memperlihatkan seseorang tengah berbaring di tempat tidur dengan kondisi yang sudah renta.\\nSosok dalam video tersebut kemudian disebut-sebut sebagai wanita tertua di dunia berusia 399 tahun.\\n\"The oldest woman in the world 399 years old 😱👏,\" tulis salah satu akun Facebook.\\nKonten yang disebarkan akun Facebook tersebut telah 384 ribu kali ditonton dan mendapat 431 komentar dari warganet.\\nBenarkah dalam video itu merupakan wanita tertua di dunia berusia 399 tahun? Berikut penelusurannya.\\n</td>\n",
              "    </tr>\n",
              "    <tr>\n",
              "      <th>4</th>\n",
              "      <td>10924</td>\n",
              "      <td>False Content</td>\n",
              "      <td>\\nLiputan6.com, Jakarta- Cek Fakta Liputan6.com mendapati klaim video kondisi Amerika Serikat atau AS terkena dampak resesi. Kabar tersebut diunggah salah satu akun Facebook, pada 22 Oktober 2022.\\nUnggahan klaim video kondisi AS terkena dampak resesi menampilkan situasi tepi jalan terdapat sejumlah orang tergeletak dan ada yang berjalan gontai.\\nVideo tersebut diberi keterangan sebagai berikut.\\n\"Ini situasi terkini di Amerika serikat Negara super power yg terkena dampak akibat resesi global yg melanda Dunia..coba klu terjadi di Indonesia para Kadrun mngoreng2 tiap hari sambil menari2 teriak2 turunkan Jokowi..😁😁\"\\nBenarkah klaim video kondisi AS terkena dampak resesi? Simak hasil penelusuran Cek Fakta Liputan6.com.</td>\n",
              "    </tr>\n",
              "  </tbody>\n",
              "</table>\n",
              "</div>\n",
              "      <button class=\"colab-df-convert\" onclick=\"convertToInteractive('df-eff58b4e-596a-49aa-a560-265c01589360')\"\n",
              "              title=\"Convert this dataframe to an interactive table.\"\n",
              "              style=\"display:none;\">\n",
              "        \n",
              "  <svg xmlns=\"http://www.w3.org/2000/svg\" height=\"24px\"viewBox=\"0 0 24 24\"\n",
              "       width=\"24px\">\n",
              "    <path d=\"M0 0h24v24H0V0z\" fill=\"none\"/>\n",
              "    <path d=\"M18.56 5.44l.94 2.06.94-2.06 2.06-.94-2.06-.94-.94-2.06-.94 2.06-2.06.94zm-11 1L8.5 8.5l.94-2.06 2.06-.94-2.06-.94L8.5 2.5l-.94 2.06-2.06.94zm10 10l.94 2.06.94-2.06 2.06-.94-2.06-.94-.94-2.06-.94 2.06-2.06.94z\"/><path d=\"M17.41 7.96l-1.37-1.37c-.4-.4-.92-.59-1.43-.59-.52 0-1.04.2-1.43.59L10.3 9.45l-7.72 7.72c-.78.78-.78 2.05 0 2.83L4 21.41c.39.39.9.59 1.41.59.51 0 1.02-.2 1.41-.59l7.78-7.78 2.81-2.81c.8-.78.8-2.07 0-2.86zM5.41 20L4 18.59l7.72-7.72 1.47 1.35L5.41 20z\"/>\n",
              "  </svg>\n",
              "      </button>\n",
              "      \n",
              "  <style>\n",
              "    .colab-df-container {\n",
              "      display:flex;\n",
              "      flex-wrap:wrap;\n",
              "      gap: 12px;\n",
              "    }\n",
              "\n",
              "    .colab-df-convert {\n",
              "      background-color: #E8F0FE;\n",
              "      border: none;\n",
              "      border-radius: 50%;\n",
              "      cursor: pointer;\n",
              "      display: none;\n",
              "      fill: #1967D2;\n",
              "      height: 32px;\n",
              "      padding: 0 0 0 0;\n",
              "      width: 32px;\n",
              "    }\n",
              "\n",
              "    .colab-df-convert:hover {\n",
              "      background-color: #E2EBFA;\n",
              "      box-shadow: 0px 1px 2px rgba(60, 64, 67, 0.3), 0px 1px 3px 1px rgba(60, 64, 67, 0.15);\n",
              "      fill: #174EA6;\n",
              "    }\n",
              "\n",
              "    [theme=dark] .colab-df-convert {\n",
              "      background-color: #3B4455;\n",
              "      fill: #D2E3FC;\n",
              "    }\n",
              "\n",
              "    [theme=dark] .colab-df-convert:hover {\n",
              "      background-color: #434B5C;\n",
              "      box-shadow: 0px 1px 3px 1px rgba(0, 0, 0, 0.15);\n",
              "      filter: drop-shadow(0px 1px 2px rgba(0, 0, 0, 0.3));\n",
              "      fill: #FFFFFF;\n",
              "    }\n",
              "  </style>\n",
              "\n",
              "      <script>\n",
              "        const buttonEl =\n",
              "          document.querySelector('#df-eff58b4e-596a-49aa-a560-265c01589360 button.colab-df-convert');\n",
              "        buttonEl.style.display =\n",
              "          google.colab.kernel.accessAllowed ? 'block' : 'none';\n",
              "\n",
              "        async function convertToInteractive(key) {\n",
              "          const element = document.querySelector('#df-eff58b4e-596a-49aa-a560-265c01589360');\n",
              "          const dataTable =\n",
              "            await google.colab.kernel.invokeFunction('convertToInteractive',\n",
              "                                                     [key], {});\n",
              "          if (!dataTable) return;\n",
              "\n",
              "          const docLinkHtml = 'Like what you see? Visit the ' +\n",
              "            '<a target=\"_blank\" href=https://colab.research.google.com/notebooks/data_table.ipynb>data table notebook</a>'\n",
              "            + ' to learn more about interactive tables.';\n",
              "          element.innerHTML = '';\n",
              "          dataTable['output_type'] = 'display_data';\n",
              "          await google.colab.output.renderOutput(dataTable, element);\n",
              "          const docLink = document.createElement('div');\n",
              "          docLink.innerHTML = docLinkHtml;\n",
              "          element.appendChild(docLink);\n",
              "        }\n",
              "      </script>\n",
              "    </div>\n",
              "  </div>\n",
              "  "
            ]
          },
          "metadata": {},
          "execution_count": 22
        }
      ]
    },
    {
      "cell_type": "code",
      "source": [
        "df = df.rename({'id': 'id', 'classification': 'sentiment','content': 'text'}, axis='columns')\n",
        "df"
      ],
      "metadata": {
        "colab": {
          "base_uri": "https://localhost:8080/",
          "height": 1000
        },
        "id": "mMZDV8vObI4K",
        "outputId": "09054137-ca95-4748-d1e9-84b7ceb6036e"
      },
      "id": "mMZDV8vObI4K",
      "execution_count": 23,
      "outputs": [
        {
          "output_type": "execute_result",
          "data": {
            "text/plain": [
              "          id           sentiment  \\\n",
              "0      10928       False Content   \n",
              "1      10927       False Content   \n",
              "2      10926  Misleading Content   \n",
              "3      10925       False Content   \n",
              "4      10924       False Content   \n",
              "...      ...                 ...   \n",
              "10460      9       False Content   \n",
              "10461      8                TRUE   \n",
              "10462      7  Fabricated Content   \n",
              "10463      5  Fabricated Content   \n",
              "10464      4  Fabricated Content   \n",
              "\n",
              "                                                                                                                                                                                                                                                                                                                                                                                                                                                                                                                                                                                                                                                                                                                                                                                                                                                                                                                                                                                                                                                                                                                                                                                                                                                                                                                                                                                                                                                                                                                                                                                                                                                                                                                                                                                                                                                                                                                                                                                                                                                                                                                                                                                                                                                                                                                                                                                                                                                                                                                                                                                                                                                                                                                                                                                                                                                                                                                                                                                                                                                                                                                                                                                                                                                                                                                                                                                                                                                                                                                                                                                                                                                                                                                                                                                                                                                              text  \n",
              "0                                                                                                                                                                                                                                                                                                                                                                                                                                                                                                                                                                                                                                                                                                                                                                                                                                                                                                                                                                                                                                                                                                                                                                                                                                                                                                                                                                                                                                                                                                                                                                                                                                                                                                                                                                                                                                                                                                                                                                                                                                                                                                                                                                                                                                                                                                                                                                                                                                                                                                                                                                                                                                                                                                                                                                                                                            \\nLiputan6.com, Jakarta - Kabar tentang artis Nikita Mirzani meninggal dunia akibat serangan jantung pada 2 November 2022 beredar di media sosial. Kabar tersebut disebarkan salah satu akun Facebook pada 2 November 2022.\\nAkun Facebook tersebut mengunggah video dari situs berbagi video YouTube. Video tersebut berjudul \"Innalillahi, Nikita Mirzani 'Meninggal Dunia' Akibat Serangan Jantung\".\\nGambar dalam video tersebut Nikita Mirzani tengah terbaring di ranjang rumah sakit, tangannya tampak diinfus. Di samping gambar tersebut, terdapat sejumlah orang tengah berkumpul di sekitar pemakaman.\\nVideo tersebut kemudian diberi judul \"BREAKING NEWS \"NIKITA MIRZANI 'MENINGGAL DUNIA' AKIBAT SERANGAN JANTUNG\".\\n\"Bener apa bener sih NI berita?..\" tulis salah satu akun Facebook.\\nKonten yang disebarkan akun Facebook tersebut telah beberapa kali direspons dan dikomentari warganet.\\nBenarkah kabar Nikita Mirzani meninggal dunia akibat serangan jantung pada 2 November 2022? Berikut penelusurannya.\\n   \n",
              "1                                                                                                                                                                                                                                                                                                                                                                                                                                                                                                                                                                                                                                                                                                                                                                                                                                                                                                                                                                                                                                                                                                                                                                                                                                                                                                                                                                                                                                                                                                                                                                                                                                                                                                                                                                                                                                                                                                                                                                                                                                                                                                                                                                                                                     \\nLiputan6.com, Jakarta - Klaim tentang menempelkan tepung beras di tubuh bisa meredakan demam pada anak beredar di media sosial. Klaim tersebut disebarkan salah satu akun Facebook pada 31 Oktober 2022 lalu.\\nAkun Facebook tersebut mengunggah video berisi tata cara menggunakan tepung beras untuk menurunkan demam pada anak. Yang pertama, tepung beras dicampur dengan air hingga membentuk adonan. Adonan tepung beras tersebut kemudian ditempelkan dan diusapkan pada bagian dada dan perut anak.\\n\"Sekarang ini lagi musim demam,saya share pengalaman ya sama teman teman,andalan mama dulu kami kecil,sampai sekarang saya bikin ke anak anak,setidaknya pertolongan pertama buat anak anak demam, supaya gak kejang kejang dan step.\\nK*m*k* V*v**nn* pernah panas 40 tapi masih aktif\\nHabis bikin tepung jangan buka ac ya,ataupun kipas,waktu bikin juga jangan buka ac dan kipas.Please nonton video sampai habis🙏\\nCukup tepung campur air putih aduk kira bisa di pegang.\\nBikin sampai tepung kering ya,kalau kering tandanya hawa panas badan di tarik tepung.\\nPointnya yg mesti di lamakan lihat di video.\\nHabis bikin tepung kasi minyak kayu putih satu badan,lalu urut urut,kasi makan yg hangat hangat.\\nObat tetap di minum,kalau demam bukan karena virus atau bakteri ,makaakan cepat sembuh\\nSelamat mencoba😊🙏🙏🙏🙏\\nSharing is caring😊,\" tulis salah satu akun Facebook.\\nKonten yang disebarkan akun Facebook tersebut telah 11 ribu kali ditonton dan mendapat 161 komentar dari warganet.\\nBenarkah menempelkan adonan tepung beras di tubuh bisa meredakan demam pada anak? Berikut penelusurannya.\\n   \n",
              "2                                                                                                                                                                                                                                                                                                                                                                                                                                                                                                                                                                                                                                                                                                                                                                                                                                                                                                                                                                                                                                                                                                                                                                                                                                                                                                                                                                                                                                                                                                                                                                                                                                                                                                                                                                                                                                                                                                                                                                                                                                                                                                                                                                                                                                                                                                                                                                                                                                                                                                                                                                                                                                                                                                                                                                                                                                                                                                                                                                                                                                                                                                                                                                                                                                                                                                                                                                                             Akun Facebook bernama TH K menyebarluaskan tautan serta gambar yang memperlihatkan menkes Budi Gunadi Sadikin sedang memberikan pidato. Selain itu, di gambar tersebut dilengkapi penjelasan bahwa pidato tersebut membahas tentang semua orang Indonesia yang kaget dengan fakta bahwa diabetes mudah diobati.\\n\\nTautan dan gambar yang diunggah pada 19 Juli 2022 tersebut telah dibagikan ulang sebanyak 153 kali, serta telah direspon oleh hampir 4,000 orang.  \n",
              "3                                                                                                                                                                                                                                                                                                                                                                                                                                                                                                                                                                                                                                                                                                                                                                                                                                                                                                                                                                                                                                                                                                                                                                                                                                                                                                                                                                                                                                                                                                                                                                                                                                                                                                                                                                                                                                                                                                                                                                                                                                                                                                                                                                                                                                                                                                                                                                                                                                                                                                                                                                                                                                                                                                                                                                                                                                                                                                                                                                                                                                                                                                              \\nLiputan6.com, Jakarta - Sebuah video yang diklaim seorang wanita tertua di dunia berusia 399 tahun beredar di media sosial. Video tersebut disebarkan salah satu akun Facebook pada 18 April 2022.\\nVideo berdurasi 59 detik itu memperlihatkan seseorang tengah berbaring di tempat tidur dengan kondisi yang sudah renta.\\nSosok dalam video tersebut kemudian disebut-sebut sebagai wanita tertua di dunia berusia 399 tahun.\\n\"The oldest woman in the world 399 years old 😱👏,\" tulis salah satu akun Facebook.\\nKonten yang disebarkan akun Facebook tersebut telah 384 ribu kali ditonton dan mendapat 431 komentar dari warganet.\\nBenarkah dalam video itu merupakan wanita tertua di dunia berusia 399 tahun? Berikut penelusurannya.\\n   \n",
              "4                                                                                                                                                                                                                                                                                                                                                                                                                                                                                                                                                                                                                                                                                                                                                                                                                                                                                                                                                                                                                                                                                                                                                                                                                                                                                                                                                                                                                                                                                                                                                                                                                                                                                                                                                                                                                                                                                                                                                                                                                                                                                                                                                                                                                                                                                                                                                                                                                                                                                                                                                                                                                                                                                                                                                                                                                                                                                                                                                                                                                                                                                                            \\nLiputan6.com, Jakarta- Cek Fakta Liputan6.com mendapati klaim video kondisi Amerika Serikat atau AS terkena dampak resesi. Kabar tersebut diunggah salah satu akun Facebook, pada 22 Oktober 2022.\\nUnggahan klaim video kondisi AS terkena dampak resesi menampilkan situasi tepi jalan terdapat sejumlah orang tergeletak dan ada yang berjalan gontai.\\nVideo tersebut diberi keterangan sebagai berikut.\\n\"Ini situasi terkini di Amerika serikat Negara super power yg terkena dampak akibat resesi global yg melanda Dunia..coba klu terjadi di Indonesia para Kadrun mngoreng2 tiap hari sambil menari2 teriak2 turunkan Jokowi..😁😁\"\\nBenarkah klaim video kondisi AS terkena dampak resesi? Simak hasil penelusuran Cek Fakta Liputan6.com.  \n",
              "...                                                                                                                                                                                                                                                                                                                                                                                                                                                                                                                                                                                                                                                                                                                                                                                                                                                                                                                                                                                                                                                                                                                                                                                                                                                                                                                                                                                                                                                                                                                                                                                                                                                                                                                                                                                                                                                                                                                                                                                                                                                                                                                                                                                                                                                                                                                                                                                                                                                                                                                                                                                                                                                                                                                                                                                                                                                                                                                                                                                                                                                                                                                                                                                                                                                                                                                                                                                                                                                                                                                                                                                                                                                                                                                                                                                                                                                            ...  \n",
              "10460                                                                                                                                                                                                                                                                                                                                                                                                                                                                                                                                                                                                                                                                                                                                                                                                                                                                                                                                                                                                                                                                                                                                                                                                                                                                                                                                                                                                                                                                                                                                                                                                                                                                                                                                                                                                                                                                                                                                                                                                                                                                                                                                                                                                                                                                                                                                                                                                                                                                                                                                                                                                                                                                                                                                                                                                                                                                                                                                                                                                                                                                                                                                                                                                                                                                                                                                                                                                                                                                                                                                                                                                                                   GNPF- Dana sedekah umat jelas sumbernya dan penggunaannya, Dipolisikan\\nTeman Ahok : Dana sumbangan untuk kegiatan poltik dan tidak jelas sumbernya. Dibiarkan.\\nKok beda perlakuannya? Apakah umat tidak boleh bersedekah  \n",
              "10461                                                                                                                                                                                                                                                                                                                                                                                                                                                                                                                                                                                                                                                                                                                                                                                                                                                                                                                                                                                                                                                                                                                                                                                                                                                                                                                                                                                                                                                                                                                                                                                                                                                                                                                                                                                                                                                                                                                                                                                                                                                                                                                                                                                                                                                                                                                                                                                                                                                                                                                                                  “how about this @IndonesiaGaruda racism on your airplane? I believe this is one of your Pilot!” “Kerjain saja CINA2 ITU” (just work on that Chinese)”\\n\\nSebuah video yang memperlihatkan seorang pilot dari maskapai milik negera Indonesia sedang berseteru tegang dengan petugas bea cukai di kabin pesawat, menjadi viral di media sosial. Dalam video yang berdurasi 2 menit 8 detik itu, sang pilot menolak diperiksa oleh pilot menolak diperiksa petugas Bea-Cukai di dalam pesawat. Ia juga mengatakan selama menjalankan tugas sebagai pilot Garuda Indonesia tak pernah diperiksa seperti itu. Sang pilot pun malah menyarankan untuk memeriksa maskapai lain.\\n“Bukan kalian tidak boleh ke pesawat, boleh! Tapi, ini pesawat punya negara. Kalau kau mau kerjain tu China China itu tuh, Sriwijaya sana tuh,” ucap pilot tersebut seperti terekam dalam video.\\n\\nKejadian bermula saat pesawat dengan nomor penerbangan GA8510 SIN-DTB baru mendarat di Bandara Silangit, Siborong-borong. Setelah penumpang turun, petugas Bea Cukai kemudian naik memeriksa pesawat dan tas kru. Pilot menolak diperiksa karena merasa selama ini belum pernah ada pemeriksaan di dalam pesawat. Kemungkinan juga pilot belum mengetahui bahwa sesuai SOP, petugas Bea Cukai berhak masuk ke dalam pesawat.  \n",
              "10462                                                                                                                                                                                                                                                                                                                                                                                                                                                                                                                                                                                                                                                                                                                                                                                                                                                                                                                                                                                                                                                                                                                                                                                                                                                                                                                                                                                                                                                                                                                                                                                                                                                                                                                                                                                                                                                                                                                                                                                                                                                                                                                                                                                                                                                                                                                                                                                                                                                                                                                                                                                                                                                                                                                                                                                                                                                                                                                                                                                                                                   \"SURAT PENETAPAN PEMBERANGKATAN HAJI TAHUN 2018\\nSehubungan dengan akan datangnya musim Haji tahun 2018, dan sesuai data yang ada di Sistem Komputerisasi Haji (SISKOHAJI) Kementerian Agama RI, maka perlu adanya penetapan pemberangkatan calon jamaah haji tahun 2018, agar tidak terjadi perubahan dikemudian hari.\\nYang tersebut dibawah ini:\\nNama : RENALDY RIRIN BIN RIRIN\\nTempat Tanggal Lahir : Bukit Tinggi, 17 April 1951\\nAlamat : Cipinang Bawah, Rt.002/014 Kelurahan Cipinang, Kecamatan Pulogadung, Jakarta Timur\\nNo. SPPH : 405688\\nNo. Porsi : 162559\\nKloter : 16\\nEmbarkasi : DKI Jakarta\\nDemikian Surat Penetapan ini dibuat untuk dapat dipergunakan sebagaimana mestinya.\\nJakarta, 16 Nopember 2017\\nKEMENTRIAN AGAMA RI\\nPENYELENGGARA HAJI & UMROH\\nDR. H. NURSYAM, MA\\n19590812982031007\".  \n",
              "10463                                                                                                                                                                                                                                                                                                                                                                                                                                                                                                                                                                                                                                                                                                                                                                                                                                                                                                                                                                                                                                                                                                                                                                                                                                                                                                                                                                                                                                                                                                                                                                                                                                                                                                                                                                                                                                                                                                                                                                                                                                                                                                                                                                                                                                                                                                                                                                                                                                                                                                                                                                                                                                                                                                                                                                                                                                                                                                                                                                                                                                                                                                                                                                                                                                                                                                                                                                                                                                                                                                                                                                    \"Di Tengah Ramainya Berita SetNov, Warga Kebangsaan China Sampai Saat ini Terus Berduyun\" Masuk ke Negeri ini\\nDi Sengaja atau Tidak, Wallahu A'llam\\nLebih Parahnya Semua Media Bungkam, Mengecoh Langit Menyebrangi Lautan kah\\n#Indonesia_Waspada_Komunis\\n#Generasi_Muda_Akhir_Zaman\"  \n",
              "10464  \"PKI DAN CINA SDH SIAP MERAMPAS INDONESIA.\\r\\nMEREKA BERSUMPAH AKAN MENYEMBELIH KAUM MUSLIMIN\\r\\nBismillahirrohmanirohiim,..\\r\\nLindungi kami Ya Allah.....\\r\\nUlasan dr sahabat salah satu anggota dewan/parpol (semoga bermanfaat, silahkan disikapi dgn baik) :\\r\\n( Ini berita dari temen yg dosen di Bandung )\\r\\n[19/12 19.37] YY: Saya tadi jam 14 diundang rapat koordinasi di kampus pascasarjana dan yg mengundang adalah direktur pascasarjana sekaligus tokoh Jawa Barat... Isinya mengajak untuk bersatu padu dalam NKRI.. Beliau diminta juga untuk memberikan arahan dan duduk bersama dgn panglima TNI... Reuwas oge... Ternyata benar oge.. Ancaman sudah di depan mata tinggal menunggu waktu\\r\\n[19/12 19.38] YY: Jadi naon hubunganana sama bidang pendidikan.. Ternyata juga sudah dimulai efek global nya\\r\\n[19/12 19.38] YY: Dari luar\\r\\nSaat ini masih perang Proxy... Issue ini sudah lama, tapi baru nyadar dan berasa dampaknya sekarang.\\r\\nKata Panglima kalo pun kita harus melawan atau perang kita hanya bisa bertahan 3 hari saja..\\r\\nIndonesia sudah tidak bisa bayar hutang Ke China, makanya Asset negara banyak dijualin..\\r\\nKalo sampe rusuh lagi kayak 98. Itulah alasan China mengancam akan kirim militernya ke Indonesia, China di dukung Australia, Singapore dan Malaysia. Saat ini mereka sudah stand by. Bila kejadian 98 terulang mereka akan masuk Indonesia dengan alasan mengamankan asetnya, padahal misinya menguasai Indonesia. China akan berhadapan dgn Amerika. Jadi Indonesia sbg tempat pertaruhan negara2 itu.\\r\\nMakanya banyak China masuk Indonesia, karena Joko'Wie dipaksa buat Amandemen bebas masuk Indonesia dan bisa jadi WNI..\\r\\nIni semua ulah si Joko'Wie...!!\\r\\nPejabat negara, Polri, DPR MPR udah di beli China semua...\\r\\nChina ngincer Freeport endingnya head to head sama USA... Indonesia sbg ladang rebutan mereka kita yg jadi korbannya. Semua itu sekali lg krn kebijakkan Joko'Wie\\r\\nJadi kenapa Panglima mengajak masyarakat dan kalangan akademisi buat bersatu dan tenang, agar tidak terjadi kerusahan seperti 98. Biarkan si Joko'Wie itu kelarin masa jabatannya. Supaya tidak ada alasan negara2 itu masuk Indonesia dengan alasan bantu pengamanan. Dengan begitu kita tidak kasih kesempatan mereka masuk ke dalam negeri ini.\\r\\nTahan Imigran2 dari China, kirim balik ke negara mereka. Karena mereka di set selain sbgi mata-mata, juga sbgi team advance militer China utk buat Strategi, bayangkan China2 yg masuk indonesia kelak mereka akan membunuh menyiksa kita dan keluarga kita !!\\r\\nMakanya sebelum itu terjadi kita masyarakat dihimbau utk dapat memberikan informasi ke Aparat utk menangkap dan memulangkan ke China.\\r\\nJadi kita skrng paham ya, kenapa Ahok begitu Pede bilang kelak bakal jadi RI1. Ya kalo invasi China masuk Indonesia besar-besaran, bisa dibayangkan kemudian kita bakal dijajah China.\\r\\nJadi skrng gak usah rusuh, tetap tenang, biarkan Si Joko'wie selesai kan masa jabatannya, bantu aparat menemukan Imigran2 gelap dari negara manapun, terutama China, tangkap dan laporin.\\r\\nSekarang mereka pura2 lugu, padahal mereka itu \"binatang bengis\"\\r\\nFaham PKI mereka hidupkan lagi di Indonesia dengan pake Kamuflase di atas dengan nama FBI atau Forum Bhayangkara Indonesia.\\r\\nJokoWie nanggung dosa besar kelak dari sepanjang sejarah Indonesia.\\r\\nLewat Masa Jabatan JokoWie barulah kita hadang mereka-mereka, ganti Kepala negara dulu baru ganyang China !!!!\\r\\nSEBARKAN KESEMUA MASYARAKAT NKRI BILA KAMU MEMILIKI JIWA DAN DARAH MERAH PUTIH !!!\\r\\n# saveNKRI\\r\\n# tafakur\"\\r\\nFaham PKI mereka hidupkan lagi di Indonesia dengan pake Kamuflase di atas dengan nama FBI atau Forum Bhayangkara Indonesia.\\n\\r\\nJokoWie nanggung dosa besar kelak dari sepanjang sejarah Indonesia.  \n",
              "\n",
              "[10465 rows x 3 columns]"
            ],
            "text/html": [
              "\n",
              "  <div id=\"df-9c9bbd55-d26f-45e0-9211-cf0476a141a5\">\n",
              "    <div class=\"colab-df-container\">\n",
              "      <div>\n",
              "<style scoped>\n",
              "    .dataframe tbody tr th:only-of-type {\n",
              "        vertical-align: middle;\n",
              "    }\n",
              "\n",
              "    .dataframe tbody tr th {\n",
              "        vertical-align: top;\n",
              "    }\n",
              "\n",
              "    .dataframe thead th {\n",
              "        text-align: right;\n",
              "    }\n",
              "</style>\n",
              "<table border=\"1\" class=\"dataframe\">\n",
              "  <thead>\n",
              "    <tr style=\"text-align: right;\">\n",
              "      <th></th>\n",
              "      <th>id</th>\n",
              "      <th>sentiment</th>\n",
              "      <th>text</th>\n",
              "    </tr>\n",
              "  </thead>\n",
              "  <tbody>\n",
              "    <tr>\n",
              "      <th>0</th>\n",
              "      <td>10928</td>\n",
              "      <td>False Content</td>\n",
              "      <td>\\nLiputan6.com, Jakarta - Kabar tentang artis Nikita Mirzani meninggal dunia akibat serangan jantung pada 2 November 2022 beredar di media sosial. Kabar tersebut disebarkan salah satu akun Facebook pada 2 November 2022.\\nAkun Facebook tersebut mengunggah video dari situs berbagi video YouTube. Video tersebut berjudul \"Innalillahi, Nikita Mirzani 'Meninggal Dunia' Akibat Serangan Jantung\".\\nGambar dalam video tersebut Nikita Mirzani tengah terbaring di ranjang rumah sakit, tangannya tampak diinfus. Di samping gambar tersebut, terdapat sejumlah orang tengah berkumpul di sekitar pemakaman.\\nVideo tersebut kemudian diberi judul \"BREAKING NEWS \"NIKITA MIRZANI 'MENINGGAL DUNIA' AKIBAT SERANGAN JANTUNG\".\\n\"Bener apa bener sih NI berita?..\" tulis salah satu akun Facebook.\\nKonten yang disebarkan akun Facebook tersebut telah beberapa kali direspons dan dikomentari warganet.\\nBenarkah kabar Nikita Mirzani meninggal dunia akibat serangan jantung pada 2 November 2022? Berikut penelusurannya.\\n</td>\n",
              "    </tr>\n",
              "    <tr>\n",
              "      <th>1</th>\n",
              "      <td>10927</td>\n",
              "      <td>False Content</td>\n",
              "      <td>\\nLiputan6.com, Jakarta - Klaim tentang menempelkan tepung beras di tubuh bisa meredakan demam pada anak beredar di media sosial. Klaim tersebut disebarkan salah satu akun Facebook pada 31 Oktober 2022 lalu.\\nAkun Facebook tersebut mengunggah video berisi tata cara menggunakan tepung beras untuk menurunkan demam pada anak. Yang pertama, tepung beras dicampur dengan air hingga membentuk adonan. Adonan tepung beras tersebut kemudian ditempelkan dan diusapkan pada bagian dada dan perut anak.\\n\"Sekarang ini lagi musim demam,saya share pengalaman ya sama teman teman,andalan mama dulu kami kecil,sampai sekarang saya bikin ke anak anak,setidaknya pertolongan pertama buat anak anak demam, supaya gak kejang kejang dan step.\\nK*m*k* V*v**nn* pernah panas 40 tapi masih aktif\\nHabis bikin tepung jangan buka ac ya,ataupun kipas,waktu bikin juga jangan buka ac dan kipas.Please nonton video sampai habis🙏\\nCukup tepung campur air putih aduk kira bisa di pegang.\\nBikin sampai tepung kering ya,kalau kering tandanya hawa panas badan di tarik tepung.\\nPointnya yg mesti di lamakan lihat di video.\\nHabis bikin tepung kasi minyak kayu putih satu badan,lalu urut urut,kasi makan yg hangat hangat.\\nObat tetap di minum,kalau demam bukan karena virus atau bakteri ,makaakan cepat sembuh\\nSelamat mencoba😊🙏🙏🙏🙏\\nSharing is caring😊,\" tulis salah satu akun Facebook.\\nKonten yang disebarkan akun Facebook tersebut telah 11 ribu kali ditonton dan mendapat 161 komentar dari warganet.\\nBenarkah menempelkan adonan tepung beras di tubuh bisa meredakan demam pada anak? Berikut penelusurannya.\\n</td>\n",
              "    </tr>\n",
              "    <tr>\n",
              "      <th>2</th>\n",
              "      <td>10926</td>\n",
              "      <td>Misleading Content</td>\n",
              "      <td>Akun Facebook bernama TH K menyebarluaskan tautan serta gambar yang memperlihatkan menkes Budi Gunadi Sadikin sedang memberikan pidato. Selain itu, di gambar tersebut dilengkapi penjelasan bahwa pidato tersebut membahas tentang semua orang Indonesia yang kaget dengan fakta bahwa diabetes mudah diobati.\\n\\nTautan dan gambar yang diunggah pada 19 Juli 2022 tersebut telah dibagikan ulang sebanyak 153 kali, serta telah direspon oleh hampir 4,000 orang.</td>\n",
              "    </tr>\n",
              "    <tr>\n",
              "      <th>3</th>\n",
              "      <td>10925</td>\n",
              "      <td>False Content</td>\n",
              "      <td>\\nLiputan6.com, Jakarta - Sebuah video yang diklaim seorang wanita tertua di dunia berusia 399 tahun beredar di media sosial. Video tersebut disebarkan salah satu akun Facebook pada 18 April 2022.\\nVideo berdurasi 59 detik itu memperlihatkan seseorang tengah berbaring di tempat tidur dengan kondisi yang sudah renta.\\nSosok dalam video tersebut kemudian disebut-sebut sebagai wanita tertua di dunia berusia 399 tahun.\\n\"The oldest woman in the world 399 years old 😱👏,\" tulis salah satu akun Facebook.\\nKonten yang disebarkan akun Facebook tersebut telah 384 ribu kali ditonton dan mendapat 431 komentar dari warganet.\\nBenarkah dalam video itu merupakan wanita tertua di dunia berusia 399 tahun? Berikut penelusurannya.\\n</td>\n",
              "    </tr>\n",
              "    <tr>\n",
              "      <th>4</th>\n",
              "      <td>10924</td>\n",
              "      <td>False Content</td>\n",
              "      <td>\\nLiputan6.com, Jakarta- Cek Fakta Liputan6.com mendapati klaim video kondisi Amerika Serikat atau AS terkena dampak resesi. Kabar tersebut diunggah salah satu akun Facebook, pada 22 Oktober 2022.\\nUnggahan klaim video kondisi AS terkena dampak resesi menampilkan situasi tepi jalan terdapat sejumlah orang tergeletak dan ada yang berjalan gontai.\\nVideo tersebut diberi keterangan sebagai berikut.\\n\"Ini situasi terkini di Amerika serikat Negara super power yg terkena dampak akibat resesi global yg melanda Dunia..coba klu terjadi di Indonesia para Kadrun mngoreng2 tiap hari sambil menari2 teriak2 turunkan Jokowi..😁😁\"\\nBenarkah klaim video kondisi AS terkena dampak resesi? Simak hasil penelusuran Cek Fakta Liputan6.com.</td>\n",
              "    </tr>\n",
              "    <tr>\n",
              "      <th>...</th>\n",
              "      <td>...</td>\n",
              "      <td>...</td>\n",
              "      <td>...</td>\n",
              "    </tr>\n",
              "    <tr>\n",
              "      <th>10460</th>\n",
              "      <td>9</td>\n",
              "      <td>False Content</td>\n",
              "      <td>GNPF- Dana sedekah umat jelas sumbernya dan penggunaannya, Dipolisikan\\nTeman Ahok : Dana sumbangan untuk kegiatan poltik dan tidak jelas sumbernya. Dibiarkan.\\nKok beda perlakuannya? Apakah umat tidak boleh bersedekah</td>\n",
              "    </tr>\n",
              "    <tr>\n",
              "      <th>10461</th>\n",
              "      <td>8</td>\n",
              "      <td>TRUE</td>\n",
              "      <td>“how about this @IndonesiaGaruda racism on your airplane? I believe this is one of your Pilot!” “Kerjain saja CINA2 ITU” (just work on that Chinese)”\\n\\nSebuah video yang memperlihatkan seorang pilot dari maskapai milik negera Indonesia sedang berseteru tegang dengan petugas bea cukai di kabin pesawat, menjadi viral di media sosial. Dalam video yang berdurasi 2 menit 8 detik itu, sang pilot menolak diperiksa oleh pilot menolak diperiksa petugas Bea-Cukai di dalam pesawat. Ia juga mengatakan selama menjalankan tugas sebagai pilot Garuda Indonesia tak pernah diperiksa seperti itu. Sang pilot pun malah menyarankan untuk memeriksa maskapai lain.\\n“Bukan kalian tidak boleh ke pesawat, boleh! Tapi, ini pesawat punya negara. Kalau kau mau kerjain tu China China itu tuh, Sriwijaya sana tuh,” ucap pilot tersebut seperti terekam dalam video.\\n\\nKejadian bermula saat pesawat dengan nomor penerbangan GA8510 SIN-DTB baru mendarat di Bandara Silangit, Siborong-borong. Setelah penumpang turun, petugas Bea Cukai kemudian naik memeriksa pesawat dan tas kru. Pilot menolak diperiksa karena merasa selama ini belum pernah ada pemeriksaan di dalam pesawat. Kemungkinan juga pilot belum mengetahui bahwa sesuai SOP, petugas Bea Cukai berhak masuk ke dalam pesawat.</td>\n",
              "    </tr>\n",
              "    <tr>\n",
              "      <th>10462</th>\n",
              "      <td>7</td>\n",
              "      <td>Fabricated Content</td>\n",
              "      <td>\"SURAT PENETAPAN PEMBERANGKATAN HAJI TAHUN 2018\\nSehubungan dengan akan datangnya musim Haji tahun 2018, dan sesuai data yang ada di Sistem Komputerisasi Haji (SISKOHAJI) Kementerian Agama RI, maka perlu adanya penetapan pemberangkatan calon jamaah haji tahun 2018, agar tidak terjadi perubahan dikemudian hari.\\nYang tersebut dibawah ini:\\nNama : RENALDY RIRIN BIN RIRIN\\nTempat Tanggal Lahir : Bukit Tinggi, 17 April 1951\\nAlamat : Cipinang Bawah, Rt.002/014 Kelurahan Cipinang, Kecamatan Pulogadung, Jakarta Timur\\nNo. SPPH : 405688\\nNo. Porsi : 162559\\nKloter : 16\\nEmbarkasi : DKI Jakarta\\nDemikian Surat Penetapan ini dibuat untuk dapat dipergunakan sebagaimana mestinya.\\nJakarta, 16 Nopember 2017\\nKEMENTRIAN AGAMA RI\\nPENYELENGGARA HAJI &amp; UMROH\\nDR. H. NURSYAM, MA\\n19590812982031007\".</td>\n",
              "    </tr>\n",
              "    <tr>\n",
              "      <th>10463</th>\n",
              "      <td>5</td>\n",
              "      <td>Fabricated Content</td>\n",
              "      <td>\"Di Tengah Ramainya Berita SetNov, Warga Kebangsaan China Sampai Saat ini Terus Berduyun\" Masuk ke Negeri ini\\nDi Sengaja atau Tidak, Wallahu A'llam\\nLebih Parahnya Semua Media Bungkam, Mengecoh Langit Menyebrangi Lautan kah\\n#Indonesia_Waspada_Komunis\\n#Generasi_Muda_Akhir_Zaman\"</td>\n",
              "    </tr>\n",
              "    <tr>\n",
              "      <th>10464</th>\n",
              "      <td>4</td>\n",
              "      <td>Fabricated Content</td>\n",
              "      <td>\"PKI DAN CINA SDH SIAP MERAMPAS INDONESIA.\\r\\nMEREKA BERSUMPAH AKAN MENYEMBELIH KAUM MUSLIMIN\\r\\nBismillahirrohmanirohiim,..\\r\\nLindungi kami Ya Allah.....\\r\\nUlasan dr sahabat salah satu anggota dewan/parpol (semoga bermanfaat, silahkan disikapi dgn baik) :\\r\\n( Ini berita dari temen yg dosen di Bandung )\\r\\n[19/12 19.37] YY: Saya tadi jam 14 diundang rapat koordinasi di kampus pascasarjana dan yg mengundang adalah direktur pascasarjana sekaligus tokoh Jawa Barat... Isinya mengajak untuk bersatu padu dalam NKRI.. Beliau diminta juga untuk memberikan arahan dan duduk bersama dgn panglima TNI... Reuwas oge... Ternyata benar oge.. Ancaman sudah di depan mata tinggal menunggu waktu\\r\\n[19/12 19.38] YY: Jadi naon hubunganana sama bidang pendidikan.. Ternyata juga sudah dimulai efek global nya\\r\\n[19/12 19.38] YY: Dari luar\\r\\nSaat ini masih perang Proxy... Issue ini sudah lama, tapi baru nyadar dan berasa dampaknya sekarang.\\r\\nKata Panglima kalo pun kita harus melawan atau perang kita hanya bisa bertahan 3 hari saja..\\r\\nIndonesia sudah tidak bisa bayar hutang Ke China, makanya Asset negara banyak dijualin..\\r\\nKalo sampe rusuh lagi kayak 98. Itulah alasan China mengancam akan kirim militernya ke Indonesia, China di dukung Australia, Singapore dan Malaysia. Saat ini mereka sudah stand by. Bila kejadian 98 terulang mereka akan masuk Indonesia dengan alasan mengamankan asetnya, padahal misinya menguasai Indonesia. China akan berhadapan dgn Amerika. Jadi Indonesia sbg tempat pertaruhan negara2 itu.\\r\\nMakanya banyak China masuk Indonesia, karena Joko'Wie dipaksa buat Amandemen bebas masuk Indonesia dan bisa jadi WNI..\\r\\nIni semua ulah si Joko'Wie...!!\\r\\nPejabat negara, Polri, DPR MPR udah di beli China semua...\\r\\nChina ngincer Freeport endingnya head to head sama USA... Indonesia sbg ladang rebutan mereka kita yg jadi korbannya. Semua itu sekali lg krn kebijakkan Joko'Wie\\r\\nJadi kenapa Panglima mengajak masyarakat dan kalangan akademisi buat bersatu dan tenang, agar tidak terjadi kerusahan seperti 98. Biarkan si Joko'Wie itu kelarin masa jabatannya. Supaya tidak ada alasan negara2 itu masuk Indonesia dengan alasan bantu pengamanan. Dengan begitu kita tidak kasih kesempatan mereka masuk ke dalam negeri ini.\\r\\nTahan Imigran2 dari China, kirim balik ke negara mereka. Karena mereka di set selain sbgi mata-mata, juga sbgi team advance militer China utk buat Strategi, bayangkan China2 yg masuk indonesia kelak mereka akan membunuh menyiksa kita dan keluarga kita !!\\r\\nMakanya sebelum itu terjadi kita masyarakat dihimbau utk dapat memberikan informasi ke Aparat utk menangkap dan memulangkan ke China.\\r\\nJadi kita skrng paham ya, kenapa Ahok begitu Pede bilang kelak bakal jadi RI1. Ya kalo invasi China masuk Indonesia besar-besaran, bisa dibayangkan kemudian kita bakal dijajah China.\\r\\nJadi skrng gak usah rusuh, tetap tenang, biarkan Si Joko'wie selesai kan masa jabatannya, bantu aparat menemukan Imigran2 gelap dari negara manapun, terutama China, tangkap dan laporin.\\r\\nSekarang mereka pura2 lugu, padahal mereka itu \"binatang bengis\"\\r\\nFaham PKI mereka hidupkan lagi di Indonesia dengan pake Kamuflase di atas dengan nama FBI atau Forum Bhayangkara Indonesia.\\r\\nJokoWie nanggung dosa besar kelak dari sepanjang sejarah Indonesia.\\r\\nLewat Masa Jabatan JokoWie barulah kita hadang mereka-mereka, ganti Kepala negara dulu baru ganyang China !!!!\\r\\nSEBARKAN KESEMUA MASYARAKAT NKRI BILA KAMU MEMILIKI JIWA DAN DARAH MERAH PUTIH !!!\\r\\n# saveNKRI\\r\\n# tafakur\"\\r\\nFaham PKI mereka hidupkan lagi di Indonesia dengan pake Kamuflase di atas dengan nama FBI atau Forum Bhayangkara Indonesia.\\n\\r\\nJokoWie nanggung dosa besar kelak dari sepanjang sejarah Indonesia.</td>\n",
              "    </tr>\n",
              "  </tbody>\n",
              "</table>\n",
              "<p>10465 rows × 3 columns</p>\n",
              "</div>\n",
              "      <button class=\"colab-df-convert\" onclick=\"convertToInteractive('df-9c9bbd55-d26f-45e0-9211-cf0476a141a5')\"\n",
              "              title=\"Convert this dataframe to an interactive table.\"\n",
              "              style=\"display:none;\">\n",
              "        \n",
              "  <svg xmlns=\"http://www.w3.org/2000/svg\" height=\"24px\"viewBox=\"0 0 24 24\"\n",
              "       width=\"24px\">\n",
              "    <path d=\"M0 0h24v24H0V0z\" fill=\"none\"/>\n",
              "    <path d=\"M18.56 5.44l.94 2.06.94-2.06 2.06-.94-2.06-.94-.94-2.06-.94 2.06-2.06.94zm-11 1L8.5 8.5l.94-2.06 2.06-.94-2.06-.94L8.5 2.5l-.94 2.06-2.06.94zm10 10l.94 2.06.94-2.06 2.06-.94-2.06-.94-.94-2.06-.94 2.06-2.06.94z\"/><path d=\"M17.41 7.96l-1.37-1.37c-.4-.4-.92-.59-1.43-.59-.52 0-1.04.2-1.43.59L10.3 9.45l-7.72 7.72c-.78.78-.78 2.05 0 2.83L4 21.41c.39.39.9.59 1.41.59.51 0 1.02-.2 1.41-.59l7.78-7.78 2.81-2.81c.8-.78.8-2.07 0-2.86zM5.41 20L4 18.59l7.72-7.72 1.47 1.35L5.41 20z\"/>\n",
              "  </svg>\n",
              "      </button>\n",
              "      \n",
              "  <style>\n",
              "    .colab-df-container {\n",
              "      display:flex;\n",
              "      flex-wrap:wrap;\n",
              "      gap: 12px;\n",
              "    }\n",
              "\n",
              "    .colab-df-convert {\n",
              "      background-color: #E8F0FE;\n",
              "      border: none;\n",
              "      border-radius: 50%;\n",
              "      cursor: pointer;\n",
              "      display: none;\n",
              "      fill: #1967D2;\n",
              "      height: 32px;\n",
              "      padding: 0 0 0 0;\n",
              "      width: 32px;\n",
              "    }\n",
              "\n",
              "    .colab-df-convert:hover {\n",
              "      background-color: #E2EBFA;\n",
              "      box-shadow: 0px 1px 2px rgba(60, 64, 67, 0.3), 0px 1px 3px 1px rgba(60, 64, 67, 0.15);\n",
              "      fill: #174EA6;\n",
              "    }\n",
              "\n",
              "    [theme=dark] .colab-df-convert {\n",
              "      background-color: #3B4455;\n",
              "      fill: #D2E3FC;\n",
              "    }\n",
              "\n",
              "    [theme=dark] .colab-df-convert:hover {\n",
              "      background-color: #434B5C;\n",
              "      box-shadow: 0px 1px 3px 1px rgba(0, 0, 0, 0.15);\n",
              "      filter: drop-shadow(0px 1px 2px rgba(0, 0, 0, 0.3));\n",
              "      fill: #FFFFFF;\n",
              "    }\n",
              "  </style>\n",
              "\n",
              "      <script>\n",
              "        const buttonEl =\n",
              "          document.querySelector('#df-9c9bbd55-d26f-45e0-9211-cf0476a141a5 button.colab-df-convert');\n",
              "        buttonEl.style.display =\n",
              "          google.colab.kernel.accessAllowed ? 'block' : 'none';\n",
              "\n",
              "        async function convertToInteractive(key) {\n",
              "          const element = document.querySelector('#df-9c9bbd55-d26f-45e0-9211-cf0476a141a5');\n",
              "          const dataTable =\n",
              "            await google.colab.kernel.invokeFunction('convertToInteractive',\n",
              "                                                     [key], {});\n",
              "          if (!dataTable) return;\n",
              "\n",
              "          const docLinkHtml = 'Like what you see? Visit the ' +\n",
              "            '<a target=\"_blank\" href=https://colab.research.google.com/notebooks/data_table.ipynb>data table notebook</a>'\n",
              "            + ' to learn more about interactive tables.';\n",
              "          element.innerHTML = '';\n",
              "          dataTable['output_type'] = 'display_data';\n",
              "          await google.colab.output.renderOutput(dataTable, element);\n",
              "          const docLink = document.createElement('div');\n",
              "          docLink.innerHTML = docLinkHtml;\n",
              "          element.appendChild(docLink);\n",
              "        }\n",
              "      </script>\n",
              "    </div>\n",
              "  </div>\n",
              "  "
            ]
          },
          "metadata": {},
          "execution_count": 23
        }
      ]
    },
    {
      "cell_type": "markdown",
      "id": "e6a5ccdc",
      "metadata": {
        "id": "e6a5ccdc"
      },
      "source": [
        "Therea are 41705  tweets in the dataset"
      ]
    },
    {
      "cell_type": "code",
      "execution_count": 24,
      "id": "cb8dcabf",
      "metadata": {
        "colab": {
          "base_uri": "https://localhost:8080/"
        },
        "id": "cb8dcabf",
        "outputId": "117b7f97-ad0d-45ff-af6e-db7f68a96ba9"
      },
      "outputs": [
        {
          "output_type": "stream",
          "name": "stdout",
          "text": [
            "<class 'pandas.core.frame.DataFrame'>\n",
            "RangeIndex: 10465 entries, 0 to 10464\n",
            "Data columns (total 3 columns):\n",
            " #   Column     Non-Null Count  Dtype \n",
            "---  ------     --------------  ----- \n",
            " 0   id         10465 non-null  int64 \n",
            " 1   sentiment  10465 non-null  object\n",
            " 2   text       10465 non-null  object\n",
            "dtypes: int64(1), object(2)\n",
            "memory usage: 245.4+ KB\n"
          ]
        }
      ],
      "source": [
        "df.info()"
      ]
    },
    {
      "cell_type": "code",
      "source": [
        "df['token_length'] = [len(x.split(\" \")) for x in df.text]\n",
        "max(df.token_length)"
      ],
      "metadata": {
        "colab": {
          "base_uri": "https://localhost:8080/"
        },
        "id": "mHfKG2KdLtgB",
        "outputId": "571e5824-6b79-43fb-95d9-aa4a87a18c24"
      },
      "id": "mHfKG2KdLtgB",
      "execution_count": 25,
      "outputs": [
        {
          "output_type": "execute_result",
          "data": {
            "text/plain": [
              "1163"
            ]
          },
          "metadata": {},
          "execution_count": 25
        }
      ]
    },
    {
      "cell_type": "code",
      "source": [
        "df.loc[df.token_length.idxmax(),'text']\n"
      ],
      "metadata": {
        "colab": {
          "base_uri": "https://localhost:8080/",
          "height": 180
        },
        "id": "rP1SBnL-QoD6",
        "outputId": "a6d5bd90-c9d8-4c38-ba50-d394fc168a38"
      },
      "id": "rP1SBnL-QoD6",
      "execution_count": 26,
      "outputs": [
        {
          "output_type": "execute_result",
          "data": {
            "text/plain": [
              "'“Freddy Budiman Bongkar Pejabat Terlibat Jaringan Narkoba, Ini Daftarnya”\\nPOJOKSATU.id, JAKARTA – Detik-detik eksekusi mati terpidana kasus narkoba terhadap Freddy Budiman dkk ‘menggetarkan’ Tanah Air. Ada yang pro dan banyak yang kontra terhadap eksekusi mati ini. Mereka punya alasan masing-masing.\\n\\nTermasuk Harris Azhar, Koordinator Kontras. Dia menulis panjang cerita pengakuan Freddy Budiman, salah satu bandar kakap. Tulisan Harris atas pengakuan Freddy Budiman mengungkap fakta-fakta yang jarang diketahui banyak orang.\\n\\nTulisan Harris ini diposting ulang Ulil Abshar Abdalla pada Jumat (29/7/2016) dini hari. Berikut tulisan kesaksian Harris Azhar dari Freddy Budiman:\\n\\n“Cerita Busuk dari seorang Bandit”\\n\\nKesaksian bertemu Freddy Budiman di Lapas Nusa Kambangan (2014)\\n\\nDi tengah proses persiapan eksekusi hukuman mati yang ketiga dibawah pemerintahan Joko Widodo, saya menyakini bahwa pelaksanaan ini hanya untuk ugal-ugalan popularitas. Bukan karena upaya keadilan. Hukum yang seharusnya bisa bekerja secara komprehensif menyeluruh dalam menanggulangi kejahatan ternyata hanya mimpi. Kasus Penyeludupan Narkoba yang dilakukan Freddy Budiman, sangat menarik disimak, dari sisi kelemahan hukum, sebagaimana yang saya sampaikan dibawah ini.\\n\\nDi tengah-tengah masa kampanye Pilpres 2014 dan kesibukan saya berpartisipasi memberikan pendidikan HAM di masyarakat di masa kampanye pilpres tersebut, saya memperoleh undangan dari sebuah organisasi gereja. Lembaga ini aktif melakukan pendampingan rohani di Lapas Nusa Kambangan (NK). Melalui undangan gereja ini, saya jadi berkesempatan bertemu dengan sejumlah narapidana dari kasus teroris, korban kasus rekayasa yang dipidana hukuman mati. Antara lain saya bertemu dengan John Refra alias John Kei, juga Freddy Budiman, terpidana mati kasus Narkoba. Kemudian saya juga sempat bertemu Rodrigo Gularte, narapidana WN Brasil yang dieksekusi pada gelombang kedua (April 2015).\\n\\nSaya patut berterima kasih pada Bapak Sitinjak, Kepala Lapas NK (saat itu), yang memberikan kesempatan bisa berbicara dengannya dan bertukar pikiran soal kerja-kerjanya. Menurut saya Pak Sitinjak sangat tegas dan disiplin dalam mengelola penjara. Bersama stafnya beliau melakukan sweeping dan pemantauan terhadap penjara dan narapidana. Pak Sitinjak hampir setiap hari memerintahkan jajarannya melakukan sweeping kepemilikan HP dan senjata tajam. Bahkan saya melihat sendiri hasil sweeping tersebut, ditemukan banyak sekali HP dan sejumlah senjata tajam.\\n\\nTetapi malang Pak Sitinjak, di tengah kerja kerasnya membangun integritas penjara yang dipimpinnya, termasuk memasang dua kamera selama 24 jam memonitor Freddy budiman. Beliau menceritakan sendiri, beliau pernah beberapa kali diminta pejabat BNN yang sering berkunjung ke Nusa Kambangan, agar mencabut dua kamera yang mengawasi Freddy Budiman tersebut.\\n\\nSaya mengangap ini aneh, hingga muncul pertanyaan, kenapa pihak BNN berkeberatan adanya kamera yang mengawasi Freddy Budiman? Bukankah status Freddy Budiman sebagai penjahat kelas “kakap” justru harus diawasi secara ketat? Pertanyaan saya ini terjawab oleh cerita dan kesaksian Freddy Budiman sendiri.\\n\\nMenurut ibu pelayan rohani yang mengajak saya ke NK, Freddy Budiman memang berkeinginan bertemu dan berbicara langsung dengan saya. Pada hari itu menjelang siang, di sebuah ruangan yang diawasi oleh Pak Sitinjak, dua pelayan gereja, dan John Kei, Freddy Budiman bercerita hampir 2 jam, tentang apa yang ia alami, dan kejahatan apa yang ia lakukan.\\n\\nFreddy Budiman mengatakan kurang lebih begini pada saya:\\n\\n“Pak Haris, saya bukan orang yang takut mati, saya siap dihukum mati karena kejahatan saya, saya tahu, resiko kejahata yang saya lakukan. Tetapi saya juga kecewa dengan para pejabat dan penegak hukumnya.\\n\\n“Saya bukan bandar, saya adalah operator penyeludupan narkoba skala besar, saya memiliki bos yang tidak ada di Indonesia. Dia (bos saya) ada di Cina. Kalau saya ingin menyeludupkan narkoba, saya tentunya acarain (atur) itu. Saya telepon polisi, BNN, Bea Cukai dan orang-orang yang saya telpon itu semuanya nitip (menitip harga). Menurut Pak Haris berapa harga narkoba yang saya jual di Jakarta yang pasarannya 200.000 – 300.000 itu?”\\n\\nSaya menjawab 50.000. Fredi langsung menjawab:\\n“Salah. Harganya hanya 5000 perak keluar dari pabrik di Cina. Makanya saya tidak pernah takut jika ada yang nitip harga ke saya. Ketika saya telepon si pihak tertentu, ada yang nitip Rp 10.000 per butir, ada yang nitip 30.000 per butir, dan itu saya tidak pernah bilang tidak. Selalu saya okekan. Kenapa Pak Haris?”\\n\\nFredy menjawab sendiri. “Karena saya bisa dapat per butir 200.000. Jadi kalau hanya membagi rejeki 10.000- 30.000 ke masing-masing pihak di dalam institusi tertentu, itu tidak ada masalah. Saya hanya butuh 10 miliar, barang saya datang. Dari keuntungan penjualan, saya bisa bagi-bagi puluhan miliar ke sejumlah pejabat di institusi tertentu.”\\nFredy melanjutkan ceritanya. “Para polisi ini juga menunjukkan sikap main di berbagai kaki. Ketika saya bawa itu barang, saya ditangkap. Ketika saya ditangkap, barang saya disita. Tapi dari informan saya, bahan dari sitaan itu juga dijual bebas. Saya jadi dipertanyakan oleh bos saya (yang di Cina). ‘Katanya udah deal sama polisi, tapi kenapa lo ditangkap? Udah gitu kalau ditangkap kenapa barangnya beredar? Ini yang main polisi atau lo?’”\\n\\nMenurut Freddy, “Saya tau pak, setiap pabrik yang bikin narkoba, punya ciri masing-masing, mulai bentuk, warna, rasa. Jadi kalau barang saya dijual, saya tahu, dan itu ditemukan oleh jaringan saya di lapangan.”\\n\\nFredi melanjutkan lagi. “Dan kenapa hanya saya yang dibongkar? Kemana orang-orang itu? Dalam hitungan saya, selama beberapa tahun kerja menyeludupkan narkoba, saya sudah memberi uang 450 Miliar ke BNN. Saya sudah kasih 90 Milyar ke pejabat tertentu di Mabes Polri. Bahkan saya menggunakan fasilitas mobil TNI bintang 2, di mana si jendral duduk di samping saya ketika saya menyetir mobil tersebut dari Medan sampai Jakarta dengan kondisi di bagian belakang penuh barang narkoba. Perjalanan saya aman tanpa gangguan apapun.\\n\\n“Saya prihatin dengan pejabat yang seperti ini. Ketika saya ditangkap, saya diminta untuk mengaku dan menceritakan dimana dan siapa bandarnya. Saya bilang, investor saya anak salah satu pejabat tinggi di Korea (saya kurang paham, korut apa korsel- HA). Saya siap nunjukin dimana pabriknya. Dan saya pun berangkat dengan petugas BNN (tidak jelas satu atau dua orang). Kami pergi ke Cina, sampai ke depan pabriknya. Lalu saya bilang kepada petugas BNN, mau ngapain lagi sekarang? Dan akhirnya mereka tidak tahu, sehingga kami pun kembali.\\n\\n“Saya selalu kooperatif dengan petugas penegak hukum. Kalau ingin bongkar, ayo bongkar. Tapi kooperatif-nya saya dimanfaatkan oleh mereka. Waktu saya dikatakan kabur, sebetulnya saya bukan kabur. Ketika di tahanan, saya didatangi polisi dan ditawari kabur, padahal saya tidak ingin kabur, karena dari dalam penjara pun saya bisa mengendalikan bisnis saya. Tapi saya tahu polisi tersebut butuh uang, jadi saya terima aja. Tapi saya bilang ke dia kalau saya tidak punya uang. Lalu polisi itu mencari pinjaman uang kira-kira 1 miliar dari harga yang disepakati 2 miliar. Lalu saya pun keluar. Ketika saya keluar, saya berikan janji setengahnya lagi yang saya bayar. Tapi beberapa hari kemudian saya ditangkap lagi. Saya paham bahwa saya ditangkap lagi, karena dari awal saya paham dia hanya akan memeras saya.”\\n\\nFreddy juga mengekspresikan bahwa dia kasihan dan tidak terima jika orang-orang kecil, seperti supir truk yang membawa kontainer narkoba yang justru dihukum, bukan si petinggi-petinggi yang melindungi.\\n\\nKemudian saya bertanya ke Freddy dimana saya bisa dapat cerita ini? Kenapa Anda tidak bongkar cerita ini? Lalu Freddy menjawab:\\n\\n“Saya sudah cerita ke lawyer saya, kalau saya mau bongkar, ke siapa? Makanya saya penting ketemu Pak Haris, biar Pak Haris bisa menceritakan ke publik luas. Saya siap dihukum mati, tapi saya prihatin dengan kondisi penegak hukum saat ini. Coba Pak Haris baca saja di pledoi saya di pengadilan, seperti saya sampaikan di sana.”\\n\\nLalu saya pun mencari pledoi Freddy Budiman, tetapi pledoi t'"
            ],
            "application/vnd.google.colaboratory.intrinsic+json": {
              "type": "string"
            }
          },
          "metadata": {},
          "execution_count": 26
        }
      ]
    },
    {
      "cell_type": "code",
      "execution_count": 27,
      "id": "81e906d7",
      "metadata": {
        "colab": {
          "base_uri": "https://localhost:8080/"
        },
        "id": "81e906d7",
        "outputId": "bb5d35a9-e5c6-4256-a2aa-b92f6383d5d1"
      },
      "outputs": [
        {
          "output_type": "execute_result",
          "data": {
            "text/plain": [
              "Misleading Content     2624\n",
              "False Context          2222\n",
              "False Content          1779\n",
              "Fabricated Content     1149\n",
              "Manipulated Content    1139\n",
              "Impostor Content        502\n",
              "Clarification           381\n",
              "False Connection        278\n",
              "TRUE                    229\n",
              "Satire                  162\n",
              "Name: sentiment, dtype: int64"
            ]
          },
          "metadata": {},
          "execution_count": 27
        }
      ],
      "source": [
        "df.sentiment.value_counts()"
      ]
    },
    {
      "cell_type": "markdown",
      "id": "421d9d43",
      "metadata": {
        "id": "421d9d43"
      },
      "source": [
        "# Data Cleaning"
      ]
    },
    {
      "cell_type": "markdown",
      "id": "a3060f47",
      "metadata": {
        "id": "a3060f47"
      },
      "source": [
        "## Spell Correlction \n",
        "it is a simple spell correction dealing with repeated characters such as “sooooo goooood”. If the same character is repeated more than two times, it shortens the repetition to two. For example “sooooo goooood” will be transformed as “soo good”. This is not a perfect solution since even after correction, in case of “soo”, it is not a correct spelling. But at least it will help to reduce feature space by making “sooo”, “soooo”, “sooooo” to the same word “soo”"
      ]
    },
    {
      "cell_type": "code",
      "execution_count": 28,
      "id": "d00d89ca",
      "metadata": {
        "id": "d00d89ca"
      },
      "outputs": [],
      "source": [
        "contraction_mapping = {\"ain't\": \"is not\", \"aren't\": \"are not\",\"can't\": \"cannot\", \n",
        "                   \"can't've\": \"cannot have\", \"'cause\": \"because\", \"could've\": \"could have\", \n",
        "                   \"couldn't\": \"could not\", \"couldn't've\": \"could not have\",\"didn't\": \"did not\", \n",
        "                   \"doesn't\": \"does not\", \"don't\": \"do not\", \"hadn't\": \"had not\", \n",
        "                   \"hadn't've\": \"had not have\", \"hasn't\": \"has not\", \"haven't\": \"have not\", \n",
        "                   \"he'd\": \"he would\", \"he'd've\": \"he would have\", \"he'll\": \"he will\", \n",
        "                   \"he'll've\": \"he will have\", \"he's\": \"he is\", \"how'd\": \"how did\", \n",
        "                   \"how'd'y\": \"how do you\", \"how'll\": \"how will\", \"how's\": \"how is\", \n",
        "                   \"I'd\": \"I would\", \"I'd've\": \"I would have\", \"I'll\": \"I will\", \n",
        "                   \"I'll've\": \"I will have\",\"I'm\": \"I am\", \"I've\": \"I have\", \n",
        "                   \"i'd\": \"i would\", \"i'd've\": \"i would have\", \"i'll\": \"i will\", \n",
        "                   \"i'll've\": \"i will have\",\"i'm\": \"i am\", \"i've\": \"i have\", \n",
        "                   \"isn't\": \"is not\", \"it'd\": \"it would\", \"it'd've\": \"it would have\", \n",
        "                   \"it'll\": \"it will\", \"it'll've\": \"it will have\",\"it's\": \"it is\", \n",
        "                   \"let's\": \"let us\", \"ma'am\": \"madam\", \"mayn't\": \"may not\", \n",
        "                   \"might've\": \"might have\",\"mightn't\": \"might not\",\"mightn't've\": \"might not have\", \n",
        "                   \"must've\": \"must have\", \"mustn't\": \"must not\", \"mustn't've\": \"must not have\", \n",
        "                   \"needn't\": \"need not\", \"needn't've\": \"need not have\",\"o'clock\": \"of the clock\", \n",
        "                   \"oughtn't\": \"ought not\", \"oughtn't've\": \"ought not have\", \"shan't\": \"shall not\",\n",
        "                   \"sha'n't\": \"shall not\", \"shan't've\": \"shall not have\", \"she'd\": \"she would\", \n",
        "                   \"she'd've\": \"she would have\", \"she'll\": \"she will\", \"she'll've\": \"she will have\", \n",
        "                   \"she's\": \"she is\", \"should've\": \"should have\", \"shouldn't\": \"should not\", \n",
        "                   \"shouldn't've\": \"should not have\", \"so've\": \"so have\",\"so's\": \"so as\", \n",
        "                   \"this's\": \"this is\",\n",
        "                   \"that'd\": \"that would\", \"that'd've\": \"that would have\",\"that's\": \"that is\", \n",
        "                   \"there'd\": \"there would\", \"there'd've\": \"there would have\",\"there's\": \"there is\", \n",
        "                       \"here's\": \"here is\",\n",
        "                   \"they'd\": \"they would\", \"they'd've\": \"they would have\", \"they'll\": \"they will\", \n",
        "                   \"they'll've\": \"they will have\", \"they're\": \"they are\", \"they've\": \"they have\", \n",
        "                   \"to've\": \"to have\", \"wasn't\": \"was not\", \"we'd\": \"we would\", \n",
        "                   \"we'd've\": \"we would have\", \"we'll\": \"we will\", \"we'll've\": \"we will have\", \n",
        "                   \"we're\": \"we are\", \"we've\": \"we have\", \"weren't\": \"were not\", \n",
        "                   \"what'll\": \"what will\", \"what'll've\": \"what will have\", \"what're\": \"what are\", \n",
        "                   \"what's\": \"what is\", \"what've\": \"what have\", \"when's\": \"when is\", \n",
        "                   \"when've\": \"when have\", \"where'd\": \"where did\", \"where's\": \"where is\", \n",
        "                   \"where've\": \"where have\", \"who'll\": \"who will\", \"who'll've\": \"who will have\", \n",
        "                   \"who's\": \"who is\", \"who've\": \"who have\", \"why's\": \"why is\", \n",
        "                   \"why've\": \"why have\", \"will've\": \"will have\", \"won't\": \"will not\", \n",
        "                   \"won't've\": \"will not have\", \"would've\": \"would have\", \"wouldn't\": \"would not\", \n",
        "                   \"wouldn't've\": \"would not have\", \"y'all\": \"you all\", \"y'all'd\": \"you all would\",\n",
        "                   \"y'all'd've\": \"you all would have\",\"y'all're\": \"you all are\",\"y'all've\": \"you all have\",\n",
        "                   \"you'd\": \"you would\", \"you'd've\": \"you would have\", \"you'll\": \"you will\", \n",
        "                   \"you'll've\": \"you will have\", \"you're\": \"you are\", \"you've\": \"you have\" } "
      ]
    },
    {
      "cell_type": "code",
      "execution_count": 29,
      "id": "16e18a5a",
      "metadata": {
        "id": "16e18a5a"
      },
      "outputs": [],
      "source": [
        "import codecs\n",
        "import unidecode\n",
        "import re\n",
        "import spacy\n",
        "nlp = spacy.load(\"en_core_web_sm\")\n",
        "\n",
        "\n",
        "def spacy_cleaner(text):\n",
        "    try:\n",
        "        decoded = unidecode.unidecode(codecs.decode(text, \"unicode_escape\"))\n",
        "    except:\n",
        "        decoded = unidecode.unidecode(text)\n",
        "    apostrophe_handled = re.sub(\"’\", \"'\", decoded)\n",
        "    expanded = ' '.join([contraction_mapping[t] if t in contraction_mapping else t for t in apostrophe_handled.split(\" \")])\n",
        "    parsed = nlp(expanded)\n",
        "    final_tokens = []\n",
        "    for t in parsed:\n",
        "        if t.is_punct or t.is_space or t.like_num or t.like_url or str(t).startswith('@'):\n",
        "            pass\n",
        "        else:\n",
        "            if t.lemma_ == '-PRON-':\n",
        "                final_tokens.append(str(t))\n",
        "            else:\n",
        "                sc_removed = re.sub(\"[^a-zA-Z]\", '', str(t.lemma_))\n",
        "                if len(sc_removed) > 1:\n",
        "                    final_tokens.append(sc_removed)\n",
        "    joined = ' '.join(final_tokens)\n",
        "    spell_corrected = re.sub(r'(.)\\1+', r'\\1\\1', joined)\n",
        "    return spell_corrected"
      ]
    },
    {
      "cell_type": "code",
      "execution_count": 30,
      "id": "73b8ad9e",
      "metadata": {
        "colab": {
          "base_uri": "https://localhost:8080/"
        },
        "id": "73b8ad9e",
        "outputId": "398217c2-2b04-4b4c-b093-fafafb0c5753"
      },
      "outputs": [
        {
          "output_type": "execute_result",
          "data": {
            "text/plain": [
              "0                                                                                                                                                                                                                                                                                                                                                                                                                                                                                                                                                                                                           \\nLiputan6.com, Jakarta - Kabar tentang artis Nikita Mirzani meninggal dunia akibat serangan jantung pada 2 November 2022 beredar di media sosial. Kabar tersebut disebarkan salah satu akun Facebook pada 2 November 2022.\\nAkun Facebook tersebut mengunggah video dari situs berbagi video YouTube. Video tersebut berjudul \"Innalillahi, Nikita Mirzani 'Meninggal Dunia' Akibat Serangan Jantung\".\\nGambar dalam video tersebut Nikita Mirzani tengah terbaring di ranjang rumah sakit, tangannya tampak diinfus. Di samping gambar tersebut, terdapat sejumlah orang tengah berkumpul di sekitar pemakaman.\\nVideo tersebut kemudian diberi judul \"BREAKING NEWS \"NIKITA MIRZANI 'MENINGGAL DUNIA' AKIBAT SERANGAN JANTUNG\".\\n\"Bener apa bener sih NI berita?..\" tulis salah satu akun Facebook.\\nKonten yang disebarkan akun Facebook tersebut telah beberapa kali direspons dan dikomentari warganet.\\nBenarkah kabar Nikita Mirzani meninggal dunia akibat serangan jantung pada 2 November 2022? Berikut penelusurannya.\\n \n",
              "1    \\nLiputan6.com, Jakarta - Klaim tentang menempelkan tepung beras di tubuh bisa meredakan demam pada anak beredar di media sosial. Klaim tersebut disebarkan salah satu akun Facebook pada 31 Oktober 2022 lalu.\\nAkun Facebook tersebut mengunggah video berisi tata cara menggunakan tepung beras untuk menurunkan demam pada anak. Yang pertama, tepung beras dicampur dengan air hingga membentuk adonan. Adonan tepung beras tersebut kemudian ditempelkan dan diusapkan pada bagian dada dan perut anak.\\n\"Sekarang ini lagi musim demam,saya share pengalaman ya sama teman teman,andalan mama dulu kami kecil,sampai sekarang saya bikin ke anak anak,setidaknya pertolongan pertama buat anak anak demam, supaya gak kejang kejang dan step.\\nK*m*k* V*v**nn* pernah panas 40 tapi masih aktif\\nHabis bikin tepung jangan buka ac ya,ataupun kipas,waktu bikin juga jangan buka ac dan kipas.Please nonton video sampai habis🙏\\nCukup tepung campur air putih aduk kira bisa di pegang.\\nBikin sampai tepung kering ya,kalau kering tandanya hawa panas badan di tarik tepung.\\nPointnya yg mesti di lamakan lihat di video.\\nHabis bikin tepung kasi minyak kayu putih satu badan,lalu urut urut,kasi makan yg hangat hangat.\\nObat tetap di minum,kalau demam bukan karena virus atau bakteri ,makaakan cepat sembuh\\nSelamat mencoba😊🙏🙏🙏🙏\\nSharing is caring😊,\" tulis salah satu akun Facebook.\\nKonten yang disebarkan akun Facebook tersebut telah 11 ribu kali ditonton dan mendapat 161 komentar dari warganet.\\nBenarkah menempelkan adonan tepung beras di tubuh bisa meredakan demam pada anak? Berikut penelusurannya.\\n \n",
              "2                                                                                                                                                                                                                                                                                                                                                                                                                                                                                                                                                                                                                                                                                                                                                                                                                                                                                                                                                                                                                                                                                                                                                                            Akun Facebook bernama TH K menyebarluaskan tautan serta gambar yang memperlihatkan menkes Budi Gunadi Sadikin sedang memberikan pidato. Selain itu, di gambar tersebut dilengkapi penjelasan bahwa pidato tersebut membahas tentang semua orang Indonesia yang kaget dengan fakta bahwa diabetes mudah diobati.\\n\\nTautan dan gambar yang diunggah pada 19 Juli 2022 tersebut telah dibagikan ulang sebanyak 153 kali, serta telah direspon oleh hampir 4,000 orang.\n",
              "3                                                                                                                                                                                                                                                                                                                                                                                                                                                                                                                                                                                                                                                                                                                                                                                                                                                                                             \\nLiputan6.com, Jakarta - Sebuah video yang diklaim seorang wanita tertua di dunia berusia 399 tahun beredar di media sosial. Video tersebut disebarkan salah satu akun Facebook pada 18 April 2022.\\nVideo berdurasi 59 detik itu memperlihatkan seseorang tengah berbaring di tempat tidur dengan kondisi yang sudah renta.\\nSosok dalam video tersebut kemudian disebut-sebut sebagai wanita tertua di dunia berusia 399 tahun.\\n\"The oldest woman in the world 399 years old 😱👏,\" tulis salah satu akun Facebook.\\nKonten yang disebarkan akun Facebook tersebut telah 384 ribu kali ditonton dan mendapat 431 komentar dari warganet.\\nBenarkah dalam video itu merupakan wanita tertua di dunia berusia 399 tahun? Berikut penelusurannya.\\n \n",
              "4                                                                                                                                                                                                                                                                                                                                                                                                                                                                                                                                                                                                                                                                                                                                                                                                                                                                                           \\nLiputan6.com, Jakarta- Cek Fakta Liputan6.com mendapati klaim video kondisi Amerika Serikat atau AS terkena dampak resesi. Kabar tersebut diunggah salah satu akun Facebook, pada 22 Oktober 2022.\\nUnggahan klaim video kondisi AS terkena dampak resesi menampilkan situasi tepi jalan terdapat sejumlah orang tergeletak dan ada yang berjalan gontai.\\nVideo tersebut diberi keterangan sebagai berikut.\\n\"Ini situasi terkini di Amerika serikat Negara super power yg terkena dampak akibat resesi global yg melanda Dunia..coba klu terjadi di Indonesia para Kadrun mngoreng2 tiap hari sambil menari2 teriak2 turunkan Jokowi..😁😁\"\\nBenarkah klaim video kondisi AS terkena dampak resesi? Simak hasil penelusuran Cek Fakta Liputan6.com.\n",
              "5                                                                                                                                                                                                                                                                                                                                                                                                                                                                                                                                                                                                                                                                                                                                                                                                                                                                                                                                                                                                                                                                                                                                                                                                                                                                                                            Akun Twitter dengan nama pengguna “uytimes” mengunggah sebuah video yang menunjukkan sekelompok anak tengah berbaris dan mengenakan kostum berwarna putih. Unggahan tersebut juga disertai dengan narasi yang menyatakan bahwa anak-anak dalam video tersebut tengah menggunakan baju hazmat sesuai dengan kebijakan pemerintah.\\n\\n\n",
              "6                                                                                                                                                                                                                                                                                                                                                                                                                                                                                                                                                                                                                                                                                                                                                                                                                                                                                                                                                                                                                                                                                                                                                                                                                                                                                                                                                                                                                                                                                                                                           \"399 Years Women, Oldest woman in the world\"\\n(Terjemahan : Wanita 399 Tahun, wanita tertua di dunia)\n",
              "7                                                                                                                                                                                                                                                                                                                                                                                                                                                                                                                                                                                                                                                                                                                                                                                                                                   \\nLiputan6.com, Jakarta- Cek Fakta Liputan6.com mendapati klaim vaksin genosida Uni Eropa membuat 100 ribu kematian dalam seminggu. Informasi tersebut diunggah salah satu akun Facebook, pada 27 Oktober 2022.\\nKlaim vaksin genosida Uni Eropa membuat 100 ribu kematian dalam seminggu berupa tangkapan layar tumbnails YouTube berjudul \"SHOCKING: 100,000 PLUS DEATHS A WEEK! - VACCINE GENOCIDE! - EU To PROSECUTE PRESIDENT?\"\\nTangkapan layar tersebut diberi keterangan sebagai berikut.\\n\"📣 SHOCKING : LEBIH 100.000 KEMATIAN DALAM SEMINGGU - PEMBANTAIAN MASSAL VAKSIN - EUROPA UNION ______________\\n#yang dipuja - puja sebagai pemimpin hanya wayang demi membunuh 95% populasi dunia!\"\\nBenarkah klaim vaksin genosida Uni Eropa membuat 100 ribu kematian dalam seminggu? Simak faktanya.\\n \n",
              "8                                                                                                                                                                                                                                                                                                                                                                                                                                                                                                                                                                                                                                                                                                                                                                                                                                                                                           \\nLiputan6.com, Jakarta - Beredar di media sosial postingan yang menyebut Presiden Jokowi memberi gelar pahlawan nasional bagi mantan presiden Soeharto. Postingan itu beredar sejak pekan lalu.\\nSalah satu akun ada yang mempostingnya di Facebook. Akun itu mengunggahnya pada 4 November 2022.\\nBerikut isi postingannya:\\n\"Terimakasih Kepada Presiden RI Joko Widodo, Atas Nama Bangsa Dan Negara Memberikan Penganugerahan Gelar Pahlawan Nasional Kepeda Alm Jenderal TNI Soeharto Presiden RI Ke - 2.Semoga Pak Soeharto Ditempatkan Disisi Yg Mulia Oleh Tuhan Yg Maha Kuasa Atas Jasa2 nya Kepada Bangsa Dan Negara\"\\nLalu benarkah postingan yang menyebut Presiden Jokowi memberi gelar pahlawan nasional bagi mantan presiden Soeharto?\n",
              "9                                                                                                                                                                                                                                                                                                                                                                                                                                                                                                                                                                                                                                                                                                                                                                                                                                                                                                                                                                                                                                                                                                                                                                                                                                                                                                                                                                                                                                                                                                                                        Beredar Video Diduga Mempertontonkan Pasangan LGBT Sedang Bermesraan di salah satu kafe di palangkaraya.\n",
              "Name: text, dtype: object"
            ]
          },
          "metadata": {},
          "execution_count": 30
        }
      ],
      "source": [
        "pd.set_option('display.max_colwidth', None)\n",
        "df.text[:10]"
      ]
    },
    {
      "cell_type": "code",
      "execution_count": 31,
      "id": "242f4601",
      "metadata": {
        "colab": {
          "base_uri": "https://localhost:8080/"
        },
        "id": "242f4601",
        "outputId": "11ce6361-2a42-43a7-f1f3-eab4d9e5cb9b"
      },
      "outputs": [
        {
          "output_type": "execute_result",
          "data": {
            "text/plain": [
              "['Jakarta Kabar tentang artis Nikita Mirzani meninggal dunia akibat serangan jantung pada November beredar di medium sosial kabar tersebut disebarkan salah satu akun Facebook pada November Akun Facebook tersebut mengunggah video dari situs berbagi video YouTube video tersebut berjudul Innalillahi Nikita Mirzani Meninggal Dunia Akibat Serangan Jantung Gambar dalam video tersebut Nikita Mirzani tengah terbare di ranjang rumah sakit tangannya tampak diinfus Di samping gambar tersebut terdapat sejumlah orang tengah berkumpul di sekitar pemakaman Video tersebut kemudian diberi judul break NEWS NIKITA MIRZANI MENINGGAL DUNIA AKIBAT SERANGAN JANTUNG Bener apa bener sih NI berita tuli salah satu akun Facebook Konten yang disebarkan akun Facebook tersebut telah beberapa kali direspons dan dikomentari warganet Benarkah kabar Nikita Mirzani meninggal dunia akibat serangan jantung pada November Berikut penelusurannya',\n",
              " 'Jakarta Klaim tentang menempelkan tepung beras di tubuh bisa meredakan demam pada anak beredar di medium sosial Klaim tersebut disebarkan salah satu akun Facebook pada Oktober lalu Akun Facebook tersebut mengunggah video berisi tata cara menggunakan tepung beras untuk menurunkan demam pada anak Yang pertama tepung beras dicampur dengan air hingga membentuk adonan Adonan tepung beras tersebut kemudian ditempelkan dan diusapkan pada bagian dada dan perut anak Sekarang ini lagi musim demam saya share pengalaman ya sama teman teman andalan mama dulu kami kecil sampai sekarang saya bikin ke anak anak setidaknya pertolongan pertama buat anak anak demam supaya gak kejang kejang dan step Kmk Vvnn pernah pana tapi masih aktif Habis bikin tepung jangan buka ac ya ataupun kipas waktu bikin juga jangan buka ac dan kipas please nonton video sampai habisd Cukup tepung campur air putih aduk kira bisa di pegang Bikin sampai tepung kere ya kalau kering tandanya hawa panas badan di tarik tepung Pointnya yg mesti di lamakan lihat di video Habis bikin tepung kasi minyak kayu putih satu badan lalu urut urut kasi makan yg hangat hangat Obat tetap di minum kalau demam bukan karena virus atau bakteri makaakan cepat sembuh Selamat mencobadd Sharing be caringd tulis salah satu akun Facebook Konten yang disebarkan akun Facebook tersebut telah ribu kali ditonton dan mendapat komentar dari warganet Benarkah menempelkan adonan tepung beras di tubuh bisa meredakan demam pada anak Berikut penelusurannya',\n",
              " 'Akun Facebook bernama TH menyebarluaskan tautan serta gambar yang memperlihatkan menkes Budi Gunadi Sadikin sedang memberikan pidato Selain itu di gambar tersebut dilengkapi penjelasan bahwa pidato tersebut membahas tentang semua orang Indonesia yang kaget dengan fakta bahwa diabetes mudah diobati Tautan dan gambar yang diunggah pada Juli tersebut telah dibagikan ulang sebanyak kali serta telah direspon oleh hampir orang',\n",
              " 'Jakarta Sebuah video yang diklaim seorang wanita tertua di dunia berusia tahun beredar di medium sosial video tersebut disebarkan salah satu akun Facebook pada April Video berdurasi detik itu memperlihatkan seseorang tengah berbaring di tempat tidur dengan kondisi yang sudah renta Sosok dalam video tersebut kemudian disebut sebut sebagai wanita tertua di dunia berusia tahun the old woman in the world year old dd tuli salah satu akun Facebook Konten yang disebarkan akun Facebook tersebut telah ribu kali ditonton dan mendapat komentar dari warganet Benarkah dalam video itu merupakan wanita tertua di dunia berusia tahun Berikut penelusurannya',\n",
              " 'Jakarta Cek Fakta mendapati klaim video kondisi Amerika Serikat atau as terkena dampak resesi kabar tersebut diunggah salah satu akun Facebook pada Oktober Unggahan klaim video kondisi as terkena dampak resesi menampilkan situasi tepi jalan terdapat sejumlah orang tergeletak dan ada yang berjalan gontai Video tersebut diberi keterangan sebagai berikut Ini situasi terkini di Amerika serikat Negara super power yg terkena dampak akibat resesi global yg melanda Dunia coba klu terjadi di Indonesia para Kadrun mngoreng tiap hari sambil menari teriak turunkan Jokowi dd Benarkah klaim video kondisi as terkena dampak resesi Simak hasil penelusuran Cek Fakta',\n",
              " 'Akun Twitter dengan nama pengguna auytimesa mengunggah sebuah video yang menunjukkan sekelompok anak tengah berbaris dan mengenakan kostum berwarna putih unggahan tersebut juga disertai dengan narasi yang menyatakan bahwa anak anak dalam video tersebut tengah menggunakan baju hazmat sesuai dengan kebijakan pemerintah',\n",
              " 'Years Women old woman in the world Terjemahan Wanita Tahun wanita tertua di dunia',\n",
              " 'Jakarta Cek Fakta mendapati klaim vaksin genosida Uni Eropa membuat ribu kematian dalam seminggu informasi tersebut diunggah salah satu akun Facebook pada Oktober Klaim vaksin genosida Uni Eropa membuat ribu kematian dalam semingguA berupa tangkapan layar tumbnails YouTube berjudul shocking PLUS DEATHS WEEK VACCINE GENOCIDE EU to prosecute president Tangkapan layar tersebut diberi keterangan sebagai berikut dps shocking LEBIH kematian DALAM SEMINGGU pembantaian MASSAL VAKSIN EUROPA UNION yang dipuja puja sebagai pemimpin hanya wayang demi membunuh populasi dunia Benarkah klaim vaksin genosida Uni Eropa membuat ribu kematian dalam seminggu Simak faktanya',\n",
              " 'Jakarta Beredar di medium sosial postingan yang menyebut Presiden Jokowi memberi gelar pahlawan nasional bagi mantan presiden Soeharto Postingan itu beredar sejak pekan lalu Salah satu akun ada yang mempostingnya di Facebook Akun itu mengunggahnya pada November Berikut isi postingannya Terimakasih Kepada Presiden RI Joko Widodo Atas Nama Bangsa Dan Negara Memberikan Penganugerahan Gelar Pahlawan Nasional Kepeda Alm Jenderal TNI Soeharto Presiden RI Ke Semoga Pak Soeharto Ditempatkan Disisi Yg Mulia Oleh Tuhan Yg Maha Kuasa Atas jasa nya Kepada Bangsa Dan Negara Lalu benarkah postingan yang menyebut Presiden Jokowi memberi gelar pahlawan nasional bagi mantan presiden Soeharto',\n",
              " 'Beredar Video Diduga Mempertontonkan Pasangan LGBT Sedang Bermesraan di salah satu kafe di palangkaraya']"
            ]
          },
          "metadata": {},
          "execution_count": 31
        }
      ],
      "source": [
        "#Applied the custom cleaner\n",
        "[spacy_cleaner(t) for t in df.text[:10]]\n"
      ]
    },
    {
      "cell_type": "code",
      "execution_count": 32,
      "id": "cd2d81cf",
      "metadata": {
        "colab": {
          "base_uri": "https://localhost:8080/"
        },
        "id": "cd2d81cf",
        "outputId": "93b95295-7409-41f2-cb53-e7386635288e"
      },
      "outputs": [
        {
          "output_type": "stream",
          "name": "stderr",
          "text": [
            "<ipython-input-29-dedc28415dd6>:10: DeprecationWarning: invalid escape sequence '\\_'\n",
            "  decoded = unidecode.unidecode(codecs.decode(text, \"unicode_escape\"))\n"
          ]
        }
      ],
      "source": [
        "#Apply the cleaner to all dataset\n",
        "df['clean_text'] = [spacy_cleaner(t) for t in df.text]"
      ]
    },
    {
      "cell_type": "code",
      "execution_count": 33,
      "id": "569a4445",
      "metadata": {
        "id": "569a4445"
      },
      "outputs": [],
      "source": [
        "for i,t in enumerate(df.text):\n",
        "    if '\\m' in t:\n",
        "        print(i,t)"
      ]
    },
    {
      "cell_type": "code",
      "execution_count": 34,
      "id": "cec85493",
      "metadata": {
        "colab": {
          "base_uri": "https://localhost:8080/",
          "height": 108
        },
        "id": "cec85493",
        "outputId": "8c4a5f03-a7e1-4fff-8318-177355436003"
      },
      "outputs": [
        {
          "output_type": "execute_result",
          "data": {
            "text/plain": [
              "'Akun Sadri Lanang (fb.com/100054456763723) pada 20 Januari 2022 mengunggah sebuah video yang memperlihatkan Ade Armando yang menyampaikan narasi:\\n\\n“olah berbasis laporan intelijen itu dalam bahasa saya. Jadi digambarkan bahwa sejak awal Covid-19 (akhir 2019) sampai Juni 2021. Jumlah tentara Cina yang masuk ke Indonesia dengan sepengetahuan dan restu Pemerintah Jokowi sudah mencapai 14 juta orang. Menurut laporan intelijen ini, gelombang kedatangan tentara Cina memanfaatkan kelengahan masyarakat Indonesia yang sedang terpusat perhatiannya pada pandemi”'"
            ],
            "application/vnd.google.colaboratory.intrinsic+json": {
              "type": "string"
            }
          },
          "metadata": {},
          "execution_count": 34
        }
      ],
      "source": [
        "df.text[1192]"
      ]
    },
    {
      "cell_type": "code",
      "execution_count": 35,
      "id": "3b47fb90",
      "metadata": {
        "colab": {
          "base_uri": "https://localhost:8080/",
          "height": 108
        },
        "id": "3b47fb90",
        "outputId": "858d4bcc-7cc5-46ab-d0f0-73c4bf949367"
      },
      "outputs": [
        {
          "output_type": "execute_result",
          "data": {
            "text/plain": [
              "'Akun Sadri Lanang pada Januari mengunggah sebuah video yang memperlihatkan Ade Armando yang menyampaikan narasi aolah berbasis laporan intelijen itu dalam bahasa saya Jadi digambarkan bahwa sejak awal Covid akhir sampai Juni Jumlah tentara Cina yang masuk ke Indonesia dengan sepengetahuan dan restu Pemerintah Jokowi sudah mencapai juta orang Menurut laporan intelijen ini gelombang kedatangan tentara Cina memanfaatkan kelengahan masyarakat Indonesia yang sedang terpusat perhatiannya pada pandemia'"
            ],
            "application/vnd.google.colaboratory.intrinsic+json": {
              "type": "string"
            }
          },
          "metadata": {},
          "execution_count": 35
        }
      ],
      "source": [
        "spacy_cleaner(df.text[1192])"
      ]
    },
    {
      "cell_type": "markdown",
      "id": "dc71166d",
      "metadata": {
        "id": "dc71166d"
      },
      "source": [
        "# Imbalanced Learning"
      ]
    },
    {
      "cell_type": "markdown",
      "id": "ae10f0d2",
      "metadata": {
        "id": "ae10f0d2"
      },
      "source": []
    },
    {
      "cell_type": "code",
      "execution_count": 36,
      "id": "bda9237f",
      "metadata": {
        "colab": {
          "base_uri": "https://localhost:8080/"
        },
        "id": "bda9237f",
        "outputId": "baf7bfba-41aa-4fe2-9459-4492f8b5cb31"
      },
      "outputs": [
        {
          "output_type": "execute_result",
          "data": {
            "text/plain": [
              "Misleading Content     2624\n",
              "False Context          2222\n",
              "False Content          1779\n",
              "Fabricated Content     1149\n",
              "Manipulated Content    1139\n",
              "Impostor Content        502\n",
              "Clarification           381\n",
              "False Connection        278\n",
              "TRUE                    229\n",
              "Satire                  162\n",
              "Name: sentiment, dtype: int64"
            ]
          },
          "metadata": {},
          "execution_count": 36
        }
      ],
      "source": [
        "df.sentiment.value_counts()"
      ]
    },
    {
      "cell_type": "code",
      "execution_count": 37,
      "id": "075c9a15",
      "metadata": {
        "id": "075c9a15"
      },
      "outputs": [],
      "source": [
        "#Original Imbalanced Data\n",
        "from sklearn.linear_model import LogisticRegression\n",
        "from sklearn.ensemble import RandomForestClassifier\n",
        "from sklearn.neighbors import KNeighborsClassifier\n",
        "from sklearn.naive_bayes import GaussianNB\n",
        "from sklearn.feature_extraction.text import TfidfVectorizer\n",
        "from sklearn.linear_model import Perceptron\n",
        "from sklearn.linear_model import SGDClassifier\n",
        "\n",
        "tvec = TfidfVectorizer(stop_words=None, max_features=100000, ngram_range=(1, 3))\n",
        "lr = LogisticRegression(max_iter=1000)\n",
        "rf = RandomForestClassifier(max_depth=2, random_state=0)\n",
        "neigh = KNeighborsClassifier(n_neighbors=3)\n",
        "gnb = GaussianNB()\n",
        "pct = Perceptron(tol=1e-3, random_state=0)\n",
        "sgd = SGDClassifier(loss=\"hinge\", penalty=\"l2\", max_iter=1000)\n",
        "\n",
        "from sklearn.model_selection import StratifiedKFold\n",
        "from sklearn.metrics import precision_score, recall_score, f1_score\n",
        "\n",
        "def lr_cv(splits, X, Y, pipeline, average_method):\n",
        "    \n",
        "    kfold = StratifiedKFold(n_splits=splits, shuffle=True, random_state=777)\n",
        "    accuracy = []\n",
        "    precision = []\n",
        "    recall = []\n",
        "    f1 = []\n",
        "    for train, test in kfold.split(X, Y):\n",
        "        lr_fit = pipeline.fit(X[train], Y[train])\n",
        "        prediction = lr_fit.predict(X[test])\n",
        "        scores = lr_fit.score(X[test],Y[test])\n",
        "        \n",
        "        accuracy.append(scores * 100)\n",
        "        precision.append(precision_score(Y[test], prediction, average=average_method)*100)\n",
        "        print('Misleading Content,  False Context,  False Content, Fabricated Content, Manipulated Content, Impostor Content, Clarification, False Connection, TRUE, Satire           ')\n",
        "        print('precision:',precision_score(Y[test], prediction, average=None))\n",
        "        recall.append(recall_score(Y[test], prediction, average=average_method)*100)\n",
        "        print('recall:   ',recall_score(Y[test], prediction, average=None))\n",
        "        f1.append(f1_score(Y[test], prediction, average=average_method)*100)\n",
        "        print('f1 score: ',f1_score(Y[test], prediction, average=None))\n",
        "        print('-'*50)\n",
        "\n",
        "    print(\"accuracy: %.2f%% (+/- %.2f%%)\" % (np.mean(accuracy), np.std(accuracy)))\n",
        "    print(\"precision: %.2f%% (+/- %.2f%%)\" % (np.mean(precision), np.std(precision)))\n",
        "    print(\"recall: %.2f%% (+/- %.2f%%)\" % (np.mean(recall), np.std(recall)))\n",
        "    print(\"f1 score: %.2f%% (+/- %.2f%%)\" % (np.mean(f1), np.std(f1)))"
      ]
    },
    {
      "cell_type": "code",
      "source": [],
      "metadata": {
        "id": "PG8rqAdTKKQ1"
      },
      "id": "PG8rqAdTKKQ1",
      "execution_count": 37,
      "outputs": []
    },
    {
      "cell_type": "code",
      "execution_count": 38,
      "id": "78f304a5",
      "metadata": {
        "colab": {
          "base_uri": "https://localhost:8080/"
        },
        "id": "78f304a5",
        "outputId": "e1c07ff8-4957-4197-e532-221bdb1286a7"
      },
      "outputs": [
        {
          "output_type": "stream",
          "name": "stderr",
          "text": [
            "/usr/local/lib/python3.8/dist-packages/sklearn/metrics/_classification.py:1318: UndefinedMetricWarning: Precision is ill-defined and being set to 0.0 in labels with no predicted samples. Use `zero_division` parameter to control this behavior.\n",
            "  _warn_prf(average, modifier, msg_start, len(result))\n",
            "/usr/local/lib/python3.8/dist-packages/sklearn/metrics/_classification.py:1318: UndefinedMetricWarning: Precision is ill-defined and being set to 0.0 in labels with no predicted samples. Use `zero_division` parameter to control this behavior.\n",
            "  _warn_prf(average, modifier, msg_start, len(result))\n"
          ]
        },
        {
          "output_type": "stream",
          "name": "stdout",
          "text": [
            "Misleading Content,  False Context,  False Content, Fabricated Content, Manipulated Content, Impostor Content, Clarification, False Connection, TRUE, Satire           \n",
            "precision: [1.         0.54069767 0.         0.7752809  0.39232053 0.89583333\n",
            " 0.48       0.41553637 0.         0.6       ]\n",
            "recall:    [0.02631579 0.40434783 0.         0.7752809  0.52927928 0.43\n",
            " 0.21052632 0.64190476 0.         0.06521739]\n",
            "f1 score:  [0.05128205 0.46268657 0.         0.7752809  0.4506232  0.58108108\n",
            " 0.29268293 0.50449102 0.         0.11764706]\n",
            "--------------------------------------------------\n"
          ]
        },
        {
          "output_type": "stream",
          "name": "stderr",
          "text": [
            "/usr/local/lib/python3.8/dist-packages/sklearn/metrics/_classification.py:1318: UndefinedMetricWarning: Precision is ill-defined and being set to 0.0 in labels with no predicted samples. Use `zero_division` parameter to control this behavior.\n",
            "  _warn_prf(average, modifier, msg_start, len(result))\n",
            "/usr/local/lib/python3.8/dist-packages/sklearn/metrics/_classification.py:1318: UndefinedMetricWarning: Precision is ill-defined and being set to 0.0 in labels with no predicted samples. Use `zero_division` parameter to control this behavior.\n",
            "  _warn_prf(average, modifier, msg_start, len(result))\n"
          ]
        },
        {
          "output_type": "stream",
          "name": "stdout",
          "text": [
            "Misleading Content,  False Context,  False Content, Fabricated Content, Manipulated Content, Impostor Content, Clarification, False Connection, TRUE, Satire           \n",
            "precision: [0.75       0.57668712 0.         0.75069252 0.40677966 0.88888889\n",
            " 0.55434783 0.43120393 0.         0.66666667]\n",
            "recall:    [0.03947368 0.40869565 0.         0.76123596 0.54054054 0.56\n",
            " 0.22368421 0.66857143 0.         0.08695652]\n",
            "f1 score:  [0.075      0.4783715  0.         0.75592748 0.46421663 0.68711656\n",
            " 0.31875    0.52427184 0.         0.15384615]\n",
            "--------------------------------------------------\n"
          ]
        },
        {
          "output_type": "stream",
          "name": "stderr",
          "text": [
            "/usr/local/lib/python3.8/dist-packages/sklearn/metrics/_classification.py:1318: UndefinedMetricWarning: Precision is ill-defined and being set to 0.0 in labels with no predicted samples. Use `zero_division` parameter to control this behavior.\n",
            "  _warn_prf(average, modifier, msg_start, len(result))\n",
            "/usr/local/lib/python3.8/dist-packages/sklearn/metrics/_classification.py:1318: UndefinedMetricWarning: Precision is ill-defined and being set to 0.0 in labels with no predicted samples. Use `zero_division` parameter to control this behavior.\n",
            "  _warn_prf(average, modifier, msg_start, len(result))\n"
          ]
        },
        {
          "output_type": "stream",
          "name": "stdout",
          "text": [
            "Misleading Content,  False Context,  False Content, Fabricated Content, Manipulated Content, Impostor Content, Clarification, False Connection, TRUE, Satire           \n",
            "precision: [1.         0.55555556 0.         0.81231672 0.37373737 0.85416667\n",
            " 0.55       0.4019025  0.         0.71428571]\n",
            "recall:    [0.02631579 0.43668122 0.         0.77808989 0.5        0.40594059\n",
            " 0.19298246 0.64380952 0.         0.10869565]\n",
            "f1 score:  [0.05128205 0.48899756 0.         0.79483501 0.42774566 0.55033557\n",
            " 0.28571429 0.49487555 0.         0.18867925]\n",
            "--------------------------------------------------\n"
          ]
        },
        {
          "output_type": "stream",
          "name": "stderr",
          "text": [
            "/usr/local/lib/python3.8/dist-packages/sklearn/metrics/_classification.py:1318: UndefinedMetricWarning: Precision is ill-defined and being set to 0.0 in labels with no predicted samples. Use `zero_division` parameter to control this behavior.\n",
            "  _warn_prf(average, modifier, msg_start, len(result))\n",
            "/usr/local/lib/python3.8/dist-packages/sklearn/metrics/_classification.py:1318: UndefinedMetricWarning: Precision is ill-defined and being set to 0.0 in labels with no predicted samples. Use `zero_division` parameter to control this behavior.\n",
            "  _warn_prf(average, modifier, msg_start, len(result))\n"
          ]
        },
        {
          "output_type": "stream",
          "name": "stdout",
          "text": [
            "Misleading Content,  False Context,  False Content, Fabricated Content, Manipulated Content, Impostor Content, Clarification, False Connection, TRUE, Satire           \n",
            "precision: [1.         0.55263158 0.         0.80923077 0.39482759 0.87272727\n",
            " 0.47413793 0.41970803 0.         0.75      ]\n",
            "recall:    [0.01315789 0.45652174 0.         0.73876404 0.51460674 0.47524752\n",
            " 0.24229075 0.65839695 0.         0.06521739]\n",
            "f1 score:  [0.02597403 0.5        0.         0.77239354 0.44682927 0.61538462\n",
            " 0.32069971 0.51263001 0.         0.12      ]\n",
            "--------------------------------------------------\n",
            "Misleading Content,  False Context,  False Content, Fabricated Content, Manipulated Content, Impostor Content, Clarification, False Connection, TRUE, Satire           \n",
            "precision: [1.         0.56497175 0.         0.79444444 0.38735818 0.88461538\n",
            " 0.5        0.42912371 0.         0.        ]\n",
            "recall:    [0.01298701 0.43478261 0.         0.8056338  0.53707865 0.46\n",
            " 0.24122807 0.63428571 0.         0.        ]\n",
            "f1 score:  [0.02564103 0.49140049 0.         0.8        0.45009416 0.60526316\n",
            " 0.32544379 0.51191391 0.         0.        ]\n",
            "--------------------------------------------------\n",
            "accuracy: 50.12% (+/- 0.71%)\n",
            "precision: 50.44% (+/- 2.60%)\n",
            "recall: 31.51% (+/- 0.75%)\n",
            "f1 score: 33.00% (+/- 0.87%)\n"
          ]
        },
        {
          "output_type": "stream",
          "name": "stderr",
          "text": [
            "/usr/local/lib/python3.8/dist-packages/sklearn/metrics/_classification.py:1318: UndefinedMetricWarning: Precision is ill-defined and being set to 0.0 in labels with no predicted samples. Use `zero_division` parameter to control this behavior.\n",
            "  _warn_prf(average, modifier, msg_start, len(result))\n",
            "/usr/local/lib/python3.8/dist-packages/sklearn/metrics/_classification.py:1318: UndefinedMetricWarning: Precision is ill-defined and being set to 0.0 in labels with no predicted samples. Use `zero_division` parameter to control this behavior.\n",
            "  _warn_prf(average, modifier, msg_start, len(result))\n"
          ]
        }
      ],
      "source": [
        "from sklearn.pipeline import Pipeline\n",
        "original_pipeline = Pipeline([\n",
        "    ('vectorizer', tvec),\n",
        "    ('classifier', lr)\n",
        "])\n",
        "lr_cv(5, df.clean_text, df.sentiment, original_pipeline, 'macro')"
      ]
    },
    {
      "cell_type": "markdown",
      "id": "7d64b254",
      "metadata": {
        "id": "7d64b254"
      },
      "source": [
        "With data as it is without any resampling, we can see that the precision is higher than the recall."
      ]
    },
    {
      "cell_type": "markdown",
      "id": "db3e7736",
      "metadata": {
        "id": "db3e7736"
      },
      "source": [
        "## Oversampling\n"
      ]
    },
    {
      "cell_type": "markdown",
      "source": [],
      "metadata": {
        "id": "YNEb-pbZSZkt"
      },
      "id": "YNEb-pbZSZkt"
    },
    {
      "cell_type": "code",
      "execution_count": 38,
      "id": "b9400c38",
      "metadata": {
        "id": "b9400c38"
      },
      "outputs": [],
      "source": []
    },
    {
      "cell_type": "code",
      "execution_count": 39,
      "id": "ef0c000a",
      "metadata": {
        "id": "ef0c000a"
      },
      "outputs": [],
      "source": [
        "#Random Over Sampler\n",
        "from imblearn.pipeline import make_pipeline\n",
        "from imblearn.over_sampling import ADASYN, SMOTE, RandomOverSampler\n",
        "\n",
        "ROS_pipeline = make_pipeline(tvec, RandomOverSampler(random_state=777),lr )\n",
        "SMOTE_pipeline_lr = make_pipeline(tvec, SMOTE(random_state=777),lr)\n",
        "SMOTE_pipeline_rf = make_pipeline(tvec, SMOTE(random_state=777),rf)\n",
        "SMOTE_pipeline_neigh = make_pipeline(tvec, SMOTE(random_state=777),neigh)\n",
        "SMOTE_pipeline_gnb = make_pipeline(tvec, SMOTE(random_state=777),gnb)\n",
        "SMOTE_pipeline_pct = make_pipeline(tvec, SMOTE(random_state=777),pct)\n",
        "SMOTE_pipeline_sgd = make_pipeline(tvec, SMOTE(random_state=777),sgd)\n",
        "\n"
      ]
    },
    {
      "cell_type": "code",
      "source": [
        "from collections import Counter\n",
        "from imblearn.over_sampling import SMOTE \n",
        "\n",
        "sm = SMOTE(random_state=42)\n",
        "tvec = TfidfVectorizer(stop_words=None, max_features=100000, ngram_range=(1, 3))\n",
        "df_tfidf = tvec.fit_transform(df.clean_text)\n",
        "X_res, y_res = sm.fit_resample(df_tfidf, df.sentiment)\n",
        "print('Distribution before SMOTE: {}'.format(Counter(df.sentiment)))\n",
        "print('Distribution after SMOTE: {}'.format(Counter(y_res)))"
      ],
      "metadata": {
        "id": "yrxgH54HlbBB",
        "colab": {
          "base_uri": "https://localhost:8080/"
        },
        "outputId": "99005a5b-ecb0-454c-9615-d22f2073cf71"
      },
      "id": "yrxgH54HlbBB",
      "execution_count": 40,
      "outputs": [
        {
          "output_type": "stream",
          "name": "stdout",
          "text": [
            "Distribution before SMOTE: Counter({'Misleading Content': 2624, 'False Context': 2222, 'False Content': 1779, 'Fabricated Content': 1149, 'Manipulated Content': 1139, 'Impostor Content': 502, 'Clarification': 381, 'False Connection': 278, 'TRUE': 229, 'Satire': 162})\n",
            "Distribution after SMOTE: Counter({'False Content': 2624, 'Misleading Content': 2624, 'Fabricated Content': 2624, 'Impostor Content': 2624, 'Manipulated Content': 2624, 'False Context': 2624, 'Satire': 2624, 'False Connection': 2624, 'TRUE': 2624, 'Clarification': 2624})\n"
          ]
        }
      ]
    },
    {
      "cell_type": "code",
      "execution_count": 41,
      "id": "68bbfa41",
      "metadata": {
        "colab": {
          "base_uri": "https://localhost:8080/"
        },
        "id": "68bbfa41",
        "outputId": "7069482c-bc69-4346-dd55-9c033c7ca158"
      },
      "outputs": [
        {
          "output_type": "stream",
          "name": "stdout",
          "text": [
            "Misleading Content,  False Context,  False Content, Fabricated Content, Manipulated Content, Impostor Content, Clarification, False Connection, TRUE, Satire           \n",
            "precision: [0.31578947 0.44672131 0.2        0.78962536 0.4407767  0.62352941\n",
            " 0.35471698 0.51948052 0.33333333 0.36956522]\n",
            "recall:    [0.31578947 0.47391304 0.12727273 0.76966292 0.51126126 0.53\n",
            " 0.4122807  0.45714286 0.18181818 0.36956522]\n",
            "f1 score:  [0.31578947 0.45991561 0.15555556 0.77951636 0.4734098  0.57297297\n",
            " 0.38133874 0.48632219 0.23529412 0.36956522]\n",
            "--------------------------------------------------\n",
            "Misleading Content,  False Context,  False Content, Fabricated Content, Manipulated Content, Impostor Content, Clarification, False Connection, TRUE, Satire           \n",
            "precision: [0.2815534  0.48341232 0.15       0.79464286 0.44291339 0.68103448\n",
            " 0.4        0.53469388 0.17857143 0.2745098 ]\n",
            "recall:    [0.38157895 0.44347826 0.10909091 0.75       0.50675676 0.79\n",
            " 0.36842105 0.49904762 0.15151515 0.30434783]\n",
            "f1 score:  [0.32402235 0.46258503 0.12631579 0.7716763  0.47268908 0.73148148\n",
            " 0.38356164 0.51625616 0.16393443 0.28865979]\n",
            "--------------------------------------------------\n",
            "Misleading Content,  False Context,  False Content, Fabricated Content, Manipulated Content, Impostor Content, Clarification, False Connection, TRUE, Satire           \n",
            "precision: [0.26136364 0.50622407 0.10344828 0.80239521 0.41291585 0.70833333\n",
            " 0.39148936 0.49064449 0.24       0.37735849]\n",
            "recall:    [0.30263158 0.53275109 0.05357143 0.75280899 0.47522523 0.67326733\n",
            " 0.40350877 0.44952381 0.1875     0.43478261]\n",
            "f1 score:  [0.2804878  0.51914894 0.07058824 0.77681159 0.44188482 0.69035533\n",
            " 0.39740821 0.46918489 0.21052632 0.4040404 ]\n",
            "--------------------------------------------------\n",
            "Misleading Content,  False Context,  False Content, Fabricated Content, Manipulated Content, Impostor Content, Clarification, False Connection, TRUE, Satire           \n",
            "precision: [0.30379747 0.5        0.17647059 0.82075472 0.44262295 0.73958333\n",
            " 0.35315985 0.50521921 0.28571429 0.33333333]\n",
            "recall:    [0.31578947 0.54782609 0.10714286 0.73314607 0.48539326 0.7029703\n",
            " 0.4185022  0.46183206 0.1875     0.41304348]\n",
            "f1 score:  [0.30967742 0.52282158 0.13333333 0.77448071 0.46302251 0.72081218\n",
            " 0.38306452 0.48255234 0.22641509 0.36893204]\n",
            "--------------------------------------------------\n",
            "Misleading Content,  False Context,  False Content, Fabricated Content, Manipulated Content, Impostor Content, Clarification, False Connection, TRUE, Satire           \n",
            "precision: [0.2        0.53777778 0.14285714 0.79378531 0.42264151 0.66666667\n",
            " 0.37391304 0.5010395  0.17391304 0.23404255]\n",
            "recall:    [0.20779221 0.52608696 0.05357143 0.7915493  0.50337079 0.68\n",
            " 0.37719298 0.45904762 0.125      0.24444444]\n",
            "f1 score:  [0.20382166 0.53186813 0.07792208 0.79266573 0.45948718 0.67326733\n",
            " 0.37554585 0.47912525 0.14545455 0.23913043]\n",
            "--------------------------------------------------\n",
            "accuracy: 50.59% (+/- 0.44%)\n",
            "precision: 42.83% (+/- 1.44%)\n",
            "recall: 42.12% (+/- 1.42%)\n",
            "f1 score: 42.19% (+/- 1.33%)\n"
          ]
        }
      ],
      "source": [
        "lr_cv(5, df.clean_text, df.sentiment, ROS_pipeline, 'macro')"
      ]
    },
    {
      "cell_type": "code",
      "execution_count": 42,
      "id": "7f53ea70",
      "metadata": {
        "colab": {
          "base_uri": "https://localhost:8080/"
        },
        "id": "7f53ea70",
        "outputId": "3372b265-3e99-46de-938f-6217025e5bbd"
      },
      "outputs": [
        {
          "output_type": "stream",
          "name": "stdout",
          "text": [
            "Misleading Content,  False Context,  False Content, Fabricated Content, Manipulated Content, Impostor Content, Clarification, False Connection, TRUE, Satire           \n",
            "precision: [0.29268293 0.45217391 0.18918919 0.78947368 0.44327731 0.57291667\n",
            " 0.33207547 0.51446281 0.20689655 0.34615385]\n",
            "recall:    [0.31578947 0.45217391 0.12727273 0.75842697 0.47522523 0.55\n",
            " 0.38596491 0.47428571 0.18181818 0.39130435]\n",
            "f1 score:  [0.30379747 0.45217391 0.15217391 0.77363897 0.45869565 0.56122449\n",
            " 0.35699797 0.49355798 0.19354839 0.36734694]\n",
            "--------------------------------------------------\n",
            "Misleading Content,  False Context,  False Content, Fabricated Content, Manipulated Content, Impostor Content, Clarification, False Connection, TRUE, Satire           \n",
            "precision: [0.26363636 0.49261084 0.20512821 0.80864198 0.46105263 0.51633987\n",
            " 0.38461538 0.54545455 0.1875     0.23076923]\n",
            "recall:    [0.38157895 0.43478261 0.14545455 0.73595506 0.49324324 0.79\n",
            " 0.35087719 0.50285714 0.18181818 0.32608696]\n",
            "f1 score:  [0.31182796 0.46189376 0.17021277 0.77058824 0.47660501 0.62450593\n",
            " 0.36697248 0.52329039 0.18461538 0.27027027]\n",
            "--------------------------------------------------\n",
            "Misleading Content,  False Context,  False Content, Fabricated Content, Manipulated Content, Impostor Content, Clarification, False Connection, TRUE, Satire           \n",
            "precision: [0.24175824 0.50840336 0.10526316 0.80428135 0.42020202 0.47552448\n",
            " 0.41743119 0.48504274 0.18518519 0.4375    ]\n",
            "recall:    [0.28947368 0.52838428 0.07142857 0.73876404 0.46846847 0.67326733\n",
            " 0.39912281 0.43238095 0.15625    0.45652174]\n",
            "f1 score:  [0.26347305 0.51820128 0.08510638 0.77013177 0.44302449 0.55737705\n",
            " 0.40807175 0.4572004  0.16949153 0.44680851]\n",
            "--------------------------------------------------\n",
            "Misleading Content,  False Context,  False Content, Fabricated Content, Manipulated Content, Impostor Content, Clarification, False Connection, TRUE, Satire           \n",
            "precision: [0.27368421 0.51012146 0.16666667 0.84039088 0.46035242 0.72380952\n",
            " 0.35       0.50627615 0.22222222 0.32758621]\n",
            "recall:    [0.34210526 0.54782609 0.125      0.7247191  0.46966292 0.75247525\n",
            " 0.43171806 0.46183206 0.1875     0.41304348]\n",
            "f1 score:  [0.30409357 0.52830189 0.14285714 0.77828054 0.46496107 0.73786408\n",
            " 0.38658777 0.48303393 0.20338983 0.36538462]\n",
            "--------------------------------------------------\n",
            "Misleading Content,  False Context,  False Content, Fabricated Content, Manipulated Content, Impostor Content, Clarification, False Connection, TRUE, Satire           \n",
            "precision: [0.20224719 0.5106383  0.11111111 0.77746479 0.43897216 0.51824818\n",
            " 0.37860082 0.51096491 0.17647059 0.24390244]\n",
            "recall:    [0.23376623 0.52173913 0.07142857 0.77746479 0.46067416 0.71\n",
            " 0.40350877 0.44380952 0.1875     0.22222222]\n",
            "f1 score:  [0.21686747 0.51612903 0.08695652 0.77746479 0.4495614  0.59915612\n",
            " 0.39065817 0.47502548 0.18181818 0.23255814]\n",
            "--------------------------------------------------\n",
            "accuracy: 49.94% (+/- 0.76%)\n",
            "precision: 41.13% (+/- 1.63%)\n",
            "recall: 42.31% (+/- 1.53%)\n",
            "f1 score: 41.43% (+/- 1.50%)\n"
          ]
        }
      ],
      "source": [
        "#SMOTE with Logistic Regression\n",
        "lr_cv(5, df.clean_text, df.sentiment, SMOTE_pipeline_lr, 'macro')\n"
      ]
    },
    {
      "cell_type": "code",
      "source": [
        "#SMOTE with Random Forest\n",
        "lr_cv(5, df.clean_text, df.sentiment, SMOTE_pipeline_rf, 'macro')\n"
      ],
      "metadata": {
        "colab": {
          "base_uri": "https://localhost:8080/"
        },
        "id": "sXDRVLfcaT0X",
        "outputId": "17a11f22-a35b-4fd8-b4de-70cd5b30c97d"
      },
      "id": "sXDRVLfcaT0X",
      "execution_count": 43,
      "outputs": [
        {
          "output_type": "stream",
          "name": "stdout",
          "text": [
            "Misleading Content,  False Context,  False Content, Fabricated Content, Manipulated Content, Impostor Content, Clarification, False Connection, TRUE, Satire           \n",
            "precision: [0.16083916 0.35582822 0.04       0.67486339 0.30140187 0.39552239\n",
            " 0.13333333 0.3559322  0.0456621  0.17045455]\n",
            "recall:    [0.30263158 0.25217391 0.03636364 0.69382022 0.58108108 0.53\n",
            " 0.00877193 0.04       0.3030303  0.32608696]\n",
            "f1 score:  [0.21004566 0.29516539 0.03809524 0.68421053 0.39692308 0.45299145\n",
            " 0.01646091 0.07191781 0.07936508 0.2238806 ]\n",
            "--------------------------------------------------\n",
            "Misleading Content,  False Context,  False Content, Fabricated Content, Manipulated Content, Impostor Content, Clarification, False Connection, TRUE, Satire           \n",
            "precision: [0.17177914 0.28244275 0.01538462 0.63231198 0.32820513 0.12793177\n",
            " 0.33333333 0.5        0.03674541 0.09375   ]\n",
            "recall:    [0.36842105 0.16086957 0.01818182 0.63764045 0.28828829 0.6\n",
            " 0.00438596 0.00380952 0.42424242 0.26086957]\n",
            "f1 score:  [0.23430962 0.20498615 0.01666667 0.63496503 0.30695444 0.21089631\n",
            " 0.00865801 0.00756144 0.06763285 0.13793103]\n",
            "--------------------------------------------------\n",
            "Misleading Content,  False Context,  False Content, Fabricated Content, Manipulated Content, Impostor Content, Clarification, False Connection, TRUE, Satire           \n",
            "precision: [0.1372549  0.3372093  0.05263158 0.68975069 0.29735683 0.10917722\n",
            " 0.6875     0.60240964 0.02873563 0.171875  ]\n",
            "recall:    [0.18421053 0.12663755 0.05357143 0.6994382  0.30405405 0.68316832\n",
            " 0.04824561 0.0952381  0.15625    0.47826087]\n",
            "f1 score:  [0.15730337 0.18412698 0.05309735 0.69456067 0.30066815 0.18826739\n",
            " 0.09016393 0.16447368 0.04854369 0.25287356]\n",
            "--------------------------------------------------\n",
            "Misleading Content,  False Context,  False Content, Fabricated Content, Manipulated Content, Impostor Content, Clarification, False Connection, TRUE, Satire           \n",
            "precision: [0.15503876 0.35955056 0.06349206 0.68319559 0.30964467 0.33974359\n",
            " 0.60869565 0.75862069 0.0625     0.13286713]\n",
            "recall:    [0.26315789 0.27826087 0.07142857 0.69662921 0.54831461 0.52475248\n",
            " 0.06167401 0.08396947 0.375      0.41304348]\n",
            "f1 score:  [0.19512195 0.31372549 0.06722689 0.68984701 0.39578264 0.41245136\n",
            " 0.112      0.15120275 0.10714286 0.2010582 ]\n",
            "--------------------------------------------------\n",
            "Misleading Content,  False Context,  False Content, Fabricated Content, Manipulated Content, Impostor Content, Clarification, False Connection, TRUE, Satire           \n",
            "precision: [0.14788732 0.39160839 0.02439024 0.71976401 0.29427083 0.3566879\n",
            " 0.         0.45454545 0.0359116  0.12903226]\n",
            "recall:    [0.27272727 0.24347826 0.01785714 0.68732394 0.50786517 0.56\n",
            " 0.         0.00952381 0.40625    0.35555556]\n",
            "f1 score:  [0.19178082 0.3002681  0.02061856 0.70317003 0.37262984 0.43579767\n",
            " 0.         0.01865672 0.06598985 0.18934911]\n",
            "--------------------------------------------------\n",
            "accuracy: 30.06% (+/- 3.59%)\n",
            "precision: 28.59% (+/- 3.74%)\n",
            "recall: 30.09% (+/- 1.96%)\n",
            "f1 score: 22.76% (+/- 2.80%)\n"
          ]
        }
      ]
    },
    {
      "cell_type": "code",
      "source": [
        "#SMOTE with KNN\n",
        "lr_cv(5, df.clean_text, df.sentiment, SMOTE_pipeline_neigh, 'macro')\n"
      ],
      "metadata": {
        "colab": {
          "base_uri": "https://localhost:8080/"
        },
        "id": "IlLJp4Vobz-n",
        "outputId": "f4a4b120-8a10-4314-c03c-ef807fee4c00"
      },
      "id": "IlLJp4Vobz-n",
      "execution_count": 44,
      "outputs": [
        {
          "output_type": "stream",
          "name": "stdout",
          "text": [
            "Misleading Content,  False Context,  False Content, Fabricated Content, Manipulated Content, Impostor Content, Clarification, False Connection, TRUE, Satire           \n",
            "precision: [0.08547009 0.53225806 0.05982906 0.41275797 0.35714286 0.29816514\n",
            " 0.21383648 0.6        0.04398148 0.2       ]\n",
            "recall:    [0.39473684 0.14347826 0.25454545 0.61797753 0.06756757 0.65\n",
            " 0.14912281 0.01714286 0.57575758 0.02173913]\n",
            "f1 score:  [0.14051522 0.2260274  0.09688581 0.49493813 0.11363636 0.40880503\n",
            " 0.17571059 0.03333333 0.08172043 0.03921569]\n",
            "--------------------------------------------------\n",
            "Misleading Content,  False Context,  False Content, Fabricated Content, Manipulated Content, Impostor Content, Clarification, False Connection, TRUE, Satire           \n",
            "precision: [0.09792285 0.25443787 0.28571429 0.38039867 0.53623188 0.23398329\n",
            " 0.14723926 1.         0.04289544 0.57142857]\n",
            "recall:    [0.43421053 0.18695652 0.03636364 0.64325843 0.08333333 0.84\n",
            " 0.10526316 0.01333333 0.48484848 0.08695652]\n",
            "f1 score:  [0.1598063  0.21553885 0.06451613 0.47807933 0.14424951 0.36601307\n",
            " 0.12276215 0.02631579 0.07881773 0.1509434 ]\n",
            "--------------------------------------------------\n",
            "Misleading Content,  False Context,  False Content, Fabricated Content, Manipulated Content, Impostor Content, Clarification, False Connection, TRUE, Satire           \n",
            "precision: [0.08423913 0.28151261 0.07860262 0.39774859 0.30769231 0.23287671\n",
            " 0.30769231 0.15789474 0.04065041 0.25      ]\n",
            "recall:    [0.40789474 0.29257642 0.32142857 0.59550562 0.01801802 0.84158416\n",
            " 0.0877193  0.00571429 0.3125     0.02173913]\n",
            "f1 score:  [0.13963964 0.2869379  0.12631579 0.47694038 0.03404255 0.36480687\n",
            " 0.13651877 0.01102941 0.07194245 0.04      ]\n",
            "--------------------------------------------------\n",
            "Misleading Content,  False Context,  False Content, Fabricated Content, Manipulated Content, Impostor Content, Clarification, False Connection, TRUE, Satire           \n",
            "precision: [0.09235669 0.28458498 0.07       0.44989339 0.40909091 0.33920705\n",
            " 0.17801047 0.71428571 0.04494382 0.66666667]\n",
            "recall:    [0.38157895 0.31304348 0.25       0.59269663 0.06067416 0.76237624\n",
            " 0.14977974 0.01908397 0.5        0.04347826]\n",
            "f1 score:  [0.14871795 0.29813665 0.109375   0.51151515 0.10567515 0.4695122\n",
            " 0.16267943 0.03717472 0.08247423 0.08163265]\n",
            "--------------------------------------------------\n",
            "Misleading Content,  False Context,  False Content, Fabricated Content, Manipulated Content, Impostor Content, Clarification, False Connection, TRUE, Satire           \n",
            "precision: [0.33333333 0.29910714 0.05177994 0.42582897 0.33823529 0.18181818\n",
            " 0.27192982 0.55555556 0.04932735 0.        ]\n",
            "recall:    [0.01298701 0.29130435 0.28571429 0.68732394 0.05168539 0.82\n",
            " 0.27192982 0.00952381 0.34375    0.        ]\n",
            "f1 score:  [0.025      0.29515419 0.08767123 0.52586207 0.08966862 0.29764065\n",
            " 0.27192982 0.01872659 0.08627451 0.        ]\n",
            "--------------------------------------------------\n",
            "accuracy: 22.86% (+/- 1.03%)\n",
            "precision: 28.50% (+/- 5.05%)\n",
            "recall: 29.12% (+/- 0.95%)\n",
            "f1 score: 18.02% (+/- 1.15%)\n"
          ]
        }
      ]
    },
    {
      "cell_type": "code",
      "source": [
        "#SMOTE with Perceptron\n",
        "lr_cv(5, df.clean_text, df.sentiment, SMOTE_pipeline_pct, 'macro')\n"
      ],
      "metadata": {
        "colab": {
          "base_uri": "https://localhost:8080/"
        },
        "id": "y4spTvI9cHGM",
        "outputId": "fa47c8d7-fae9-4496-e3ed-137fd70058fb"
      },
      "id": "y4spTvI9cHGM",
      "execution_count": 45,
      "outputs": [
        {
          "output_type": "stream",
          "name": "stdout",
          "text": [
            "Misleading Content,  False Context,  False Content, Fabricated Content, Manipulated Content, Impostor Content, Clarification, False Connection, TRUE, Satire           \n",
            "precision: [0.22       0.39351852 0.11111111 0.71204188 0.4009009  0.4587156\n",
            " 0.37356322 0.44741533 0.13888889 0.15517241]\n",
            "recall:    [0.14473684 0.36956522 0.12727273 0.76404494 0.4009009  0.5\n",
            " 0.28508772 0.47809524 0.15151515 0.19565217]\n",
            "f1 score:  [0.17460317 0.38116592 0.11864407 0.73712737 0.4009009  0.4784689\n",
            " 0.32338308 0.46224678 0.14492754 0.17307692]\n",
            "--------------------------------------------------\n",
            "Misleading Content,  False Context,  False Content, Fabricated Content, Manipulated Content, Impostor Content, Clarification, False Connection, TRUE, Satire           \n",
            "precision: [0.17741935 0.41414141 0.07246377 0.74932615 0.44723618 0.63247863\n",
            " 0.34615385 0.45819398 0.         0.21538462]\n",
            "recall:    [0.14473684 0.35652174 0.09090909 0.78089888 0.4009009  0.74\n",
            " 0.27631579 0.52190476 0.         0.30434783]\n",
            "f1 score:  [0.15942029 0.38317757 0.08064516 0.7647868  0.42280285 0.68202765\n",
            " 0.30731707 0.48797863 0.         0.25225225]\n",
            "--------------------------------------------------\n",
            "Misleading Content,  False Context,  False Content, Fabricated Content, Manipulated Content, Impostor Content, Clarification, False Connection, TRUE, Satire           \n",
            "precision: [0.2345679  0.42060086 0.07843137 0.72307692 0.40540541 0.59615385\n",
            " 0.32820513 0.44326241 0.07142857 0.225     ]\n",
            "recall:    [0.25       0.4279476  0.07142857 0.79213483 0.37162162 0.61386139\n",
            " 0.28070175 0.47619048 0.0625     0.19565217]\n",
            "f1 score:  [0.24203822 0.42424242 0.07476636 0.75603217 0.38777908 0.60487805\n",
            " 0.30260047 0.45913682 0.06666667 0.20930233]\n",
            "--------------------------------------------------\n",
            "Misleading Content,  False Context,  False Content, Fabricated Content, Manipulated Content, Impostor Content, Clarification, False Connection, TRUE, Satire           \n",
            "precision: [0.14814815 0.46305419 0.09677419 0.74639769 0.40471092 0.60194175\n",
            " 0.33050847 0.43893805 0.1        0.21052632]\n",
            "recall:    [0.10526316 0.40869565 0.05357143 0.72752809 0.4247191  0.61386139\n",
            " 0.34361233 0.47328244 0.09375    0.26086957]\n",
            "f1 score:  [0.12307692 0.43418014 0.06896552 0.73684211 0.41447368 0.60784314\n",
            " 0.33693305 0.45546373 0.09677419 0.23300971]\n",
            "--------------------------------------------------\n",
            "Misleading Content,  False Context,  False Content, Fabricated Content, Manipulated Content, Impostor Content, Clarification, False Connection, TRUE, Satire           \n",
            "precision: [0.14516129 0.45564516 0.05555556 0.744      0.40313112 0.62222222\n",
            " 0.34653465 0.43113772 0.08695652 0.24444444]\n",
            "recall:    [0.11688312 0.49130435 0.03571429 0.78591549 0.46292135 0.56\n",
            " 0.30701754 0.41142857 0.0625     0.24444444]\n",
            "f1 score:  [0.1294964  0.47280335 0.04347826 0.76438356 0.43096234 0.58947368\n",
            " 0.3255814  0.42105263 0.07272727 0.24444444]\n",
            "--------------------------------------------------\n",
            "accuracy: 45.74% (+/- 0.71%)\n",
            "precision: 35.05% (+/- 0.48%)\n",
            "recall: 35.12% (+/- 0.66%)\n",
            "f1 score: 34.93% (+/- 0.52%)\n"
          ]
        }
      ]
    },
    {
      "cell_type": "code",
      "source": [
        "#SMOTE with SGD\n",
        "lr_cv(5, df.clean_text, df.sentiment, SMOTE_pipeline_sgd, 'macro')\n"
      ],
      "metadata": {
        "colab": {
          "base_uri": "https://localhost:8080/"
        },
        "id": "CyUo82qRe7T0",
        "outputId": "872a3338-7193-4234-f743-4590336145f5"
      },
      "id": "CyUo82qRe7T0",
      "execution_count": 46,
      "outputs": [
        {
          "output_type": "stream",
          "name": "stdout",
          "text": [
            "Misleading Content,  False Context,  False Content, Fabricated Content, Manipulated Content, Impostor Content, Clarification, False Connection, TRUE, Satire           \n",
            "precision: [0.21052632 0.38110749 0.09615385 0.72916667 0.52159468 0.48623853\n",
            " 0.36507937 0.55347594 0.13793103 0.28169014]\n",
            "recall:    [0.36842105 0.50869565 0.18181818 0.78651685 0.3536036  0.53\n",
            " 0.40350877 0.39428571 0.24242424 0.43478261]\n",
            "f1 score:  [0.26794258 0.43575419 0.12578616 0.75675676 0.42147651 0.50717703\n",
            " 0.38333333 0.46051168 0.17582418 0.34188034]\n",
            "--------------------------------------------------\n",
            "Misleading Content,  False Context,  False Content, Fabricated Content, Manipulated Content, Impostor Content, Clarification, False Connection, TRUE, Satire           \n",
            "precision: [0.20245399 0.41700405 0.12244898 0.76731302 0.46130952 0.55172414\n",
            " 0.36744186 0.54707379 0.09259259 0.19753086]\n",
            "recall:    [0.43421053 0.44782609 0.21818182 0.77808989 0.3490991  0.8\n",
            " 0.34649123 0.40952381 0.15151515 0.34782609]\n",
            "f1 score:  [0.27615063 0.43186583 0.15686275 0.77266388 0.3974359  0.65306122\n",
            " 0.35665914 0.46840959 0.11494253 0.2519685 ]\n",
            "--------------------------------------------------\n",
            "Misleading Content,  False Context,  False Content, Fabricated Content, Manipulated Content, Impostor Content, Clarification, False Connection, TRUE, Satire           \n",
            "precision: [0.19047619 0.42279412 0.10576923 0.75706215 0.44117647 0.5037594\n",
            " 0.36363636 0.53513514 0.14       0.27142857]\n",
            "recall:    [0.36842105 0.50218341 0.19642857 0.75280899 0.33783784 0.66336634\n",
            " 0.40350877 0.37714286 0.21875    0.41304348]\n",
            "f1 score:  [0.25112108 0.45908184 0.1375     0.75492958 0.38265306 0.57264957\n",
            " 0.38253638 0.4424581  0.17073171 0.32758621]\n",
            "--------------------------------------------------\n",
            "Misleading Content,  False Context,  False Content, Fabricated Content, Manipulated Content, Impostor Content, Clarification, False Connection, TRUE, Satire           \n",
            "precision: [0.19685039 0.4334471  0.11458333 0.78571429 0.49090909 0.64912281\n",
            " 0.32352941 0.53263708 0.12       0.19565217]\n",
            "recall:    [0.32894737 0.55217391 0.19642857 0.74157303 0.36404494 0.73267327\n",
            " 0.3876652  0.38931298 0.1875     0.39130435]\n",
            "f1 score:  [0.24630542 0.48565966 0.14473684 0.76300578 0.41806452 0.68837209\n",
            " 0.35270541 0.44983462 0.14634146 0.26086957]\n",
            "--------------------------------------------------\n",
            "Misleading Content,  False Context,  False Content, Fabricated Content, Manipulated Content, Impostor Content, Clarification, False Connection, TRUE, Satire           \n",
            "precision: [0.125      0.48484848 0.06741573 0.7244898  0.44475138 0.55813953\n",
            " 0.3515625  0.52857143 0.13636364 0.15189873]\n",
            "recall:    [0.20779221 0.55652174 0.10714286 0.8        0.36179775 0.72\n",
            " 0.39473684 0.35238095 0.1875     0.26666667]\n",
            "f1 score:  [0.15609756 0.51821862 0.08275862 0.76037483 0.39900867 0.62882096\n",
            " 0.37190083 0.42285714 0.15789474 0.19354839]\n",
            "--------------------------------------------------\n",
            "accuracy: 46.26% (+/- 0.44%)\n",
            "precision: 37.27% (+/- 0.88%)\n",
            "recall: 41.89% (+/- 1.21%)\n",
            "f1 score: 38.57% (+/- 0.88%)\n"
          ]
        }
      ]
    },
    {
      "cell_type": "markdown",
      "source": [
        "## Downsampling"
      ],
      "metadata": {
        "id": "02mOxH4AdbbZ"
      },
      "id": "02mOxH4AdbbZ"
    },
    {
      "cell_type": "code",
      "source": [
        "from imblearn.under_sampling import NearMiss, RandomUnderSampler\n",
        "from imblearn import under_sampling as us\n",
        "\n",
        "RUS_pipeline = make_pipeline(tvec, RandomUnderSampler(random_state=777),lr)\n",
        "NM1_pipeline = make_pipeline(tvec, NearMiss(sampling_strategy='not minority', version = 1),lr)\n",
        "NM2_pipeline = make_pipeline(tvec, NearMiss(sampling_strategy='not minority', version = 2),lr)\n",
        "NM3_pipeline = make_pipeline(tvec, NearMiss(sampling_strategy='not minority', version = 3, n_neighbors_ver3=4),lr)"
      ],
      "metadata": {
        "id": "cEBgzBHydl2u"
      },
      "id": "cEBgzBHydl2u",
      "execution_count": 47,
      "outputs": []
    },
    {
      "cell_type": "markdown",
      "source": [
        "### RandomUnderSampler\n"
      ],
      "metadata": {
        "id": "CEaMIdCJdgor"
      },
      "id": "CEaMIdCJdgor"
    },
    {
      "cell_type": "code",
      "source": [
        "lr_cv(5, df.clean_text, df.sentiment, RUS_pipeline, 'macro')\n"
      ],
      "metadata": {
        "colab": {
          "base_uri": "https://localhost:8080/"
        },
        "id": "oJs8gWAjdi_h",
        "outputId": "0b00d8f3-0d9a-4d72-babd-8c4d124f4aec"
      },
      "id": "oJs8gWAjdi_h",
      "execution_count": 48,
      "outputs": [
        {
          "output_type": "stream",
          "name": "stdout",
          "text": [
            "Misleading Content,  False Context,  False Content, Fabricated Content, Manipulated Content, Impostor Content, Clarification, False Connection, TRUE, Satire           \n",
            "precision: [0.14572864 0.39055794 0.08029197 0.76086957 0.47590361 0.44915254\n",
            " 0.30057803 0.56666667 0.0787037  0.17105263]\n",
            "recall:    [0.38157895 0.39565217 0.4        0.68820225 0.17792793 0.53\n",
            " 0.22807018 0.25904762 0.51515152 0.56521739]\n",
            "f1 score:  [0.21090909 0.39308855 0.1337386  0.72271386 0.25901639 0.48623853\n",
            " 0.25935162 0.35555556 0.13654618 0.26262626]\n",
            "--------------------------------------------------\n",
            "Misleading Content,  False Context,  False Content, Fabricated Content, Manipulated Content, Impostor Content, Clarification, False Connection, TRUE, Satire           \n",
            "precision: [0.17209302 0.44390244 0.09659091 0.68468468 0.44166667 0.65178571\n",
            " 0.304      0.53874539 0.05947955 0.14285714]\n",
            "recall:    [0.48684211 0.39565217 0.30909091 0.64044944 0.23873874 0.73\n",
            " 0.16666667 0.27809524 0.48484848 0.45652174]\n",
            "f1 score:  [0.25429553 0.4183908  0.14718615 0.66182874 0.30994152 0.68867925\n",
            " 0.21529745 0.36683417 0.10596026 0.21761658]\n",
            "--------------------------------------------------\n",
            "Misleading Content,  False Context,  False Content, Fabricated Content, Manipulated Content, Impostor Content, Clarification, False Connection, TRUE, Satire           \n",
            "precision: [0.13469388 0.44270833 0.08363636 0.71676301 0.38095238 0.53731343\n",
            " 0.28571429 0.53543307 0.055      0.17266187]\n",
            "recall:    [0.43421053 0.37117904 0.41071429 0.69662921 0.16216216 0.71287129\n",
            " 0.14912281 0.25904762 0.34375    0.52173913]\n",
            "f1 score:  [0.20560748 0.40380048 0.13897281 0.70655271 0.22748815 0.61276596\n",
            " 0.19596542 0.3491656  0.09482759 0.25945946]\n",
            "--------------------------------------------------\n",
            "Misleading Content,  False Context,  False Content, Fabricated Content, Manipulated Content, Impostor Content, Clarification, False Connection, TRUE, Satire           \n",
            "precision: [0.14027149 0.40598291 0.07539683 0.76065574 0.42580645 0.57352941\n",
            " 0.27922078 0.48356808 0.05555556 0.19607843]\n",
            "recall:    [0.40789474 0.41304348 0.33928571 0.65168539 0.14831461 0.77227723\n",
            " 0.18942731 0.19656489 0.46875    0.65217391]\n",
            "f1 score:  [0.20875421 0.40948276 0.12337662 0.70196672 0.22       0.65822785\n",
            " 0.22572178 0.27951153 0.09933775 0.30150754]\n",
            "--------------------------------------------------\n",
            "Misleading Content,  False Context,  False Content, Fabricated Content, Manipulated Content, Impostor Content, Clarification, False Connection, TRUE, Satire           \n",
            "precision: [0.13756614 0.46766169 0.07272727 0.64987406 0.41293532 0.55932203\n",
            " 0.36458333 0.47844828 0.05863192 0.10606061]\n",
            "recall:    [0.33766234 0.40869565 0.28571429 0.72676056 0.18651685 0.66\n",
            " 0.15350877 0.21142857 0.5625     0.31111111]\n",
            "f1 score:  [0.19548872 0.4361949  0.11594203 0.68617021 0.25696594 0.60550459\n",
            " 0.21604938 0.29326288 0.10619469 0.15819209]\n",
            "--------------------------------------------------\n",
            "accuracy: 35.30% (+/- 1.03%)\n",
            "precision: 34.01% (+/- 0.78%)\n",
            "recall: 40.94% (+/- 1.38%)\n",
            "f1 score: 32.20% (+/- 1.01%)\n"
          ]
        }
      ]
    },
    {
      "cell_type": "markdown",
      "source": [
        "## Near Miss"
      ],
      "metadata": {
        "id": "bE9lmb6dgdP7"
      },
      "id": "bE9lmb6dgdP7"
    },
    {
      "cell_type": "markdown",
      "source": [
        "### Near Miss 1"
      ],
      "metadata": {
        "id": "FDxIJ6GWggZi"
      },
      "id": "FDxIJ6GWggZi"
    },
    {
      "cell_type": "code",
      "source": [
        "lr_cv(5, df.clean_text, df.sentiment, NM1_pipeline, 'macro')\n"
      ],
      "metadata": {
        "colab": {
          "base_uri": "https://localhost:8080/"
        },
        "id": "1E1rLmqZgcHu",
        "outputId": "85c8674a-83e1-4a07-c95c-c6e97af6e7c2"
      },
      "id": "1E1rLmqZgcHu",
      "execution_count": 49,
      "outputs": [
        {
          "output_type": "stream",
          "name": "stdout",
          "text": [
            "Misleading Content,  False Context,  False Content, Fabricated Content, Manipulated Content, Impostor Content, Clarification, False Connection, TRUE, Satire           \n",
            "precision: [0.09033613 0.39393939 0.06286837 0.80952381 0.48529412 0.4\n",
            " 0.31007752 0.44318182 0.06849315 0.14465409]\n",
            "recall:    [0.56578947 0.22608696 0.58181818 0.66853933 0.07432432 0.66\n",
            " 0.1754386  0.07428571 0.15151515 0.5       ]\n",
            "f1 score:  [0.1557971  0.28729282 0.11347518 0.73230769 0.12890625 0.49811321\n",
            " 0.22408964 0.12724307 0.09433962 0.22439024]\n",
            "--------------------------------------------------\n",
            "Misleading Content,  False Context,  False Content, Fabricated Content, Manipulated Content, Impostor Content, Clarification, False Connection, TRUE, Satire           \n",
            "precision: [0.08348457 0.325      0.0616622  0.75       0.45689655 0.41052632\n",
            " 0.38834951 0.48387097 0.075      0.12903226]\n",
            "recall:    [0.60526316 0.16956522 0.41818182 0.65730337 0.11936937 0.78\n",
            " 0.1754386  0.05714286 0.18181818 0.52173913]\n",
            "f1 score:  [0.14673046 0.22285714 0.10747664 0.7005988  0.18928571 0.53793103\n",
            " 0.24169184 0.10221465 0.10619469 0.20689655]\n",
            "--------------------------------------------------\n",
            "Misleading Content,  False Context,  False Content, Fabricated Content, Manipulated Content, Impostor Content, Clarification, False Connection, TRUE, Satire           \n",
            "precision: [0.09272727 0.19626168 0.06693712 0.86567164 0.41584158 0.35416667\n",
            " 0.38947368 0.54545455 0.10869565 0.1319797 ]\n",
            "recall:    [0.67105263 0.09170306 0.58928571 0.65168539 0.09459459 0.67326733\n",
            " 0.1622807  0.04571429 0.15625    0.56521739]\n",
            "f1 score:  [0.1629393  0.125      0.12021858 0.74358974 0.15412844 0.46416382\n",
            " 0.22910217 0.08435852 0.12820513 0.21399177]\n",
            "--------------------------------------------------\n",
            "Misleading Content,  False Context,  False Content, Fabricated Content, Manipulated Content, Impostor Content, Clarification, False Connection, TRUE, Satire           \n",
            "precision: [0.08712871 0.30275229 0.05542169 0.83520599 0.5        0.365\n",
            " 0.34814815 0.46031746 0.08474576 0.12393162]\n",
            "recall:    [0.57894737 0.14347826 0.41071429 0.62640449 0.11910112 0.72277228\n",
            " 0.20704846 0.05534351 0.15625    0.63043478]\n",
            "f1 score:  [0.15146299 0.19469027 0.09766454 0.71589085 0.1923775  0.48504983\n",
            " 0.25966851 0.0988075  0.10989011 0.20714286]\n",
            "--------------------------------------------------\n",
            "Misleading Content,  False Context,  False Content, Fabricated Content, Manipulated Content, Impostor Content, Clarification, False Connection, TRUE, Satire           \n",
            "precision: [0.10147992 0.29661017 0.0554371  0.76797386 0.44954128 0.37172775\n",
            " 0.41176471 0.46153846 0.0877193  0.12426036]\n",
            "recall:    [0.62337662 0.15217391 0.46428571 0.66197183 0.11011236 0.71\n",
            " 0.24561404 0.05714286 0.15625    0.46666667]\n",
            "f1 score:  [0.17454545 0.20114943 0.09904762 0.71104387 0.17689531 0.48797251\n",
            " 0.30769231 0.10169492 0.11235955 0.19626168]\n",
            "--------------------------------------------------\n",
            "accuracy: 26.93% (+/- 0.65%)\n",
            "precision: 31.66% (+/- 0.26%)\n",
            "recall: 36.73% (+/- 0.21%)\n",
            "f1 score: 25.31% (+/- 0.58%)\n"
          ]
        }
      ]
    },
    {
      "cell_type": "markdown",
      "source": [
        "## Near Miss 2"
      ],
      "metadata": {
        "id": "4IIRXyu8gsO9"
      },
      "id": "4IIRXyu8gsO9"
    },
    {
      "cell_type": "code",
      "source": [
        "lr_cv(5, df.clean_text, df.sentiment, NM2_pipeline, 'macro')\n"
      ],
      "metadata": {
        "colab": {
          "base_uri": "https://localhost:8080/"
        },
        "id": "03CFYJfufeF3",
        "outputId": "49dd0e71-8727-4b44-f0cd-d7f96f33d709"
      },
      "id": "03CFYJfufeF3",
      "execution_count": 50,
      "outputs": [
        {
          "output_type": "stream",
          "name": "stdout",
          "text": [
            "Misleading Content,  False Context,  False Content, Fabricated Content, Manipulated Content, Impostor Content, Clarification, False Connection, TRUE, Satire           \n",
            "precision: [0.14864865 0.46540881 0.064      0.79530201 0.44347826 0.47826087\n",
            " 0.23493976 0.51707317 0.06097561 0.14583333]\n",
            "recall:    [0.43421053 0.32173913 0.43636364 0.66573034 0.11486486 0.55\n",
            " 0.17105263 0.20190476 0.45454545 0.60869565]\n",
            "f1 score:  [0.22147651 0.38046272 0.11162791 0.72477064 0.18246869 0.51162791\n",
            " 0.19796954 0.29041096 0.10752688 0.23529412]\n",
            "--------------------------------------------------\n",
            "Misleading Content,  False Context,  False Content, Fabricated Content, Manipulated Content, Impostor Content, Clarification, False Connection, TRUE, Satire           \n",
            "precision: [0.1259542  0.43125    0.07536232 0.79411765 0.41578947 0.58461538\n",
            " 0.26666667 0.54245283 0.05394191 0.14204545]\n",
            "recall:    [0.43421053 0.3        0.47272727 0.60674157 0.17792793 0.76\n",
            " 0.12280702 0.21904762 0.39393939 0.54347826]\n",
            "f1 score:  [0.19526627 0.35384615 0.13       0.68789809 0.24921136 0.66086957\n",
            " 0.16816817 0.31207598 0.09489051 0.22522523]\n",
            "--------------------------------------------------\n",
            "Misleading Content,  False Context,  False Content, Fabricated Content, Manipulated Content, Impostor Content, Clarification, False Connection, TRUE, Satire           \n",
            "precision: [0.13157895 0.46486486 0.07906977 0.85036496 0.35582822 0.55555556\n",
            " 0.34351145 0.546875   0.06565657 0.14857143]\n",
            "recall:    [0.39473684 0.37554585 0.60714286 0.65449438 0.13063063 0.64356436\n",
            " 0.19736842 0.2        0.40625    0.56521739]\n",
            "f1 score:  [0.19736842 0.41545894 0.1399177  0.73968254 0.19110379 0.59633028\n",
            " 0.25069638 0.29288703 0.11304348 0.23529412]\n",
            "--------------------------------------------------\n",
            "Misleading Content,  False Context,  False Content, Fabricated Content, Manipulated Content, Impostor Content, Clarification, False Connection, TRUE, Satire           \n",
            "precision: [0.12       0.48502994 0.0623053  0.89754098 0.43859649 0.57936508\n",
            " 0.29347826 0.55721393 0.0733945  0.17741935]\n",
            "recall:    [0.43421053 0.35217391 0.35714286 0.61516854 0.16853933 0.72277228\n",
            " 0.23788546 0.21374046 0.5        0.7173913 ]\n",
            "f1 score:  [0.18803419 0.40806045 0.1061008  0.73       0.24350649 0.64317181\n",
            " 0.26277372 0.30896552 0.128      0.28448276]\n",
            "--------------------------------------------------\n",
            "Misleading Content,  False Context,  False Content, Fabricated Content, Manipulated Content, Impostor Content, Clarification, False Connection, TRUE, Satire           \n",
            "precision: [0.13513514 0.49418605 0.06718346 0.79470199 0.35828877 0.5862069\n",
            " 0.35897436 0.52717391 0.07317073 0.14814815]\n",
            "recall:    [0.38961039 0.36956522 0.46428571 0.67605634 0.1505618  0.68\n",
            " 0.24561404 0.1847619  0.46875    0.53333333]\n",
            "f1 score:  [0.2006689  0.42288557 0.11738149 0.73059361 0.21202532 0.62962963\n",
            " 0.29166667 0.27362482 0.12658228 0.23188406]\n",
            "--------------------------------------------------\n",
            "accuracy: 33.07% (+/- 0.93%)\n",
            "precision: 35.11% (+/- 1.12%)\n",
            "recall: 41.29% (+/- 1.25%)\n",
            "f1 score: 31.51% (+/- 1.20%)\n"
          ]
        }
      ]
    },
    {
      "cell_type": "markdown",
      "source": [
        "### Near Miss 3"
      ],
      "metadata": {
        "id": "elTgR9T6gyOo"
      },
      "id": "elTgR9T6gyOo"
    },
    {
      "cell_type": "code",
      "source": [
        "lr_cv(5, df.clean_text, df.sentiment, NM3_pipeline, 'macro')\n"
      ],
      "metadata": {
        "colab": {
          "base_uri": "https://localhost:8080/"
        },
        "id": "rkXqy08Lg0bZ",
        "outputId": "1242b932-43c2-4779-9639-3069dad6f7d1"
      },
      "id": "rkXqy08Lg0bZ",
      "execution_count": 51,
      "outputs": [
        {
          "output_type": "stream",
          "name": "stderr",
          "text": [
            "/usr/local/lib/python3.8/dist-packages/imblearn/under_sampling/_prototype_selection/_nearmiss.py:175: UserWarning: The number of the samples to be selected is larger than the number of samples available. The balancing ratio cannot be ensure and all samples will be returned.\n",
            "  warnings.warn(\n",
            "/usr/local/lib/python3.8/dist-packages/sklearn/metrics/_classification.py:1318: UndefinedMetricWarning: Precision is ill-defined and being set to 0.0 in labels with no predicted samples. Use `zero_division` parameter to control this behavior.\n",
            "  _warn_prf(average, modifier, msg_start, len(result))\n",
            "/usr/local/lib/python3.8/dist-packages/sklearn/metrics/_classification.py:1318: UndefinedMetricWarning: Precision is ill-defined and being set to 0.0 in labels with no predicted samples. Use `zero_division` parameter to control this behavior.\n",
            "  _warn_prf(average, modifier, msg_start, len(result))\n"
          ]
        },
        {
          "output_type": "stream",
          "name": "stdout",
          "text": [
            "Misleading Content,  False Context,  False Content, Fabricated Content, Manipulated Content, Impostor Content, Clarification, False Connection, TRUE, Satire           \n",
            "precision: [0.09935897 0.35202492 0.06666667 0.         0.45945946 0.48\n",
            " 0.26582278 0.37417219 0.06770833 0.13541667]\n",
            "recall:    [0.40789474 0.49130435 0.45454545 0.         0.03828829 0.6\n",
            " 0.27631579 0.2152381  0.39393939 0.56521739]\n",
            "f1 score:  [0.15979381 0.41016334 0.11627907 0.         0.07068607 0.53333333\n",
            " 0.27096774 0.2732769  0.11555556 0.21848739]\n",
            "--------------------------------------------------\n"
          ]
        },
        {
          "output_type": "stream",
          "name": "stderr",
          "text": [
            "/usr/local/lib/python3.8/dist-packages/imblearn/under_sampling/_prototype_selection/_nearmiss.py:175: UserWarning: The number of the samples to be selected is larger than the number of samples available. The balancing ratio cannot be ensure and all samples will be returned.\n",
            "  warnings.warn(\n",
            "/usr/local/lib/python3.8/dist-packages/sklearn/metrics/_classification.py:1318: UndefinedMetricWarning: Precision is ill-defined and being set to 0.0 in labels with no predicted samples. Use `zero_division` parameter to control this behavior.\n",
            "  _warn_prf(average, modifier, msg_start, len(result))\n",
            "/usr/local/lib/python3.8/dist-packages/sklearn/metrics/_classification.py:1318: UndefinedMetricWarning: Precision is ill-defined and being set to 0.0 in labels with no predicted samples. Use `zero_division` parameter to control this behavior.\n",
            "  _warn_prf(average, modifier, msg_start, len(result))\n"
          ]
        },
        {
          "output_type": "stream",
          "name": "stdout",
          "text": [
            "Misleading Content,  False Context,  False Content, Fabricated Content, Manipulated Content, Impostor Content, Clarification, False Connection, TRUE, Satire           \n",
            "precision: [0.09004739 0.30372493 0.05445545 0.         0.37894737 0.\n",
            " 0.22966507 0.41732283 0.08536585 0.12280702]\n",
            "recall:    [0.5        0.46086957 0.4        0.         0.16216216 0.\n",
            " 0.21052632 0.10095238 0.42424242 0.60869565]\n",
            "f1 score:  [0.15261044 0.36614853 0.09586057 0.         0.22712934 0.\n",
            " 0.21967963 0.16257669 0.14213198 0.20437956]\n",
            "--------------------------------------------------\n"
          ]
        },
        {
          "output_type": "stream",
          "name": "stderr",
          "text": [
            "/usr/local/lib/python3.8/dist-packages/imblearn/under_sampling/_prototype_selection/_nearmiss.py:175: UserWarning: The number of the samples to be selected is larger than the number of samples available. The balancing ratio cannot be ensure and all samples will be returned.\n",
            "  warnings.warn(\n",
            "/usr/local/lib/python3.8/dist-packages/sklearn/metrics/_classification.py:1318: UndefinedMetricWarning: Precision is ill-defined and being set to 0.0 in labels with no predicted samples. Use `zero_division` parameter to control this behavior.\n",
            "  _warn_prf(average, modifier, msg_start, len(result))\n",
            "/usr/local/lib/python3.8/dist-packages/sklearn/metrics/_classification.py:1318: UndefinedMetricWarning: Precision is ill-defined and being set to 0.0 in labels with no predicted samples. Use `zero_division` parameter to control this behavior.\n",
            "  _warn_prf(average, modifier, msg_start, len(result))\n"
          ]
        },
        {
          "output_type": "stream",
          "name": "stdout",
          "text": [
            "Misleading Content,  False Context,  False Content, Fabricated Content, Manipulated Content, Impostor Content, Clarification, False Connection, TRUE, Satire           \n",
            "precision: [0.08270677 0.30670103 0.06268657 0.         0.29365079 0.\n",
            " 0.19251337 0.51807229 0.048583   0.12376238]\n",
            "recall:    [0.43421053 0.51965066 0.375      0.         0.16666667 0.\n",
            " 0.15789474 0.08190476 0.375      0.54347826]\n",
            "f1 score:  [0.13894737 0.38573744 0.10741688 0.         0.21264368 0.\n",
            " 0.17349398 0.14144737 0.08602151 0.2016129 ]\n",
            "--------------------------------------------------\n"
          ]
        },
        {
          "output_type": "stream",
          "name": "stderr",
          "text": [
            "/usr/local/lib/python3.8/dist-packages/imblearn/under_sampling/_prototype_selection/_nearmiss.py:175: UserWarning: The number of the samples to be selected is larger than the number of samples available. The balancing ratio cannot be ensure and all samples will be returned.\n",
            "  warnings.warn(\n",
            "/usr/local/lib/python3.8/dist-packages/sklearn/metrics/_classification.py:1318: UndefinedMetricWarning: Precision is ill-defined and being set to 0.0 in labels with no predicted samples. Use `zero_division` parameter to control this behavior.\n",
            "  _warn_prf(average, modifier, msg_start, len(result))\n",
            "/usr/local/lib/python3.8/dist-packages/sklearn/metrics/_classification.py:1318: UndefinedMetricWarning: Precision is ill-defined and being set to 0.0 in labels with no predicted samples. Use `zero_division` parameter to control this behavior.\n",
            "  _warn_prf(average, modifier, msg_start, len(result))\n"
          ]
        },
        {
          "output_type": "stream",
          "name": "stdout",
          "text": [
            "Misleading Content,  False Context,  False Content, Fabricated Content, Manipulated Content, Impostor Content, Clarification, False Connection, TRUE, Satire           \n",
            "precision: [0.10601719 0.29501916 0.0472973  0.         0.36912752 0.48951049\n",
            " 0.23529412 0.39754098 0.05128205 0.15422886]\n",
            "recall:    [0.48684211 0.33478261 0.25       0.         0.12359551 0.69306931\n",
            " 0.26431718 0.1851145  0.3125     0.67391304]\n",
            "f1 score:  [0.17411765 0.31364562 0.07954545 0.         0.18518519 0.57377049\n",
            " 0.24896266 0.25260417 0.08810573 0.25101215]\n",
            "--------------------------------------------------\n"
          ]
        },
        {
          "output_type": "stream",
          "name": "stderr",
          "text": [
            "/usr/local/lib/python3.8/dist-packages/imblearn/under_sampling/_prototype_selection/_nearmiss.py:175: UserWarning: The number of the samples to be selected is larger than the number of samples available. The balancing ratio cannot be ensure and all samples will be returned.\n",
            "  warnings.warn(\n"
          ]
        },
        {
          "output_type": "stream",
          "name": "stdout",
          "text": [
            "Misleading Content,  False Context,  False Content, Fabricated Content, Manipulated Content, Impostor Content, Clarification, False Connection, TRUE, Satire           \n",
            "precision: [0.09090909 0.35014006 0.05093834 0.         0.3304721  0.\n",
            " 0.21800948 0.5049505  0.05797101 0.10362694]\n",
            "recall:    [0.49350649 0.54347826 0.33928571 0.         0.17303371 0.\n",
            " 0.20175439 0.09714286 0.375      0.44444444]\n",
            "f1 score:  [0.15353535 0.42589438 0.08857809 0.         0.22713864 0.\n",
            " 0.2095672  0.1629393  0.10041841 0.16806723]\n",
            "--------------------------------------------------\n",
            "accuracy: 19.53% (+/- 1.89%)\n",
            "precision: 18.93% (+/- 2.75%)\n",
            "recall: 29.91% (+/- 3.31%)\n",
            "f1 score: 17.78% (+/- 3.21%)\n"
          ]
        },
        {
          "output_type": "stream",
          "name": "stderr",
          "text": [
            "/usr/local/lib/python3.8/dist-packages/sklearn/metrics/_classification.py:1318: UndefinedMetricWarning: Precision is ill-defined and being set to 0.0 in labels with no predicted samples. Use `zero_division` parameter to control this behavior.\n",
            "  _warn_prf(average, modifier, msg_start, len(result))\n",
            "/usr/local/lib/python3.8/dist-packages/sklearn/metrics/_classification.py:1318: UndefinedMetricWarning: Precision is ill-defined and being set to 0.0 in labels with no predicted samples. Use `zero_division` parameter to control this behavior.\n",
            "  _warn_prf(average, modifier, msg_start, len(result))\n"
          ]
        }
      ]
    },
    {
      "cell_type": "code",
      "source": [
        "from collections import Counter\n",
        "\n",
        "nm3 = NearMiss(sampling_strategy='not minority', version=3, n_neighbors_ver3=4)\n",
        "tvec = TfidfVectorizer(stop_words=None, max_features=100000, ngram_range=(1, 3))\n",
        "df_tfidf = tvec.fit_transform(df.clean_text)\n",
        "X_res, y_res = nm3.fit_resample(df_tfidf, df.sentiment)\n",
        "print('Distribution before NearMiss-3: {}'.format(Counter(df.sentiment)))\n",
        "print('Distribution after NearMiss-3: {}'.format(Counter(y_res)))"
      ],
      "metadata": {
        "colab": {
          "base_uri": "https://localhost:8080/"
        },
        "id": "IWbgl_iPg34S",
        "outputId": "c5092740-8ad4-4c8a-dc03-1a3413f94c3e"
      },
      "id": "IWbgl_iPg34S",
      "execution_count": 52,
      "outputs": [
        {
          "output_type": "stream",
          "name": "stdout",
          "text": [
            "Distribution before NearMiss-3: Counter({'Misleading Content': 2624, 'False Context': 2222, 'False Content': 1779, 'Fabricated Content': 1149, 'Manipulated Content': 1139, 'Impostor Content': 502, 'Clarification': 381, 'False Connection': 278, 'TRUE': 229, 'Satire': 162})\n",
            "Distribution after NearMiss-3: Counter({'Clarification': 162, 'Fabricated Content': 162, 'False Connection': 162, 'False Context': 162, 'Manipulated Content': 162, 'Satire': 162, 'TRUE': 162, 'Misleading Content': 139, 'False Content': 10, 'Impostor Content': 4})\n"
          ]
        },
        {
          "output_type": "stream",
          "name": "stderr",
          "text": [
            "/usr/local/lib/python3.8/dist-packages/imblearn/under_sampling/_prototype_selection/_nearmiss.py:175: UserWarning: The number of the samples to be selected is larger than the number of samples available. The balancing ratio cannot be ensure and all samples will be returned.\n",
            "  warnings.warn(\n"
          ]
        }
      ]
    },
    {
      "cell_type": "code",
      "source": [
        "from collections import Counter\n",
        "\n",
        "nm2 = NearMiss(sampling_strategy='not minority', version=2, n_neighbors_ver3=4)\n",
        "tvec = TfidfVectorizer(stop_words=None, max_features=100000, ngram_range=(1, 3))\n",
        "df_tfidf = tvec.fit_transform(df.clean_text)\n",
        "X_res, y_res = nm2.fit_resample(df_tfidf, df.sentiment)\n",
        "print('Distribution before NearMiss-2: {}'.format(Counter(df.sentiment)))\n",
        "print('Distribution after NearMiss-2: {}'.format(Counter(y_res)))"
      ],
      "metadata": {
        "id": "tf2Ovy2SmnNy",
        "colab": {
          "base_uri": "https://localhost:8080/"
        },
        "outputId": "dd72683b-5e7f-438a-d453-3245ccb1b6a1"
      },
      "id": "tf2Ovy2SmnNy",
      "execution_count": 53,
      "outputs": [
        {
          "output_type": "stream",
          "name": "stdout",
          "text": [
            "Distribution before NearMiss-2: Counter({'Misleading Content': 2624, 'False Context': 2222, 'False Content': 1779, 'Fabricated Content': 1149, 'Manipulated Content': 1139, 'Impostor Content': 502, 'Clarification': 381, 'False Connection': 278, 'TRUE': 229, 'Satire': 162})\n",
            "Distribution after NearMiss-2: Counter({'Clarification': 162, 'Fabricated Content': 162, 'False Connection': 162, 'False Content': 162, 'False Context': 162, 'Impostor Content': 162, 'Manipulated Content': 162, 'Misleading Content': 162, 'Satire': 162, 'TRUE': 162})\n"
          ]
        }
      ]
    },
    {
      "cell_type": "code",
      "source": [
        "from collections import Counter\n",
        "\n",
        "nm1 = NearMiss(sampling_strategy='not minority', version=1, n_neighbors_ver3=4)\n",
        "tvec = TfidfVectorizer(stop_words=None, max_features=100000, ngram_range=(1, 3))\n",
        "df_tfidf = tvec.fit_transform(df.clean_text)\n",
        "X_res, y_res = nm1.fit_resample(df_tfidf, df.sentiment)\n",
        "print('Distribution before NearMiss-1: {}'.format(Counter(df.sentiment)))\n",
        "print('Distribution after NearMiss-1: {}'.format(Counter(y_res)))"
      ],
      "metadata": {
        "colab": {
          "base_uri": "https://localhost:8080/"
        },
        "id": "F7EAmLH6KGSz",
        "outputId": "466e30fe-319e-43aa-b7c5-d883b48a1cd5"
      },
      "id": "F7EAmLH6KGSz",
      "execution_count": 54,
      "outputs": [
        {
          "output_type": "stream",
          "name": "stdout",
          "text": [
            "Distribution before NearMiss-1: Counter({'Misleading Content': 2624, 'False Context': 2222, 'False Content': 1779, 'Fabricated Content': 1149, 'Manipulated Content': 1139, 'Impostor Content': 502, 'Clarification': 381, 'False Connection': 278, 'TRUE': 229, 'Satire': 162})\n",
            "Distribution after NearMiss-1: Counter({'Clarification': 162, 'Fabricated Content': 162, 'False Connection': 162, 'False Content': 162, 'False Context': 162, 'Impostor Content': 162, 'Manipulated Content': 162, 'Misleading Content': 162, 'Satire': 162, 'TRUE': 162})\n"
          ]
        }
      ]
    },
    {
      "cell_type": "code",
      "source": [],
      "metadata": {
        "id": "Sev8syVJX1J7"
      },
      "id": "Sev8syVJX1J7",
      "execution_count": 54,
      "outputs": []
    }
  ],
  "metadata": {
    "kernelspec": {
      "display_name": "Python 3 (ipykernel)",
      "language": "python",
      "name": "python3"
    },
    "language_info": {
      "codemirror_mode": {
        "name": "ipython",
        "version": 3
      },
      "file_extension": ".py",
      "mimetype": "text/x-python",
      "name": "python",
      "nbconvert_exporter": "python",
      "pygments_lexer": "ipython3",
      "version": "3.9.7"
    },
    "colab": {
      "provenance": [],
      "toc_visible": true,
      "include_colab_link": true
    },
    "gpuClass": "standard"
  },
  "nbformat": 4,
  "nbformat_minor": 5
}